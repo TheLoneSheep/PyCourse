{
 "cells": [
  {
   "cell_type": "markdown",
   "id": "906c8ee4-65ed-4648-8577-d55e27977359",
   "metadata": {},
   "source": [
    "## Openpyxl - библиотека для работы с Excel-файлами. "
   ]
  },
  {
   "cell_type": "code",
   "execution_count": 1,
   "id": "e2c86b6c-5652-4604-bc2b-d932df4cd54e",
   "metadata": {},
   "outputs": [
    {
     "name": "stdout",
     "output_type": "stream",
     "text": [
      "Requirement already satisfied: openpyxl in d:\\anaconda3\\lib\\site-packages (3.0.9)\n",
      "Requirement already satisfied: et-xmlfile in d:\\anaconda3\\lib\\site-packages (from openpyxl) (1.1.0)\n"
     ]
    }
   ],
   "source": [
    "!pip install openpyxl"
   ]
  },
  {
   "cell_type": "code",
   "execution_count": 3,
   "id": "f9de9f2e-6c1e-4c78-88ab-d286ba2b2191",
   "metadata": {},
   "outputs": [],
   "source": [
    "import openpyxl"
   ]
  },
  {
   "cell_type": "code",
   "execution_count": 4,
   "id": "b2568659-ab17-4ad7-8cd9-0d8838049fad",
   "metadata": {},
   "outputs": [],
   "source": [
    "wb = openpyxl.load_workbook(filename='table_final.xlsx')"
   ]
  },
  {
   "cell_type": "code",
   "execution_count": 5,
   "id": "f118f4eb-87f8-49fc-81d4-e0fc0b7c49d8",
   "metadata": {},
   "outputs": [],
   "source": [
    "sheet = wb['Лист1']"
   ]
  },
  {
   "cell_type": "code",
   "execution_count": 6,
   "id": "9bce8ba2-cb80-4c8f-9404-7ddb29a57076",
   "metadata": {},
   "outputs": [
    {
     "data": {
      "text/plain": [
       "<Cell 'Лист1'.A2>"
      ]
     },
     "execution_count": 6,
     "metadata": {},
     "output_type": "execute_result"
    }
   ],
   "source": [
    "sheet['A2']"
   ]
  },
  {
   "cell_type": "code",
   "execution_count": 7,
   "id": "1b5f6329-1a6f-4674-a29d-9905deb414ab",
   "metadata": {},
   "outputs": [
    {
     "data": {
      "text/plain": [
       "'Иванов Иван'"
      ]
     },
     "execution_count": 7,
     "metadata": {},
     "output_type": "execute_result"
    }
   ],
   "source": [
    "sheet['A2'].value"
   ]
  },
  {
   "cell_type": "code",
   "execution_count": 10,
   "id": "bf7e3a45",
   "metadata": {},
   "outputs": [],
   "source": [
    "from datetime import date"
   ]
  },
  {
   "cell_type": "code",
   "execution_count": 11,
   "id": "05ed6f30-b26a-4e42-8f19-769a52566522",
   "metadata": {},
   "outputs": [
    {
     "data": {
      "text/plain": [
       "'2025-04-01'"
      ]
     },
     "execution_count": 11,
     "metadata": {},
     "output_type": "execute_result"
    }
   ],
   "source": [
    "str(date.today())"
   ]
  },
  {
   "cell_type": "code",
   "execution_count": 12,
   "id": "22aad3d7-5f24-4034-b29c-2327f675ac5c",
   "metadata": {},
   "outputs": [
    {
     "name": "stdout",
     "output_type": "stream",
     "text": [
      "2025-04-01\n"
     ]
    }
   ],
   "source": [
    "#from datetime import date \n",
    "today = str(date.today()) # достаем сегодняшнюю дату\n",
    "print(today)"
   ]
  },
  {
   "cell_type": "code",
   "execution_count": 13,
   "id": "b1711fc7-08ff-49f0-b085-4abe206945a0",
   "metadata": {},
   "outputs": [
    {
     "data": {
      "text/plain": [
       "'00:00:00 01-04-2025'"
      ]
     },
     "execution_count": 13,
     "metadata": {},
     "output_type": "execute_result"
    }
   ],
   "source": [
    "date.today().strftime('%H:%M:%S %d-%m-%Y')"
   ]
  },
  {
   "cell_type": "code",
   "execution_count": 14,
   "id": "93b81ed1-1e31-4726-bf19-4e354213c4f6",
   "metadata": {},
   "outputs": [],
   "source": [
    "d = date.today()"
   ]
  },
  {
   "cell_type": "code",
   "execution_count": 15,
   "id": "48ba260e-e8b9-4909-805a-2449bc226551",
   "metadata": {},
   "outputs": [
    {
     "ename": "SyntaxError",
     "evalue": "invalid syntax (Temp/ipykernel_5584/673927769.py, line 1)",
     "output_type": "error",
     "traceback": [
      "\u001b[1;36m  File \u001b[1;32m\"C:\\Users\\Student\\AppData\\Local\\Temp/ipykernel_5584/673927769.py\"\u001b[1;36m, line \u001b[1;32m1\u001b[0m\n\u001b[1;33m    d.\u001b[0m\n\u001b[1;37m      ^\u001b[0m\n\u001b[1;31mSyntaxError\u001b[0m\u001b[1;31m:\u001b[0m invalid syntax\n"
     ]
    }
   ],
   "source": [
    "d."
   ]
  },
  {
   "cell_type": "code",
   "execution_count": 17,
   "id": "939e90a2",
   "metadata": {},
   "outputs": [
    {
     "name": "stdout",
     "output_type": "stream",
     "text": [
      "Collecting docxtpl\n",
      "  Downloading docxtpl-0.19.1-py2.py3-none-any.whl (29 kB)\n",
      "Collecting docxcompose\n",
      "  Downloading docxcompose-1.4.0.tar.gz (20 kB)\n",
      "Requirement already satisfied: jinja2 in d:\\anaconda3\\lib\\site-packages (from docxtpl) (2.11.3)\n",
      "Collecting python-docx>=1.1.1\n",
      "  Downloading python_docx-1.1.2-py3-none-any.whl (244 kB)\n",
      "Requirement already satisfied: lxml in d:\\anaconda3\\lib\\site-packages (from docxtpl) (4.7.1)\n",
      "Requirement already satisfied: typing-extensions>=4.9.0 in d:\\anaconda3\\lib\\site-packages (from python-docx>=1.1.1->docxtpl) (4.12.2)\n",
      "Requirement already satisfied: setuptools in d:\\anaconda3\\lib\\site-packages (from docxcompose->docxtpl) (58.0.4)\n",
      "Requirement already satisfied: six in d:\\anaconda3\\lib\\site-packages (from docxcompose->docxtpl) (1.16.0)\n",
      "Requirement already satisfied: babel in d:\\anaconda3\\lib\\site-packages (from docxcompose->docxtpl) (2.9.1)\n",
      "Requirement already satisfied: pytz>=2015.7 in d:\\anaconda3\\lib\\site-packages (from babel->docxcompose->docxtpl) (2021.3)\n",
      "Requirement already satisfied: MarkupSafe>=0.23 in d:\\anaconda3\\lib\\site-packages (from jinja2->docxtpl) (1.1.1)\n",
      "Building wheels for collected packages: docxcompose\n",
      "  Building wheel for docxcompose (setup.py): started\n",
      "  Building wheel for docxcompose (setup.py): finished with status 'done'\n",
      "  Created wheel for docxcompose: filename=docxcompose-1.4.0-py3-none-any.whl size=23285 sha256=769a23c022af1afc314e1397dba5c4303b8a76751679cbb7db8c958e1ad9d228\n",
      "  Stored in directory: c:\\users\\student\\appdata\\local\\pip\\cache\\wheels\\ed\\d0\\00\\de6c3de933fbd6dd8eb7dfe2042084cd7d9eb89d0b748ccbf8\n",
      "Successfully built docxcompose\n",
      "Installing collected packages: python-docx, docxcompose, docxtpl\n",
      "Successfully installed docxcompose-1.4.0 docxtpl-0.19.1 python-docx-1.1.2\n",
      "Note: you may need to restart the kernel to use updated packages.\n"
     ]
    }
   ],
   "source": [
    "pip install docxtpl"
   ]
  },
  {
   "cell_type": "code",
   "execution_count": 18,
   "id": "3c524376-0a25-432c-8520-f6983b8617f0",
   "metadata": {},
   "outputs": [],
   "source": [
    "from docxtpl import DocxTemplate\n",
    "doc = DocxTemplate(\"temp_final.docx\")"
   ]
  },
  {
   "cell_type": "code",
   "execution_count": 19,
   "id": "aaa08949-7e49-4dee-8b15-871ac49cb92b",
   "metadata": {},
   "outputs": [
    {
     "data": {
      "text/plain": [
       "datetime.date"
      ]
     },
     "execution_count": 19,
     "metadata": {},
     "output_type": "execute_result"
    }
   ],
   "source": [
    "date"
   ]
  },
  {
   "cell_type": "code",
   "execution_count": 21,
   "id": "3a42834d-8d5b-4a39-91c1-fe1f2996bc1c",
   "metadata": {},
   "outputs": [],
   "source": [
    "name = sheet['A2'].value\n",
    "course = sheet['B2'].value\n",
    "group = sheet['C2'].value\n",
    "op = sheet['D2'].value\n",
    "mobile = sheet['E2'].value\n",
    "mail = sheet['F2'].value\n",
    "date = sheet['G2'].value\n",
    "\n",
    "# Данные для заполнения шаблона\n",
    "context = {\n",
    "    'name': name,\n",
    "    'course': course,\n",
    "    'group': group,\n",
    "    'op': op,\n",
    "    'mobile': mobile,\n",
    "    'mail': mail,\n",
    "    'date' : date.date(),\n",
    "    'now_date': today\n",
    "}\n",
    "\n",
    "# Заполнение шаблона данными\n",
    "doc.render(context)\n",
    "\n",
    "# Сохранение документа\n",
    "doc.save(\"документ2.docx\")"
   ]
  },
  {
   "cell_type": "code",
   "execution_count": 22,
   "id": "31e69c71-f071-4028-a15a-468bb18e369c",
   "metadata": {},
   "outputs": [],
   "source": [
    "for num in range(2,7):\n",
    "    \n",
    "    name = sheet['A'+str(num)].value\n",
    "    course = sheet['B'+str(num)].value\n",
    "    group = sheet['C'+str(num)].value\n",
    "    op = sheet['D'+str(num)].value\n",
    "    mobile = sheet['E'+str(num)].value\n",
    "    mail = sheet['F'+str(num)].value\n",
    "    date = sheet['G'+str(num)].value.date()\n",
    "    context = {\n",
    "    'name': name,\n",
    "    'course': course,\n",
    "    'group': group,\n",
    "    'op': op,\n",
    "    'mobile': mobile,\n",
    "    'mail': mail,\n",
    "    'date' : date,\n",
    "    'now_date': today\n",
    "    }\n",
    "    doc.render(context)\n",
    "    doc.save(name+' заявление.docx')"
   ]
  },
  {
   "cell_type": "markdown",
   "id": "8c28037b-bcc6-481d-b429-a2590cbde17b",
   "metadata": {},
   "source": [
    "## Конвертация в PDF"
   ]
  },
  {
   "cell_type": "code",
   "execution_count": 23,
   "id": "94303a4f-4615-4451-9f0d-3c94d96b3d73",
   "metadata": {},
   "outputs": [
    {
     "name": "stdout",
     "output_type": "stream",
     "text": [
      "Collecting docx2pdf\n",
      "  Downloading docx2pdf-0.1.8-py3-none-any.whl (6.7 kB)\n",
      "Requirement already satisfied: pywin32>=227 in d:\\anaconda3\\lib\\site-packages (from docx2pdf) (302)\n",
      "Requirement already satisfied: tqdm>=4.41.0 in d:\\anaconda3\\lib\\site-packages (from docx2pdf) (4.62.3)\n",
      "Requirement already satisfied: colorama in d:\\anaconda3\\lib\\site-packages (from tqdm>=4.41.0->docx2pdf) (0.4.4)\n",
      "Installing collected packages: docx2pdf\n",
      "Successfully installed docx2pdf-0.1.8\n"
     ]
    }
   ],
   "source": [
    "!pip install docx2pdf"
   ]
  },
  {
   "cell_type": "code",
   "execution_count": 24,
   "id": "ae55a9ad-2428-40b5-948e-9a73817865ee",
   "metadata": {},
   "outputs": [
    {
     "data": {
      "application/vnd.jupyter.widget-view+json": {
       "model_id": "fbbb183c2b3f445d968229357817c061",
       "version_major": 2,
       "version_minor": 0
      },
      "text/plain": [
       "  0%|          | 0/1 [00:00<?, ?it/s]"
      ]
     },
     "metadata": {},
     "output_type": "display_data"
    }
   ],
   "source": [
    "from docx2pdf import convert\n",
    "\n",
    "convert(\"Еселеева Инна заявление.docx\", \"output.pdf\")"
   ]
  },
  {
   "cell_type": "markdown",
   "id": "760d35b2-6c7e-4673-8a27-eb76aef88b00",
   "metadata": {},
   "source": [
    "# Автоматизация Excel-отчетов"
   ]
  },
  {
   "cell_type": "code",
   "execution_count": 25,
   "id": "a253fb68-d3de-4ecd-acd8-7c7b9968a538",
   "metadata": {},
   "outputs": [],
   "source": [
    "import pandas as pd\n",
    "import openpyxl\n",
    "from openpyxl import load_workbook\n",
    "from openpyxl.styles import Font\n",
    "from openpyxl.chart import BarChart, Reference\n",
    "import string"
   ]
  },
  {
   "cell_type": "code",
   "execution_count": 26,
   "id": "c9e04118-1615-459d-baa2-b1bfc24417af",
   "metadata": {},
   "outputs": [
    {
     "data": {
      "text/html": [
       "<div>\n",
       "<style scoped>\n",
       "    .dataframe tbody tr th:only-of-type {\n",
       "        vertical-align: middle;\n",
       "    }\n",
       "\n",
       "    .dataframe tbody tr th {\n",
       "        vertical-align: top;\n",
       "    }\n",
       "\n",
       "    .dataframe thead th {\n",
       "        text-align: right;\n",
       "    }\n",
       "</style>\n",
       "<table border=\"1\" class=\"dataframe\">\n",
       "  <thead>\n",
       "    <tr style=\"text-align: right;\">\n",
       "      <th></th>\n",
       "      <th>Gender</th>\n",
       "      <th>Product line</th>\n",
       "      <th>Total</th>\n",
       "    </tr>\n",
       "  </thead>\n",
       "  <tbody>\n",
       "    <tr>\n",
       "      <th>0</th>\n",
       "      <td>Female</td>\n",
       "      <td>Health and beauty</td>\n",
       "      <td>548.9715</td>\n",
       "    </tr>\n",
       "    <tr>\n",
       "      <th>1</th>\n",
       "      <td>Female</td>\n",
       "      <td>Electronic accessories</td>\n",
       "      <td>80.2200</td>\n",
       "    </tr>\n",
       "    <tr>\n",
       "      <th>2</th>\n",
       "      <td>Male</td>\n",
       "      <td>Home and lifestyle</td>\n",
       "      <td>340.5255</td>\n",
       "    </tr>\n",
       "    <tr>\n",
       "      <th>3</th>\n",
       "      <td>Male</td>\n",
       "      <td>Health and beauty</td>\n",
       "      <td>489.0480</td>\n",
       "    </tr>\n",
       "    <tr>\n",
       "      <th>4</th>\n",
       "      <td>Male</td>\n",
       "      <td>Sports and travel</td>\n",
       "      <td>634.3785</td>\n",
       "    </tr>\n",
       "    <tr>\n",
       "      <th>...</th>\n",
       "      <td>...</td>\n",
       "      <td>...</td>\n",
       "      <td>...</td>\n",
       "    </tr>\n",
       "    <tr>\n",
       "      <th>995</th>\n",
       "      <td>Male</td>\n",
       "      <td>Health and beauty</td>\n",
       "      <td>42.3675</td>\n",
       "    </tr>\n",
       "    <tr>\n",
       "      <th>996</th>\n",
       "      <td>Female</td>\n",
       "      <td>Home and lifestyle</td>\n",
       "      <td>1022.4900</td>\n",
       "    </tr>\n",
       "    <tr>\n",
       "      <th>997</th>\n",
       "      <td>Male</td>\n",
       "      <td>Food and beverages</td>\n",
       "      <td>33.4320</td>\n",
       "    </tr>\n",
       "    <tr>\n",
       "      <th>998</th>\n",
       "      <td>Male</td>\n",
       "      <td>Home and lifestyle</td>\n",
       "      <td>69.1110</td>\n",
       "    </tr>\n",
       "    <tr>\n",
       "      <th>999</th>\n",
       "      <td>Female</td>\n",
       "      <td>Fashion accessories</td>\n",
       "      <td>649.2990</td>\n",
       "    </tr>\n",
       "  </tbody>\n",
       "</table>\n",
       "<p>1000 rows × 3 columns</p>\n",
       "</div>"
      ],
      "text/plain": [
       "     Gender            Product line      Total\n",
       "0    Female       Health and beauty   548.9715\n",
       "1    Female  Electronic accessories    80.2200\n",
       "2      Male      Home and lifestyle   340.5255\n",
       "3      Male       Health and beauty   489.0480\n",
       "4      Male       Sports and travel   634.3785\n",
       "..      ...                     ...        ...\n",
       "995    Male       Health and beauty    42.3675\n",
       "996  Female      Home and lifestyle  1022.4900\n",
       "997    Male      Food and beverages    33.4320\n",
       "998    Male      Home and lifestyle    69.1110\n",
       "999  Female     Fashion accessories   649.2990\n",
       "\n",
       "[1000 rows x 3 columns]"
      ]
     },
     "execution_count": 26,
     "metadata": {},
     "output_type": "execute_result"
    }
   ],
   "source": [
    "excel_file = pd.read_excel('supermarket_sales.xlsx') # считываем таблицу\n",
    "excel_file[['Gender', 'Product line', 'Total']] # берем три колонки"
   ]
  },
  {
   "cell_type": "code",
   "execution_count": 27,
   "id": "bfadd1d0-5381-4156-a404-07958b09910e",
   "metadata": {},
   "outputs": [],
   "source": [
    "report_table = excel_file.pivot_table(index='Gender',\n",
    "                                      columns='Product line',\n",
    "                                      values='Total',\n",
    "                                      aggfunc='sum').round(0) # создаем сводную таблицу"
   ]
  },
  {
   "cell_type": "code",
   "execution_count": 28,
   "id": "0ebb30f6-a6bb-4a37-bdbd-9fd37aaba742",
   "metadata": {},
   "outputs": [
    {
     "data": {
      "text/html": [
       "<div>\n",
       "<style scoped>\n",
       "    .dataframe tbody tr th:only-of-type {\n",
       "        vertical-align: middle;\n",
       "    }\n",
       "\n",
       "    .dataframe tbody tr th {\n",
       "        vertical-align: top;\n",
       "    }\n",
       "\n",
       "    .dataframe thead th {\n",
       "        text-align: right;\n",
       "    }\n",
       "</style>\n",
       "<table border=\"1\" class=\"dataframe\">\n",
       "  <thead>\n",
       "    <tr style=\"text-align: right;\">\n",
       "      <th>Product line</th>\n",
       "      <th>Electronic accessories</th>\n",
       "      <th>Fashion accessories</th>\n",
       "      <th>Food and beverages</th>\n",
       "      <th>Health and beauty</th>\n",
       "      <th>Home and lifestyle</th>\n",
       "      <th>Sports and travel</th>\n",
       "    </tr>\n",
       "    <tr>\n",
       "      <th>Gender</th>\n",
       "      <th></th>\n",
       "      <th></th>\n",
       "      <th></th>\n",
       "      <th></th>\n",
       "      <th></th>\n",
       "      <th></th>\n",
       "    </tr>\n",
       "  </thead>\n",
       "  <tbody>\n",
       "    <tr>\n",
       "      <th>Female</th>\n",
       "      <td>27102.0</td>\n",
       "      <td>30437.0</td>\n",
       "      <td>33171.0</td>\n",
       "      <td>18561.0</td>\n",
       "      <td>30037.0</td>\n",
       "      <td>28575.0</td>\n",
       "    </tr>\n",
       "    <tr>\n",
       "      <th>Male</th>\n",
       "      <td>27236.0</td>\n",
       "      <td>23868.0</td>\n",
       "      <td>22974.0</td>\n",
       "      <td>30633.0</td>\n",
       "      <td>23825.0</td>\n",
       "      <td>26548.0</td>\n",
       "    </tr>\n",
       "  </tbody>\n",
       "</table>\n",
       "</div>"
      ],
      "text/plain": [
       "Product line  Electronic accessories  Fashion accessories  Food and beverages  \\\n",
       "Gender                                                                          \n",
       "Female                       27102.0              30437.0             33171.0   \n",
       "Male                         27236.0              23868.0             22974.0   \n",
       "\n",
       "Product line  Health and beauty  Home and lifestyle  Sports and travel  \n",
       "Gender                                                                  \n",
       "Female                  18561.0             30037.0            28575.0  \n",
       "Male                    30633.0             23825.0            26548.0  "
      ]
     },
     "execution_count": 28,
     "metadata": {},
     "output_type": "execute_result"
    }
   ],
   "source": [
    "report_table # выводим сводную таблицу"
   ]
  },
  {
   "cell_type": "code",
   "execution_count": 29,
   "id": "c8452bdf-e1cf-43dc-8f03-0c87d3b45ca8",
   "metadata": {},
   "outputs": [],
   "source": [
    "report_table.to_excel('report_2021.xlsx',\n",
    "                      sheet_name='Report',\n",
    "                      startrow=4) # сохраняем сводную таблицу"
   ]
  },
  {
   "cell_type": "code",
   "execution_count": 30,
   "id": "21ef7161-53ec-4d40-b12e-58bcc6e6af6a",
   "metadata": {},
   "outputs": [],
   "source": [
    "wb = load_workbook('report_2021.xlsx') # опять открываем файл\n",
    "min_column = wb.active.min_column # находим минимальную активную колонку\n",
    "max_column = wb.active.max_column # находим максимальную активную колонку\n",
    "min_row = wb.active.min_row # находим минимальную активную строку\n",
    "max_row = wb.active.max_row # находим максимальную активную строку"
   ]
  },
  {
   "cell_type": "code",
   "execution_count": 31,
   "id": "c9f03fa2-0b51-4a02-b25a-6cf23c7be887",
   "metadata": {},
   "outputs": [
    {
     "data": {
      "text/plain": [
       "7"
      ]
     },
     "execution_count": 31,
     "metadata": {},
     "output_type": "execute_result"
    }
   ],
   "source": [
    "max_row"
   ]
  },
  {
   "cell_type": "code",
   "execution_count": 32,
   "id": "59d37895-2db8-43d8-875f-3c0c03c06335",
   "metadata": {},
   "outputs": [
    {
     "data": {
      "text/plain": [
       "5"
      ]
     },
     "execution_count": 32,
     "metadata": {},
     "output_type": "execute_result"
    }
   ],
   "source": [
    "min_row"
   ]
  },
  {
   "cell_type": "code",
   "execution_count": 33,
   "id": "6017a1f0-93e0-45b5-9954-2c147392bc98",
   "metadata": {},
   "outputs": [],
   "source": [
    "wb = load_workbook('report_2021.xlsx') # открывает таблицу\n",
    "sheet = wb['Report'] # выбираем лист в переменную sheet\n",
    "barchart = BarChart() # создаем столбчатую диаграмму\n",
    "data = Reference(sheet,\n",
    "                 min_col=min_column+1,\n",
    "                 max_col=max_column,\n",
    "                 min_row=min_row,\n",
    "                 max_row=max_row)  # данные для диаграммы\n",
    "categories = Reference(sheet,\n",
    "                       min_col=min_column,\n",
    "                       max_col=min_column,\n",
    "                       min_row=min_row+1,\n",
    "                       max_row=max_row)  #\n",
    "barchart.add_data(data, titles_from_data=True) \n",
    "barchart.set_categories(categories)\n",
    "sheet.add_chart(barchart, \"B12\")\n",
    "barchart.title = 'Sales by Product line'\n",
    "barchart.style = 5\n",
    "wb.save('report_2021.xlsx')"
   ]
  },
  {
   "cell_type": "code",
   "execution_count": 34,
   "id": "3c8cf02b-76ee-4b22-be14-a8c20eaac36e",
   "metadata": {},
   "outputs": [],
   "source": [
    "sheet['B7'] = '=SUM(B5:B6)'\n",
    "sheet['B7'].style = 'Currency'"
   ]
  },
  {
   "cell_type": "code",
   "execution_count": 35,
   "id": "204a828d-9a3a-4af8-b2de-390a63be8717",
   "metadata": {},
   "outputs": [
    {
     "data": {
      "text/plain": [
       "['A',\n",
       " 'B',\n",
       " 'C',\n",
       " 'D',\n",
       " 'E',\n",
       " 'F',\n",
       " 'G',\n",
       " 'H',\n",
       " 'I',\n",
       " 'J',\n",
       " 'K',\n",
       " 'L',\n",
       " 'M',\n",
       " 'N',\n",
       " 'O',\n",
       " 'P',\n",
       " 'Q',\n",
       " 'R',\n",
       " 'S',\n",
       " 'T',\n",
       " 'U',\n",
       " 'V',\n",
       " 'W',\n",
       " 'X',\n",
       " 'Y',\n",
       " 'Z']"
      ]
     },
     "execution_count": 35,
     "metadata": {},
     "output_type": "execute_result"
    }
   ],
   "source": [
    "list(string.ascii_uppercase)"
   ]
  },
  {
   "cell_type": "code",
   "execution_count": 39,
   "id": "e97f6d9d-1941-44c8-b396-b4613a47281d",
   "metadata": {},
   "outputs": [
    {
     "name": "stdout",
     "output_type": "stream",
     "text": [
      "['A', 'B', 'C', 'D', 'E', 'F', 'G']\n"
     ]
    }
   ],
   "source": [
    "import string\n",
    "alphabet = list(string.ascii_uppercase) # забираем буквы алфавита\n",
    "excel_alphabet = alphabet[0:max_column] # берем буквы наших столбцов\n",
    "print(excel_alphabet)"
   ]
  },
  {
   "cell_type": "code",
   "execution_count": 41,
   "id": "c766b0a3-8ab9-43d9-ac58-52341ab012be",
   "metadata": {},
   "outputs": [],
   "source": [
    "wb = load_workbook('report_2021.xlsx')\n",
    "sheet = wb['Report']\n",
    "for i in excel_alphabet:\n",
    "    if i!='A':\n",
    "        sheet[f'{i}{max_row+1}'] = f'=SUM({i}{min_row+1}:{i}{max_row})'\n",
    "        sheet[f'{i}{max_row+1}'].style = 'Currency'\n",
    "sheet[f'{excel_alphabet[0]}{max_row+1}'] = 'Total'\n",
    "wb.save('report_2021.xlsx')"
   ]
  },
  {
   "cell_type": "code",
   "execution_count": 43,
   "id": "455f6ad6-2ad9-453e-bd18-7453d6605342",
   "metadata": {},
   "outputs": [],
   "source": [
    "import pandas as pd\n",
    "import openpyxl\n",
    "from openpyxl import load_workbook\n",
    "from openpyxl.styles import Font\n",
    "from openpyxl.chart import BarChart, Reference\n",
    "import string\n",
    "def automate_excel(file_name):\n",
    "    \"\"\"У имени файла должна быть фиксированная структура: sales_month.xlsx\"\"\"\n",
    "    # открывает экселевский файл\n",
    "    excel_file = pd.read_excel(file_name)\n",
    "    # сводная таблица\n",
    "    report_table = excel_file.pivot_table(index='Gender', columns='Product line', values='Total', aggfunc='sum').round(0)\n",
    "    # забираем месяц\n",
    "    month_and_extension = file_name.split('_')[1]\n",
    "    # сохраняем в файл\n",
    "    report_table.to_excel(f'report_{month_and_extension}', sheet_name='Report', startrow=4)\n",
    "    # открываем файл и выбираем лист\n",
    "    wb = load_workbook(f'report_{month_and_extension}')\n",
    "    sheet = wb['Report']\n",
    "    # выбираем строки и столбцы\n",
    "    min_column = wb.active.min_column\n",
    "    max_column = wb.active.max_column\n",
    "    min_row = wb.active.min_row\n",
    "    max_row = wb.active.max_row\n",
    "    # добавляем диаграмму\n",
    "    barchart = BarChart()\n",
    "    data = Reference(sheet, min_col=min_column+1, max_col=max_column, min_row=min_row, max_row=max_row) #including headers\n",
    "    categories = Reference(sheet, min_col=min_column, max_col=min_column, min_row=min_row+1, max_row=max_row) #not including headers\n",
    "    barchart.add_data(data, titles_from_data=True)\n",
    "    barchart.set_categories(categories)\n",
    "    sheet.add_chart(barchart, \"B12\") # место диаграммы\n",
    "    barchart.title = 'Sales by Product line'\n",
    "    barchart.style = 2 # выбираем стиль\n",
    "    alphabet = list(string.ascii_uppercase)\n",
    "    excel_alphabet = alphabet[0:max_column] #note:  A=0, B=1, C=2. \n",
    "    for i in excel_alphabet:\n",
    "        if i!='A':\n",
    "            sheet[f'{i}{max_row+1}'] = f'=SUM({i}{min_row+1}:{i}{max_row})'\n",
    "            sheet[f'{i}{max_row+1}'].style = 'Currency'\n",
    "    sheet[f'{excel_alphabet[0]}{max_row+1}'] = 'Total'\n",
    "    # название месяца\n",
    "    month_name = month_and_extension.split('.')[0]\n",
    "    # форматируем\n",
    "    sheet['A1'] = 'Sales Report'\n",
    "    sheet['A2'] = month_name.title()\n",
    "    sheet['A1'].font = Font('Arial', bold=True, size=20)\n",
    "    sheet['A2'].font = Font('Arial', bold=True, size=10)\n",
    "    wb.save(f'report_{month_and_extension}')\n",
    "    return "
   ]
  },
  {
   "cell_type": "code",
   "execution_count": 26,
   "id": "45db98bd-19f9-4905-90b2-dbde9c49efad",
   "metadata": {},
   "outputs": [],
   "source": [
    "excel_file_1 = pd.read_excel('sales_january.xlsx')\n",
    "excel_file_2 = pd.read_excel('sales_february.xlsx')\n",
    "excel_file_3 = pd.read_excel('sales_march.xlsx')\n",
    "new_file = pd.concat([excel_file_1,\n",
    "                      excel_file_2,\n",
    "                      excel_file_3], ignore_index=True)\n",
    "# export file\n",
    "new_file.to_excel('sales_2021.xlsx')\n",
    "# apply function\n",
    "automate_excel('sales_2021.xlsx')"
   ]
  },
  {
   "cell_type": "code",
   "execution_count": 44,
   "id": "d7fb0337-0348-42c9-b8fc-bbcb8ef549fd",
   "metadata": {},
   "outputs": [],
   "source": [
    "files = ['sales_january.xlsx','sales_february.xlsx','sales_march.xlsx']\n",
    "for f in files:\n",
    "    automate_excel(f)"
   ]
  }
 ],
 "metadata": {
  "kernelspec": {
   "display_name": "Python 3 (ipykernel)",
   "language": "python",
   "name": "python3"
  },
  "language_info": {
   "codemirror_mode": {
    "name": "ipython",
    "version": 3
   },
   "file_extension": ".py",
   "mimetype": "text/x-python",
   "name": "python",
   "nbconvert_exporter": "python",
   "pygments_lexer": "ipython3",
   "version": "3.8.8"
  }
 },
 "nbformat": 4,
 "nbformat_minor": 5
}
