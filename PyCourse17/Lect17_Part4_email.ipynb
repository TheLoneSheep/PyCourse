{
 "cells": [
  {
   "cell_type": "markdown",
   "id": "86224725-0be8-454a-a9ee-a96ce8a443a8",
   "metadata": {},
   "source": [
    "# Автоматизированные рассылки с помощью Python"
   ]
  },
  {
   "cell_type": "markdown",
   "id": "c8a27cc4-6c90-4d56-b394-ee601d93c02f",
   "metadata": {},
   "source": [
    "## Рассылки по почте"
   ]
  },
  {
   "cell_type": "code",
   "execution_count": 2,
   "id": "c059f26e-14e4-4112-9b34-b58709252a12",
   "metadata": {},
   "outputs": [],
   "source": [
    "import email\n",
    "import email.message\n",
    "from email.message import EmailMessage\n",
    "import smtplib"
   ]
  },
  {
   "cell_type": "code",
   "execution_count": 3,
   "id": "da8a27d6-b0fe-4258-8d2e-b4bf7f0a29ec",
   "metadata": {},
   "outputs": [],
   "source": [
    "from getpass import getpass"
   ]
  },
  {
   "cell_type": "code",
   "execution_count": 3,
   "id": "c56f60f1-f874-4fd2-b251-d98c69aada49",
   "metadata": {},
   "outputs": [
    {
     "name": "stdin",
     "output_type": "stream",
     "text": [
      " ········\n"
     ]
    },
    {
     "data": {
      "text/plain": [
       "(235, b'2.7.0 Authentication successful')"
      ]
     },
     "execution_count": 3,
     "metadata": {},
     "output_type": "execute_result"
    }
   ],
   "source": [
    "HOST = \"smtp.hse.ru\"\n",
    "PASSWORD = getpass() # здесь нужно написать свой пароль в кавычках\n",
    "PORT = 587\n",
    "SENDER_EMAIL = \"mbburova@hse.ru\"\n",
    "    \n",
    "smtpserver = smtplib.SMTP(HOST, PORT)\n",
    "smtpserver.starttls()\n",
    "smtpserver.login(\"mbburova\", PASSWORD)"
   ]
  },
  {
   "cell_type": "code",
   "execution_count": 4,
   "id": "6ae84aad-02fb-43b8-acf9-1a5beba156c4",
   "metadata": {},
   "outputs": [],
   "source": [
    "from email.header    import Header\n",
    "from email.mime.text import MIMEText\n",
    "from email.mime.multipart import MIMEMultipart"
   ]
  },
  {
   "cell_type": "code",
   "execution_count": 5,
   "id": "f4dcddc6-7666-475a-a2d9-c16cb4fc2f7d",
   "metadata": {},
   "outputs": [],
   "source": [
    "to_mail = 'mbburova@gmail.com'    # адрес получателя"
   ]
  },
  {
   "cell_type": "code",
   "execution_count": 6,
   "id": "9183568f-9cff-48a4-8b1a-e472280f545a",
   "metadata": {},
   "outputs": [],
   "source": [
    "msg = MIMEMultipart()                                     # Создаем сообщение\n",
    "msg[\"From\"] = SENDER_EMAIL                                  # Добавляем адрес отправителя\n",
    "msg['To'] = to_mail                                       # Добавляем адрес получателя\n",
    "msg[\"Subject\"] = Header('Орг.инфо про курс', 'utf-8')        # Пишем тему сообщения\n",
    "msg.attach(MIMEText(\"Текст сообщения\", 'html', 'utf-8'))  # Добавляем форматированный текст сообщения"
   ]
  },
  {
   "cell_type": "code",
   "execution_count": 7,
   "id": "d9ef1dd6-8079-49b5-af96-5cc3d97476e2",
   "metadata": {},
   "outputs": [
    {
     "data": {
      "text/plain": [
       "{}"
      ]
     },
     "execution_count": 7,
     "metadata": {},
     "output_type": "execute_result"
    }
   ],
   "source": [
    "smtpserver.send_message(msg) # отправляем сообщение"
   ]
  },
  {
   "cell_type": "code",
   "execution_count": 8,
   "id": "680e5b05-24d2-4657-99ef-ba0d67f17e91",
   "metadata": {},
   "outputs": [],
   "source": [
    "mails = ['mbburova@gmail.com','burritas@yandex.ru','margomatika@gmail.com']"
   ]
  },
  {
   "cell_type": "code",
   "execution_count": 9,
   "id": "4eb7de4e-e9d7-4167-bd99-e92477956d75",
   "metadata": {},
   "outputs": [],
   "source": [
    "for mail in mails:\n",
    "    msg = MIMEMultipart()                                     # Создаем сообщение\n",
    "    msg[\"From\"] = SENDER_EMAIL                                  # Добавляем адрес отправителя\n",
    "    msg['To'] = mail                                       # Добавляем адрес получателя\n",
    "    msg[\"Subject\"] = Header('Орг.инфо про курс', 'utf-8')        # Пишем тему сообщения\n",
    "    text = f'Сообщение для почты {mail}'\n",
    "    msg.attach(MIMEText(text, 'html', 'utf-8'))  # Добавляем форматированный текст сообщения\n",
    "    smtpserver.send_message(msg)"
   ]
  },
  {
   "cell_type": "markdown",
   "id": "32933012-b87d-42c1-9dfa-5f060f43bf5c",
   "metadata": {},
   "source": [
    "## Кастомизированные сообщения"
   ]
  },
  {
   "cell_type": "code",
   "execution_count": 10,
   "id": "b7efb3e7-96f6-484c-82a2-34ec9fe5abcc",
   "metadata": {},
   "outputs": [],
   "source": [
    "persons = [[\"Виктор Васильевич Орехов\", \"м\", 'mbburova@gmail.com', 2],\\\n",
    "          [\"Елена Владимировна Смирнова\", \"ж\", 'burritas@yandex.ru', 1],\\\n",
    "          [\"Галина Марковна Волохова\", \"ж\",'margomatika@gmail.com', 3]]"
   ]
  },
  {
   "cell_type": "code",
   "execution_count": 11,
   "id": "a418fa93-6b9b-4300-b788-e27ab3966c22",
   "metadata": {},
   "outputs": [
    {
     "data": {
      "text/plain": [
       "['Виктор Васильевич Орехов', 'м', 'mbburova@gmail.com', 2]"
      ]
     },
     "execution_count": 11,
     "metadata": {},
     "output_type": "execute_result"
    }
   ],
   "source": [
    "[\"Виктор Васильевич Орехов\", \"м\", 'mbburova@gmail.com', 2]"
   ]
  },
  {
   "cell_type": "code",
   "execution_count": 15,
   "id": "d5108b7b-5ead-48fe-99be-7556dd4c31c0",
   "metadata": {},
   "outputs": [],
   "source": [
    "for person in persons:\n",
    "    msg = MIMEMultipart()                                     # Создаем сообщение\n",
    "    msg[\"From\"] = SENDER_EMAIL                                  # Добавляем адрес отправителя\n",
    "    msg['To'] = person[2]                                      # Добавляем адрес получателя\n",
    "    msg[\"Subject\"] = Header(f'Орг.инфо для {person[0]}', 'utf-8')        # Пишем тему сообщения\n",
    "    name = person[0]\n",
    "    gender = person[1]\n",
    "    course = person[3]\n",
    "    if gender == \"ж\":\n",
    "        intro = \"Дорогая \" + name + \"!\\n\"\n",
    "    else:\n",
    "        intro = \"Дорогой \" + name + \"!\\n\"\n",
    "    if course == 1 or course == 2:\n",
    "        c = f'Вы уже на {course}-ом курсе! \\n'\n",
    "    else:\n",
    "        c = f'Вы уже на {course}-ем курсе! \\n'\n",
    "    text = intro + c + 'Напоминаю, что у Вас скоро экзамен!  \\n  \\n' + 'С уважением, Маргарита Бурова'\n",
    "    msg.attach(MIMEText(text, \"plain\", 'utf-8'))  # Добавляем форматированный текст сообщения\n",
    "    smtpserver.send_message(msg)"
   ]
  },
  {
   "cell_type": "code",
   "execution_count": null,
   "id": "e1795555-8e46-4786-8ce6-05f179eaab0c",
   "metadata": {},
   "outputs": [],
   "source": []
  }
 ],
 "metadata": {
  "kernelspec": {
   "display_name": "Python 3 (ipykernel)",
   "language": "python",
   "name": "python3"
  },
  "language_info": {
   "codemirror_mode": {
    "name": "ipython",
    "version": 3
   },
   "file_extension": ".py",
   "mimetype": "text/x-python",
   "name": "python",
   "nbconvert_exporter": "python",
   "pygments_lexer": "ipython3",
   "version": "3.8.8"
  }
 },
 "nbformat": 4,
 "nbformat_minor": 5
}
