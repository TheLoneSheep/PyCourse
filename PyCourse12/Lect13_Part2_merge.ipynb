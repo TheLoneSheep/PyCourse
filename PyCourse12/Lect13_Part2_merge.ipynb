{
 "cells": [
  {
   "cell_type": "markdown",
   "metadata": {},
   "source": [
    "# Pandas Merge туториал"
   ]
  },
  {
   "cell_type": "markdown",
   "metadata": {},
   "source": [
    "В реальных проектах данные обычно не хранятся в одной таблице. Вместо нее используется много маленьких. И на то есть несколько причин. С помощью нескольких таблиц данными легче управлять, проще избегать «многословия», можно экономить место на диске, а запросы к таблицам обрабатываются быстрее.\n",
    "\n",
    "Суть в том, что при работе с данными довольно часто придется вытаскивать данные из двух и более разных страниц. Это делается с помощью merge."
   ]
  },
  {
   "cell_type": "code",
   "execution_count": 2,
   "metadata": {},
   "outputs": [],
   "source": [
    "import pandas as pd # импортируем библиотеку pandas"
   ]
  },
  {
   "cell_type": "code",
   "execution_count": 3,
   "metadata": {},
   "outputs": [],
   "source": [
    "user_usage = pd.read_csv(\"user_usage.csv\") # открываем три таблички\n",
    "user_device = pd.read_csv(\"user_device.csv\")\n",
    "devices = pd.read_csv(\"android_devices.csv\")"
   ]
  },
  {
   "cell_type": "code",
   "execution_count": 4,
   "metadata": {
    "scrolled": true
   },
   "outputs": [
    {
     "data": {
      "text/html": [
       "<div>\n",
       "<style scoped>\n",
       "    .dataframe tbody tr th:only-of-type {\n",
       "        vertical-align: middle;\n",
       "    }\n",
       "\n",
       "    .dataframe tbody tr th {\n",
       "        vertical-align: top;\n",
       "    }\n",
       "\n",
       "    .dataframe thead th {\n",
       "        text-align: right;\n",
       "    }\n",
       "</style>\n",
       "<table border=\"1\" class=\"dataframe\">\n",
       "  <thead>\n",
       "    <tr style=\"text-align: right;\">\n",
       "      <th></th>\n",
       "      <th>outgoing_mins_per_month</th>\n",
       "      <th>outgoing_sms_per_month</th>\n",
       "      <th>monthly_mb</th>\n",
       "      <th>use_id</th>\n",
       "    </tr>\n",
       "  </thead>\n",
       "  <tbody>\n",
       "    <tr>\n",
       "      <th>0</th>\n",
       "      <td>21.97</td>\n",
       "      <td>4.82</td>\n",
       "      <td>1557.33</td>\n",
       "      <td>22787</td>\n",
       "    </tr>\n",
       "    <tr>\n",
       "      <th>1</th>\n",
       "      <td>1710.08</td>\n",
       "      <td>136.88</td>\n",
       "      <td>7267.55</td>\n",
       "      <td>22788</td>\n",
       "    </tr>\n",
       "    <tr>\n",
       "      <th>2</th>\n",
       "      <td>1710.08</td>\n",
       "      <td>136.88</td>\n",
       "      <td>7267.55</td>\n",
       "      <td>22789</td>\n",
       "    </tr>\n",
       "    <tr>\n",
       "      <th>3</th>\n",
       "      <td>94.46</td>\n",
       "      <td>35.17</td>\n",
       "      <td>519.12</td>\n",
       "      <td>22790</td>\n",
       "    </tr>\n",
       "    <tr>\n",
       "      <th>4</th>\n",
       "      <td>71.59</td>\n",
       "      <td>79.26</td>\n",
       "      <td>1557.33</td>\n",
       "      <td>22792</td>\n",
       "    </tr>\n",
       "  </tbody>\n",
       "</table>\n",
       "</div>"
      ],
      "text/plain": [
       "   outgoing_mins_per_month  outgoing_sms_per_month  monthly_mb  use_id\n",
       "0                    21.97                    4.82     1557.33   22787\n",
       "1                  1710.08                  136.88     7267.55   22788\n",
       "2                  1710.08                  136.88     7267.55   22789\n",
       "3                    94.46                   35.17      519.12   22790\n",
       "4                    71.59                   79.26     1557.33   22792"
      ]
     },
     "execution_count": 4,
     "metadata": {},
     "output_type": "execute_result"
    }
   ],
   "source": [
    "user_usage.head()"
   ]
  },
  {
   "cell_type": "code",
   "execution_count": 8,
   "metadata": {},
   "outputs": [
    {
     "data": {
      "text/plain": [
       "240"
      ]
     },
     "execution_count": 8,
     "metadata": {},
     "output_type": "execute_result"
    }
   ],
   "source": [
    "user_usage.use_id.nunique()"
   ]
  },
  {
   "cell_type": "code",
   "execution_count": 9,
   "metadata": {},
   "outputs": [
    {
     "data": {
      "text/plain": [
       "272"
      ]
     },
     "execution_count": 9,
     "metadata": {},
     "output_type": "execute_result"
    }
   ],
   "source": [
    "user_device.use_id.nunique()"
   ]
  },
  {
   "cell_type": "code",
   "execution_count": 11,
   "metadata": {
    "scrolled": true
   },
   "outputs": [
    {
     "data": {
      "text/html": [
       "<div>\n",
       "<style scoped>\n",
       "    .dataframe tbody tr th:only-of-type {\n",
       "        vertical-align: middle;\n",
       "    }\n",
       "\n",
       "    .dataframe tbody tr th {\n",
       "        vertical-align: top;\n",
       "    }\n",
       "\n",
       "    .dataframe thead th {\n",
       "        text-align: right;\n",
       "    }\n",
       "</style>\n",
       "<table border=\"1\" class=\"dataframe\">\n",
       "  <thead>\n",
       "    <tr style=\"text-align: right;\">\n",
       "      <th></th>\n",
       "      <th>use_id</th>\n",
       "      <th>user_id</th>\n",
       "      <th>platform</th>\n",
       "      <th>platform_version</th>\n",
       "      <th>device</th>\n",
       "      <th>use_type_id</th>\n",
       "    </tr>\n",
       "  </thead>\n",
       "  <tbody>\n",
       "    <tr>\n",
       "      <th>0</th>\n",
       "      <td>22782</td>\n",
       "      <td>26980</td>\n",
       "      <td>ios</td>\n",
       "      <td>10.2</td>\n",
       "      <td>iPhone7,2</td>\n",
       "      <td>2</td>\n",
       "    </tr>\n",
       "    <tr>\n",
       "      <th>1</th>\n",
       "      <td>22783</td>\n",
       "      <td>29628</td>\n",
       "      <td>android</td>\n",
       "      <td>6.0</td>\n",
       "      <td>Nexus 5</td>\n",
       "      <td>3</td>\n",
       "    </tr>\n",
       "    <tr>\n",
       "      <th>2</th>\n",
       "      <td>22784</td>\n",
       "      <td>28473</td>\n",
       "      <td>android</td>\n",
       "      <td>5.1</td>\n",
       "      <td>SM-G903F</td>\n",
       "      <td>1</td>\n",
       "    </tr>\n",
       "    <tr>\n",
       "      <th>3</th>\n",
       "      <td>22785</td>\n",
       "      <td>15200</td>\n",
       "      <td>ios</td>\n",
       "      <td>10.2</td>\n",
       "      <td>iPhone7,2</td>\n",
       "      <td>3</td>\n",
       "    </tr>\n",
       "    <tr>\n",
       "      <th>4</th>\n",
       "      <td>22786</td>\n",
       "      <td>28239</td>\n",
       "      <td>android</td>\n",
       "      <td>6.0</td>\n",
       "      <td>ONE E1003</td>\n",
       "      <td>1</td>\n",
       "    </tr>\n",
       "  </tbody>\n",
       "</table>\n",
       "</div>"
      ],
      "text/plain": [
       "   use_id  user_id platform  platform_version     device  use_type_id\n",
       "0   22782    26980      ios              10.2  iPhone7,2            2\n",
       "1   22783    29628  android               6.0    Nexus 5            3\n",
       "2   22784    28473  android               5.1   SM-G903F            1\n",
       "3   22785    15200      ios              10.2  iPhone7,2            3\n",
       "4   22786    28239  android               6.0  ONE E1003            1"
      ]
     },
     "execution_count": 11,
     "metadata": {},
     "output_type": "execute_result"
    }
   ],
   "source": [
    "user_device.head()"
   ]
  },
  {
   "cell_type": "code",
   "execution_count": 14,
   "metadata": {},
   "outputs": [
    {
     "data": {
      "text/html": [
       "<div>\n",
       "<style scoped>\n",
       "    .dataframe tbody tr th:only-of-type {\n",
       "        vertical-align: middle;\n",
       "    }\n",
       "\n",
       "    .dataframe tbody tr th {\n",
       "        vertical-align: top;\n",
       "    }\n",
       "\n",
       "    .dataframe thead th {\n",
       "        text-align: right;\n",
       "    }\n",
       "</style>\n",
       "<table border=\"1\" class=\"dataframe\">\n",
       "  <thead>\n",
       "    <tr style=\"text-align: right;\">\n",
       "      <th></th>\n",
       "      <th>Retail Branding</th>\n",
       "      <th>Marketing Name</th>\n",
       "      <th>Device</th>\n",
       "      <th>Model</th>\n",
       "    </tr>\n",
       "  </thead>\n",
       "  <tbody>\n",
       "    <tr>\n",
       "      <th>0</th>\n",
       "      <td>NaN</td>\n",
       "      <td>NaN</td>\n",
       "      <td>AD681H</td>\n",
       "      <td>Smartfren Andromax AD681H</td>\n",
       "    </tr>\n",
       "    <tr>\n",
       "      <th>1</th>\n",
       "      <td>NaN</td>\n",
       "      <td>NaN</td>\n",
       "      <td>FJL21</td>\n",
       "      <td>FJL21</td>\n",
       "    </tr>\n",
       "    <tr>\n",
       "      <th>2</th>\n",
       "      <td>NaN</td>\n",
       "      <td>NaN</td>\n",
       "      <td>T31</td>\n",
       "      <td>Panasonic T31</td>\n",
       "    </tr>\n",
       "    <tr>\n",
       "      <th>3</th>\n",
       "      <td>NaN</td>\n",
       "      <td>NaN</td>\n",
       "      <td>hws7721g</td>\n",
       "      <td>MediaPad 7 Youth 2</td>\n",
       "    </tr>\n",
       "    <tr>\n",
       "      <th>4</th>\n",
       "      <td>3Q</td>\n",
       "      <td>OC1020A</td>\n",
       "      <td>OC1020A</td>\n",
       "      <td>OC1020A</td>\n",
       "    </tr>\n",
       "    <tr>\n",
       "      <th>5</th>\n",
       "      <td>7Eleven</td>\n",
       "      <td>IN265</td>\n",
       "      <td>IN265</td>\n",
       "      <td>IN265</td>\n",
       "    </tr>\n",
       "    <tr>\n",
       "      <th>6</th>\n",
       "      <td>A.O.I. ELECTRONICS FACTORY</td>\n",
       "      <td>A.O.I.</td>\n",
       "      <td>TR10CS1_11</td>\n",
       "      <td>TR10CS1</td>\n",
       "    </tr>\n",
       "    <tr>\n",
       "      <th>7</th>\n",
       "      <td>AG Mobile</td>\n",
       "      <td>AG BOOST 2</td>\n",
       "      <td>BOOST2</td>\n",
       "      <td>E4010</td>\n",
       "    </tr>\n",
       "    <tr>\n",
       "      <th>8</th>\n",
       "      <td>AG Mobile</td>\n",
       "      <td>AG Flair</td>\n",
       "      <td>AG_Flair</td>\n",
       "      <td>Flair</td>\n",
       "    </tr>\n",
       "    <tr>\n",
       "      <th>9</th>\n",
       "      <td>AG Mobile</td>\n",
       "      <td>AG Go Tab Access 2</td>\n",
       "      <td>AG_Go_Tab_Access_2</td>\n",
       "      <td>AG_Go_Tab_Access_2</td>\n",
       "    </tr>\n",
       "  </tbody>\n",
       "</table>\n",
       "</div>"
      ],
      "text/plain": [
       "              Retail Branding      Marketing Name              Device  \\\n",
       "0                         NaN                 NaN              AD681H   \n",
       "1                         NaN                 NaN               FJL21   \n",
       "2                         NaN                 NaN                 T31   \n",
       "3                         NaN                 NaN            hws7721g   \n",
       "4                          3Q             OC1020A             OC1020A   \n",
       "5                     7Eleven               IN265               IN265   \n",
       "6  A.O.I. ELECTRONICS FACTORY              A.O.I.          TR10CS1_11   \n",
       "7                   AG Mobile          AG BOOST 2              BOOST2   \n",
       "8                   AG Mobile            AG Flair            AG_Flair   \n",
       "9                   AG Mobile  AG Go Tab Access 2  AG_Go_Tab_Access_2   \n",
       "\n",
       "                       Model  \n",
       "0  Smartfren Andromax AD681H  \n",
       "1                      FJL21  \n",
       "2              Panasonic T31  \n",
       "3         MediaPad 7 Youth 2  \n",
       "4                    OC1020A  \n",
       "5                      IN265  \n",
       "6                    TR10CS1  \n",
       "7                      E4010  \n",
       "8                      Flair  \n",
       "9         AG_Go_Tab_Access_2  "
      ]
     },
     "execution_count": 14,
     "metadata": {},
     "output_type": "execute_result"
    }
   ],
   "source": [
    "devices.head(10)"
   ]
  },
  {
   "cell_type": "markdown",
   "metadata": {},
   "source": [
    "## Объединение по id пользователя"
   ]
  },
  {
   "cell_type": "markdown",
   "metadata": {},
   "source": [
    "* user_usage — это левая таблица, которая является основным объектом для слияния.\n",
    "* user_device[['use_id', 'platform', 'device']] — это правая таблица, из которой берутся только столбцы use_id, platform и device. \n",
    "* on='use_id' указывает столбец, на основе которого будет происходить объединение таблиц. В данном случае это столбец use_id, который должен присутствовать в обеих таблицах.\n",
    "После выполнения слияния результат сохраняется в переменной result."
   ]
  },
  {
   "cell_type": "code",
   "execution_count": 15,
   "metadata": {
    "scrolled": true
   },
   "outputs": [
    {
     "data": {
      "text/html": [
       "<div>\n",
       "<style scoped>\n",
       "    .dataframe tbody tr th:only-of-type {\n",
       "        vertical-align: middle;\n",
       "    }\n",
       "\n",
       "    .dataframe tbody tr th {\n",
       "        vertical-align: top;\n",
       "    }\n",
       "\n",
       "    .dataframe thead th {\n",
       "        text-align: right;\n",
       "    }\n",
       "</style>\n",
       "<table border=\"1\" class=\"dataframe\">\n",
       "  <thead>\n",
       "    <tr style=\"text-align: right;\">\n",
       "      <th></th>\n",
       "      <th>outgoing_mins_per_month</th>\n",
       "      <th>outgoing_sms_per_month</th>\n",
       "      <th>monthly_mb</th>\n",
       "      <th>use_id</th>\n",
       "      <th>platform</th>\n",
       "      <th>device</th>\n",
       "    </tr>\n",
       "  </thead>\n",
       "  <tbody>\n",
       "    <tr>\n",
       "      <th>0</th>\n",
       "      <td>21.97</td>\n",
       "      <td>4.82</td>\n",
       "      <td>1557.33</td>\n",
       "      <td>22787</td>\n",
       "      <td>android</td>\n",
       "      <td>GT-I9505</td>\n",
       "    </tr>\n",
       "    <tr>\n",
       "      <th>1</th>\n",
       "      <td>1710.08</td>\n",
       "      <td>136.88</td>\n",
       "      <td>7267.55</td>\n",
       "      <td>22788</td>\n",
       "      <td>android</td>\n",
       "      <td>SM-G930F</td>\n",
       "    </tr>\n",
       "    <tr>\n",
       "      <th>2</th>\n",
       "      <td>1710.08</td>\n",
       "      <td>136.88</td>\n",
       "      <td>7267.55</td>\n",
       "      <td>22789</td>\n",
       "      <td>android</td>\n",
       "      <td>SM-G930F</td>\n",
       "    </tr>\n",
       "    <tr>\n",
       "      <th>3</th>\n",
       "      <td>94.46</td>\n",
       "      <td>35.17</td>\n",
       "      <td>519.12</td>\n",
       "      <td>22790</td>\n",
       "      <td>android</td>\n",
       "      <td>D2303</td>\n",
       "    </tr>\n",
       "    <tr>\n",
       "      <th>4</th>\n",
       "      <td>71.59</td>\n",
       "      <td>79.26</td>\n",
       "      <td>1557.33</td>\n",
       "      <td>22792</td>\n",
       "      <td>android</td>\n",
       "      <td>SM-G361F</td>\n",
       "    </tr>\n",
       "  </tbody>\n",
       "</table>\n",
       "</div>"
      ],
      "text/plain": [
       "   outgoing_mins_per_month  outgoing_sms_per_month  monthly_mb  use_id  \\\n",
       "0                    21.97                    4.82     1557.33   22787   \n",
       "1                  1710.08                  136.88     7267.55   22788   \n",
       "2                  1710.08                  136.88     7267.55   22789   \n",
       "3                    94.46                   35.17      519.12   22790   \n",
       "4                    71.59                   79.26     1557.33   22792   \n",
       "\n",
       "  platform    device  \n",
       "0  android  GT-I9505  \n",
       "1  android  SM-G930F  \n",
       "2  android  SM-G930F  \n",
       "3  android     D2303  \n",
       "4  android  SM-G361F  "
      ]
     },
     "execution_count": 15,
     "metadata": {},
     "output_type": "execute_result"
    }
   ],
   "source": [
    "result = pd.merge(user_usage, # левая таблица\n",
    "                 user_device[['use_id', 'platform', 'device']], # из правой берем три столбца\n",
    "                 on='use_id') # на основании чего соединяем\n",
    "result.head()"
   ]
  },
  {
   "cell_type": "markdown",
   "metadata": {},
   "source": [
    "Посмотрим на размерности получившихся таблиц:"
   ]
  },
  {
   "cell_type": "code",
   "execution_count": 16,
   "metadata": {
    "scrolled": true
   },
   "outputs": [
    {
     "name": "stdout",
     "output_type": "stream",
     "text": [
      "user_usage размерности: (240, 4)\n",
      "user_device размерности: (272, 3)\n"
     ]
    }
   ],
   "source": [
    "print(\"user_usage размерности: {}\".format(user_usage.shape))\n",
    "print(\"user_device размерности: {}\".format(user_device[['use_id', 'platform', 'device']].shape))\n"
   ]
  },
  {
   "cell_type": "code",
   "execution_count": 17,
   "metadata": {},
   "outputs": [
    {
     "data": {
      "text/plain": [
       "(159, 6)"
      ]
     },
     "execution_count": 17,
     "metadata": {},
     "output_type": "execute_result"
    }
   ],
   "source": [
    "result.shape"
   ]
  },
  {
   "cell_type": "code",
   "execution_count": 18,
   "metadata": {
    "scrolled": true
   },
   "outputs": [
    {
     "data": {
      "text/plain": [
       "use_id\n",
       "True     159\n",
       "False     81\n",
       "Name: count, dtype: int64"
      ]
     },
     "execution_count": 18,
     "metadata": {},
     "output_type": "execute_result"
    }
   ],
   "source": [
    "user_usage['use_id'].isin(user_device['use_id']).value_counts()"
   ]
  },
  {
   "cell_type": "markdown",
   "metadata": {},
   "source": [
    "Базовый метод merge довольно прост. Но иногда к нему нужно добавить несколько параметров.\n",
    "\n",
    "Один из самых важных вопросов — как именно нужно объединять эти таблицы.Есть 4 варианта:"
   ]
  },
  {
   "cell_type": "markdown",
   "metadata": {},
   "source": [
    "![](https://deepage.net/img/pandas/merge/join-type.jpg)"
   ]
  },
  {
   "cell_type": "markdown",
   "metadata": {},
   "source": [
    "## Left merge "
   ]
  },
  {
   "cell_type": "code",
   "execution_count": 19,
   "metadata": {},
   "outputs": [
    {
     "name": "stdout",
     "output_type": "stream",
     "text": [
      "user_usage размерности: (240, 4)\n",
      "result размерности: (240, 6)\n",
      "Всего 81 пропущенных значений.\n"
     ]
    }
   ],
   "source": [
    "result = pd.merge(user_usage, # левая таблица\n",
    "                 user_device[['use_id', 'platform', 'device']], # из правой три столбца\n",
    "                 on='use_id', how='left') # на основании чего соединяем\n",
    "print(\"user_usage размерности: {}\".format(user_usage.shape)) # размерность таблицы user_usage\n",
    "print(\"result размерности: {}\".format(result.shape)) # размерность таблицы result\n",
    "print(\"Всего {} пропущенных значений.\".format(\n",
    "        result['device'].isnull().sum()))  # количество пропусков в столбце device для результата"
   ]
  },
  {
   "cell_type": "code",
   "execution_count": 20,
   "metadata": {},
   "outputs": [
    {
     "data": {
      "text/plain": [
       "81"
      ]
     },
     "execution_count": 20,
     "metadata": {},
     "output_type": "execute_result"
    }
   ],
   "source": [
    "result['device'].isnull().sum()"
   ]
  },
  {
   "cell_type": "code",
   "execution_count": 21,
   "metadata": {},
   "outputs": [
    {
     "data": {
      "text/html": [
       "<div>\n",
       "<style scoped>\n",
       "    .dataframe tbody tr th:only-of-type {\n",
       "        vertical-align: middle;\n",
       "    }\n",
       "\n",
       "    .dataframe tbody tr th {\n",
       "        vertical-align: top;\n",
       "    }\n",
       "\n",
       "    .dataframe thead th {\n",
       "        text-align: right;\n",
       "    }\n",
       "</style>\n",
       "<table border=\"1\" class=\"dataframe\">\n",
       "  <thead>\n",
       "    <tr style=\"text-align: right;\">\n",
       "      <th></th>\n",
       "      <th>outgoing_mins_per_month</th>\n",
       "      <th>outgoing_sms_per_month</th>\n",
       "      <th>monthly_mb</th>\n",
       "      <th>use_id</th>\n",
       "      <th>platform</th>\n",
       "      <th>device</th>\n",
       "    </tr>\n",
       "  </thead>\n",
       "  <tbody>\n",
       "    <tr>\n",
       "      <th>0</th>\n",
       "      <td>21.97</td>\n",
       "      <td>4.82</td>\n",
       "      <td>1557.33</td>\n",
       "      <td>22787</td>\n",
       "      <td>android</td>\n",
       "      <td>GT-I9505</td>\n",
       "    </tr>\n",
       "    <tr>\n",
       "      <th>1</th>\n",
       "      <td>1710.08</td>\n",
       "      <td>136.88</td>\n",
       "      <td>7267.55</td>\n",
       "      <td>22788</td>\n",
       "      <td>android</td>\n",
       "      <td>SM-G930F</td>\n",
       "    </tr>\n",
       "    <tr>\n",
       "      <th>2</th>\n",
       "      <td>1710.08</td>\n",
       "      <td>136.88</td>\n",
       "      <td>7267.55</td>\n",
       "      <td>22789</td>\n",
       "      <td>android</td>\n",
       "      <td>SM-G930F</td>\n",
       "    </tr>\n",
       "    <tr>\n",
       "      <th>3</th>\n",
       "      <td>94.46</td>\n",
       "      <td>35.17</td>\n",
       "      <td>519.12</td>\n",
       "      <td>22790</td>\n",
       "      <td>android</td>\n",
       "      <td>D2303</td>\n",
       "    </tr>\n",
       "    <tr>\n",
       "      <th>4</th>\n",
       "      <td>71.59</td>\n",
       "      <td>79.26</td>\n",
       "      <td>1557.33</td>\n",
       "      <td>22792</td>\n",
       "      <td>android</td>\n",
       "      <td>SM-G361F</td>\n",
       "    </tr>\n",
       "  </tbody>\n",
       "</table>\n",
       "</div>"
      ],
      "text/plain": [
       "   outgoing_mins_per_month  outgoing_sms_per_month  monthly_mb  use_id  \\\n",
       "0                    21.97                    4.82     1557.33   22787   \n",
       "1                  1710.08                  136.88     7267.55   22788   \n",
       "2                  1710.08                  136.88     7267.55   22789   \n",
       "3                    94.46                   35.17      519.12   22790   \n",
       "4                    71.59                   79.26     1557.33   22792   \n",
       "\n",
       "  platform    device  \n",
       "0  android  GT-I9505  \n",
       "1  android  SM-G930F  \n",
       "2  android  SM-G930F  \n",
       "3  android     D2303  \n",
       "4  android  SM-G361F  "
      ]
     },
     "execution_count": 21,
     "metadata": {},
     "output_type": "execute_result"
    }
   ],
   "source": [
    "result.head()"
   ]
  },
  {
   "cell_type": "markdown",
   "metadata": {},
   "source": [
    "## Right merge \n"
   ]
  },
  {
   "cell_type": "code",
   "execution_count": 22,
   "metadata": {
    "scrolled": true
   },
   "outputs": [
    {
     "name": "stdout",
     "output_type": "stream",
     "text": [
      "user_device размерностиs: (272, 6)\n",
      "result размерности: (272, 6)\n",
      "Всего 113 пропущенных значений в колонке 'monthly_mb' .\n",
      "Всего 0 пропущенных значений в колонке 'platform'.\n"
     ]
    }
   ],
   "source": [
    "result = pd.merge(user_usage, # левая таблица\n",
    "                 user_device[['use_id', 'platform', 'device']], # из правой три столбца\n",
    "                 on='use_id', how='right') # на основании чего соединяем\n",
    "print(\"user_device размерностиs: {}\".format(user_device.shape))\n",
    "print(\"result размерности: {}\".format(result.shape))\n",
    "print(\"Всего {} пропущенных значений в колонке 'monthly_mb' .\".format(\n",
    "        result['monthly_mb'].isnull().sum()))\n",
    "print(\"Всего {} пропущенных значений в колонке 'platform'.\".format(\n",
    "        result['platform'].isnull().sum()))"
   ]
  },
  {
   "cell_type": "markdown",
   "metadata": {},
   "source": [
    "## Outer merge "
   ]
  },
  {
   "cell_type": "code",
   "execution_count": 23,
   "metadata": {},
   "outputs": [
    {
     "data": {
      "text/plain": [
       "353"
      ]
     },
     "execution_count": 23,
     "metadata": {},
     "output_type": "execute_result"
    }
   ],
   "source": [
    "pd.concat([user_usage['use_id'], user_device['use_id']]).nunique()"
   ]
  },
  {
   "cell_type": "code",
   "execution_count": 24,
   "metadata": {},
   "outputs": [
    {
     "name": "stdout",
     "output_type": "stream",
     "text": [
      "Всего 353 уникальных значений для use_id.\n",
      "Получаем в таблице (353, 7) строк.\n"
     ]
    }
   ],
   "source": [
    "print(\"Всего {} уникальных значений для use_id.\".format(\n",
    "        pd.concat([user_usage['use_id'], user_device['use_id']]).unique().shape[0]))\n",
    "result = pd.merge(user_usage,\n",
    "                 user_device[['use_id', 'platform', 'device']],\n",
    "                 on='use_id', how='outer', indicator=True)\n",
    "\n",
    "print(\"Получаем в таблице {} строк.\".format(result.shape))\n"
   ]
  },
  {
   "cell_type": "code",
   "execution_count": 25,
   "metadata": {},
   "outputs": [
    {
     "data": {
      "text/html": [
       "<div>\n",
       "<style scoped>\n",
       "    .dataframe tbody tr th:only-of-type {\n",
       "        vertical-align: middle;\n",
       "    }\n",
       "\n",
       "    .dataframe tbody tr th {\n",
       "        vertical-align: top;\n",
       "    }\n",
       "\n",
       "    .dataframe thead th {\n",
       "        text-align: right;\n",
       "    }\n",
       "</style>\n",
       "<table border=\"1\" class=\"dataframe\">\n",
       "  <thead>\n",
       "    <tr style=\"text-align: right;\">\n",
       "      <th></th>\n",
       "      <th>outgoing_mins_per_month</th>\n",
       "      <th>outgoing_sms_per_month</th>\n",
       "      <th>monthly_mb</th>\n",
       "      <th>use_id</th>\n",
       "      <th>platform</th>\n",
       "      <th>device</th>\n",
       "      <th>_merge</th>\n",
       "    </tr>\n",
       "  </thead>\n",
       "  <tbody>\n",
       "    <tr>\n",
       "      <th>0</th>\n",
       "      <td>NaN</td>\n",
       "      <td>NaN</td>\n",
       "      <td>NaN</td>\n",
       "      <td>22782</td>\n",
       "      <td>ios</td>\n",
       "      <td>iPhone7,2</td>\n",
       "      <td>right_only</td>\n",
       "    </tr>\n",
       "    <tr>\n",
       "      <th>1</th>\n",
       "      <td>NaN</td>\n",
       "      <td>NaN</td>\n",
       "      <td>NaN</td>\n",
       "      <td>22783</td>\n",
       "      <td>android</td>\n",
       "      <td>Nexus 5</td>\n",
       "      <td>right_only</td>\n",
       "    </tr>\n",
       "    <tr>\n",
       "      <th>2</th>\n",
       "      <td>NaN</td>\n",
       "      <td>NaN</td>\n",
       "      <td>NaN</td>\n",
       "      <td>22784</td>\n",
       "      <td>android</td>\n",
       "      <td>SM-G903F</td>\n",
       "      <td>right_only</td>\n",
       "    </tr>\n",
       "    <tr>\n",
       "      <th>3</th>\n",
       "      <td>NaN</td>\n",
       "      <td>NaN</td>\n",
       "      <td>NaN</td>\n",
       "      <td>22785</td>\n",
       "      <td>ios</td>\n",
       "      <td>iPhone7,2</td>\n",
       "      <td>right_only</td>\n",
       "    </tr>\n",
       "    <tr>\n",
       "      <th>4</th>\n",
       "      <td>NaN</td>\n",
       "      <td>NaN</td>\n",
       "      <td>NaN</td>\n",
       "      <td>22786</td>\n",
       "      <td>android</td>\n",
       "      <td>ONE E1003</td>\n",
       "      <td>right_only</td>\n",
       "    </tr>\n",
       "    <tr>\n",
       "      <th>...</th>\n",
       "      <td>...</td>\n",
       "      <td>...</td>\n",
       "      <td>...</td>\n",
       "      <td>...</td>\n",
       "      <td>...</td>\n",
       "      <td>...</td>\n",
       "      <td>...</td>\n",
       "    </tr>\n",
       "    <tr>\n",
       "      <th>348</th>\n",
       "      <td>260.66</td>\n",
       "      <td>68.44</td>\n",
       "      <td>896.96</td>\n",
       "      <td>25008</td>\n",
       "      <td>NaN</td>\n",
       "      <td>NaN</td>\n",
       "      <td>left_only</td>\n",
       "    </tr>\n",
       "    <tr>\n",
       "      <th>349</th>\n",
       "      <td>97.12</td>\n",
       "      <td>36.50</td>\n",
       "      <td>2815.00</td>\n",
       "      <td>25040</td>\n",
       "      <td>NaN</td>\n",
       "      <td>NaN</td>\n",
       "      <td>left_only</td>\n",
       "    </tr>\n",
       "    <tr>\n",
       "      <th>350</th>\n",
       "      <td>355.93</td>\n",
       "      <td>12.37</td>\n",
       "      <td>6828.09</td>\n",
       "      <td>25046</td>\n",
       "      <td>NaN</td>\n",
       "      <td>NaN</td>\n",
       "      <td>left_only</td>\n",
       "    </tr>\n",
       "    <tr>\n",
       "      <th>351</th>\n",
       "      <td>632.06</td>\n",
       "      <td>120.46</td>\n",
       "      <td>1453.16</td>\n",
       "      <td>25058</td>\n",
       "      <td>NaN</td>\n",
       "      <td>NaN</td>\n",
       "      <td>left_only</td>\n",
       "    </tr>\n",
       "    <tr>\n",
       "      <th>352</th>\n",
       "      <td>488.70</td>\n",
       "      <td>906.92</td>\n",
       "      <td>3089.85</td>\n",
       "      <td>25220</td>\n",
       "      <td>NaN</td>\n",
       "      <td>NaN</td>\n",
       "      <td>left_only</td>\n",
       "    </tr>\n",
       "  </tbody>\n",
       "</table>\n",
       "<p>353 rows × 7 columns</p>\n",
       "</div>"
      ],
      "text/plain": [
       "     outgoing_mins_per_month  outgoing_sms_per_month  monthly_mb  use_id  \\\n",
       "0                        NaN                     NaN         NaN   22782   \n",
       "1                        NaN                     NaN         NaN   22783   \n",
       "2                        NaN                     NaN         NaN   22784   \n",
       "3                        NaN                     NaN         NaN   22785   \n",
       "4                        NaN                     NaN         NaN   22786   \n",
       "..                       ...                     ...         ...     ...   \n",
       "348                   260.66                   68.44      896.96   25008   \n",
       "349                    97.12                   36.50     2815.00   25040   \n",
       "350                   355.93                   12.37     6828.09   25046   \n",
       "351                   632.06                  120.46     1453.16   25058   \n",
       "352                   488.70                  906.92     3089.85   25220   \n",
       "\n",
       "    platform     device      _merge  \n",
       "0        ios  iPhone7,2  right_only  \n",
       "1    android    Nexus 5  right_only  \n",
       "2    android   SM-G903F  right_only  \n",
       "3        ios  iPhone7,2  right_only  \n",
       "4    android  ONE E1003  right_only  \n",
       "..       ...        ...         ...  \n",
       "348      NaN        NaN   left_only  \n",
       "349      NaN        NaN   left_only  \n",
       "350      NaN        NaN   left_only  \n",
       "351      NaN        NaN   left_only  \n",
       "352      NaN        NaN   left_only  \n",
       "\n",
       "[353 rows x 7 columns]"
      ]
     },
     "execution_count": 25,
     "metadata": {},
     "output_type": "execute_result"
    }
   ],
   "source": [
    "result"
   ]
  },
  {
   "cell_type": "code",
   "execution_count": 26,
   "metadata": {},
   "outputs": [
    {
     "data": {
      "text/html": [
       "<div>\n",
       "<style scoped>\n",
       "    .dataframe tbody tr th:only-of-type {\n",
       "        vertical-align: middle;\n",
       "    }\n",
       "\n",
       "    .dataframe tbody tr th {\n",
       "        vertical-align: top;\n",
       "    }\n",
       "\n",
       "    .dataframe thead th {\n",
       "        text-align: right;\n",
       "    }\n",
       "</style>\n",
       "<table border=\"1\" class=\"dataframe\">\n",
       "  <thead>\n",
       "    <tr style=\"text-align: right;\">\n",
       "      <th></th>\n",
       "      <th>Retail Branding</th>\n",
       "      <th>Marketing Name</th>\n",
       "      <th>Device</th>\n",
       "      <th>Model</th>\n",
       "    </tr>\n",
       "  </thead>\n",
       "  <tbody>\n",
       "    <tr>\n",
       "      <th>0</th>\n",
       "      <td>NaN</td>\n",
       "      <td>NaN</td>\n",
       "      <td>AD681H</td>\n",
       "      <td>Smartfren Andromax AD681H</td>\n",
       "    </tr>\n",
       "    <tr>\n",
       "      <th>1</th>\n",
       "      <td>NaN</td>\n",
       "      <td>NaN</td>\n",
       "      <td>FJL21</td>\n",
       "      <td>FJL21</td>\n",
       "    </tr>\n",
       "    <tr>\n",
       "      <th>2</th>\n",
       "      <td>NaN</td>\n",
       "      <td>NaN</td>\n",
       "      <td>T31</td>\n",
       "      <td>Panasonic T31</td>\n",
       "    </tr>\n",
       "    <tr>\n",
       "      <th>3</th>\n",
       "      <td>NaN</td>\n",
       "      <td>NaN</td>\n",
       "      <td>hws7721g</td>\n",
       "      <td>MediaPad 7 Youth 2</td>\n",
       "    </tr>\n",
       "    <tr>\n",
       "      <th>4</th>\n",
       "      <td>3Q</td>\n",
       "      <td>OC1020A</td>\n",
       "      <td>OC1020A</td>\n",
       "      <td>OC1020A</td>\n",
       "    </tr>\n",
       "    <tr>\n",
       "      <th>...</th>\n",
       "      <td>...</td>\n",
       "      <td>...</td>\n",
       "      <td>...</td>\n",
       "      <td>...</td>\n",
       "    </tr>\n",
       "    <tr>\n",
       "      <th>14541</th>\n",
       "      <td>pendo</td>\n",
       "      <td>PNDPP44QC10</td>\n",
       "      <td>PNDPP44QC10</td>\n",
       "      <td>PNDPP44QC10</td>\n",
       "    </tr>\n",
       "    <tr>\n",
       "      <th>14542</th>\n",
       "      <td>pendo</td>\n",
       "      <td>PNDPP44QC7</td>\n",
       "      <td>PNDPP44QC7</td>\n",
       "      <td>PNDPP44QC7</td>\n",
       "    </tr>\n",
       "    <tr>\n",
       "      <th>14543</th>\n",
       "      <td>sugar_aums</td>\n",
       "      <td>QPOINT</td>\n",
       "      <td>QPI-1</td>\n",
       "      <td>QPI-1</td>\n",
       "    </tr>\n",
       "    <tr>\n",
       "      <th>14544</th>\n",
       "      <td>tecmobile</td>\n",
       "      <td>OmnisOne</td>\n",
       "      <td>OmnisOne</td>\n",
       "      <td>Omnis One</td>\n",
       "    </tr>\n",
       "    <tr>\n",
       "      <th>14545</th>\n",
       "      <td>ucall</td>\n",
       "      <td>EASY1</td>\n",
       "      <td>EASY1</td>\n",
       "      <td>EASY1</td>\n",
       "    </tr>\n",
       "  </tbody>\n",
       "</table>\n",
       "<p>14546 rows × 4 columns</p>\n",
       "</div>"
      ],
      "text/plain": [
       "      Retail Branding Marketing Name       Device                      Model\n",
       "0                 NaN            NaN       AD681H  Smartfren Andromax AD681H\n",
       "1                 NaN            NaN        FJL21                      FJL21\n",
       "2                 NaN            NaN          T31              Panasonic T31\n",
       "3                 NaN            NaN     hws7721g         MediaPad 7 Youth 2\n",
       "4                  3Q        OC1020A      OC1020A                    OC1020A\n",
       "...               ...            ...          ...                        ...\n",
       "14541           pendo    PNDPP44QC10  PNDPP44QC10                PNDPP44QC10\n",
       "14542           pendo     PNDPP44QC7   PNDPP44QC7                 PNDPP44QC7\n",
       "14543      sugar_aums         QPOINT        QPI-1                      QPI-1\n",
       "14544       tecmobile       OmnisOne     OmnisOne                  Omnis One\n",
       "14545           ucall          EASY1        EASY1                      EASY1\n",
       "\n",
       "[14546 rows x 4 columns]"
      ]
     },
     "execution_count": 26,
     "metadata": {},
     "output_type": "execute_result"
    }
   ],
   "source": [
    "devices"
   ]
  },
  {
   "cell_type": "markdown",
   "metadata": {},
   "source": [
    "## Final merge\n"
   ]
  },
  {
   "cell_type": "code",
   "execution_count": 27,
   "metadata": {
    "scrolled": true
   },
   "outputs": [
    {
     "data": {
      "text/html": [
       "<div>\n",
       "<style scoped>\n",
       "    .dataframe tbody tr th:only-of-type {\n",
       "        vertical-align: middle;\n",
       "    }\n",
       "\n",
       "    .dataframe tbody tr th {\n",
       "        vertical-align: top;\n",
       "    }\n",
       "\n",
       "    .dataframe thead th {\n",
       "        text-align: right;\n",
       "    }\n",
       "</style>\n",
       "<table border=\"1\" class=\"dataframe\">\n",
       "  <thead>\n",
       "    <tr style=\"text-align: right;\">\n",
       "      <th></th>\n",
       "      <th>outgoing_mins_per_month</th>\n",
       "      <th>outgoing_sms_per_month</th>\n",
       "      <th>monthly_mb</th>\n",
       "      <th>use_id</th>\n",
       "      <th>platform</th>\n",
       "      <th>device</th>\n",
       "      <th>manufacturer</th>\n",
       "      <th>Model</th>\n",
       "    </tr>\n",
       "  </thead>\n",
       "  <tbody>\n",
       "    <tr>\n",
       "      <th>0</th>\n",
       "      <td>21.97</td>\n",
       "      <td>4.82</td>\n",
       "      <td>1557.33</td>\n",
       "      <td>22787</td>\n",
       "      <td>android</td>\n",
       "      <td>GT-I9505</td>\n",
       "      <td>Samsung</td>\n",
       "      <td>GT-I9505</td>\n",
       "    </tr>\n",
       "    <tr>\n",
       "      <th>1</th>\n",
       "      <td>1710.08</td>\n",
       "      <td>136.88</td>\n",
       "      <td>7267.55</td>\n",
       "      <td>22788</td>\n",
       "      <td>android</td>\n",
       "      <td>SM-G930F</td>\n",
       "      <td>Samsung</td>\n",
       "      <td>SM-G930F</td>\n",
       "    </tr>\n",
       "    <tr>\n",
       "      <th>2</th>\n",
       "      <td>1710.08</td>\n",
       "      <td>136.88</td>\n",
       "      <td>7267.55</td>\n",
       "      <td>22789</td>\n",
       "      <td>android</td>\n",
       "      <td>SM-G930F</td>\n",
       "      <td>Samsung</td>\n",
       "      <td>SM-G930F</td>\n",
       "    </tr>\n",
       "    <tr>\n",
       "      <th>3</th>\n",
       "      <td>94.46</td>\n",
       "      <td>35.17</td>\n",
       "      <td>519.12</td>\n",
       "      <td>22790</td>\n",
       "      <td>android</td>\n",
       "      <td>D2303</td>\n",
       "      <td>Sony</td>\n",
       "      <td>D2303</td>\n",
       "    </tr>\n",
       "    <tr>\n",
       "      <th>4</th>\n",
       "      <td>71.59</td>\n",
       "      <td>79.26</td>\n",
       "      <td>1557.33</td>\n",
       "      <td>22792</td>\n",
       "      <td>android</td>\n",
       "      <td>SM-G361F</td>\n",
       "      <td>Samsung</td>\n",
       "      <td>SM-G361F</td>\n",
       "    </tr>\n",
       "  </tbody>\n",
       "</table>\n",
       "</div>"
      ],
      "text/plain": [
       "   outgoing_mins_per_month  outgoing_sms_per_month  monthly_mb  use_id  \\\n",
       "0                    21.97                    4.82     1557.33   22787   \n",
       "1                  1710.08                  136.88     7267.55   22788   \n",
       "2                  1710.08                  136.88     7267.55   22789   \n",
       "3                    94.46                   35.17      519.12   22790   \n",
       "4                    71.59                   79.26     1557.33   22792   \n",
       "\n",
       "  platform    device manufacturer     Model  \n",
       "0  android  GT-I9505      Samsung  GT-I9505  \n",
       "1  android  SM-G930F      Samsung  SM-G930F  \n",
       "2  android  SM-G930F      Samsung  SM-G930F  \n",
       "3  android     D2303         Sony     D2303  \n",
       "4  android  SM-G361F      Samsung  SM-G361F  "
      ]
     },
     "execution_count": 27,
     "metadata": {},
     "output_type": "execute_result"
    }
   ],
   "source": [
    "\n",
    "result = pd.merge(user_usage,\n",
    "                 user_device[['use_id', 'platform', 'device']],\n",
    "                 on='use_id',\n",
    "                 how='left')\n",
    "\n",
    "\n",
    "devices.rename(columns={\"Retail Branding\": \"manufacturer\"}, inplace=True) # изменение названий столбцов\n",
    "result = pd.merge(result, \n",
    "                  devices[['manufacturer', 'Model']],\n",
    "                  left_on='device',\n",
    "                  right_on='Model',\n",
    "                  how='left')\n",
    "\n",
    "result.head()\n",
    "                  \n",
    "                               "
   ]
  },
  {
   "cell_type": "code",
   "execution_count": 28,
   "metadata": {},
   "outputs": [],
   "source": [
    "result.drop('Model', axis = 1, inplace = True)"
   ]
  },
  {
   "cell_type": "markdown",
   "metadata": {},
   "source": [
    "## Вычисление итоговых статистик"
   ]
  },
  {
   "cell_type": "code",
   "execution_count": 29,
   "metadata": {},
   "outputs": [
    {
     "data": {
      "text/html": [
       "<div>\n",
       "<style scoped>\n",
       "    .dataframe tbody tr th:only-of-type {\n",
       "        vertical-align: middle;\n",
       "    }\n",
       "\n",
       "    .dataframe tbody tr th {\n",
       "        vertical-align: top;\n",
       "    }\n",
       "\n",
       "    .dataframe thead th {\n",
       "        text-align: right;\n",
       "    }\n",
       "</style>\n",
       "<table border=\"1\" class=\"dataframe\">\n",
       "  <thead>\n",
       "    <tr style=\"text-align: right;\">\n",
       "      <th></th>\n",
       "      <th>outgoing_mins_per_month</th>\n",
       "      <th>outgoing_sms_per_month</th>\n",
       "      <th>monthly_mb</th>\n",
       "      <th>use_id</th>\n",
       "      <th>platform</th>\n",
       "      <th>device</th>\n",
       "      <th>manufacturer</th>\n",
       "    </tr>\n",
       "  </thead>\n",
       "  <tbody>\n",
       "    <tr>\n",
       "      <th>0</th>\n",
       "      <td>21.97</td>\n",
       "      <td>4.82</td>\n",
       "      <td>1557.33</td>\n",
       "      <td>22787</td>\n",
       "      <td>android</td>\n",
       "      <td>GT-I9505</td>\n",
       "      <td>Samsung</td>\n",
       "    </tr>\n",
       "    <tr>\n",
       "      <th>1</th>\n",
       "      <td>1710.08</td>\n",
       "      <td>136.88</td>\n",
       "      <td>7267.55</td>\n",
       "      <td>22788</td>\n",
       "      <td>android</td>\n",
       "      <td>SM-G930F</td>\n",
       "      <td>Samsung</td>\n",
       "    </tr>\n",
       "    <tr>\n",
       "      <th>2</th>\n",
       "      <td>1710.08</td>\n",
       "      <td>136.88</td>\n",
       "      <td>7267.55</td>\n",
       "      <td>22789</td>\n",
       "      <td>android</td>\n",
       "      <td>SM-G930F</td>\n",
       "      <td>Samsung</td>\n",
       "    </tr>\n",
       "    <tr>\n",
       "      <th>3</th>\n",
       "      <td>94.46</td>\n",
       "      <td>35.17</td>\n",
       "      <td>519.12</td>\n",
       "      <td>22790</td>\n",
       "      <td>android</td>\n",
       "      <td>D2303</td>\n",
       "      <td>Sony</td>\n",
       "    </tr>\n",
       "    <tr>\n",
       "      <th>4</th>\n",
       "      <td>71.59</td>\n",
       "      <td>79.26</td>\n",
       "      <td>1557.33</td>\n",
       "      <td>22792</td>\n",
       "      <td>android</td>\n",
       "      <td>SM-G361F</td>\n",
       "      <td>Samsung</td>\n",
       "    </tr>\n",
       "  </tbody>\n",
       "</table>\n",
       "</div>"
      ],
      "text/plain": [
       "   outgoing_mins_per_month  outgoing_sms_per_month  monthly_mb  use_id  \\\n",
       "0                    21.97                    4.82     1557.33   22787   \n",
       "1                  1710.08                  136.88     7267.55   22788   \n",
       "2                  1710.08                  136.88     7267.55   22789   \n",
       "3                    94.46                   35.17      519.12   22790   \n",
       "4                    71.59                   79.26     1557.33   22792   \n",
       "\n",
       "  platform    device manufacturer  \n",
       "0  android  GT-I9505      Samsung  \n",
       "1  android  SM-G930F      Samsung  \n",
       "2  android  SM-G930F      Samsung  \n",
       "3  android     D2303         Sony  \n",
       "4  android  SM-G361F      Samsung  "
      ]
     },
     "execution_count": 29,
     "metadata": {},
     "output_type": "execute_result"
    }
   ],
   "source": [
    "result.head()"
   ]
  },
  {
   "cell_type": "code",
   "execution_count": 30,
   "metadata": {},
   "outputs": [
    {
     "data": {
      "text/html": [
       "<div>\n",
       "<style scoped>\n",
       "    .dataframe tbody tr th:only-of-type {\n",
       "        vertical-align: middle;\n",
       "    }\n",
       "\n",
       "    .dataframe tbody tr th {\n",
       "        vertical-align: top;\n",
       "    }\n",
       "\n",
       "    .dataframe thead th {\n",
       "        text-align: right;\n",
       "    }\n",
       "</style>\n",
       "<table border=\"1\" class=\"dataframe\">\n",
       "  <thead>\n",
       "    <tr style=\"text-align: right;\">\n",
       "      <th></th>\n",
       "      <th>outgoing_mins_per_month</th>\n",
       "      <th>outgoing_sms_per_month</th>\n",
       "      <th>monthly_mb</th>\n",
       "      <th>use_id</th>\n",
       "    </tr>\n",
       "    <tr>\n",
       "      <th>manufacturer</th>\n",
       "      <th></th>\n",
       "      <th></th>\n",
       "      <th></th>\n",
       "      <th></th>\n",
       "    </tr>\n",
       "  </thead>\n",
       "  <tbody>\n",
       "    <tr>\n",
       "      <th>HTC</th>\n",
       "      <td>299.842955</td>\n",
       "      <td>93.059318</td>\n",
       "      <td>15573.33</td>\n",
       "      <td>44</td>\n",
       "    </tr>\n",
       "    <tr>\n",
       "      <th>Huawei</th>\n",
       "      <td>81.526667</td>\n",
       "      <td>9.500000</td>\n",
       "      <td>3114.67</td>\n",
       "      <td>3</td>\n",
       "    </tr>\n",
       "    <tr>\n",
       "      <th>LGE</th>\n",
       "      <td>111.530000</td>\n",
       "      <td>12.760000</td>\n",
       "      <td>1557.33</td>\n",
       "      <td>2</td>\n",
       "    </tr>\n",
       "    <tr>\n",
       "      <th>Lava</th>\n",
       "      <td>60.650000</td>\n",
       "      <td>261.900000</td>\n",
       "      <td>12458.67</td>\n",
       "      <td>2</td>\n",
       "    </tr>\n",
       "    <tr>\n",
       "      <th>Lenovo</th>\n",
       "      <td>215.920000</td>\n",
       "      <td>12.930000</td>\n",
       "      <td>1557.33</td>\n",
       "      <td>2</td>\n",
       "    </tr>\n",
       "    <tr>\n",
       "      <th>Motorola</th>\n",
       "      <td>95.127500</td>\n",
       "      <td>65.666250</td>\n",
       "      <td>5191.12</td>\n",
       "      <td>16</td>\n",
       "    </tr>\n",
       "    <tr>\n",
       "      <th>OnePlus</th>\n",
       "      <td>354.855000</td>\n",
       "      <td>48.330000</td>\n",
       "      <td>15573.33</td>\n",
       "      <td>6</td>\n",
       "    </tr>\n",
       "    <tr>\n",
       "      <th>Samsung</th>\n",
       "      <td>191.010093</td>\n",
       "      <td>92.390463</td>\n",
       "      <td>31146.67</td>\n",
       "      <td>108</td>\n",
       "    </tr>\n",
       "    <tr>\n",
       "      <th>Sony</th>\n",
       "      <td>177.315625</td>\n",
       "      <td>40.176250</td>\n",
       "      <td>7267.55</td>\n",
       "      <td>16</td>\n",
       "    </tr>\n",
       "    <tr>\n",
       "      <th>Vodafone</th>\n",
       "      <td>42.750000</td>\n",
       "      <td>46.830000</td>\n",
       "      <td>5191.12</td>\n",
       "      <td>1</td>\n",
       "    </tr>\n",
       "    <tr>\n",
       "      <th>ZTE</th>\n",
       "      <td>42.750000</td>\n",
       "      <td>46.830000</td>\n",
       "      <td>5191.12</td>\n",
       "      <td>1</td>\n",
       "    </tr>\n",
       "  </tbody>\n",
       "</table>\n",
       "</div>"
      ],
      "text/plain": [
       "              outgoing_mins_per_month  outgoing_sms_per_month  monthly_mb  \\\n",
       "manufacturer                                                                \n",
       "HTC                        299.842955               93.059318    15573.33   \n",
       "Huawei                      81.526667                9.500000     3114.67   \n",
       "LGE                        111.530000               12.760000     1557.33   \n",
       "Lava                        60.650000              261.900000    12458.67   \n",
       "Lenovo                     215.920000               12.930000     1557.33   \n",
       "Motorola                    95.127500               65.666250     5191.12   \n",
       "OnePlus                    354.855000               48.330000    15573.33   \n",
       "Samsung                    191.010093               92.390463    31146.67   \n",
       "Sony                       177.315625               40.176250     7267.55   \n",
       "Vodafone                    42.750000               46.830000     5191.12   \n",
       "ZTE                         42.750000               46.830000     5191.12   \n",
       "\n",
       "              use_id  \n",
       "manufacturer          \n",
       "HTC               44  \n",
       "Huawei             3  \n",
       "LGE                2  \n",
       "Lava               2  \n",
       "Lenovo             2  \n",
       "Motorola          16  \n",
       "OnePlus            6  \n",
       "Samsung          108  \n",
       "Sony              16  \n",
       "Vodafone           1  \n",
       "ZTE                1  "
      ]
     },
     "execution_count": 30,
     "metadata": {},
     "output_type": "execute_result"
    }
   ],
   "source": [
    "result.groupby(\"manufacturer\").agg({\n",
    "        \"outgoing_mins_per_month\": \"mean\",\n",
    "        \"outgoing_sms_per_month\": \"mean\",\n",
    "        \"monthly_mb\": \"max\",\n",
    "        \"use_id\": \"count\"\n",
    "    })"
   ]
  },
  {
   "cell_type": "code",
   "execution_count": null,
   "metadata": {},
   "outputs": [],
   "source": []
  }
 ],
 "metadata": {
  "kernelspec": {
   "display_name": "Python 3 (ipykernel)",
   "language": "python",
   "name": "python3"
  },
  "language_info": {
   "codemirror_mode": {
    "name": "ipython",
    "version": 3
   },
   "file_extension": ".py",
   "mimetype": "text/x-python",
   "name": "python",
   "nbconvert_exporter": "python",
   "pygments_lexer": "ipython3",
   "version": "3.12.7"
  }
 },
 "nbformat": 4,
 "nbformat_minor": 4
}
