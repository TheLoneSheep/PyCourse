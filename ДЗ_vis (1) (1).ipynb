{
 "cells": [
  {
   "cell_type": "markdown",
   "id": "0b1d5b95",
   "metadata": {},
   "source": [
    "# Домашнее задание 8"
   ]
  },
  {
   "cell_type": "markdown",
   "id": "dba1fdc4",
   "metadata": {},
   "source": [
    "Вам предстоит поработать с данными про отток клиентов банка и построить визуализации для них, отражающие те или иные закономерности."
   ]
  },
  {
   "cell_type": "markdown",
   "id": "59d4ed31",
   "metadata": {},
   "source": [
    "Описание признаков:\n",
    "\n",
    "* RowNumber - номер строки таблицы\n",
    "* CustomerId - идентификатор клиента\n",
    "* Surname - фамилия клиента\n",
    "* CreditScore - кредитный рейтинг клиента (чем он выше, тем больше клиент брал кредитов и возвращал их)\n",
    "* Geography - страна, из которой клиент (банк межнациональный)\n",
    "* Gender - пол клиента\n",
    "* Age - возраст клиента\n",
    "* Tenure - сколько лет клиент пользуется банком\n",
    "* Balance - сколько у клиента денег на счетах в банке\n",
    "* NumOfProduct - число услуг банка, которые приобрел клиент\n",
    "* HasCrCard - есть ли у клиента кредитная карта (1 - да, 0 - нет)\n",
    "* IsActiveMember - есть ли у клиента статус активного участника банка (1 - да, 0 - нет)\n",
    "* EstimatedSalary - предполагаемая заработная плата клиента\n",
    "* Exited - статус ушедшего (1 - ушедший клиент, 0 - лояльный клиент)\n"
   ]
  },
  {
   "cell_type": "code",
   "execution_count": 1,
   "id": "048402a8",
   "metadata": {},
   "outputs": [
    {
     "data": {
      "text/html": [
       "<div>\n",
       "<style scoped>\n",
       "    .dataframe tbody tr th:only-of-type {\n",
       "        vertical-align: middle;\n",
       "    }\n",
       "\n",
       "    .dataframe tbody tr th {\n",
       "        vertical-align: top;\n",
       "    }\n",
       "\n",
       "    .dataframe thead th {\n",
       "        text-align: right;\n",
       "    }\n",
       "</style>\n",
       "<table border=\"1\" class=\"dataframe\">\n",
       "  <thead>\n",
       "    <tr style=\"text-align: right;\">\n",
       "      <th></th>\n",
       "      <th>RowNumber</th>\n",
       "      <th>CustomerId</th>\n",
       "      <th>Surname</th>\n",
       "      <th>CreditScore</th>\n",
       "      <th>Geography</th>\n",
       "      <th>Gender</th>\n",
       "      <th>Age</th>\n",
       "      <th>Tenure</th>\n",
       "      <th>Balance</th>\n",
       "      <th>NumOfProducts</th>\n",
       "      <th>HasCrCard</th>\n",
       "      <th>IsActiveMember</th>\n",
       "      <th>EstimatedSalary</th>\n",
       "      <th>Exited</th>\n",
       "    </tr>\n",
       "  </thead>\n",
       "  <tbody>\n",
       "    <tr>\n",
       "      <th>0</th>\n",
       "      <td>1</td>\n",
       "      <td>15634602</td>\n",
       "      <td>Hargrave</td>\n",
       "      <td>619</td>\n",
       "      <td>France</td>\n",
       "      <td>Female</td>\n",
       "      <td>42</td>\n",
       "      <td>2</td>\n",
       "      <td>0.00</td>\n",
       "      <td>1</td>\n",
       "      <td>1</td>\n",
       "      <td>1</td>\n",
       "      <td>101348.88</td>\n",
       "      <td>1</td>\n",
       "    </tr>\n",
       "    <tr>\n",
       "      <th>1</th>\n",
       "      <td>2</td>\n",
       "      <td>15647311</td>\n",
       "      <td>Hill</td>\n",
       "      <td>608</td>\n",
       "      <td>Spain</td>\n",
       "      <td>Female</td>\n",
       "      <td>41</td>\n",
       "      <td>1</td>\n",
       "      <td>83807.86</td>\n",
       "      <td>1</td>\n",
       "      <td>0</td>\n",
       "      <td>1</td>\n",
       "      <td>112542.58</td>\n",
       "      <td>0</td>\n",
       "    </tr>\n",
       "    <tr>\n",
       "      <th>2</th>\n",
       "      <td>3</td>\n",
       "      <td>15619304</td>\n",
       "      <td>Onio</td>\n",
       "      <td>502</td>\n",
       "      <td>France</td>\n",
       "      <td>Female</td>\n",
       "      <td>42</td>\n",
       "      <td>8</td>\n",
       "      <td>159660.80</td>\n",
       "      <td>3</td>\n",
       "      <td>1</td>\n",
       "      <td>0</td>\n",
       "      <td>113931.57</td>\n",
       "      <td>1</td>\n",
       "    </tr>\n",
       "    <tr>\n",
       "      <th>3</th>\n",
       "      <td>4</td>\n",
       "      <td>15701354</td>\n",
       "      <td>Boni</td>\n",
       "      <td>699</td>\n",
       "      <td>France</td>\n",
       "      <td>Female</td>\n",
       "      <td>39</td>\n",
       "      <td>1</td>\n",
       "      <td>0.00</td>\n",
       "      <td>2</td>\n",
       "      <td>0</td>\n",
       "      <td>0</td>\n",
       "      <td>93826.63</td>\n",
       "      <td>0</td>\n",
       "    </tr>\n",
       "    <tr>\n",
       "      <th>4</th>\n",
       "      <td>5</td>\n",
       "      <td>15737888</td>\n",
       "      <td>Mitchell</td>\n",
       "      <td>850</td>\n",
       "      <td>Spain</td>\n",
       "      <td>Female</td>\n",
       "      <td>43</td>\n",
       "      <td>2</td>\n",
       "      <td>125510.82</td>\n",
       "      <td>1</td>\n",
       "      <td>1</td>\n",
       "      <td>1</td>\n",
       "      <td>79084.10</td>\n",
       "      <td>0</td>\n",
       "    </tr>\n",
       "  </tbody>\n",
       "</table>\n",
       "</div>"
      ],
      "text/plain": [
       "   RowNumber  CustomerId   Surname  CreditScore Geography  Gender  Age  \\\n",
       "0          1    15634602  Hargrave          619    France  Female   42   \n",
       "1          2    15647311      Hill          608     Spain  Female   41   \n",
       "2          3    15619304      Onio          502    France  Female   42   \n",
       "3          4    15701354      Boni          699    France  Female   39   \n",
       "4          5    15737888  Mitchell          850     Spain  Female   43   \n",
       "\n",
       "   Tenure    Balance  NumOfProducts  HasCrCard  IsActiveMember  \\\n",
       "0       2       0.00              1          1               1   \n",
       "1       1   83807.86              1          0               1   \n",
       "2       8  159660.80              3          1               0   \n",
       "3       1       0.00              2          0               0   \n",
       "4       2  125510.82              1          1               1   \n",
       "\n",
       "   EstimatedSalary  Exited  \n",
       "0        101348.88       1  \n",
       "1        112542.58       0  \n",
       "2        113931.57       1  \n",
       "3         93826.63       0  \n",
       "4         79084.10       0  "
      ]
     },
     "execution_count": 1,
     "metadata": {},
     "output_type": "execute_result"
    }
   ],
   "source": [
    "import pandas as pd\n",
    "churn_data = pd.read_csv('churn.csv')\n",
    "churn_data.head()"
   ]
  },
  {
   "cell_type": "markdown",
   "id": "e80cf11c",
   "metadata": {},
   "source": [
    "## Задание 1"
   ]
  },
  {
   "cell_type": "markdown",
   "id": "350ea163",
   "metadata": {},
   "source": [
    "Визуализируйте распределение баланса пользователей. Попробуйте использовать хотя бы два типа графиков для этого. Подпишите оси и добавьте название графика. По желанию добавьте дополнительное оформление (например, поменяйте цвета или размер шрифта). "
   ]
  },
  {
   "cell_type": "code",
   "execution_count": 2,
   "id": "c65a73cd",
   "metadata": {},
   "outputs": [
    {
     "data": {
      "image/png": "[encoded data removed]",
      "text/plain": [
       "<Figure size 640x480 with 1 Axes>"
      ]
     },
     "metadata": {},
     "output_type": "display_data"
    }
   ],
   "source": [
    "# ваше прекрасное решение\n",
    "import seaborn as sns\n",
    "import matplotlib.pyplot as plt\n",
    "\n",
    "sns.histplot(churn_data['Balance'].dropna(),kde=True);"
   ]
  },
  {
   "cell_type": "code",
   "execution_count": 3,
   "id": "1f31f3ce-91ca-4316-853c-d25f6fe3114a",
   "metadata": {},
   "outputs": [
    {
     "data": {
      "text/plain": [
       "<Axes: xlabel='Balance'>"
      ]
     },
     "execution_count": 3,
     "metadata": {},
     "output_type": "execute_result"
    },
    {
     "data": {
      "image/png": "[encoded data removed]",
      "text/plain": [
       "<Figure size 640x480 with 1 Axes>"
      ]
     },
     "metadata": {},
     "output_type": "display_data"
    }
   ],
   "source": [
    "sns.boxplot(churn_data['Balance'].dropna(),orient='y')"
   ]
  },
  {
   "cell_type": "markdown",
   "id": "210a6fe2",
   "metadata": {},
   "source": [
    "## Задание 2"
   ]
  },
  {
   "cell_type": "markdown",
   "id": "940a0096",
   "metadata": {},
   "source": [
    "Как влияет наличие статуса активного клиента на отток клиентов? Постройте диаграмму, иллюстрирующую это. По желанию добавьте дополнительное оформление (например, поменяйте цвета или размер шрифта)."
   ]
  },
  {
   "cell_type": "code",
   "execution_count": 8,
   "id": "b77dfede",
   "metadata": {},
   "outputs": [
    {
     "data": {
      "image/png": "[encoded data removed]",
      "text/plain": [
       "<Figure size 600x600 with 4 Axes>"
      ]
     },
     "metadata": {},
     "output_type": "display_data"
    }
   ],
   "source": [
    "# ваше прекрасное решение\n",
    "m_graph = sns.FacetGrid(churn_data, col = 'IsActiveMember', row = 'Exited');\n",
    "m_graph = m_graph.map(plt.hist, 'Exited')\n"
   ]
  },
  {
   "cell_type": "markdown",
   "id": "0c8792c4",
   "metadata": {},
   "source": [
    "## Задание 3"
   ]
  },
  {
   "cell_type": "markdown",
   "id": "bc6c755c",
   "metadata": {},
   "source": [
    "Постройте еще диаграмму (или несколько!) на ваш вкус."
   ]
  },
  {
   "cell_type": "code",
   "execution_count": null,
   "id": "1de4292e",
   "metadata": {},
   "outputs": [],
   "source": [
    "# ваше прекрасное решение"
   ]
  },
  {
   "cell_type": "markdown",
   "id": "6d9ec78b",
   "metadata": {},
   "source": [
    "## Задание 4\n",
    "\n",
    "Сделайте интерактивную визуализацию по предложенным данным (статистика авиаперевозок).\n",
    "Изобразите на ней перевозки в каждом году за каждый месяц, при этом используйте столбчатые диаграммы: один столбец — данные за один месяц в конкретном году. Одновременно на графике должны отображаться 12 столбцов для сравнения динамики за все годы в выбранный месяц. Выбор месяца организуйте, используя слайдер. \n",
    "\n",
    "Вы должны получить следующую визуализацию: \n",
    "1. слайдер имеет 12 позиций\n",
    "2. позиции по месяцам (действительно, у нас всего 12 месяцев в каждом году)\n",
    "3. для каждого месяца, в каждой позиции визуализировано 12 столбцов — измерения в указанном месяце по конкретным годам (там всего 12 лет)."
   ]
  },
  {
   "cell_type": "code",
   "execution_count": null,
   "id": "b23c45ed",
   "metadata": {},
   "outputs": [],
   "source": [
    "df = pd.read_csv('hw_rt.csv')"
   ]
  },
  {
   "cell_type": "markdown",
   "id": "821668f6",
   "metadata": {},
   "source": [
    "Пример:"
   ]
  },
  {
   "cell_type": "markdown",
   "id": "d215ac7d",
   "metadata": {},
   "source": [
    "<a href=\"https://ibb.co/tPtTVvQ\"><img src=\"https://i.ibb.co/Wpw4mMG/2023-03-23-170012.jpg\" alt=\"2023-03-23-170012\" border=\"0\"></a>"
   ]
  },
  {
   "cell_type": "code",
   "execution_count": null,
   "id": "5a8cfa4b",
   "metadata": {},
   "outputs": [],
   "source": [
    "# ваше прекрасное решение"
   ]
  }
 ],
 "metadata": {
  "kernelspec": {
   "display_name": "Python 3 (ipykernel)",
   "language": "python",
   "name": "python3"
  },
  "language_info": {
   "codemirror_mode": {
    "name": "ipython",
    "version": 3
   },
   "file_extension": ".py",
   "mimetype": "text/x-python",
   "name": "python",
   "nbconvert_exporter": "python",
   "pygments_lexer": "ipython3",
   "version": "3.12.7"
  }
 },
 "nbformat": 4,
 "nbformat_minor": 5
}
