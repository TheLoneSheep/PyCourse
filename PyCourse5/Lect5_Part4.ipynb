{
 "cells": [
  {
   "cell_type": "markdown",
   "metadata": {
    "id": "aeCztTKUEUMg"
   },
   "source": [
    "# Библиотеки и модули\n",
    "\n",
    "Мы умеем пользоваться некоторыми встроенными функциями Python и научились создавать собственные функции. Но это еще не все возможности. Поговорим про библиотеки и модули и научимся их использовать.\n",
    "\n",
    "Если несколько функций позволяют решать схожие задачи, то их объединяют в **модули**.  Например, модуль `math` объединяет в себе математические функции , модуль `string` предназначен для работы со строками, модуль `random` предлагает функции для генерации псевдослучайных чисел.  Причем в модуле могут быть собраны не только функции, но и, например, значения переменных.\n",
    "\n",
    "Эти модули и многие другие объединены в **Стандартную библиотеку Python**. Эта библиотека поставляется в составе Python, ее не нужно отдельно скачивать и устанавливать. Библиотека и входящие в нее модули описана в документации: https://docs.python.org/3/library/.\n",
    "\n",
    "\n",
    "При этом многие программисты и корпорации создают свои модули и готовы делиться ими с другими. В частности, вы можете найти библиотеки и модули для написания игр, для работы с Telegram и vk.com и многие другие. Возможность пользоваться чужими наработками существенно упрощает работу программиста. В отличие от модулей Стандартной библиотеки Python, другие модули нужно скачивать и устанавливать отдельно. А информацию о них искать в поисковиках — это тоже часть работы программиста.\n",
    "\n",
    "\n",
    "\n",
    "\n",
    "Сейчас мы научимся использовать модули Стандартной библиотеки Python. "
   ]
  },
  {
   "cell_type": "markdown",
   "metadata": {
    "id": "fKNEhWQKEUMk"
   },
   "source": [
    "## Пример использования модуля Стандартной библиотеки Python\n",
    "\n",
    "Допустим, мы хотим сделать квадратную лужайку и засадить ее искусственным газоном. Такой газон продается маленькими квадратами метр на метр. Какова будет длина стороны лужайки, если мы купили 16 таких маленьких квадратов? Вспоминаем школьную программу: длина стороны квадратной лужайки будет равна корню из 16. Корень из 16 равен 4, так как 4 * 4 = 16. Попробуем написать программу, которая сможет дать ответ на этот вопрос. Ведь если квадратов всего 16, мы легко посчитаем все в уме. А если 4489? Пусть за нас это сделает компьютер. \n",
    "Воспользуемся функцией `sqrt()` из модуля  `math`. Эта функция как раз вычисляет квадратный корень, попробуем ее вызвать."
   ]
  },
  {
   "cell_type": "code",
   "execution_count": 1,
   "metadata": {
    "id": "Y2qpyo4kEUMl",
    "outputId": "bceae8e7-ae5f-4a47-a501-ae88c1e91c00"
   },
   "outputs": [
    {
     "ename": "NameError",
     "evalue": "name 'sqrt' is not defined",
     "output_type": "error",
     "traceback": [
      "\u001b[1;31m---------------------------------------------------------------------------\u001b[0m",
      "\u001b[1;31mNameError\u001b[0m                                 Traceback (most recent call last)",
      "Cell \u001b[1;32mIn[1], line 1\u001b[0m\n\u001b[1;32m----> 1\u001b[0m sqrt(\u001b[38;5;241m16\u001b[39m)\n",
      "\u001b[1;31mNameError\u001b[0m: name 'sqrt' is not defined"
     ]
    }
   ],
   "source": [
    "sqrt(16) # Пытаемся вызвать функцию sqrt() из модуля math"
   ]
  },
  {
   "cell_type": "markdown",
   "metadata": {
    "id": "a3ap8pGHEUMn"
   },
   "source": [
    "Не получилось. Потому что в отличие от тех частых, нужных, популярных функций типа `print()`, которые мы уже использовали, функция `sqrt()` \"убрана\" в отдельный модуль — и этот модуль надо **импортировать**. "
   ]
  },
  {
   "cell_type": "code",
   "execution_count": 2,
   "metadata": {
    "id": "XieNCrq9EUMn"
   },
   "outputs": [],
   "source": [
    "import math # Импортируем модуль math"
   ]
  },
  {
   "cell_type": "code",
   "execution_count": 3,
   "metadata": {
    "id": "cwYsJhZJEUMo",
    "outputId": "6406f594-59e6-488a-a8d5-e52214ac65b6"
   },
   "outputs": [
    {
     "ename": "NameError",
     "evalue": "name 'sqrt' is not defined",
     "output_type": "error",
     "traceback": [
      "\u001b[1;31m---------------------------------------------------------------------------\u001b[0m",
      "\u001b[1;31mNameError\u001b[0m                                 Traceback (most recent call last)",
      "Cell \u001b[1;32mIn[3], line 1\u001b[0m\n\u001b[1;32m----> 1\u001b[0m sqrt(\u001b[38;5;241m16\u001b[39m)\n",
      "\u001b[1;31mNameError\u001b[0m: name 'sqrt' is not defined"
     ]
    }
   ],
   "source": [
    "sqrt(16) # Снова пытаемся вызвать функцию sqrt() из модуля math, предварительно его импортировав"
   ]
  },
  {
   "cell_type": "markdown",
   "metadata": {
    "id": "igtDQnoFEUMo"
   },
   "source": [
    "Снова не получилось. Дело в том, что мы никак не пояснили, что это _именно та_ функция `sqrt()`, которая лежит в модуле `math`, а не какая-то другая. Чтобы это указать, нужно написать через точку: `<модуль>.<функция()>`. Попробуем."
   ]
  },
  {
   "cell_type": "code",
   "execution_count": 4,
   "metadata": {
    "id": "85Yb61feEUMp",
    "outputId": "9c373c1c-94cc-4891-8ad1-aa734b2eccc6"
   },
   "outputs": [
    {
     "data": {
      "text/plain": [
       "4.0"
      ]
     },
     "execution_count": 4,
     "metadata": {},
     "output_type": "execute_result"
    }
   ],
   "source": [
    "math.sqrt(16) # снова пытаемся вызвать функцию sqrt(), указав, что это функция из модуля math"
   ]
  },
  {
   "cell_type": "markdown",
   "metadata": {
    "id": "myPNwIGrEUMp"
   },
   "source": [
    "Получилось! Мы могли бы сделать печать значения через `print`: `print(math.sqrt(16))` — попробуйте.\n",
    "\n",
    "Теперь посчитаем сторону квадратной лужайки для случая с 4489 квадратиками."
   ]
  },
  {
   "cell_type": "code",
   "execution_count": 5,
   "metadata": {
    "id": "rt7F_izwEUMp",
    "outputId": "28a6f8f5-0dd2-4b21-de0b-86577419f661"
   },
   "outputs": [],
   "source": [
    "x = math.sqrt(4489) # Или распечатаем: print(math.sqrt(4489))"
   ]
  },
  {
   "cell_type": "code",
   "execution_count": 6,
   "metadata": {},
   "outputs": [
    {
     "name": "stdout",
     "output_type": "stream",
     "text": [
      "67.0\n"
     ]
    }
   ],
   "source": [
    "print(x)"
   ]
  },
  {
   "cell_type": "markdown",
   "metadata": {
    "id": "2EPoCbhnEUMq"
   },
   "source": [
    "Длина стороны равна 67 метрам — большая будет лужайка!"
   ]
  },
  {
   "cell_type": "markdown",
   "metadata": {
    "id": "O_RfnljHEUMq"
   },
   "source": [
    "# Импорт отдельных компонент модуля\n",
    "\n",
    "Вам может показаться, что не слишком удобно писать каждый раз название модуля, точку, название функции. \n",
    "\n",
    "Чтобы этого избежать, можем явно указать, _что именно_ мы импортируем из модуля.\n",
    "\n",
    "Давайте сделаем это для двух функций из модуля `random`, позволяющих генерировать псевдослучайные числа. На псевдослучайных числах основаны \"непредсказуемые\" передвижения персонажей в компьютерных играх, а также с их помощью обеспечивается защита банковских операций по кредитным картам."
   ]
  },
  {
   "cell_type": "code",
   "execution_count": 7,
   "metadata": {
    "id": "jb8XgX_0EUMq"
   },
   "outputs": [],
   "source": [
    "from random import randint, uniform # Импортируем две функции из модуля random, здесь скобки не нужны"
   ]
  },
  {
   "cell_type": "markdown",
   "metadata": {
    "id": "ACVfRQPyEUMr"
   },
   "source": [
    "Чтобы узнать, что делают эти функции и какие аргументы им нужно подавать, можно посмотреть документацию или воспользоваться функцией `help()`:"
   ]
  },
  {
   "cell_type": "code",
   "execution_count": 8,
   "metadata": {
    "id": "47l6FMnLEUMr",
    "outputId": "4bb92cc1-2559-4b59-aaaa-268acdf66256"
   },
   "outputs": [
    {
     "name": "stdout",
     "output_type": "stream",
     "text": [
      "Help on method randint in module random:\n",
      "\n",
      "randint(a, b) method of random.Random instance\n",
      "    Return random integer in range [a, b], including both end points.\n",
      "\n"
     ]
    }
   ],
   "source": [
    "help(randint)"
   ]
  },
  {
   "cell_type": "code",
   "execution_count": 9,
   "metadata": {},
   "outputs": [
    {
     "name": "stdout",
     "output_type": "stream",
     "text": [
      "Help on method uniform in module random:\n",
      "\n",
      "uniform(a, b) method of random.Random instance\n",
      "    Get a random number in the range [a, b) or [a, b] depending on rounding.\n",
      "\n"
     ]
    }
   ],
   "source": [
    "help(uniform)"
   ]
  },
  {
   "cell_type": "markdown",
   "metadata": {
    "id": "A2Qw5LsdEUMr"
   },
   "source": [
    "Мы видим всю информацию о функции `randint()`: она содержится в модуле `random`, возвращает целое псевдослучайное число в заданном диапазоне, принимая на вход границы диапазона.\n",
    "\n",
    "Аналогичным образом можно узнать, что функция `uniform()` принимает границы диапазона и возвращает дробное псевдослучайное число.\n",
    "\n",
    "Посмотрим, как сработают эти функции в диапазоне от 100 до 200:"
   ]
  },
  {
   "cell_type": "code",
   "execution_count": 10,
   "metadata": {
    "id": "kjuUZ5w8EUMr",
    "outputId": "fa04c1f2-c2e8-4599-d825-902fc7b97779"
   },
   "outputs": [
    {
     "name": "stdout",
     "output_type": "stream",
     "text": [
      "[148, 178, 155, 159, 182]\n",
      "[126.42701217026277, 189.8375593862187, 144.0203943747805, 173.36505376523792, 175.51439684814216]\n"
     ]
    }
   ],
   "source": [
    "# Вызываем функции по 5 раз\n",
    "print([randint(100, 200) for _ in range(5)])\n",
    "print([uniform(100, 200) for _ in range(5)])"
   ]
  },
  {
   "cell_type": "markdown",
   "metadata": {},
   "source": [
    "Посмотреть на документацию можно не только у функций, но и у методов:"
   ]
  },
  {
   "cell_type": "code",
   "execution_count": 11,
   "metadata": {},
   "outputs": [
    {
     "name": "stdout",
     "output_type": "stream",
     "text": [
      "Help on method_descriptor:\n",
      "\n",
      "upper(self, /)\n",
      "    Return a copy of the string converted to uppercase.\n",
      "\n"
     ]
    }
   ],
   "source": [
    "help(str.upper)"
   ]
  },
  {
   "cell_type": "markdown",
   "metadata": {
    "id": "nF7F8X2IEUMv"
   },
   "source": [
    "# Импорт под псевдонимом\n",
    "\n",
    "Можно воспользоваться следующим упрощением: дать модулю псевдоним. Посмотрим на примере модуля `string`, предназначенного для работы со строками. Допустим, мы решили, что целиком слово `string` писать слишком долго, и хотим писать просто `s`. Посмотрим, как это можно сделать."
   ]
  },
  {
   "cell_type": "code",
   "execution_count": 12,
   "metadata": {
    "id": "OBUja_geEUMv",
    "outputId": "05933234-9378-4a6b-c8c1-b40873556ac9"
   },
   "outputs": [
    {
     "name": "stdout",
     "output_type": "stream",
     "text": [
      "!\"#$%&'()*+,-./:;<=>?@[\\]^_`{|}~\n"
     ]
    }
   ],
   "source": [
    "import string as s    # Даем псевдоним модулю string\n",
    "print(s.punctuation)  # Печатаем строку со знаками препинания, хранящуюся в модуле "
   ]
  },
  {
   "cell_type": "code",
   "execution_count": 13,
   "metadata": {},
   "outputs": [
    {
     "data": {
      "text/plain": [
       "'ABCDEFGHIJKLMNOPQRSTUVWXYZ'"
      ]
     },
     "execution_count": 13,
     "metadata": {},
     "output_type": "execute_result"
    }
   ],
   "source": [
    "s.ascii_uppercase"
   ]
  },
  {
   "cell_type": "markdown",
   "metadata": {
    "id": "IzB9YC1dEUMw"
   },
   "source": [
    "Теперь мы вместо `string.punctuation` будем писать `s.punctuation`, а `string.punctuation` не сработает."
   ]
  },
  {
   "cell_type": "code",
   "execution_count": 14,
   "metadata": {
    "id": "ZypEiwekEUMw",
    "outputId": "35482cb6-d4e4-4ac9-e57a-ace034713d1e"
   },
   "outputs": [
    {
     "ename": "NameError",
     "evalue": "name 'string' is not defined",
     "output_type": "error",
     "traceback": [
      "\u001b[1;31m---------------------------------------------------------------------------\u001b[0m",
      "\u001b[1;31mNameError\u001b[0m                                 Traceback (most recent call last)",
      "Cell \u001b[1;32mIn[14], line 1\u001b[0m\n\u001b[1;32m----> 1\u001b[0m \u001b[38;5;28mprint\u001b[39m(string\u001b[38;5;241m.\u001b[39mpunctuation)\n",
      "\u001b[1;31mNameError\u001b[0m: name 'string' is not defined"
     ]
    }
   ],
   "source": [
    "print(string.punctuation)"
   ]
  },
  {
   "cell_type": "markdown",
   "metadata": {},
   "source": [
    "# Пример модуля: pprint\n",
    "\n",
    "Позволяет отображать объекты Python различными способами. Документация: https://docs.python.org/3/library/pprint.html"
   ]
  },
  {
   "cell_type": "code",
   "execution_count": 16,
   "metadata": {},
   "outputs": [
    {
     "name": "stdout",
     "output_type": "stream",
     "text": [
      "[['Греция', 'Афины', 131940, 10793526], ['Грузия', 'Тбилиси', 69700, 3720400], ['Дания', 'Копенгаген', 43094, 5707251]]\n",
      "\n",
      "-----------------------------\n",
      "\n",
      "[['Греция', 'Афины', 131940, 10793526],\n",
      " ['Грузия', 'Тбилиси', 69700, 3720400],\n",
      " ['Дания', 'Копенгаген', 43094, 5707251]]\n"
     ]
    }
   ],
   "source": [
    "from pprint import pprint,pformat\n",
    "\n",
    "s = [['Греция', 'Афины', 131_940, 10_793_526],['Грузия', 'Тбилиси', 69_700, 3_720_400],['Дания', 'Копенгаген', 43_094, 5_707_251]]\n",
    "\n",
    "print(s)\n",
    "print(\"\\n-----------------------------\\n\")\n",
    "pprint(s)"
   ]
  },
  {
   "cell_type": "code",
   "execution_count": 17,
   "metadata": {},
   "outputs": [
    {
     "name": "stdout",
     "output_type": "stream",
     "text": [
      "{'Азия': [...], 'Европа': [...]}\n",
      "\n",
      "-----------------------------\n",
      "\n",
      "{'Азия': [[...]], 'Европа': [[...], [...]]}\n",
      "\n",
      "-----------------------------\n",
      "\n",
      "{'Азия': [['Грузия', 'Тбилиси', 69700, 3720400]],\n",
      " 'Европа': [['Греция', 'Афины', 131940, 10793526],\n",
      "            ['Дания', 'Копенгаген', 43094, 5707251]]}\n",
      "\n",
      "-----------------------------\n",
      "\n",
      "{'Европа': [[...], [...]], 'Азия': [[...]]}\n"
     ]
    }
   ],
   "source": [
    "m = {'Европа': [['Греция', 'Афины', 131_940, 10_793_526], ['Дания', 'Копенгаген', 43_094, 5_707_251]], 'Азия': [['Грузия', 'Тбилиси', 69_700, 3_720_400]]}\n",
    "\n",
    "pprint(m, depth=1) # показать 1 уровень вложенности\n",
    "print(\"\\n-----------------------------\\n\")\n",
    "pprint(m, depth=2) # показать 2 уровня вложенности\n",
    "print(\"\\n-----------------------------\\n\")\n",
    "pprint(m, depth=3) # показать 3 уровня вложенности\n",
    "print(\"\\n-----------------------------\\n\")\n",
    "\n",
    "# pprint сортирует словари при выводе, что не всегда удобно. Но сортировку можно отключить.\n",
    "pprint(m, depth=2, sort_dicts=False)"
   ]
  },
  {
   "cell_type": "code",
   "execution_count": 19,
   "metadata": {},
   "outputs": [
    {
     "name": "stdout",
     "output_type": "stream",
     "text": [
      "['generate_csv\\\\train_00.csv', 'generate_csv\\\\train_01.csv', 'generate_csv\\\\train_02.csv', 'generate_csv\\\\train_03.csv', 'generate_csv\\\\train_04.csv', 'generate_csv\\\\train_05.csv', 'generate_csv\\\\train_06.csv', 'generate_csv\\\\train_07.csv', 'generate_csv\\\\train_08.csv', 'generate_csv\\\\train_09.csv', 'generate_csv\\\\train_10.csv', 'generate_csv\\\\train_11.csv']\n",
      "\n",
      "-------- Граница --------------\n",
      "\n"
     ]
    },
    {
     "data": {
      "text/plain": [
       "\"['generate_csv\\\\\\\\train_00.csv',\\n 'generate_csv\\\\\\\\train_01.csv',\\n 'generate_csv\\\\\\\\train_02.csv',\\n 'generate_csv\\\\\\\\train_03.csv',\\n 'generate_csv\\\\\\\\train_04.csv',\\n 'generate_csv\\\\\\\\train_05.csv',\\n 'generate_csv\\\\\\\\train_06.csv',\\n 'generate_csv\\\\\\\\train_07.csv',\\n 'generate_csv\\\\\\\\train_08.csv',\\n 'generate_csv\\\\\\\\train_09.csv',\\n 'generate_csv\\\\\\\\train_10.csv',\\n 'generate_csv\\\\\\\\train_11.csv']\""
      ]
     },
     "execution_count": 19,
     "metadata": {},
     "output_type": "execute_result"
    }
   ],
   "source": [
    "data=['generate_csv\\\\train_00.csv', 'generate_csv\\\\train_01.csv', \n",
    "      'generate_csv\\\\train_02.csv', 'generate_csv\\\\train_03.csv',\n",
    "      'generate_csv\\\\train_04.csv', 'generate_csv\\\\train_05.csv', \n",
    "      'generate_csv\\\\train_06.csv', 'generate_csv\\\\train_07.csv', \n",
    "      'generate_csv\\\\train_08.csv', 'generate_csv\\\\train_09.csv',\n",
    "      'generate_csv\\\\train_10.csv', 'generate_csv\\\\train_11.csv']\n",
    "print(data)\n",
    "print(\"\\n-------- Граница --------------\\n\")\n",
    "pformat(data)"
   ]
  },
  {
   "cell_type": "markdown",
   "metadata": {},
   "source": [
    "# Создание собственных модулей"
   ]
  },
  {
   "cell_type": "markdown",
   "metadata": {},
   "source": [
    "Давайте создадим простой модуль с несколькими функциями. Создадим файл 'hello.py' в той же папке, где мы работаем.\n",
    "\n",
    "Внутри файла сохраним следующий код:\n",
    "\n",
    "    def greet(name):\n",
    "        return f\"Привет, {name}!\"\n",
    "\n",
    "    def square(x):\n",
    "        return x ** 2\n",
    "\n",
    "Теперь мы можем импортировать его и использовать в других программах. "
   ]
  },
  {
   "cell_type": "code",
   "execution_count": 2,
   "metadata": {},
   "outputs": [
    {
     "name": "stdout",
     "output_type": "stream",
     "text": [
      "Привет, Маргарита!\n",
      "4\n"
     ]
    }
   ],
   "source": [
    "import hello\n",
    "\n",
    "print(hello.greet(\"Маргарита\"))\n",
    "print(hello.square(2))"
   ]
  },
  {
   "cell_type": "markdown",
   "metadata": {},
   "source": [
    "Можно импортировать только отдельные функции."
   ]
  },
  {
   "cell_type": "code",
   "execution_count": 3,
   "metadata": {},
   "outputs": [
    {
     "name": "stdout",
     "output_type": "stream",
     "text": [
      "Привет, Иван!\n"
     ]
    }
   ],
   "source": [
    "from hello import greet\n",
    "\n",
    "print(greet(\"Иван\"))"
   ]
  },
  {
   "cell_type": "code",
   "execution_count": 4,
   "metadata": {},
   "outputs": [
    {
     "data": {
      "text/plain": [
       "['__builtins__',\n",
       " '__cached__',\n",
       " '__doc__',\n",
       " '__file__',\n",
       " '__loader__',\n",
       " '__name__',\n",
       " '__package__',\n",
       " '__spec__',\n",
       " 'greet',\n",
       " 'square']"
      ]
     },
     "execution_count": 4,
     "metadata": {},
     "output_type": "execute_result"
    }
   ],
   "source": [
    "dir(hello) # так найдем все функции, методы, константы и атрибуты"
   ]
  },
  {
   "cell_type": "markdown",
   "metadata": {},
   "source": [
    "Почитать подробнее про атрибуты при импортировании модулей можно здесь: https://docs.python.org/3/library/importlib.html\n",
    "\n",
    "<hr>"
   ]
  },
  {
   "cell_type": "markdown",
   "metadata": {},
   "source": [
    "Поскольку модули -- это всего лишь файлы .py, то вы можете найти их у себя на компьютере в папке. А если вы закинете туда свой файл с модулем, то можно будет писать просто import <название модуля> без добавления файла в текущую рабочую папку.\n",
    "\n",
    "Обычно модули лежат по адресу: C:\\\\Users\\\\<имя пользователя>\\\\AppData\\\\Local\\\\anaconda3\\\\Lib\\\\site-packages\n",
    "\n",
    "*AppData -- это скрытая папка. Чтобы ее открыть, нужно нажать в проводнике раздел \"Вид\" и поставить галку \"Скрытые элементы\".*"
   ]
  },
  {
   "cell_type": "code",
   "execution_count": 5,
   "metadata": {},
   "outputs": [
    {
     "data": {
      "text/plain": [
       "'C:\\\\Users\\\\mbbur\\\\anaconda3\\\\Lib\\\\string.py'"
      ]
     },
     "execution_count": 5,
     "metadata": {},
     "output_type": "execute_result"
    }
   ],
   "source": [
    "import string\n",
    "string.__file__ # так можно найти, где лежит конкретный модуль"
   ]
  },
  {
   "cell_type": "code",
   "execution_count": 6,
   "metadata": {},
   "outputs": [
    {
     "data": {
      "text/plain": [
       "{'__name__': 'string',\n",
       " '__doc__': 'A collection of string constants.\\n\\nPublic module variables:\\n\\nwhitespace -- a string containing all ASCII whitespace\\nascii_lowercase -- a string containing all ASCII lowercase letters\\nascii_uppercase -- a string containing all ASCII uppercase letters\\nascii_letters -- a string containing all ASCII letters\\ndigits -- a string containing all ASCII decimal digits\\nhexdigits -- a string containing all ASCII hexadecimal digits\\noctdigits -- a string containing all ASCII octal digits\\npunctuation -- a string containing all ASCII punctuation characters\\nprintable -- a string containing all ASCII characters considered printable\\n\\n',\n",
       " '__package__': '',\n",
       " '__loader__': <_frozen_importlib_external.SourceFileLoader at 0x23eabbabb10>,\n",
       " '__spec__': ModuleSpec(name='string', loader=<_frozen_importlib_external.SourceFileLoader object at 0x0000023EABBABB10>, origin='C:\\\\Users\\\\mbbur\\\\anaconda3\\\\Lib\\\\string.py'),\n",
       " '__file__': 'C:\\\\Users\\\\mbbur\\\\anaconda3\\\\Lib\\\\string.py',\n",
       " '__cached__': 'C:\\\\Users\\\\mbbur\\\\anaconda3\\\\Lib\\\\__pycache__\\\\string.cpython-311.pyc',\n",
       " '__builtins__': {'__name__': 'builtins',\n",
       "  '__doc__': \"Built-in functions, types, exceptions, and other objects.\\n\\nThis module provides direct access to all 'built-in'\\nidentifiers of Python; for example, builtins.len is\\nthe full name for the built-in function len().\\n\\nThis module is not normally accessed explicitly by most\\napplications, but can be useful in modules that provide\\nobjects with the same name as a built-in value, but in\\nwhich the built-in of that name is also needed.\",\n",
       "  '__package__': '',\n",
       "  '__loader__': _frozen_importlib.BuiltinImporter,\n",
       "  '__spec__': ModuleSpec(name='builtins', loader=<class '_frozen_importlib.BuiltinImporter'>, origin='built-in'),\n",
       "  '__build_class__': <function __build_class__>,\n",
       "  '__import__': <function __import__(name, globals=None, locals=None, fromlist=(), level=0)>,\n",
       "  'abs': <function abs(x, /)>,\n",
       "  'all': <function all(iterable, /)>,\n",
       "  'any': <function any(iterable, /)>,\n",
       "  'ascii': <function ascii(obj, /)>,\n",
       "  'bin': <function bin(number, /)>,\n",
       "  'breakpoint': <function breakpoint>,\n",
       "  'callable': <function callable(obj, /)>,\n",
       "  'chr': <function chr(i, /)>,\n",
       "  'compile': <function compile(source, filename, mode, flags=0, dont_inherit=False, optimize=-1, *, _feature_version=-1)>,\n",
       "  'delattr': <function delattr(obj, name, /)>,\n",
       "  'dir': <function dir>,\n",
       "  'divmod': <function divmod(x, y, /)>,\n",
       "  'eval': <function eval(source, globals=None, locals=None, /)>,\n",
       "  'exec': <function exec(source, globals=None, locals=None, /, *, closure=None)>,\n",
       "  'format': <function format(value, format_spec='', /)>,\n",
       "  'getattr': <function getattr>,\n",
       "  'globals': <function globals()>,\n",
       "  'hasattr': <function hasattr(obj, name, /)>,\n",
       "  'hash': <function hash(obj, /)>,\n",
       "  'hex': <function hex(number, /)>,\n",
       "  'id': <function id(obj, /)>,\n",
       "  'input': <bound method Kernel.raw_input of <ipykernel.ipkernel.IPythonKernel object at 0x0000023EB0C06650>>,\n",
       "  'isinstance': <function isinstance(obj, class_or_tuple, /)>,\n",
       "  'issubclass': <function issubclass(cls, class_or_tuple, /)>,\n",
       "  'iter': <function iter>,\n",
       "  'aiter': <function aiter(async_iterable, /)>,\n",
       "  'len': <function len(obj, /)>,\n",
       "  'locals': <function locals()>,\n",
       "  'max': <function max>,\n",
       "  'min': <function min>,\n",
       "  'next': <function next>,\n",
       "  'anext': <function anext>,\n",
       "  'oct': <function oct(number, /)>,\n",
       "  'ord': <function ord(c, /)>,\n",
       "  'pow': <function pow(base, exp, mod=None)>,\n",
       "  'print': <function print(*args, sep=' ', end='\\n', file=None, flush=False)>,\n",
       "  'repr': <function repr(obj, /)>,\n",
       "  'round': <function round(number, ndigits=None)>,\n",
       "  'setattr': <function setattr(obj, name, value, /)>,\n",
       "  'sorted': <function sorted(iterable, /, *, key=None, reverse=False)>,\n",
       "  'sum': <function sum(iterable, /, start=0)>,\n",
       "  'vars': <function vars>,\n",
       "  'None': None,\n",
       "  'Ellipsis': Ellipsis,\n",
       "  'NotImplemented': NotImplemented,\n",
       "  'False': False,\n",
       "  'True': True,\n",
       "  'bool': bool,\n",
       "  'memoryview': memoryview,\n",
       "  'bytearray': bytearray,\n",
       "  'bytes': bytes,\n",
       "  'classmethod': classmethod,\n",
       "  'complex': complex,\n",
       "  'dict': dict,\n",
       "  'enumerate': enumerate,\n",
       "  'filter': filter,\n",
       "  'float': float,\n",
       "  'frozenset': frozenset,\n",
       "  'property': property,\n",
       "  'int': int,\n",
       "  'list': list,\n",
       "  'map': map,\n",
       "  'object': object,\n",
       "  'range': range,\n",
       "  'reversed': reversed,\n",
       "  'set': set,\n",
       "  'slice': slice,\n",
       "  'staticmethod': staticmethod,\n",
       "  'str': str,\n",
       "  'super': super,\n",
       "  'tuple': tuple,\n",
       "  'type': type,\n",
       "  'zip': zip,\n",
       "  '__debug__': True,\n",
       "  'BaseException': BaseException,\n",
       "  'BaseExceptionGroup': BaseExceptionGroup,\n",
       "  'Exception': Exception,\n",
       "  'GeneratorExit': GeneratorExit,\n",
       "  'KeyboardInterrupt': KeyboardInterrupt,\n",
       "  'SystemExit': SystemExit,\n",
       "  'ArithmeticError': ArithmeticError,\n",
       "  'AssertionError': AssertionError,\n",
       "  'AttributeError': AttributeError,\n",
       "  'BufferError': BufferError,\n",
       "  'EOFError': EOFError,\n",
       "  'ImportError': ImportError,\n",
       "  'LookupError': LookupError,\n",
       "  'MemoryError': MemoryError,\n",
       "  'NameError': NameError,\n",
       "  'OSError': OSError,\n",
       "  'ReferenceError': ReferenceError,\n",
       "  'RuntimeError': RuntimeError,\n",
       "  'StopAsyncIteration': StopAsyncIteration,\n",
       "  'StopIteration': StopIteration,\n",
       "  'SyntaxError': SyntaxError,\n",
       "  'SystemError': SystemError,\n",
       "  'TypeError': TypeError,\n",
       "  'ValueError': ValueError,\n",
       "  'Warning': Warning,\n",
       "  'FloatingPointError': FloatingPointError,\n",
       "  'OverflowError': OverflowError,\n",
       "  'ZeroDivisionError': ZeroDivisionError,\n",
       "  'BytesWarning': BytesWarning,\n",
       "  'DeprecationWarning': DeprecationWarning,\n",
       "  'EncodingWarning': EncodingWarning,\n",
       "  'FutureWarning': FutureWarning,\n",
       "  'ImportWarning': ImportWarning,\n",
       "  'PendingDeprecationWarning': PendingDeprecationWarning,\n",
       "  'ResourceWarning': ResourceWarning,\n",
       "  'RuntimeWarning': RuntimeWarning,\n",
       "  'SyntaxWarning': SyntaxWarning,\n",
       "  'UnicodeWarning': UnicodeWarning,\n",
       "  'UserWarning': UserWarning,\n",
       "  'BlockingIOError': BlockingIOError,\n",
       "  'ChildProcessError': ChildProcessError,\n",
       "  'ConnectionError': ConnectionError,\n",
       "  'FileExistsError': FileExistsError,\n",
       "  'FileNotFoundError': FileNotFoundError,\n",
       "  'InterruptedError': InterruptedError,\n",
       "  'IsADirectoryError': IsADirectoryError,\n",
       "  'NotADirectoryError': NotADirectoryError,\n",
       "  'PermissionError': PermissionError,\n",
       "  'ProcessLookupError': ProcessLookupError,\n",
       "  'TimeoutError': TimeoutError,\n",
       "  'IndentationError': IndentationError,\n",
       "  'IndexError': IndexError,\n",
       "  'KeyError': KeyError,\n",
       "  'ModuleNotFoundError': ModuleNotFoundError,\n",
       "  'NotImplementedError': NotImplementedError,\n",
       "  'RecursionError': RecursionError,\n",
       "  'UnboundLocalError': UnboundLocalError,\n",
       "  'UnicodeError': UnicodeError,\n",
       "  'BrokenPipeError': BrokenPipeError,\n",
       "  'ConnectionAbortedError': ConnectionAbortedError,\n",
       "  'ConnectionRefusedError': ConnectionRefusedError,\n",
       "  'ConnectionResetError': ConnectionResetError,\n",
       "  'TabError': TabError,\n",
       "  'UnicodeDecodeError': UnicodeDecodeError,\n",
       "  'UnicodeEncodeError': UnicodeEncodeError,\n",
       "  'UnicodeTranslateError': UnicodeTranslateError,\n",
       "  'ExceptionGroup': ExceptionGroup,\n",
       "  'EnvironmentError': OSError,\n",
       "  'IOError': OSError,\n",
       "  'WindowsError': OSError,\n",
       "  'open': <function io.open(file, mode='r', buffering=-1, encoding=None, errors=None, newline=None, closefd=True, opener=None)>,\n",
       "  'copyright': Copyright (c) 2001-2023 Python Software Foundation.\n",
       "  All Rights Reserved.\n",
       "  \n",
       "  Copyright (c) 2000 BeOpen.com.\n",
       "  All Rights Reserved.\n",
       "  \n",
       "  Copyright (c) 1995-2001 Corporation for National Research Initiatives.\n",
       "  All Rights Reserved.\n",
       "  \n",
       "  Copyright (c) 1991-1995 Stichting Mathematisch Centrum, Amsterdam.\n",
       "  All Rights Reserved.,\n",
       "  'credits':     Thanks to CWI, CNRI, BeOpen.com, Zope Corporation and a cast of thousands\n",
       "      for supporting Python development.  See www.python.org for more information.,\n",
       "  'license': See https://www.python.org/psf/license/,\n",
       "  'help': Type help() for interactive help, or help(object) for help about object.,\n",
       "  'execfile': <function _pydev_bundle._pydev_execfile.execfile(file, glob=None, loc=None)>,\n",
       "  'runfile': <function _pydev_bundle.pydev_umd.runfile(filename, args=None, wdir=None, namespace=None)>,\n",
       "  '__IPYTHON__': True,\n",
       "  'display': <function IPython.core.display_functions.display(*objs, include=None, exclude=None, metadata=None, transient=None, display_id=None, raw=False, clear=False, **kwargs)>,\n",
       "  'get_ipython': <bound method InteractiveShell.get_ipython of <ipykernel.zmqshell.ZMQInteractiveShell object at 0x0000023EB0C08190>>},\n",
       " '__all__': ['ascii_letters',\n",
       "  'ascii_lowercase',\n",
       "  'ascii_uppercase',\n",
       "  'capwords',\n",
       "  'digits',\n",
       "  'hexdigits',\n",
       "  'octdigits',\n",
       "  'printable',\n",
       "  'punctuation',\n",
       "  'whitespace',\n",
       "  'Formatter',\n",
       "  'Template'],\n",
       " '_string': <module '_string' (built-in)>,\n",
       " 'whitespace': ' \\t\\n\\r\\x0b\\x0c',\n",
       " 'ascii_lowercase': 'abcdefghijklmnopqrstuvwxyz',\n",
       " 'ascii_uppercase': 'ABCDEFGHIJKLMNOPQRSTUVWXYZ',\n",
       " 'ascii_letters': 'abcdefghijklmnopqrstuvwxyzABCDEFGHIJKLMNOPQRSTUVWXYZ',\n",
       " 'digits': '0123456789',\n",
       " 'hexdigits': '0123456789abcdefABCDEF',\n",
       " 'octdigits': '01234567',\n",
       " 'punctuation': '!\"#$%&\\'()*+,-./:;<=>?@[\\\\]^_`{|}~',\n",
       " 'printable': '0123456789abcdefghijklmnopqrstuvwxyzABCDEFGHIJKLMNOPQRSTUVWXYZ!\"#$%&\\'()*+,-./:;<=>?@[\\\\]^_`{|}~ \\t\\n\\r\\x0b\\x0c',\n",
       " 'capwords': <function string.capwords(s, sep=None)>,\n",
       " '_re': <module 're' from 'C:\\\\Users\\\\mbbur\\\\anaconda3\\\\Lib\\\\re\\\\__init__.py'>,\n",
       " '_ChainMap': collections.ChainMap,\n",
       " '_sentinel_dict': {},\n",
       " 'Template': string.Template,\n",
       " 'Formatter': string.Formatter}"
      ]
     },
     "execution_count": 6,
     "metadata": {},
     "output_type": "execute_result"
    }
   ],
   "source": [
    "string.__dict__ # так создастся словарь с описанием каждого элемента модуля"
   ]
  },
  {
   "cell_type": "markdown",
   "metadata": {},
   "source": [
    "Почитать подробнее про модули и пакеты в Python: https://habr.com/ru/articles/718828/"
   ]
  }
 ],
 "metadata": {
  "colab": {
   "provenance": []
  },
  "kernelspec": {
   "display_name": "Python 3 (ipykernel)",
   "language": "python",
   "name": "python3"
  },
  "language_info": {
   "codemirror_mode": {
    "name": "ipython",
    "version": 3
   },
   "file_extension": ".py",
   "mimetype": "text/x-python",
   "name": "python",
   "nbconvert_exporter": "python",
   "pygments_lexer": "ipython3",
   "version": "3.11.5"
  }
 },
 "nbformat": 4,
 "nbformat_minor": 4
}
