{
 "cells": [
  {
   "cell_type": "markdown",
   "id": "58a502e0",
   "metadata": {},
   "source": [
    "**Центр непрерывного образования НИУ ВШЭ**\n",
    "\n",
    "## Программа «Python для автоматизации и анализа данных»\n",
    "\n",
    "###  Строки. Ввод и форматирование.\n",
    "\n",
    "\n",
    "*Автор: Татьяна Рогович, НИУ ВШЭ*\n",
    "\n",
    "*Дополнения: Бурова Маргарита, НИУ ВШЭ*"
   ]
  },
  {
   "cell_type": "markdown",
   "id": "aa932269",
   "metadata": {},
   "source": [
    "**ТЕКСТ (СТРОКИ) (STR, STRING):** любой текст внутри одинарных или двойных кавычек. \n",
    "Важно: целое число в кавычках - это тоже строка, не целое число."
   ]
  },
  {
   "cell_type": "code",
   "execution_count": 54,
   "id": "2ce7aafc",
   "metadata": {},
   "outputs": [
    {
     "name": "stdout",
     "output_type": "stream",
     "text": [
      "<class 'str'>\n",
      "<class 'str'>\n",
      "<class 'str'>\n"
     ]
    }
   ],
   "source": [
    "x = 'text'\n",
    "print(type(x))\n",
    "print(type('Hello, world!'))\n",
    "print(type('2'))"
   ]
  },
  {
   "cell_type": "markdown",
   "id": "9be3f32d",
   "metadata": {},
   "source": [
    "Если попробовать сложить число-строку и число-число, то получим ошибку."
   ]
  },
  {
   "cell_type": "code",
   "execution_count": 55,
   "id": "49593010",
   "metadata": {},
   "outputs": [
    {
     "ename": "TypeError",
     "evalue": "can only concatenate str (not \"int\") to str",
     "output_type": "error",
     "traceback": [
      "\u001b[1;31m---------------------------------------------------------------------------\u001b[0m",
      "\u001b[1;31mTypeError\u001b[0m                                 Traceback (most recent call last)",
      "Cell \u001b[1;32mIn[55], line 1\u001b[0m\n\u001b[1;32m----> 1\u001b[0m \u001b[38;5;28mprint\u001b[39m(\u001b[38;5;124m'\u001b[39m\u001b[38;5;124m2\u001b[39m\u001b[38;5;124m'\u001b[39m \u001b[38;5;241m+\u001b[39m \u001b[38;5;241m3\u001b[39m)\n",
      "\u001b[1;31mTypeError\u001b[0m: can only concatenate str (not \"int\") to str"
     ]
    }
   ],
   "source": [
    "print('2' + 3)"
   ]
  },
  {
   "cell_type": "markdown",
   "id": "d1b87e17",
   "metadata": {},
   "source": [
    "Еще раз обратим внимание на текст ошибки. \n",
    "\n",
    "*TypeError: must be str, not int* - TypeError означает, что данная команда не может быть исполнена из-за типа какой-то из переменных. В данном случаем видим, что что-то должно быть `str`, когда оно типа `int`. Давайте попробуем сделать `3` тоже строкой. Кстати, не важно, какие вы используете кавычки (только если это не текст с кавычками внутри), главное, чтобы открывающая и закрывающая кавычки были одинаковые."
   ]
  },
  {
   "cell_type": "code",
   "execution_count": 56,
   "id": "3ba245ee",
   "metadata": {},
   "outputs": [
    {
     "name": "stdout",
     "output_type": "stream",
     "text": [
      "23\n"
     ]
    }
   ],
   "source": [
    "print('2' + \"3\")"
   ]
  },
  {
   "cell_type": "markdown",
   "id": "eac340fd",
   "metadata": {},
   "source": [
    "Такая операция называется контакенацией (слиянием) строк. "
   ]
  },
  {
   "cell_type": "markdown",
   "id": "08f31832",
   "metadata": {},
   "source": [
    "Можно и умножить строку на число. Такая операция повторит нам строку заданное количество раз."
   ]
  },
  {
   "cell_type": "code",
   "execution_count": 1,
   "id": "eeaea038",
   "metadata": {},
   "outputs": [
    {
     "name": "stdout",
     "output_type": "stream",
     "text": [
      "222\n"
     ]
    }
   ],
   "source": [
    "print('2' * 3)"
   ]
  },
  {
   "cell_type": "markdown",
   "id": "76c18fbd",
   "metadata": {},
   "source": [
    "Операции со строками тоже работают, если строки лежат внутри переменных."
   ]
  },
  {
   "cell_type": "code",
   "execution_count": 1,
   "id": "66f8b4ca",
   "metadata": {},
   "outputs": [
    {
     "name": "stdout",
     "output_type": "stream",
     "text": [
      "Классный четверг\n",
      "Классный четверг\n"
     ]
    }
   ],
   "source": [
    "word1 = 'Классный'\n",
    "word2 = ' четверг'\n",
    "print(word1 + word2)\n",
    "word3 = word1 + word2 # можем результат контакенации положить в новую переменную\n",
    "print(word3)"
   ]
  },
  {
   "cell_type": "markdown",
   "id": "0a390fa7",
   "metadata": {},
   "source": [
    "Строки можно преобразовывать в числа с помощью функции `int()`. "
   ]
  },
  {
   "cell_type": "code",
   "execution_count": 5,
   "id": "02724178",
   "metadata": {},
   "outputs": [
    {
     "name": "stdout",
     "output_type": "stream",
     "text": [
      "2514\n"
     ]
    }
   ],
   "source": [
    "print(2 + int('2512')) # нет ошибки!"
   ]
  },
  {
   "cell_type": "markdown",
   "id": "ec35a9eb",
   "metadata": {},
   "source": [
    "С помощью функции str() мы можем превращать другие типы данных в строки."
   ]
  },
  {
   "cell_type": "code",
   "execution_count": 5,
   "id": "f46f64a7",
   "metadata": {},
   "outputs": [
    {
     "name": "stdout",
     "output_type": "stream",
     "text": [
      "abs123True\n"
     ]
    }
   ],
   "source": [
    "print('abs' + str(123) + str(True))"
   ]
  },
  {
   "cell_type": "markdown",
   "id": "142ccc48",
   "metadata": {},
   "source": [
    "Обратите внимание: эти функции (`str`, `int`, `float` и другие) не меняют тип самих данных или переменных, в которых они хранятся. Если мы не перезапишем значение, то строка станет числом только в конкретной строчке команды, а ее тип не изменится."
   ]
  },
  {
   "cell_type": "code",
   "execution_count": 6,
   "id": "100c7683",
   "metadata": {},
   "outputs": [
    {
     "name": "stdout",
     "output_type": "stream",
     "text": [
      "<class 'str'>\n",
      "2342125\n",
      "<class 'str'>\n"
     ]
    }
   ],
   "source": [
    "a = '2342123'\n",
    "print(type(a))\n",
    "print(2 + int(a))\n",
    "print(type(a))"
   ]
  },
  {
   "cell_type": "code",
   "execution_count": 7,
   "id": "918f9a1b",
   "metadata": {},
   "outputs": [
    {
     "name": "stdout",
     "output_type": "stream",
     "text": [
      "<class 'int'>\n"
     ]
    }
   ],
   "source": [
    "a = int(a) # перезаписываем значение переменной\n",
    "print(type(a)) # теперь изменился и тип"
   ]
  },
  {
   "cell_type": "markdown",
   "id": "da9027b0",
   "metadata": {},
   "source": [
    "# Ввод данных. input()"
   ]
  },
  {
   "cell_type": "markdown",
   "id": "16bc4628",
   "metadata": {},
   "source": [
    "Иногда возникает необходимость запросить какую-нибудь информацию у пользователя — попросить ввести её с клавиатуры. Это может быть нужно, например, когда мы пытаемся имитировать заполнение какой-нибудь формы (собрать информацию и обработать) или написать функцию, которая будет работать по-разному в зависимости от режима (\"Если хотите выгрузить данные из файла, нажмите 1, если хотите вводить данные вручную, введите 2\"). \n",
    "\n",
    "Запросить данные с клавиатуры можно с помощью функции `input()`:"
   ]
  },
  {
   "cell_type": "code",
   "execution_count": 8,
   "id": "0c86f219",
   "metadata": {},
   "outputs": [
    {
     "name": "stdin",
     "output_type": "stream",
     "text": [
      " Маргарита\n"
     ]
    }
   ],
   "source": [
    "name = input()"
   ]
  },
  {
   "cell_type": "code",
   "execution_count": 9,
   "id": "7712bccf",
   "metadata": {},
   "outputs": [
    {
     "name": "stdout",
     "output_type": "stream",
     "text": [
      "Маргарита\n"
     ]
    }
   ],
   "source": [
    "print(name)"
   ]
  },
  {
   "cell_type": "code",
   "execution_count": 10,
   "id": "de4e35cf",
   "metadata": {},
   "outputs": [
    {
     "name": "stdin",
     "output_type": "stream",
     "text": [
      "Как вас зовут?  Маргарита\n"
     ]
    }
   ],
   "source": [
    "name = input('Как вас зовут? ')"
   ]
  },
  {
   "cell_type": "code",
   "execution_count": 11,
   "id": "a3ea6cd6",
   "metadata": {},
   "outputs": [
    {
     "name": "stdout",
     "output_type": "stream",
     "text": [
      "Маргарита\n"
     ]
    }
   ],
   "source": [
    "print(name)"
   ]
  },
  {
   "cell_type": "markdown",
   "id": "62f347d3",
   "metadata": {},
   "source": [
    "А если ввести число?"
   ]
  },
  {
   "cell_type": "code",
   "execution_count": 7,
   "id": "70f7b2d8",
   "metadata": {},
   "outputs": [
    {
     "name": "stdout",
     "output_type": "stream",
     "text": [
      "Сколько вам лет? 32\n"
     ]
    }
   ],
   "source": [
    "age = input('Сколько вам лет?')"
   ]
  },
  {
   "cell_type": "markdown",
   "id": "8d6f7c59",
   "metadata": {},
   "source": [
    "Посчитаем, сколько лет будет, когда человек будет вдвое старше:"
   ]
  },
  {
   "cell_type": "code",
   "execution_count": 8,
   "id": "2d344a02",
   "metadata": {},
   "outputs": [
    {
     "name": "stdout",
     "output_type": "stream",
     "text": [
      " 32 32\n"
     ]
    }
   ],
   "source": [
    "print(age*2)"
   ]
  },
  {
   "cell_type": "markdown",
   "id": "5786c367",
   "metadata": {},
   "source": [
    "Как это исправить? Переводом в другой тип данных."
   ]
  },
  {
   "cell_type": "code",
   "execution_count": 9,
   "id": "785fb800",
   "metadata": {},
   "outputs": [
    {
     "name": "stdout",
     "output_type": "stream",
     "text": [
      "Сколько вам лет? 32\n"
     ]
    }
   ],
   "source": [
    "age = int(input('Сколько вам лет?'))"
   ]
  },
  {
   "cell_type": "code",
   "execution_count": 10,
   "id": "d2616fc1",
   "metadata": {},
   "outputs": [
    {
     "name": "stdout",
     "output_type": "stream",
     "text": [
      "64\n"
     ]
    }
   ],
   "source": [
    "print(age*2)"
   ]
  },
  {
   "cell_type": "markdown",
   "id": "3da0ab97",
   "metadata": {},
   "source": [
    "Раз мы не предлагаем пользователю ввести именно целое число, число может быть любым, даже дробным. Учтём это – будем конвертировать введенный текст в число с плавающей точкой. "
   ]
  },
  {
   "cell_type": "code",
   "execution_count": 16,
   "id": "99d45922",
   "metadata": {},
   "outputs": [
    {
     "name": "stdin",
     "output_type": "stream",
     "text": [
      "Введите число:  31.31\n"
     ]
    },
    {
     "name": "stdout",
     "output_type": "stream",
     "text": [
      "31.31\n"
     ]
    }
   ],
   "source": [
    "num = float(input(\"Введите число: \"))\n",
    "print(num)"
   ]
  },
  {
   "cell_type": "markdown",
   "id": "8435379f",
   "metadata": {},
   "source": [
    "Нужно следить за тем, какие данные вы считываете и менять их при необходимости. Сравните два примере ниже."
   ]
  },
  {
   "cell_type": "code",
   "execution_count": 12,
   "id": "8c57cdd5",
   "metadata": {},
   "outputs": [
    {
     "name": "stdout",
     "output_type": "stream",
     "text": [
      "Input x value: 4\n",
      "Input y value: 5\n",
      "45\n"
     ]
    }
   ],
   "source": [
    "x = input('Input x value: ')\n",
    "y = input('Input y value: ')\n",
    "print(x + y) # произошла склейка строк, по умолчанию input() сохраняет значение типа str"
   ]
  },
  {
   "cell_type": "code",
   "execution_count": 13,
   "id": "2ccdadc2",
   "metadata": {},
   "outputs": [
    {
     "name": "stdout",
     "output_type": "stream",
     "text": [
      "Input x value: 4\n",
      "Input y value: 5\n",
      "9\n"
     ]
    }
   ],
   "source": [
    "x = int(input('Input x value: '))\n",
    "y = int(input('Input y value: '))\n",
    "print(x + y) # вот теперь произошло сложение чисел"
   ]
  },
  {
   "cell_type": "markdown",
   "id": "fa68dac7",
   "metadata": {},
   "source": [
    "## Задача 1\n",
    "## Pig Latin 1\n",
    "\n",
    "Pig Latin - вымышленный язык, который в конец каждого слова подставляет 'yay' (на самом деле оригинальные условия задачи несколько хитрее, но мы будем к ней возвращаться по ходу курса.\n",
    "\n",
    "**Формат ввода**  \n",
    "Пользователь вводит слова.\n",
    "\n",
    "**Формат вывода**\n",
    "Слово на Pig Latin.\n",
    "\n",
    "\n",
    "#### Примеры\n",
    "Тест 1  \n",
    "**Ввод:**  \n",
    "apple \n",
    "\n",
    "**Вывод:**  \n",
    "appleyay"
   ]
  },
  {
   "cell_type": "code",
   "execution_count": 11,
   "id": "e2117e8b",
   "metadata": {},
   "outputs": [
    {
     "name": "stdout",
     "output_type": "stream",
     "text": [
      "Введите слово: Hi\n",
      "Hiyay\n"
     ]
    }
   ],
   "source": [
    "# (∩｀-´)⊃━☆ﾟ.*･｡ﾟ\n",
    "\n",
    "word = input('Введите слово: ')\n",
    "print(word + 'yay')"
   ]
  },
  {
   "cell_type": "markdown",
   "id": "ff125216",
   "metadata": {},
   "source": [
    "## Задача 2\n",
    "\n",
    "## x повторенное x раз в квадрате\n",
    "\n",
    "Вводится целое число X. Повторите его X раз и возведите полученное число в квадрат. Напечатайте получившееся.\n",
    "\n",
    "**Формат ввода**  \n",
    "Целое число\n",
    "\n",
    "**Формат вывод**  \n",
    "Ответ на задачу\n",
    "\n",
    "#### Примеры\n",
    "Тест 1  \n",
    "**Ввод:**  \n",
    "2  \n",
    "\n",
    "**Вывод:**  \n",
    "484"
   ]
  },
  {
   "cell_type": "code",
   "execution_count": 28,
   "id": "2221436f",
   "metadata": {},
   "outputs": [
    {
     "name": "stdout",
     "output_type": "stream",
     "text": [
      "Введите число: 4\n",
      "4444\n",
      "19749136\n"
     ]
    }
   ],
   "source": [
    "# (∩｀-´)⊃━☆ﾟ.*･｡ﾟ\n",
    "\n",
    "x = input('Введите число: ')\n",
    "x1 = x * int(x)\n",
    "print(x1)\n",
    "print(int(x1) **2) #int(x1) * int(x1)"
   ]
  },
  {
   "cell_type": "markdown",
   "id": "929ec0f9",
   "metadata": {},
   "source": [
    "# Вывод информации на экран"
   ]
  },
  {
   "cell_type": "markdown",
   "id": "426c96c7",
   "metadata": {},
   "source": [
    "Как мы уже знаем, для вывода чего-либо на экран в Python существует функция `print()`:"
   ]
  },
  {
   "cell_type": "code",
   "execution_count": 17,
   "id": "32b3aedf",
   "metadata": {},
   "outputs": [
    {
     "name": "stdout",
     "output_type": "stream",
     "text": [
      "5\n",
      "Hello!\n"
     ]
    }
   ],
   "source": [
    "print(5)\n",
    "print('Hello!')"
   ]
  },
  {
   "cell_type": "markdown",
   "id": "6bfab6ea",
   "metadata": {},
   "source": [
    "Для того, чтобы вывести на экран сразу несколько объектов, нужно просто перечислить их через запятую в круглых скобках."
   ]
  },
  {
   "cell_type": "code",
   "execution_count": 18,
   "id": "b135c896",
   "metadata": {},
   "outputs": [
    {
     "name": "stdout",
     "output_type": "stream",
     "text": [
      "26 09 2024\n"
     ]
    }
   ],
   "source": [
    "year = \"2024\"\n",
    "mon = \"09\"\n",
    "day = \"26\"\n",
    "\n",
    "print(day, mon, year)"
   ]
  },
  {
   "cell_type": "markdown",
   "id": "3736a4f8",
   "metadata": {},
   "source": [
    "По умолчанию в качестве разделителей (отделяющих объекты друг от друга) используются пробелы. Но при желании это можно поправить, добавив аргумент `sep` (от *separator* – разделитель):"
   ]
  },
  {
   "cell_type": "code",
   "execution_count": 19,
   "id": "b4ff09c3",
   "metadata": {},
   "outputs": [
    {
     "name": "stdout",
     "output_type": "stream",
     "text": [
      "26092024\n"
     ]
    }
   ],
   "source": [
    "print(day, mon, year, sep='')"
   ]
  },
  {
   "cell_type": "code",
   "execution_count": 20,
   "id": "a1679ab4",
   "metadata": {},
   "outputs": [
    {
     "name": "stdout",
     "output_type": "stream",
     "text": [
      "26-09-2024\n"
     ]
    }
   ],
   "source": [
    "print(day, mon, year, sep='-')"
   ]
  },
  {
   "cell_type": "code",
   "execution_count": 21,
   "id": "594eee65",
   "metadata": {},
   "outputs": [
    {
     "name": "stdout",
     "output_type": "stream",
     "text": [
      "26!09!2024\n"
     ]
    }
   ],
   "source": [
    "print(day, mon, year, sep='!')"
   ]
  },
  {
   "cell_type": "markdown",
   "id": "29af212c",
   "metadata": {},
   "source": [
    "В качестве разделителя можно использовать и специальные символы, например, символ для перехода на новую строку (`\\n` – от *new line*) или символ для отступа в виде красной строки (`\\t` – от *tabulation*): "
   ]
  },
  {
   "cell_type": "code",
   "execution_count": 22,
   "id": "77aea8e6",
   "metadata": {},
   "outputs": [
    {
     "name": "stdout",
     "output_type": "stream",
     "text": [
      "26\n",
      "09\n",
      "2024\n"
     ]
    }
   ],
   "source": [
    "print(day, mon, year, sep='\\n')"
   ]
  },
  {
   "cell_type": "code",
   "execution_count": 23,
   "id": "1c0802c4",
   "metadata": {},
   "outputs": [
    {
     "name": "stdout",
     "output_type": "stream",
     "text": [
      "26\t09\t2024!"
     ]
    }
   ],
   "source": [
    "print(day, mon, year, sep='\\t', end = '!')"
   ]
  },
  {
   "cell_type": "markdown",
   "id": "8d70902e",
   "metadata": {},
   "source": [
    "При работе с функцией `print()` важно помнить, что эта функция используется исключительно для вывода текста на экран, она ничего не возвращает – не умеет сохранять то, что выводит на экран. Если попробуем сохранить результат её исполнения, получим пустой объект – объект особого типа `None`:"
   ]
  },
  {
   "cell_type": "code",
   "execution_count": 24,
   "id": "27183a13",
   "metadata": {},
   "outputs": [
    {
     "name": "stdout",
     "output_type": "stream",
     "text": [
      "2-3\n",
      "None\n"
     ]
    }
   ],
   "source": [
    "s = print(2, 3, sep='-')\n",
    "print(s)"
   ]
  },
  {
   "cell_type": "markdown",
   "id": "2fb39c3b",
   "metadata": {},
   "source": [
    "### Форматирование строк с f-strings\n",
    "\n",
    "А теперь посмотрим на то, как подставлять значения в уже имеющийся текстовый шаблон, то есть форматировать строки. Чтобы понять, о чём идет речь, можно представить, что у нас есть электронная анкета, которую заполняет пользователь, и мы должны написать программу, которая выводит на экран введённые данные, чтобы пользователь мог их проверить.\n",
    "\n",
    "Пусть для начала пользователь укажет своё имя и возраст:"
   ]
  },
  {
   "cell_type": "code",
   "execution_count": 25,
   "id": "d4b7fbe5",
   "metadata": {
    "scrolled": true
   },
   "outputs": [
    {
     "name": "stdin",
     "output_type": "stream",
     "text": [
      "Введите Ваше имя:  Маргарита\n",
      "Введите Ваш возраст:  31\n"
     ]
    }
   ],
   "source": [
    "name = input(\"Введите Ваше имя: \")\n",
    "age = int(input(\"Введите Ваш возраст: \"))"
   ]
  },
  {
   "cell_type": "markdown",
   "id": "2fb73d34",
   "metadata": {},
   "source": [
    "Теперь наша задача – вывести на экран сообщение вида\n",
    "\n",
    "    Ваше имя: Имя. Ваш возраст: возраст. \n",
    "\n",
    "В Python 3.6 и более поздних версиях появился продвинутый способ форматирования строк – *f-строки* или *f-strings* (от *formatted string literals*, неформально также описывают как *fast strings*). Этот способ позволяет не только подставлять в текстовый шаблон значения переменных, но и исполнять выражения с кодом внутри строки.\n",
    "\n",
    "F-strings очень удобны и просты в использовании: в фигурных скобках внутри текстового шаблона нужно указать название переменной, из которой должно подставляться значение, а перед всей строкой добавить `f`, чтобы Python знал, что нам нужна именно f-string. Вернёмся к нашему примеру:"
   ]
  },
  {
   "cell_type": "code",
   "execution_count": 26,
   "id": "22ea4ba6",
   "metadata": {},
   "outputs": [
    {
     "name": "stdout",
     "output_type": "stream",
     "text": [
      "Ваше имя: Маргарита. Ваш возраст: 31.\n"
     ]
    }
   ],
   "source": [
    "print(f\"Ваше имя: {name}. Ваш возраст: {age}.\")"
   ]
  },
  {
   "cell_type": "markdown",
   "id": "a6b8a546",
   "metadata": {},
   "source": [
    "Если мы потеряем букву `f` перед строкой, Python не поймёт, что мы хотим особую строку и напечатает всё, как есть:"
   ]
  },
  {
   "cell_type": "code",
   "execution_count": 27,
   "id": "b1afbeb0",
   "metadata": {},
   "outputs": [
    {
     "name": "stdout",
     "output_type": "stream",
     "text": [
      "Ваше имя: {name}. Ваш возраст: {age}.\n"
     ]
    }
   ],
   "source": [
    "print(\"Ваше имя: {name}. Ваш возраст: {age}.\")"
   ]
  },
  {
   "cell_type": "markdown",
   "id": "71ab42a4",
   "metadata": {},
   "source": [
    "В случае подстановки значений типа *float* в f-строку Python не будет дописывать лишние нули или убирать лишние знаки после точки, он будет выводить число «как есть»:"
   ]
  },
  {
   "cell_type": "code",
   "execution_count": 26,
   "id": "1317e991",
   "metadata": {
    "scrolled": true
   },
   "outputs": [
    {
     "name": "stdout",
     "output_type": "stream",
     "text": [
      "1.68\n",
      "Ваш рост: 1.68.\n"
     ]
    }
   ],
   "source": [
    "height = float(input())\n",
    "\n",
    "# нет лишних знаков\n",
    "print(f\"Ваш рост: {height}.\")  "
   ]
  },
  {
   "cell_type": "markdown",
   "id": "6afc7dc1",
   "metadata": {},
   "source": [
    "Если нам всё же нужно зафиксировать число знаков после точки, их можно указать после названия переменной через `:`"
   ]
  },
  {
   "cell_type": "code",
   "execution_count": 27,
   "id": "30d96dad",
   "metadata": {
    "scrolled": true
   },
   "outputs": [
    {
     "name": "stdout",
     "output_type": "stream",
     "text": [
      "Ваш рост: 1.680.\n"
     ]
    }
   ],
   "source": [
    "print(f\"Ваш рост: {height:.3f}.\")"
   ]
  },
  {
   "cell_type": "markdown",
   "id": "a2fc118b",
   "metadata": {},
   "source": [
    "Здесь `.3f` означает *float* с тремя знаками после точки. Если в самом числе знаков будет меньше, в конце автоматически допишется 0, если больше – произойдёт усечение и округление. Проверим – вместо трёх знаков запросим один:"
   ]
  },
  {
   "cell_type": "code",
   "execution_count": 28,
   "id": "10fc3531",
   "metadata": {},
   "outputs": [
    {
     "name": "stdout",
     "output_type": "stream",
     "text": [
      "Ваш рост: 1.7.\n"
     ]
    }
   ],
   "source": [
    "print(f\"Ваш рост: {height:.1f}.\") # 1.68 -> 1.7"
   ]
  },
  {
   "cell_type": "markdown",
   "id": "bfbda48f",
   "metadata": {},
   "source": [
    "Внутри f-строк также можно размещать целые выражения – небольшой код на Python. В таком случае код будет запущен, а результат его исполнения подставлен в текстовую строку."
   ]
  },
  {
   "cell_type": "code",
   "execution_count": 31,
   "id": "5ba023ed",
   "metadata": {},
   "outputs": [
    {
     "data": {
      "text/plain": [
       "1.68"
      ]
     },
     "execution_count": 31,
     "metadata": {},
     "output_type": "execute_result"
    }
   ],
   "source": [
    "round(height, 2)"
   ]
  },
  {
   "cell_type": "code",
   "execution_count": 29,
   "id": "037a60fd",
   "metadata": {
    "scrolled": true
   },
   "outputs": [
    {
     "name": "stdout",
     "output_type": "stream",
     "text": [
      "Возраст в квадрате: 900.\n",
      "Ваш рост: 1.7 м.\n",
      "Ваш рост: 168.0 см.\n"
     ]
    }
   ],
   "source": [
    "print(f\"Возраст в квадрате: {age ** 2}.\")\n",
    "print(f\"Ваш рост: {round(height, 1)} м.\")\n",
    "print(f\"Ваш рост: {height * 100} см.\")"
   ]
  }
 ],
 "metadata": {
  "kernelspec": {
   "display_name": "Python 3 (ipykernel)",
   "language": "python",
   "name": "python3"
  },
  "language_info": {
   "codemirror_mode": {
    "name": "ipython",
    "version": 3
   },
   "file_extension": ".py",
   "mimetype": "text/x-python",
   "name": "python",
   "nbconvert_exporter": "python",
   "pygments_lexer": "ipython3",
   "version": "3.8.8"
  }
 },
 "nbformat": 4,
 "nbformat_minor": 5
}
