{
 "cells": [
  {
   "cell_type": "markdown",
   "metadata": {},
   "source": [
    "## Задание 1"
   ]
  },
  {
   "cell_type": "markdown",
   "metadata": {},
   "source": [
    "Напишите класс для хранения информации о человеке: ФИО, возраст и т.п. на ваш выбор.\n",
    "У класса должны быть методы birthday для увеличения возраста на год, full_name для вывода полного ФИО и т.п. на ваш выбор.\n",
    "Убедитесь, что свойство возраст недоступно для прямого изменения (без особых стараний :)), но есть возможность получить текущий возраст."
   ]
  },
  {
   "cell_type": "code",
   "execution_count": 6,
   "metadata": {},
   "outputs": [
    {
     "name": "stdout",
     "output_type": "stream",
     "text": [
      "None\n",
      "John Doe\n",
      "32\n"
     ]
    },
    {
     "ename": "AttributeError",
     "evalue": "'Person' object has no attribute '__name'",
     "output_type": "error",
     "traceback": [
      "\u001b[1;31m---------------------------------------------------------------------------\u001b[0m",
      "\u001b[1;31mAttributeError\u001b[0m                            Traceback (most recent call last)",
      "Cell \u001b[1;32mIn[6], line 19\u001b[0m\n\u001b[0;32m     16\u001b[0m \u001b[38;5;28mprint\u001b[39m(john\u001b[38;5;241m.\u001b[39mfull_name())\n\u001b[0;32m     18\u001b[0m \u001b[38;5;28mprint\u001b[39m(john\u001b[38;5;241m.\u001b[39m_age)\n\u001b[1;32m---> 19\u001b[0m \u001b[38;5;28mprint\u001b[39m(john\u001b[38;5;241m.\u001b[39m__name)\n",
      "\u001b[1;31mAttributeError\u001b[0m: 'Person' object has no attribute '__name'"
     ]
    }
   ],
   "source": [
    "# ваш код\n",
    "class Person:\n",
    "    def __init__(self, name, age):\n",
    "        self.__name = name\n",
    "        self._age = age\n",
    "\n",
    "    def birthday(self):\n",
    "        self._age += 1\n",
    "\n",
    "    def full_name(self):\n",
    "        return self.__name\n",
    "\n",
    "\n",
    "john = Person('John Doe', 31)\n",
    "print(john.birthday())\n",
    "print(john.full_name())\n",
    "\n",
    "print(john._age)\n",
    "print(john.__name)"
   ]
  },
  {
   "cell_type": "markdown",
   "metadata": {},
   "source": [
    "## Задание 2"
   ]
  },
  {
   "cell_type": "markdown",
   "metadata": {},
   "source": [
    "Создайте класс **Сотрудник**. \n",
    "Воспользуйтесь классом человека из прошлого задания (т.е. сделайте класс-наследник).\n",
    "У сотрудника должен быть: \n",
    "* шестизначный идентификационный номер\n",
    "* уровень доступа вычисляемый как остаток от деления суммы цифр id на семь"
   ]
  },
  {
   "cell_type": "code",
   "execution_count": 24,
   "metadata": {},
   "outputs": [
    {
     "name": "stdout",
     "output_type": "stream",
     "text": [
      "2\n"
     ]
    }
   ],
   "source": [
    "# ваш код\n",
    "\n",
    "class Employee(Person):\n",
    "\n",
    "    def calc_access_level(self):\n",
    "        access_level = 0\n",
    "        for n in self.id_num: access_level += int(n)\n",
    "        access_level = access_level % 7\n",
    "        return access_level\n",
    "\n",
    "\n",
    "    def __init__(self, name, age, id_num):\n",
    "        super().__init__(name, age)\n",
    "        self.id_num = id_num\n",
    "        self.access_level = self.calc_access_level()\n",
    "\n",
    "jane = Employee('Jane Doe', 30, '79')\n",
    "print(jane.access_level)"
   ]
  },
  {
   "cell_type": "markdown",
   "metadata": {},
   "source": [
    "## Задание 3"
   ]
  },
  {
   "cell_type": "markdown",
   "metadata": {},
   "source": [
    "Создайте три (или более) отдельных классов животных. Например рыбы, птицы и т.п.\n",
    "У каждого класса должны быть как общие свойства, например имя, так и специфичные для класса.\n",
    "Для каждого класса создайте метод, выводящий информацию, специфичную для данного класса."
   ]
  },
  {
   "cell_type": "code",
   "execution_count": 44,
   "metadata": {},
   "outputs": [
    {
     "name": "stdout",
     "output_type": "stream",
     "text": [
      "4\n",
      "Hello I'm Stingy and I'm 1 years old!\n",
      "Stingy can produce honey\n",
      "Tse can't produce honey\n",
      "Blue\n",
      "This bird lives in tropical climate\n",
      "Carp swims close to the surface\n"
     ]
    }
   ],
   "source": [
    "# ваш код\n",
    "\n",
    "class Animal:\n",
    "    def __init__(self, name, age):\n",
    "        self.name = name\n",
    "        self.age = age\n",
    "\n",
    "    def __str__(self):\n",
    "        return f'Hello I\\'m {self.name} and I\\'m {self.age} years old!'\n",
    "\n",
    "class Fish(Animal):\n",
    "    def __init__(self, name, age, can_breathe_air):\n",
    "        super().__init__(name, age)\n",
    "        self.can_breathe_air = can_breathe_air \n",
    "\n",
    "    def lives_in_deep(self):\n",
    "        if self.can_breathe_air:\n",
    "            return f'{self.name} swims close to the surface'\n",
    "        else:\n",
    "            return f'{self.name} swims in deep water'\n",
    "\n",
    "class Bird(Animal):\n",
    "    def __init__(self, name, age, feather_color):\n",
    "        super().__init__(name, age)\n",
    "        self.feather_color = feather_color\n",
    "\n",
    "    def is_tropical(self):\n",
    "        if self.feather_color in ['Blue', 'Red', 'Green', 'Yellow']:\n",
    "            return 'This bird lives in tropical climate'\n",
    "\n",
    "class Insect(Animal):\n",
    "    def can_produce_honey(self):\n",
    "        if self.num_wings == 4:\n",
    "            return f'{self.name} can produce honey'\n",
    "        else:\n",
    "            return f'{self.name} can\\'t produce honey'\n",
    "\n",
    "    \n",
    "    def __init__(self, name, age, num_wings):\n",
    "        super().__init__(name, age)\n",
    "        self.num_wings = num_wings\n",
    "        self.can_produce_honey = self.can_produce_honey()\n",
    "\n",
    "\n",
    "bee = Insect('Stingy', 1, 4)\n",
    "print(bee.num_wings)\n",
    "print(bee)\n",
    "print(bee.can_produce_honey)\n",
    "\n",
    "tsetse = Insect('Tse', 0.5, 2)\n",
    "print(tsetse.can_produce_honey)\n",
    "\n",
    "parrot = Bird('Captain Silver', 3, 'Blue')\n",
    "print(parrot.feather_color)\n",
    "print(parrot.is_tropical())\n",
    "\n",
    "carp = Fish('Carp', 3, True)\n",
    "print(carp.lives_in_deep())"
   ]
  },
  {
   "cell_type": "markdown",
   "metadata": {},
   "source": [
    "## Задание 4"
   ]
  },
  {
   "cell_type": "markdown",
   "metadata": {},
   "source": [
    "### Описание клaссовой структуры\n",
    "\n",
    "Есть Алфавит, характеристиками которого являются: \n",
    "1. Язык\n",
    "2. Список букв\n",
    "\n",
    "Для Алфавита можно: \n",
    "1. Напечатать все буквы алфавита\n",
    "2. Посчитать количество букв\n",
    "\n",
    "Так же есть Английский алфавит, который обладает следующими свойствами: \n",
    "1. Язык\n",
    "2. Список букв\n",
    "3. Количество букв\n",
    "\n",
    "Для Английского алфавита можно: \n",
    "1. Посчитать количество букв\n",
    "2. Определить, относится ли буква к английскому алфавиту\n",
    "3. Получить пример текста на английском языке\n",
    "\n",
    "### Задание\n",
    "\n",
    "Класс ```Alphabet```\n",
    "1. Создайте класс ```Alphabet```\n",
    "2. Создайте метод ```__init__()```, внутри которого будут определены два динамических свойства: 1) ```lang``` - язык и 2) ```letters``` - список букв. Начальные значения свойств берутся из входных параметров метода.\n",
    "3. Создайте метод ```print()```, который выведет в консоль буквы алфавита\n",
    "4. Создайте метод ```letters_num()```, который вернет количество букв в алфавите\n",
    "\n",
    "Класс ```EngAlphabet```\n",
    "1. Создайте класс ```EngAlphabet``` путем наследования от класса ```Alphabet```\n",
    "2. Создайте метод ```__init__()```, внутри которого будет вызываться родительский метод ```__init__()```. В качестве параметров ему будут передаваться обозначение языка(например, ```'En'```) и строка, состоящая из всех букв алфавита(можно воспользоваться свойством ```ascii_uppercase``` из модуля ```string```).\n",
    "```python\n",
    "from string import ascii_uppercase\n",
    "print(ascii_uppercase)\n",
    "```\n",
    "\n",
    "3. Добавьте приватное статическое свойство ```__letters_num```, которое будет хранить количество букв в алфавите.\n",
    "4. Создайте метод ```is_en_letter()```, который будет принимать букву в качестве параметра и определять, относится ли эта буква к английскому алфавиту.\n",
    "5. Переопределите метод ```letters_num()``` - пусть в текущем классе классе он будет возвращать значение свойства ```__letters_num```.\n",
    "6. Создайте **статический** метод ```example()```, который будет возвращать пример текста на английском языке.\n",
    "\n",
    "Тесты:\n",
    "1. Создайте объект класса EngAlphabet\n",
    "2. Напечатайте буквы алфавита для этого объекта\n",
    "\n",
    "    Результат: ```['A', 'B', 'C', 'D', 'E', 'F', 'G', 'H', 'I', 'J', 'K', 'L', 'M', 'N', 'O', 'P', 'Q', 'R', 'S', 'T', 'U', 'V', 'W', 'X', 'Y', 'Z']```\n",
    "\n",
    "3. Выведите количество букв в алфавите\n",
    "\n",
    "    Результат: ```26```\n",
    "\n",
    "4. Проверьте, относится ли буква F к английскому алфавиту\n",
    "\n",
    "    Результат: ```True```\n",
    "\n",
    "5. Проверьте, относится ли буква Щ к английскому алфавиту\n",
    "\n",
    "    Результат: ```False```\n",
    "\n",
    "6. Выведите пример текста на английском языке\n",
    "\n",
    "    Результат: ```Any text in English.```\n",
    "    "
   ]
  },
  {
   "cell_type": "code",
   "execution_count": 89,
   "metadata": {},
   "outputs": [
    {
     "name": "stdout",
     "output_type": "stream",
     "text": [
      "26\n",
      "['A', 'B', 'C', 'D', 'E', 'F', 'G', 'H', 'I', 'J', 'K', 'L', 'M', 'N', 'O', 'P', 'Q', 'R', 'S', 'T', 'U', 'V', 'W', 'X', 'Y', 'Z']\n",
      "My name is Bob. Each day I drive my kids to school. My daughter goes to a school that’s far from our house.\n",
      "It takes 30 minutes to get there. Then I drive my son to his school. It’s close to my job.\n",
      "My daughter is in the sixth grade and my son is in the second. They are both good students.\n",
      "My daughter usually sings her favorite songs while I drive. My son usually sleeps.\n"
     ]
    }
   ],
   "source": [
    "# ваш код\n",
    "class Alphabet:\n",
    "    def __init__(self, lang, letters):\n",
    "        self.lang = lang\n",
    "        self.letters = list(letters)\n",
    "\n",
    "    def print(self):\n",
    "        return self.letters\n",
    "\n",
    "    def letters_num(self):\n",
    "        return len(self.letters)\n",
    "\n",
    "\n",
    "class EngAlphabet(Alphabet):\n",
    "    \n",
    "    def __init__(self, lang, letters):\n",
    "        super().__init__(lang, letters)\n",
    "        self.__letters_num = len(self.letters)\n",
    "\n",
    "    def is_en_letter(self, test):\n",
    "        test = input('Введите букву для проверки: ')\n",
    "        if test.upper() in self.letters:\n",
    "            return 'Такая буква есть в алфавите'\n",
    "        else:\n",
    "            return 'Такой буквы нет в алфавите'\n",
    "\n",
    "    def letters_num(self):\n",
    "        return self.__letters_num\n",
    "\n",
    "\n",
    "    @staticmethod\n",
    "    def example():\n",
    "        return \"My name is Bob. Each day I drive my kids to school. My daughter goes to a school that’s far from our house.\\nIt takes 30 minutes to get there. Then I drive my son to his school. It’s close to my job.\\nMy daughter is in the sixth grade and my son is in the second. They are both good students.\\nMy daughter usually sings her favorite songs while I drive. My son usually sleeps.\"\n",
    "\n",
    "\n",
    "from string import ascii_uppercase\n",
    "#print(ascii_uppercase)\n",
    "\n",
    "a1 = EngAlphabet('En', ascii_uppercase)\n",
    "print(a1.letters_num())\n",
    "print(a1.print())\n",
    "\n",
    "#print(a1.is_en_letter('F'))\n",
    "print(a1.example())"
   ]
  }
 ],
 "metadata": {
  "colab": {
   "authorship_tag": "ABX9TyMwohGeqW3HluFIaQc+TA+0",
   "include_colab_link": true,
   "provenance": []
  },
  "kernelspec": {
   "display_name": "Python 3 (ipykernel)",
   "language": "python",
   "name": "python3"
  },
  "language_info": {
   "codemirror_mode": {
    "name": "ipython",
    "version": 3
   },
   "file_extension": ".py",
   "mimetype": "text/x-python",
   "name": "python",
   "nbconvert_exporter": "python",
   "pygments_lexer": "ipython3",
   "version": "3.12.7"
  }
 },
 "nbformat": 4,
 "nbformat_minor": 4
}
