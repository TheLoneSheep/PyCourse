{
 "cells": [
  {
   "cell_type": "markdown",
   "metadata": {},
   "source": [
    "# Python для анализа данных\n",
    "\n",
    "## Использование API. Работа с форматами XML и JSON\n",
    "\n",
    "*На основе лекции Ильи Щурова, НИУ ВШЭ*  \n",
    "*Дополнения: Татьяна Рогович, НИУ ВШЭ*  \n"
   ]
  },
  {
   "cell_type": "markdown",
   "metadata": {},
   "source": [
    "# XML"
   ]
  },
  {
   "cell_type": "markdown",
   "metadata": {},
   "source": [
    "До этого мы с вами собирали данные вручную, обращаясь к html страницам, размеченным для отображения в браузере. Но данные также можно собирать и через API -  — application program interface. Обычный интерфейс — это способ взаимодействия человека с программой, а API — одной программы с другой. Например, вашего скрипта на Python с удалённым веб-сервером. \n",
    "\n",
    "Для хранения веб-страниц, которые читают люди, используется язык HTML. Для хранения произвольных структурированных данных, которыми обмениваются между собой программы, используются другие языки — в частности, язык XML, похожий на HTML. Вернее было бы сказать, что XML это метаязык, то есть способ описания языков. В отличие от HTML, набор тегов в XML-документе может быть произвольным (и определяется разработчиком конкретного диалекта XML). Например, если бы мы хотели описать в виде XML некоторую студенческую группу, это могло бы выглядеть так:\n",
    "\n",
    "```xml\n",
    "<group>\n",
    "    <number>134</number>\n",
    "    <student>\n",
    "        <firstname>Виталий</firstname>\n",
    "        <lastname>Иванов</lastname>\n",
    "    </student>\n",
    "    <student>\n",
    "        <firstname>Мария</firstname>\n",
    "        <lastname>Петрова</lastname>\n",
    "    </student>\n",
    "</group>\n",
    "```"
   ]
  },
  {
   "cell_type": "markdown",
   "metadata": {},
   "source": [
    "Для обработки XML-файлов можно использовать тот же пакет *Beautiful Soup*, который мы уже использовали для работы с HTML. Единственное различие — нужно указать дополнительный параметр `feautres=\"xml\"` при вызове функции `BeautifulSoup` — чтобы он не искал в документе HTML-теги."
   ]
  },
  {
   "cell_type": "code",
   "execution_count": 1,
   "metadata": {},
   "outputs": [],
   "source": [
    "group = \"\"\"<group>\n",
    "<number>134</number>\n",
    "<student>\n",
    "<firstname>Виталий</firstname>\n",
    "<lastname>Иванов</lastname>\n",
    "</student>\n",
    "<student>\n",
    "<firstname>Мария</firstname>\n",
    "<lastname>Петрова</lastname>\n",
    "</student>\n",
    "</group>\"\"\""
   ]
  },
  {
   "cell_type": "code",
   "execution_count": 2,
   "metadata": {},
   "outputs": [
    {
     "name": "stdout",
     "output_type": "stream",
     "text": [
      "Requirement already satisfied: lxml in d:\\anaconda3\\lib\\site-packages (4.7.1)\n"
     ]
    }
   ],
   "source": [
    "!pip install lxml"
   ]
  },
  {
   "cell_type": "code",
   "execution_count": 3,
   "metadata": {},
   "outputs": [
    {
     "name": "stdout",
     "output_type": "stream",
     "text": [
      "<html>\n",
      " <body>\n",
      "  <group>\n",
      "   <number>\n",
      "    134\n",
      "   </number>\n",
      "   <student>\n",
      "    <firstname>\n",
      "     Виталий\n",
      "    </firstname>\n",
      "    <lastname>\n",
      "     Иванов\n",
      "    </lastname>\n",
      "   </student>\n",
      "   <student>\n",
      "    <firstname>\n",
      "     Мария\n",
      "    </firstname>\n",
      "    <lastname>\n",
      "     Петрова\n",
      "    </lastname>\n",
      "   </student>\n",
      "  </group>\n",
      " </body>\n",
      "</html>\n"
     ]
    }
   ],
   "source": [
    "from bs4 import BeautifulSoup\n",
    "\n",
    "obj = BeautifulSoup(group, features=\"lxml\")\n",
    "print(obj.prettify())"
   ]
  },
  {
   "cell_type": "markdown",
   "metadata": {},
   "source": [
    "Номер группы можно найти, например, вот так - для каждого объекта через точку указываем его атрибут, в который надо спуститься. "
   ]
  },
  {
   "cell_type": "code",
   "execution_count": 4,
   "metadata": {},
   "outputs": [
    {
     "data": {
      "text/plain": [
       "'134'"
      ]
     },
     "execution_count": 4,
     "metadata": {},
     "output_type": "execute_result"
    }
   ],
   "source": [
    "obj.group.number.text # последний атрибут текст, точно также как делали в html"
   ]
  },
  {
   "cell_type": "markdown",
   "metadata": {},
   "source": [
    "Но это работает только тогда, когда тэг уникальный. В других случаях, парсер всегда будет попадать в первый child-тэг, который он встретил по пути вниз."
   ]
  },
  {
   "cell_type": "code",
   "execution_count": 5,
   "metadata": {},
   "outputs": [
    {
     "data": {
      "text/plain": [
       "'Иванов'"
      ]
     },
     "execution_count": 5,
     "metadata": {},
     "output_type": "execute_result"
    }
   ],
   "source": [
    "obj.group.student.lastname.text # до Петровой так не добраться"
   ]
  },
  {
   "cell_type": "markdown",
   "metadata": {},
   "source": [
    "Перечислить всех студентов можно с помощью цикла (похожая структура у нас была и в обработке html)."
   ]
  },
  {
   "cell_type": "code",
   "execution_count": 6,
   "metadata": {},
   "outputs": [
    {
     "name": "stdout",
     "output_type": "stream",
     "text": [
      "Иванов Виталий\n",
      "Петрова Мария\n"
     ]
    }
   ],
   "source": [
    "for student in obj.group.find_all('student'):\n",
    "    print(student.lastname.text, student.firstname.text)"
   ]
  },
  {
   "cell_type": "markdown",
   "metadata": {},
   "source": [
    "По сути, главное отличие xml от html, что работать вы будете не со стандартизированными структурами. Поэтому перед работой придется поиграть в детективов - запросить данные и внимательно изучить расположение узлов, чтобы понять, какие тэги вас интересуют.\n",
    "\n",
    "XML легко представить в виде дерева, где есть главный узел (parent) и его \"дети\".\n",
    "\n",
    "![](https://www.py4e.com/images/xml-tree.svg)  \n",
    "*Источник: Python for Everybody, C.Severance*"
   ]
  },
  {
   "cell_type": "markdown",
   "metadata": {},
   "source": [
    "Кроме BS парсить xml можно и с помощью других библиотек. Например, ElementTree.\n"
   ]
  },
  {
   "cell_type": "code",
   "execution_count": 5,
   "metadata": {},
   "outputs": [],
   "source": [
    "import xml.etree.ElementTree as ET"
   ]
  },
  {
   "cell_type": "code",
   "execution_count": 6,
   "metadata": {},
   "outputs": [
    {
     "data": {
      "text/plain": [
       "[<Element 'number' at 0x000001C2FF1ED180>,\n",
       " <Element 'student' at 0x000001C2FF1ED130>,\n",
       " <Element 'student' at 0x000001C2FF1E9E50>]"
      ]
     },
     "execution_count": 6,
     "metadata": {},
     "output_type": "execute_result"
    }
   ],
   "source": [
    "tree = ET.fromstring(group)\n",
    "list(tree) # посмотрим, что внутри"
   ]
  },
  {
   "cell_type": "markdown",
   "metadata": {},
   "source": [
    "Cинтаксис очень похож на BS. Добрались до первой фамилии."
   ]
  },
  {
   "cell_type": "code",
   "execution_count": 7,
   "metadata": {},
   "outputs": [
    {
     "data": {
      "text/plain": [
       "'Иванов'"
      ]
     },
     "execution_count": 7,
     "metadata": {},
     "output_type": "execute_result"
    }
   ],
   "source": [
    "tree.find('student').find('lastname').text"
   ]
  },
  {
   "cell_type": "code",
   "execution_count": 8,
   "metadata": {},
   "outputs": [
    {
     "name": "stdout",
     "output_type": "stream",
     "text": [
      "<Element 'student' at 0x000001C2FF1ED130>\n",
      "Иванов\n",
      "<Element 'student' at 0x000001C2FF1E9E50>\n",
      "Петрова\n"
     ]
    }
   ],
   "source": [
    "for element in tree.findall('student'):\n",
    "    print(element)\n",
    "    print(element.find('lastname').text)"
   ]
  },
  {
   "cell_type": "markdown",
   "metadata": {},
   "source": [
    "Можно немного упростить код, включив дочерний тэг в findall."
   ]
  },
  {
   "cell_type": "code",
   "execution_count": 9,
   "metadata": {},
   "outputs": [
    {
     "name": "stdout",
     "output_type": "stream",
     "text": [
      "Иванов\n",
      "Петрова\n"
     ]
    }
   ],
   "source": [
    "for element in tree.findall('student/lastname'):\n",
    "    print(element.text)"
   ]
  },
  {
   "cell_type": "markdown",
   "metadata": {},
   "source": [
    "# Задача\n",
    "По ссылке данные в формате xml.\n",
    "http://py4e-data.dr-chuck.net/comments_42.xml\n",
    "\n",
    "Посчитайте все комментарии в этом документе (поля count)."
   ]
  },
  {
   "cell_type": "code",
   "execution_count": 20,
   "metadata": {},
   "outputs": [
    {
     "name": "stdout",
     "output_type": "stream",
     "text": [
      "2553\n"
     ]
    }
   ],
   "source": [
    "import requests\n",
    "myxml = requests.get('http://py4e-data.dr-chuck.net/comments_42.xml').text\n",
    "tree = ET.fromstring(myxml)\n",
    "count = 0\n",
    "for element in tree.findall('comments/comment/count'):\n",
    "    count += int(element.text)\n",
    "    \n",
    "print(count)"
   ]
  },
  {
   "cell_type": "markdown",
   "metadata": {},
   "source": [
    "# Реальный пример: wiki API"
   ]
  },
  {
   "cell_type": "markdown",
   "metadata": {},
   "source": [
    "Допустим, нам потребовалось получить список всех статей из некоторой категории в Википедии. Мы могли бы открыть эту категорию в браузере и дальше действовать теми методами, которые обсуждались выше. Однако, на наше счастье разработчики Википедии сделали удобное API. Чтобы научиться с ним работать, придётся познакомиться с [документацией](https://www.mediawiki.org/wiki/API:Main_page) (так будет с любым API), но это кажется сложным только в первый раз. Ну хорошо, в первые 10 раз. Или 20. Потом будет проще.\n",
    "\n",
    "Многие API будут требовать токена (например, ваш google логин-пароль для работы с гугл-документами), но мы сейчас работаем с открытым интерфейсом.\n",
    "\n",
    "Итак, приступим. Взаимодействие с сервером при помощи API происходит с помощью отправки специальным образом сформированных запросов и получения ответа в одном из машинночитаемых форматов. Нас будет интересовать формат XML, хотя бывают и другие (позже мы познакомимся с JSON). А вот такой запрос мы можем отправить:\n",
    "\n",
    "https://en.wikipedia.org/w/api.php?action=query&list=categorymembers&cmtitle=Category:Physics&cmsort=timestamp&cmdir=desc&format=xmlfm\n",
    "\n",
    "Строка `https://en.wikipedia.org/w/api.php` (до знака вопроса) — это *точка входа* в API. Всё, что идёт после знака вопроса — это, собственно, запрос. Он представляет собой что-то вроде словаря и состоит из пар «ключ=значение», разделяемых амперсандом `&`. Некоторые символы приходится кодировать специальным образом.\n",
    "\n",
    "Например, в адресе выше сказано, что мы хотим сделать запрос (`action=query`), перечислить элементы категории `list=categorymembers`, в качестве категории, которая нас интересует, указана `Category:Physics` (`cmtitle=Category:Physics`) и указаны некоторые другие параметры. Если кликнуть по этой ссылке, откроется примерно такая штука:\n",
    "\n",
    "```xml\n",
    "<?xml version=\"1.0\"?>\n",
    "<api batchcomplete=\"\">\n",
    "  <continue cmcontinue=\"2015-05-30 19:37:50|1653925\" continue=\"-||\" />\n",
    "  <query>\n",
    "    <categorymembers>\n",
    "      <cm pageid=\"24293838\" ns=\"0\" title=\"Wigner rotation\" />\n",
    "      <cm pageid=\"48583145\" ns=\"0\" title=\"Northwest Nuclear Consortium\" />\n",
    "      <cm pageid=\"48407923\" ns=\"0\" title=\"Hume Feldman\" />\n",
    "      <cm pageid=\"48249441\" ns=\"0\" title=\"Phase Stretch Transform\" />\n",
    "      <cm pageid=\"47723069\" ns=\"0\" title=\"Epicatalysis\" />\n",
    "      <cm pageid=\"2237966\" ns=\"14\" title=\"Category:Surface science\" />\n",
    "      <cm pageid=\"2143601\" ns=\"14\" title=\"Category:Interaction\" />\n",
    "      <cm pageid=\"10844347\" ns=\"14\" title=\"Category:Physical systems\" />\n",
    "      <cm pageid=\"18726608\" ns=\"14\" title=\"Category:Physical quantities\" />\n",
    "      <cm pageid=\"22688097\" ns=\"0\" title=\"Branches of physics\" />\n",
    "    </categorymembers>\n",
    "  </query>\n",
    "</api>\n",
    "```"
   ]
  },
  {
   "cell_type": "markdown",
   "metadata": {},
   "source": [
    "Мы видим здесь разные теги, и видим, что нас интересуют теги `<cm>`, находящиеся внутри тега `<categorymembers>`.\n",
    "\n",
    "Давайте сделаем соответствующий запрос с помощью Python. Для этого нам понадобится уже знакомый модуль `requests`."
   ]
  },
  {
   "cell_type": "code",
   "execution_count": 21,
   "metadata": {},
   "outputs": [],
   "source": [
    "import requests\n",
    "url = \"https://en.wikipedia.org/w/api.php\"\n",
    "params = {\n",
    "    'action':'query',\n",
    "    'list':'categorymembers',\n",
    "    'cmtitle': 'Category:Physics',\n",
    "    'format': 'xml'\n",
    "}\n",
    "\n",
    "g = requests.get(url, params=params)"
   ]
  },
  {
   "cell_type": "markdown",
   "metadata": {},
   "source": [
    "Как видно, список параметров мы передаем в виде обычного словаря. Посмотрим, что получилось."
   ]
  },
  {
   "cell_type": "code",
   "execution_count": 22,
   "metadata": {},
   "outputs": [
    {
     "data": {
      "text/plain": [
       "True"
      ]
     },
     "execution_count": 22,
     "metadata": {},
     "output_type": "execute_result"
    }
   ],
   "source": [
    "g.ok"
   ]
  },
  {
   "cell_type": "code",
   "execution_count": 23,
   "metadata": {},
   "outputs": [
    {
     "name": "stdout",
     "output_type": "stream",
     "text": [
      "Object `g.ok # возвращает ошибку, если сервер или клиент не отвечает` not found.\n"
     ]
    }
   ],
   "source": [
    "?g.ok # возвращает ошибку, если сервер или клиент не отвечает"
   ]
  },
  {
   "cell_type": "markdown",
   "metadata": {},
   "source": [
    "Всё хорошо. Теперь используем *Beautiful Soup* для обработки этого XML."
   ]
  },
  {
   "cell_type": "code",
   "execution_count": 24,
   "metadata": {},
   "outputs": [],
   "source": [
    "data = BeautifulSoup(g.text, features='xml')"
   ]
  },
  {
   "cell_type": "code",
   "execution_count": 25,
   "metadata": {
    "scrolled": true
   },
   "outputs": [
    {
     "name": "stdout",
     "output_type": "stream",
     "text": [
      "<?xml version=\"1.0\" encoding=\"utf-8\"?>\n",
      "<api batchcomplete=\"\">\n",
      " <continue cmcontinue=\"page|44522e40322a503a4644010e01dc0d|1996857\" continue=\"-||\"/>\n",
      " <query>\n",
      "  <categorymembers>\n",
      "   <cm ns=\"0\" pageid=\"22939\" title=\"Physics\"/>\n",
      "   <cm ns=\"100\" pageid=\"1653925\" title=\"Portal:Physics\"/>\n",
      "   <cm ns=\"0\" pageid=\"78053369\" title=\"Bijel\"/>\n",
      "   <cm ns=\"0\" pageid=\"74985603\" title=\"Edge states\"/>\n",
      "   <cm ns=\"0\" pageid=\"78147827\" title=\"Electrostatic solitary wave\"/>\n",
      "   <cm ns=\"0\" pageid=\"78554064\" title=\"History of the LED\"/>\n",
      "   <cm ns=\"0\" pageid=\"78751748\" title=\"Missile lofting\"/>\n",
      "   <cm ns=\"0\" pageid=\"844186\" title=\"Modern physics\"/>\n",
      "   <cm ns=\"0\" pageid=\"168907\" title=\"Naïve physics\"/>\n",
      "   <cm ns=\"0\" pageid=\"78245824\" title=\"Nottingham effect\"/>\n",
      "  </categorymembers>\n",
      " </query>\n",
      "</api>\n"
     ]
    }
   ],
   "source": [
    "print(data.prettify())"
   ]
  },
  {
   "cell_type": "markdown",
   "metadata": {},
   "source": [
    "Найдём все вхождения тега `<cm>` и выведем их атрибут `title`:"
   ]
  },
  {
   "cell_type": "code",
   "execution_count": 26,
   "metadata": {},
   "outputs": [
    {
     "name": "stdout",
     "output_type": "stream",
     "text": [
      "Physics\n",
      "Portal:Physics\n",
      "Bijel\n",
      "Edge states\n",
      "Electrostatic solitary wave\n",
      "History of the LED\n",
      "Missile lofting\n",
      "Modern physics\n",
      "Naïve physics\n",
      "Nottingham effect\n"
     ]
    }
   ],
   "source": [
    "for cm in data.api.query.categorymembers(\"cm\"):\n",
    "    print(cm['title'])"
   ]
  },
  {
   "cell_type": "markdown",
   "metadata": {},
   "source": [
    "Можно было упростить поиск `<cm>`, не указывая «полный путь» к ним:"
   ]
  },
  {
   "cell_type": "code",
   "execution_count": 27,
   "metadata": {},
   "outputs": [
    {
     "name": "stdout",
     "output_type": "stream",
     "text": [
      "Physics\n",
      "Portal:Physics\n",
      "Bijel\n",
      "Edge states\n",
      "Electrostatic solitary wave\n",
      "History of the LED\n",
      "Missile lofting\n",
      "Modern physics\n",
      "Naïve physics\n",
      "Nottingham effect\n"
     ]
    }
   ],
   "source": [
    "for cm in data(\"cm\"):\n",
    "    print(cm['title'])"
   ]
  },
  {
   "cell_type": "markdown",
   "metadata": {},
   "source": [
    "По умолчанию сервер вернул нам список из 10 элементов. Если мы хотим больше, нужно воспользоваться элементом `continue` — это своего рода гиперссылка на следующие 10 элементов."
   ]
  },
  {
   "cell_type": "code",
   "execution_count": 28,
   "metadata": {},
   "outputs": [
    {
     "data": {
      "text/plain": [
       "'page|44522e40322a503a4644010e01dc0d|1996857'"
      ]
     },
     "execution_count": 28,
     "metadata": {},
     "output_type": "execute_result"
    }
   ],
   "source": [
    "data.find(\"continue\")['cmcontinue']"
   ]
  },
  {
   "cell_type": "markdown",
   "metadata": {},
   "source": [
    "Мне пришлось использовать метод `find()` вместо того, чтобы просто написать `data.continue`, потому что `continue` в Python имеет специальный смысл.\n",
    "\n",
    "Теперь добавим `cmcontinue` в наш запрос и выполним его ещё раз:"
   ]
  },
  {
   "cell_type": "code",
   "execution_count": 29,
   "metadata": {},
   "outputs": [],
   "source": [
    "params['cmcontinue'] = data.api(\"continue\")[0]['cmcontinue']"
   ]
  },
  {
   "cell_type": "code",
   "execution_count": 30,
   "metadata": {},
   "outputs": [
    {
     "data": {
      "text/plain": [
       "{'action': 'query',\n",
       " 'list': 'categorymembers',\n",
       " 'cmtitle': 'Category:Physics',\n",
       " 'format': 'xml',\n",
       " 'cmcontinue': 'page|44522e40322a503a4644010e01dc0d|1996857'}"
      ]
     },
     "execution_count": 30,
     "metadata": {},
     "output_type": "execute_result"
    }
   ],
   "source": [
    "params"
   ]
  },
  {
   "cell_type": "code",
   "execution_count": 31,
   "metadata": {},
   "outputs": [
    {
     "name": "stdout",
     "output_type": "stream",
     "text": [
      "Nucleation\n",
      "Perfect fluid\n",
      "Plasmaron\n",
      "Quasi-isodynamic stellarator\n",
      "Shockwave cosmology\n",
      "Surface stress\n",
      "Thermal energy\n",
      "Toroidal solenoid\n",
      "Wohlfarth Lectureship\n",
      "Category:Physics by country\n"
     ]
    }
   ],
   "source": [
    "g = requests.get(url, params=params)\n",
    "data = BeautifulSoup(g.text, features='xml')\n",
    "for cm in data.api.query.categorymembers(\"cm\"):\n",
    "    print(cm['title'])"
   ]
  },
  {
   "cell_type": "markdown",
   "metadata": {},
   "source": [
    "Мы получили следующие 10 элементов из категории. Продолжая таким образом, можно выкачать её даже целиком (правда, для этого потребуется много времени).\n",
    "\n",
    "Аналогичным образом реализована работа с разнообразными другими API, имеющимися на разных сайтах. Где-то API является полностью открытым (как в Википедии), где-то вам потребуется зарегистрироваться и получить application id и какой-нибудь ключ для доступа к API, где-то попросят даже заплатить (например, автоматический поиск в Google стоит что-то вроде 5 долларов за 100 запросов). Есть API, которые позволяют только читать информацию, а бывают и такие, которые позволяют её править. Например, можно написать скрипт, который будет автоматически сохранять какую-то информацию в Google Spreadsheets. Всякий раз при использовании API вам придётся изучить его документацию, но это в любом случае проще, чем обрабатывать HTML-код. Иногда удаётся упростить доступ к API, используя специальные библиотеки."
   ]
  },
  {
   "cell_type": "markdown",
   "metadata": {},
   "source": [
    "# JSON\n",
    "\n",
    "Другой популярный формат, в котором клиент может отдать вам данные - json. JSON расшифровывается как JavaScript Object Notation и изначально возник как подмножество языка JavaScript (пусть вас не вводит в заблуждение название, этот язык ничего не имеет общего с Java), используемое для описания объектов, но впоследствии стал использоваться и в других языках программирования, включая Python. Различные API могут поддерживать либо XML, либо JSON, либо и то, и другое, так что нам полезно научиться работать с обоими типами данных (например, wiki api могла бы выгрузить нам данные и в формате json при соответствующем запросе)."
   ]
  },
  {
   "cell_type": "code",
   "execution_count": 23,
   "metadata": {},
   "outputs": [
    {
     "data": {
      "text/plain": [
       "True"
      ]
     },
     "execution_count": 23,
     "metadata": {},
     "output_type": "execute_result"
    }
   ],
   "source": [
    "url = \"https://en.wikipedia.org/w/api.php\"\n",
    "params = {\n",
    "    'action':'query',\n",
    "    'list':'categorymembers',\n",
    "    'cmtitle': 'Category:Physics',\n",
    "    'format': 'json' # поменяли формат на json\n",
    "}\n",
    "\n",
    "j = requests.get(url, params=params)\n",
    "j.ok"
   ]
  },
  {
   "cell_type": "code",
   "execution_count": 24,
   "metadata": {},
   "outputs": [
    {
     "data": {
      "text/plain": [
       "'{\"batchcomplete\":\"\",\"continue\":{\"cmcontinue\":\"page|44522e40322a503a4644010e01dc0d|1996857\",\"continue\":\"-||\"},\"query\":{\"categorymembers\":[{\"pageid\":22939,\"ns\":0,\"title\":\"Physics\"},{\"pageid\":1653925,\"ns\":100,\"title\":\"Portal:Physics\"},{\"pageid\":78053369,\"ns\":0,\"title\":\"Bijel\"},{\"pageid\":74985603,\"ns\":0,\"title\":\"Edge states\"},{\"pageid\":78147827,\"ns\":0,\"title\":\"Electrostatic solitary wave\"},{\"pageid\":78554064,\"ns\":0,\"title\":\"History of the LED\"},{\"pageid\":78751748,\"ns\":0,\"title\":\"Missile lofting\"},{\"pageid\":844186,\"ns\":0,\"title\":\"Modern physics\"},{\"pageid\":168907,\"ns\":0,\"title\":\"Na\\\\u00efve physics\"},{\"pageid\":78245824,\"ns\":0,\"title\":\"Nottingham effect\"}]}}'"
      ]
     },
     "execution_count": 24,
     "metadata": {},
     "output_type": "execute_result"
    }
   ],
   "source": [
    "j.text"
   ]
  },
  {
   "cell_type": "markdown",
   "metadata": {},
   "source": [
    "Посмотрим, что достали. Уже сразу видно, что структура у данных совсем другая.\n",
    "\n",
    "JSON очень похож на описание объекта в Python и смысл квадратных и фигурных скобок такой же. Правда, есть и отличия: например, в Python одинарные и двойные кавычки ничем не отличаются, а в JSON можно использовать только двойные. Мы видим, что полученный нами JSON представляет собой словарь, значения которого — строки или числа, а также списки или словари, значения которых в свою очередь также могут быть строками, числами, списками, словарями и т.д. То есть получается такая довольно сложная структура данных.\n",
    "\n",
    "В данный момент тот факт, что перед нами сложная структура данных, видим только мы — с точки зрения Python, j.text это просто такая строка. Однако в модуле requests есть метод, позволяющий сразу выдать питоновский объект (словарь или список), если результат запроса возвращён в формате JSON. Так что нам не придётся использовать никакие дополнительные библиотеки."
   ]
  },
  {
   "cell_type": "code",
   "execution_count": 25,
   "metadata": {},
   "outputs": [],
   "source": [
    "j_data = j.json()"
   ]
  },
  {
   "cell_type": "code",
   "execution_count": 26,
   "metadata": {},
   "outputs": [
    {
     "data": {
      "text/plain": [
       "{'batchcomplete': '',\n",
       " 'continue': {'cmcontinue': 'page|44522e40322a503a4644010e01dc0d|1996857',\n",
       "  'continue': '-||'},\n",
       " 'query': {'categorymembers': [{'pageid': 22939, 'ns': 0, 'title': 'Physics'},\n",
       "   {'pageid': 1653925, 'ns': 100, 'title': 'Portal:Physics'},\n",
       "   {'pageid': 78053369, 'ns': 0, 'title': 'Bijel'},\n",
       "   {'pageid': 74985603, 'ns': 0, 'title': 'Edge states'},\n",
       "   {'pageid': 78147827, 'ns': 0, 'title': 'Electrostatic solitary wave'},\n",
       "   {'pageid': 78554064, 'ns': 0, 'title': 'History of the LED'},\n",
       "   {'pageid': 78751748, 'ns': 0, 'title': 'Missile lofting'},\n",
       "   {'pageid': 844186, 'ns': 0, 'title': 'Modern physics'},\n",
       "   {'pageid': 168907, 'ns': 0, 'title': 'Naïve physics'},\n",
       "   {'pageid': 78245824, 'ns': 0, 'title': 'Nottingham effect'}]}}"
      ]
     },
     "execution_count": 26,
     "metadata": {},
     "output_type": "execute_result"
    }
   ],
   "source": [
    "j_data # получили честный питоновский словарь"
   ]
  },
  {
   "cell_type": "markdown",
   "metadata": {},
   "source": [
    "Содержательная информация хранится по ключу 'query'. А уже внутри есть ключ 'categorymembers', значением которого является список всех категорий. Каждая категория отображается в виде словаря, записями которого являются разные параметры категории (например, 'title' соответствует названию, а pageid — внутреннему идентификатору в системе).\n",
    "\n"
   ]
  },
  {
   "cell_type": "code",
   "execution_count": 27,
   "metadata": {},
   "outputs": [
    {
     "data": {
      "text/plain": [
       "[{'pageid': 22939, 'ns': 0, 'title': 'Physics'},\n",
       " {'pageid': 1653925, 'ns': 100, 'title': 'Portal:Physics'},\n",
       " {'pageid': 78053369, 'ns': 0, 'title': 'Bijel'},\n",
       " {'pageid': 74985603, 'ns': 0, 'title': 'Edge states'},\n",
       " {'pageid': 78147827, 'ns': 0, 'title': 'Electrostatic solitary wave'},\n",
       " {'pageid': 78554064, 'ns': 0, 'title': 'History of the LED'},\n",
       " {'pageid': 78751748, 'ns': 0, 'title': 'Missile lofting'},\n",
       " {'pageid': 844186, 'ns': 0, 'title': 'Modern physics'},\n",
       " {'pageid': 168907, 'ns': 0, 'title': 'Naïve physics'},\n",
       " {'pageid': 78245824, 'ns': 0, 'title': 'Nottingham effect'}]"
      ]
     },
     "execution_count": 27,
     "metadata": {},
     "output_type": "execute_result"
    }
   ],
   "source": [
    "j_data['query']['categorymembers'] # привычный нам список"
   ]
  },
  {
   "cell_type": "code",
   "execution_count": 28,
   "metadata": {},
   "outputs": [
    {
     "name": "stdout",
     "output_type": "stream",
     "text": [
      "Physics\n",
      "Portal:Physics\n",
      "Bijel\n",
      "Edge states\n",
      "Electrostatic solitary wave\n",
      "History of the LED\n",
      "Missile lofting\n",
      "Modern physics\n",
      "Naïve physics\n",
      "Nottingham effect\n"
     ]
    }
   ],
   "source": [
    "for cm in j_data['query']['categorymembers']: # пройдемся по нему привычным нам циклом\n",
    "    print(cm['title'])"
   ]
  },
  {
   "cell_type": "markdown",
   "metadata": {},
   "source": [
    "Преимущества JSON в том, что мы получаем готовый объект Python и нет необходимости использовать какие-то дополнительные библиотеки для того, чтобы с ним работать. Недостатком является то же самое: зачастую поиск информации в XML-файле может проводиться более эффективно, чем в JSON. Продемонстрируем это на уже рассмотренном примере. Чтобы получить список всех тегов <cm>, в которых хранилась информация об элементах категории в XML, мы использовали полный «путь»:\n",
    "\n",
    "```python\n",
    "for cm in data.api.query.categorymembers(\"cm\"):\n",
    "    print(cm['title'])\n",
    "```\n",
    "\n",
    "Однако, это можно бы сделать (в данном случае) гораздо короче. Если посмотреть на XML, то можно заметить, что в нём нет других тегов <cm>, кроме тех, которые нам нужны. С другой стороны, Beautiful Soup ищет все теги с данным именем, а не только те, которые являются потомками первого уровня для данного тега. Таким образом, код выше можно было бы переписать более коротко:"
   ]
  },
  {
   "cell_type": "code",
   "execution_count": 29,
   "metadata": {},
   "outputs": [
    {
     "name": "stdout",
     "output_type": "stream",
     "text": [
      "Nucleation\n",
      "Perfect fluid\n",
      "Plasmaron\n",
      "Quasi-isodynamic stellarator\n",
      "Shockwave cosmology\n",
      "Surface stress\n",
      "Thermal energy\n",
      "Toroidal solenoid\n",
      "Wohlfarth Lectureship\n",
      "Category:Physics by country\n"
     ]
    }
   ],
   "source": [
    "for cm in data(\"cm\"):\n",
    "    print(cm['title'])"
   ]
  },
  {
   "cell_type": "markdown",
   "metadata": {},
   "source": [
    "Конечно data(\"cm\") выглядит короче, чем q['query']['categorymembers']. В JSON мы не можем использовать подобные методы. Так что у обоих форматов есть свои плюсы и минусы."
   ]
  },
  {
   "cell_type": "markdown",
   "metadata": {},
   "source": [
    "## JSON (парсинг VK)\n",
    "\n",
    "Как уже говорилось выше, не все API открытые. Так, чтобы достать информацию из vk вам придется сгенерировать токен с помощью вашего аккаунта (мы выложим отдельный блокнот как это сделать, для тех, кому будет интересно). API VK отдает данные в json. Структура тут будет посложнее, чем то, что мы уже видели, поэтому давайте еще потренируемся."
   ]
  },
  {
   "cell_type": "markdown",
   "metadata": {},
   "source": [
    "Теперь научимся еще и загружать JSON файл с диска. Для этого нам понадобится модуль json."
   ]
  },
  {
   "cell_type": "code",
   "execution_count": 30,
   "metadata": {},
   "outputs": [
    {
     "ename": "FileNotFoundError",
     "evalue": "[Errno 2] No such file or directory: 'vk.json'",
     "output_type": "error",
     "traceback": [
      "\u001b[1;31m---------------------------------------------------------------------------\u001b[0m",
      "\u001b[1;31mFileNotFoundError\u001b[0m                         Traceback (most recent call last)",
      "Cell \u001b[1;32mIn[30], line 2\u001b[0m\n\u001b[0;32m      1\u001b[0m \u001b[38;5;28;01mimport\u001b[39;00m \u001b[38;5;21;01mjson\u001b[39;00m\n\u001b[1;32m----> 2\u001b[0m \u001b[38;5;28;01mwith\u001b[39;00m \u001b[38;5;28mopen\u001b[39m(\u001b[38;5;124m'\u001b[39m\u001b[38;5;124mvk.json\u001b[39m\u001b[38;5;124m'\u001b[39m,  \u001b[38;5;124m'\u001b[39m\u001b[38;5;124mr\u001b[39m\u001b[38;5;124m'\u001b[39m, encoding\u001b[38;5;241m=\u001b[39m\u001b[38;5;124m'\u001b[39m\u001b[38;5;124mUtf-8\u001b[39m\u001b[38;5;124m'\u001b[39m) \u001b[38;5;28;01mas\u001b[39;00m json_data:\n\u001b[0;32m      3\u001b[0m     res_loaded \u001b[38;5;241m=\u001b[39m json\u001b[38;5;241m.\u001b[39mload(json_data)\n",
      "File \u001b[1;32m~\\anaconda3\\Lib\\site-packages\\IPython\\core\\interactiveshell.py:310\u001b[0m, in \u001b[0;36m_modified_open\u001b[1;34m(file, *args, **kwargs)\u001b[0m\n\u001b[0;32m    303\u001b[0m \u001b[38;5;28;01mif\u001b[39;00m file \u001b[38;5;129;01min\u001b[39;00m {\u001b[38;5;241m0\u001b[39m, \u001b[38;5;241m1\u001b[39m, \u001b[38;5;241m2\u001b[39m}:\n\u001b[0;32m    304\u001b[0m     \u001b[38;5;28;01mraise\u001b[39;00m \u001b[38;5;167;01mValueError\u001b[39;00m(\n\u001b[0;32m    305\u001b[0m         \u001b[38;5;124mf\u001b[39m\u001b[38;5;124m\"\u001b[39m\u001b[38;5;124mIPython won\u001b[39m\u001b[38;5;124m'\u001b[39m\u001b[38;5;124mt let you open fd=\u001b[39m\u001b[38;5;132;01m{\u001b[39;00mfile\u001b[38;5;132;01m}\u001b[39;00m\u001b[38;5;124m by default \u001b[39m\u001b[38;5;124m\"\u001b[39m\n\u001b[0;32m    306\u001b[0m         \u001b[38;5;124m\"\u001b[39m\u001b[38;5;124mas it is likely to crash IPython. If you know what you are doing, \u001b[39m\u001b[38;5;124m\"\u001b[39m\n\u001b[0;32m    307\u001b[0m         \u001b[38;5;124m\"\u001b[39m\u001b[38;5;124myou can use builtins\u001b[39m\u001b[38;5;124m'\u001b[39m\u001b[38;5;124m open.\u001b[39m\u001b[38;5;124m\"\u001b[39m\n\u001b[0;32m    308\u001b[0m     )\n\u001b[1;32m--> 310\u001b[0m \u001b[38;5;28;01mreturn\u001b[39;00m io_open(file, \u001b[38;5;241m*\u001b[39margs, \u001b[38;5;241m*\u001b[39m\u001b[38;5;241m*\u001b[39mkwargs)\n",
      "\u001b[1;31mFileNotFoundError\u001b[0m: [Errno 2] No such file or directory: 'vk.json'"
     ]
    }
   ],
   "source": [
    "import json\n",
    "with open('vk.json',  'r', encoding='Utf-8') as json_data:\n",
    "    res_loaded = json.load(json_data) # считываем данные с помощью функции .load()"
   ]
  },
  {
   "cell_type": "markdown",
   "metadata": {},
   "source": [
    "Здесь у нас выгрузка постов со стены группы ВШЭ."
   ]
  },
  {
   "cell_type": "code",
   "execution_count": null,
   "metadata": {
    "scrolled": true
   },
   "outputs": [],
   "source": [
    "res_loaded"
   ]
  },
  {
   "cell_type": "code",
   "execution_count": 33,
   "metadata": {},
   "outputs": [
    {
     "data": {
      "text/plain": [
       "[{'id': 32494,\n",
       "  'from_id': -132,\n",
       "  'owner_id': -132,\n",
       "  'date': 1541422799,\n",
       "  'marked_as_ads': 0,\n",
       "  'post_type': 'post',\n",
       "  'text': '',\n",
       "  'attachments': [{'type': 'link',\n",
       "    'link': {'url': 'http://family.hse.ru/event/view/2271',\n",
       "     'title': 'День карьеры факультета бизнеса и менеджмента',\n",
       "     'caption': 'family.hse.ru',\n",
       "     'description': '',\n",
       "     'photo': {'id': 456239093,\n",
       "      'album_id': -2,\n",
       "      'owner_id': 100,\n",
       "      'photo_75': 'https://pp.userapi.com/c850336/v850336548/628ea/TwPjzdADVZ4.jpg',\n",
       "      'photo_130': 'https://pp.userapi.com/c850336/v850336548/628eb/gMSUSljxiC8.jpg',\n",
       "      'photo_604': 'https://pp.userapi.com/c850336/v850336548/628ec/kIMEO_f_3JQ.jpg',\n",
       "      'width': 150,\n",
       "      'height': 80,\n",
       "      'text': '',\n",
       "      'date': 1541422799}}}],\n",
       "  'post_source': {'type': 'vk'},\n",
       "  'comments': {'count': 0, 'can_post': 1, 'groups_can_post': True},\n",
       "  'likes': {'count': 6, 'user_likes': 0, 'can_like': 1, 'can_publish': 1},\n",
       "  'reposts': {'count': 2, 'user_reposted': 0},\n",
       "  'views': {'count': 2832}},\n",
       " {'id': 32493,\n",
       "  'from_id': -132,\n",
       "  'owner_id': -132,\n",
       "  'date': 1541076555,\n",
       "  'marked_as_ads': 0,\n",
       "  'post_type': 'post',\n",
       "  'text': 'На Шаболовке 7 ноября в 18:30 ауд 5215 состоится встреча с представителем оргкомитета симпозиума, Lars John. Авторы лучших эссе получат возможность участвовать в симпозиуме в Швейцарии, а автор cамого лучшего эссе получит значительный денежный приз. Приглашаем всех студентов магистратуры, студентов 4 курса и аспирантов принять участие в этой встрече. \\n \\nTo all grad/postgrad and 4th year undergraduate students: compete until 1 Feb 2019 and qualify as a Leader of Tomorrow for the #49sgs (8–10 May 2019) in Switzerland, all expenses paid. Create an impact and win CHF 20,000. Leaders who have attended in the past include Niall Ferguson, Jack Ma, Christine Lagarde, Paul Polman, Anders Fogh Rasmussen, Ratan Tata, Muhammad Yunus, and many more. Register now at www.symp.sg/apply',\n",
       "  'post_source': {'type': 'vk'},\n",
       "  'comments': {'count': 0, 'can_post': 1, 'groups_can_post': True},\n",
       "  'likes': {'count': 2, 'user_likes': 0, 'can_like': 1, 'can_publish': 1},\n",
       "  'reposts': {'count': 1, 'user_reposted': 0},\n",
       "  'views': {'count': 3943}}]"
      ]
     },
     "execution_count": 33,
     "metadata": {},
     "output_type": "execute_result"
    }
   ],
   "source": [
    "res_loaded['items'][:2]"
   ]
  },
  {
   "cell_type": "code",
   "execution_count": 34,
   "metadata": {},
   "outputs": [
    {
     "data": {
      "text/plain": [
       "dict_keys(['count', 'items'])"
      ]
     },
     "execution_count": 34,
     "metadata": {},
     "output_type": "execute_result"
    }
   ],
   "source": [
    "res_loaded.keys()"
   ]
  },
  {
   "cell_type": "markdown",
   "metadata": {},
   "source": [
    "Ключами являются `count` и `items`. Нужные нам объекты (текст постов, id автора, дата и время публикации и проч.) находятся в `items`."
   ]
  },
  {
   "cell_type": "code",
   "execution_count": 35,
   "metadata": {},
   "outputs": [
    {
     "data": {
      "text/plain": [
       "{'id': 32494,\n",
       " 'from_id': -132,\n",
       " 'owner_id': -132,\n",
       " 'date': 1541422799,\n",
       " 'marked_as_ads': 0,\n",
       " 'post_type': 'post',\n",
       " 'text': '',\n",
       " 'attachments': [{'type': 'link',\n",
       "   'link': {'url': 'http://family.hse.ru/event/view/2271',\n",
       "    'title': 'День карьеры факультета бизнеса и менеджмента',\n",
       "    'caption': 'family.hse.ru',\n",
       "    'description': '',\n",
       "    'photo': {'id': 456239093,\n",
       "     'album_id': -2,\n",
       "     'owner_id': 100,\n",
       "     'photo_75': 'https://pp.userapi.com/c850336/v850336548/628ea/TwPjzdADVZ4.jpg',\n",
       "     'photo_130': 'https://pp.userapi.com/c850336/v850336548/628eb/gMSUSljxiC8.jpg',\n",
       "     'photo_604': 'https://pp.userapi.com/c850336/v850336548/628ec/kIMEO_f_3JQ.jpg',\n",
       "     'width': 150,\n",
       "     'height': 80,\n",
       "     'text': '',\n",
       "     'date': 1541422799}}}],\n",
       " 'post_source': {'type': 'vk'},\n",
       " 'comments': {'count': 0, 'can_post': 1, 'groups_can_post': True},\n",
       " 'likes': {'count': 6, 'user_likes': 0, 'can_like': 1, 'can_publish': 1},\n",
       " 'reposts': {'count': 2, 'user_reposted': 0},\n",
       " 'views': {'count': 2832}}"
      ]
     },
     "execution_count": 35,
     "metadata": {},
     "output_type": "execute_result"
    }
   ],
   "source": [
    "res_loaded['items'][0] # первый элемент items - первый пост со всей информацией о нем"
   ]
  },
  {
   "cell_type": "markdown",
   "metadata": {},
   "source": [
    "Помимо текста поста можно найти много всего интересного. Например, тип поста (`post_type`), дата (`date`), id поста (`id`), лайки (`likes`, которые включают информацию о том, могут ли пользователи лайкать пост и публиковать его, а также собственно число лайков), репосты (`reposts`, которые включают число репостов), число просмотров (`views`), комментарии (`comments`, которые включают информацию о том, могут ли пользователи комментировать пост, и число комментариев), и так далее.\n",
    "\n",
    "Давайте остановимся на тексте поста, id автора, id поста и дате публикации. Чтобы извлечь соответствующую информацию, сохраним `items` и извлечем из них нужные поля:"
   ]
  },
  {
   "cell_type": "code",
   "execution_count": 36,
   "metadata": {},
   "outputs": [
    {
     "data": {
      "text/plain": [
       "[[-132, 32494, '', 1541422799],\n",
       " [-132,\n",
       "  32493,\n",
       "  'На Шаболовке 7 ноября в 18:30 ауд 5215 состоится встреча с представителем оргкомитета симпозиума, Lars John. Авторы лучших эссе получат возможность участвовать в симпозиуме в Швейцарии, а автор cамого лучшего эссе получит значительный денежный приз. Приглашаем всех студентов магистратуры, студентов 4 курса и аспирантов принять участие в этой встрече. \\n \\nTo all grad/postgrad and 4th year undergraduate students: compete until 1 Feb 2019 and qualify as a Leader of Tomorrow for the #49sgs (8–10 May 2019) in Switzerland, all expenses paid. Create an impact and win CHF 20,000. Leaders who have attended in the past include Niall Ferguson, Jack Ma, Christine Lagarde, Paul Polman, Anders Fogh Rasmussen, Ratan Tata, Muhammad Yunus, and many more. Register now at www.symp.sg/apply',\n",
       "  1541076555],\n",
       " [-132, 32492, '', 1540743239],\n",
       " [-132, 32491, '', 1540551399]]"
      ]
     },
     "execution_count": 36,
     "metadata": {},
     "output_type": "execute_result"
    }
   ],
   "source": [
    "items = res_loaded['items']\n",
    "full_list = []\n",
    "\n",
    "for item in items:\n",
    "    l = [item['from_id'], item['id'], item['text'], item['date']] # нужные поля\n",
    "    full_list.append(l) # добавляем в список списков full_list\n",
    "# несколько элементов списка\n",
    "full_list[0:4]"
   ]
  },
  {
   "cell_type": "markdown",
   "metadata": {},
   "source": [
    "Видно, что в двух первых постах текста не обнаружено, там только картинки, ссылки и репосты.\n",
    "\n",
    "Из этого списка списков можно легко сделать датафрейм `pandas`."
   ]
  },
  {
   "cell_type": "markdown",
   "metadata": {},
   "source": [
    "Но если у ссылок, репостов и картинок нет текста, то наш DataFrame будет выглядет неполноценно. Поэтому добавим условие, что если текст отсутсвует, вставим в DataFrame строку с этой отметкой."
   ]
  },
  {
   "cell_type": "code",
   "execution_count": 37,
   "metadata": {},
   "outputs": [],
   "source": [
    "# опять выберем только нужные поля\n",
    "full_list = []\n",
    "for item in items:\n",
    "    if item['text'] == \"\":\n",
    "        l = [item['from_id'], item['id'], \"Картинка, ссылка или репост\", item['date']]\n",
    "    else:\n",
    "        l = [item['from_id'], item['id'], item['text'], item['date']]\n",
    "    full_list.append(l)"
   ]
  },
  {
   "cell_type": "markdown",
   "metadata": {},
   "source": [
    "Оставлось превратить обновленный список `items` (список списков) в датафрейм. Импортируем `pandas`."
   ]
  },
  {
   "cell_type": "code",
   "execution_count": 38,
   "metadata": {},
   "outputs": [],
   "source": [
    "import pandas as pd"
   ]
  },
  {
   "cell_type": "markdown",
   "metadata": {},
   "source": [
    "Создадим датафрейм:"
   ]
  },
  {
   "cell_type": "code",
   "execution_count": 39,
   "metadata": {},
   "outputs": [
    {
     "data": {
      "text/html": [
       "<div>\n",
       "<style scoped>\n",
       "    .dataframe tbody tr th:only-of-type {\n",
       "        vertical-align: middle;\n",
       "    }\n",
       "\n",
       "    .dataframe tbody tr th {\n",
       "        vertical-align: top;\n",
       "    }\n",
       "\n",
       "    .dataframe thead th {\n",
       "        text-align: right;\n",
       "    }\n",
       "</style>\n",
       "<table border=\"1\" class=\"dataframe\">\n",
       "  <thead>\n",
       "    <tr style=\"text-align: right;\">\n",
       "      <th></th>\n",
       "      <th>0</th>\n",
       "      <th>1</th>\n",
       "      <th>2</th>\n",
       "      <th>3</th>\n",
       "    </tr>\n",
       "  </thead>\n",
       "  <tbody>\n",
       "    <tr>\n",
       "      <th>0</th>\n",
       "      <td>-132</td>\n",
       "      <td>32494</td>\n",
       "      <td>Картинка, ссылка или репост</td>\n",
       "      <td>1541422799</td>\n",
       "    </tr>\n",
       "    <tr>\n",
       "      <th>1</th>\n",
       "      <td>-132</td>\n",
       "      <td>32493</td>\n",
       "      <td>На Шаболовке 7 ноября в 18:30 ауд 5215 состоит...</td>\n",
       "      <td>1541076555</td>\n",
       "    </tr>\n",
       "    <tr>\n",
       "      <th>2</th>\n",
       "      <td>-132</td>\n",
       "      <td>32492</td>\n",
       "      <td>Картинка, ссылка или репост</td>\n",
       "      <td>1540743239</td>\n",
       "    </tr>\n",
       "    <tr>\n",
       "      <th>3</th>\n",
       "      <td>-132</td>\n",
       "      <td>32491</td>\n",
       "      <td>Картинка, ссылка или репост</td>\n",
       "      <td>1540551399</td>\n",
       "    </tr>\n",
       "    <tr>\n",
       "      <th>4</th>\n",
       "      <td>-132</td>\n",
       "      <td>32488</td>\n",
       "      <td>Картинка, ссылка или репост</td>\n",
       "      <td>1540302306</td>\n",
       "    </tr>\n",
       "    <tr>\n",
       "      <th>5</th>\n",
       "      <td>-132</td>\n",
       "      <td>32486</td>\n",
       "      <td>26-28 октября в Москве пройдет крупнейший в Ро...</td>\n",
       "      <td>1539863523</td>\n",
       "    </tr>\n",
       "    <tr>\n",
       "      <th>6</th>\n",
       "      <td>-132</td>\n",
       "      <td>32485</td>\n",
       "      <td>Картинка, ссылка или репост</td>\n",
       "      <td>1539781575</td>\n",
       "    </tr>\n",
       "    <tr>\n",
       "      <th>7</th>\n",
       "      <td>-132</td>\n",
       "      <td>32484</td>\n",
       "      <td>Картинка, ссылка или репост</td>\n",
       "      <td>1539718883</td>\n",
       "    </tr>\n",
       "    <tr>\n",
       "      <th>8</th>\n",
       "      <td>-132</td>\n",
       "      <td>32481</td>\n",
       "      <td>Картинка, ссылка или репост</td>\n",
       "      <td>1539088885</td>\n",
       "    </tr>\n",
       "    <tr>\n",
       "      <th>9</th>\n",
       "      <td>-132</td>\n",
       "      <td>32480</td>\n",
       "      <td>Будущим магистрам! Новая программа Факультета ...</td>\n",
       "      <td>1539088745</td>\n",
       "    </tr>\n",
       "  </tbody>\n",
       "</table>\n",
       "</div>"
      ],
      "text/plain": [
       "     0      1                                                  2           3\n",
       "0 -132  32494                        Картинка, ссылка или репост  1541422799\n",
       "1 -132  32493  На Шаболовке 7 ноября в 18:30 ауд 5215 состоит...  1541076555\n",
       "2 -132  32492                        Картинка, ссылка или репост  1540743239\n",
       "3 -132  32491                        Картинка, ссылка или репост  1540551399\n",
       "4 -132  32488                        Картинка, ссылка или репост  1540302306\n",
       "5 -132  32486  26-28 октября в Москве пройдет крупнейший в Ро...  1539863523\n",
       "6 -132  32485                        Картинка, ссылка или репост  1539781575\n",
       "7 -132  32484                        Картинка, ссылка или репост  1539718883\n",
       "8 -132  32481                        Картинка, ссылка или репост  1539088885\n",
       "9 -132  32480  Будущим магистрам! Новая программа Факультета ...  1539088745"
      ]
     },
     "execution_count": 39,
     "metadata": {},
     "output_type": "execute_result"
    }
   ],
   "source": [
    "df = pd.DataFrame(full_list)\n",
    "df.head(10)"
   ]
  },
  {
   "cell_type": "markdown",
   "metadata": {},
   "source": [
    "Ура! Осталось только дать внятные названия столбцам и разобраться, почему дата представлена в таком виде. что делать со столбцами, мы уже знаем."
   ]
  },
  {
   "cell_type": "code",
   "execution_count": 40,
   "metadata": {},
   "outputs": [
    {
     "data": {
      "text/html": [
       "<div>\n",
       "<style scoped>\n",
       "    .dataframe tbody tr th:only-of-type {\n",
       "        vertical-align: middle;\n",
       "    }\n",
       "\n",
       "    .dataframe tbody tr th {\n",
       "        vertical-align: top;\n",
       "    }\n",
       "\n",
       "    .dataframe thead th {\n",
       "        text-align: right;\n",
       "    }\n",
       "</style>\n",
       "<table border=\"1\" class=\"dataframe\">\n",
       "  <thead>\n",
       "    <tr style=\"text-align: right;\">\n",
       "      <th></th>\n",
       "      <th>From_id</th>\n",
       "      <th>Id</th>\n",
       "      <th>Text</th>\n",
       "      <th>Date_Unix</th>\n",
       "    </tr>\n",
       "  </thead>\n",
       "  <tbody>\n",
       "    <tr>\n",
       "      <th>0</th>\n",
       "      <td>-132</td>\n",
       "      <td>32494</td>\n",
       "      <td>Картинка, ссылка или репост</td>\n",
       "      <td>1541422799</td>\n",
       "    </tr>\n",
       "    <tr>\n",
       "      <th>1</th>\n",
       "      <td>-132</td>\n",
       "      <td>32493</td>\n",
       "      <td>На Шаболовке 7 ноября в 18:30 ауд 5215 состоит...</td>\n",
       "      <td>1541076555</td>\n",
       "    </tr>\n",
       "    <tr>\n",
       "      <th>2</th>\n",
       "      <td>-132</td>\n",
       "      <td>32492</td>\n",
       "      <td>Картинка, ссылка или репост</td>\n",
       "      <td>1540743239</td>\n",
       "    </tr>\n",
       "    <tr>\n",
       "      <th>3</th>\n",
       "      <td>-132</td>\n",
       "      <td>32491</td>\n",
       "      <td>Картинка, ссылка или репост</td>\n",
       "      <td>1540551399</td>\n",
       "    </tr>\n",
       "    <tr>\n",
       "      <th>4</th>\n",
       "      <td>-132</td>\n",
       "      <td>32488</td>\n",
       "      <td>Картинка, ссылка или репост</td>\n",
       "      <td>1540302306</td>\n",
       "    </tr>\n",
       "    <tr>\n",
       "      <th>5</th>\n",
       "      <td>-132</td>\n",
       "      <td>32486</td>\n",
       "      <td>26-28 октября в Москве пройдет крупнейший в Ро...</td>\n",
       "      <td>1539863523</td>\n",
       "    </tr>\n",
       "    <tr>\n",
       "      <th>6</th>\n",
       "      <td>-132</td>\n",
       "      <td>32485</td>\n",
       "      <td>Картинка, ссылка или репост</td>\n",
       "      <td>1539781575</td>\n",
       "    </tr>\n",
       "    <tr>\n",
       "      <th>7</th>\n",
       "      <td>-132</td>\n",
       "      <td>32484</td>\n",
       "      <td>Картинка, ссылка или репост</td>\n",
       "      <td>1539718883</td>\n",
       "    </tr>\n",
       "    <tr>\n",
       "      <th>8</th>\n",
       "      <td>-132</td>\n",
       "      <td>32481</td>\n",
       "      <td>Картинка, ссылка или репост</td>\n",
       "      <td>1539088885</td>\n",
       "    </tr>\n",
       "    <tr>\n",
       "      <th>9</th>\n",
       "      <td>-132</td>\n",
       "      <td>32480</td>\n",
       "      <td>Будущим магистрам! Новая программа Факультета ...</td>\n",
       "      <td>1539088745</td>\n",
       "    </tr>\n",
       "  </tbody>\n",
       "</table>\n",
       "</div>"
      ],
      "text/plain": [
       "   From_id     Id                                               Text  \\\n",
       "0     -132  32494                        Картинка, ссылка или репост   \n",
       "1     -132  32493  На Шаболовке 7 ноября в 18:30 ауд 5215 состоит...   \n",
       "2     -132  32492                        Картинка, ссылка или репост   \n",
       "3     -132  32491                        Картинка, ссылка или репост   \n",
       "4     -132  32488                        Картинка, ссылка или репост   \n",
       "5     -132  32486  26-28 октября в Москве пройдет крупнейший в Ро...   \n",
       "6     -132  32485                        Картинка, ссылка или репост   \n",
       "7     -132  32484                        Картинка, ссылка или репост   \n",
       "8     -132  32481                        Картинка, ссылка или репост   \n",
       "9     -132  32480  Будущим магистрам! Новая программа Факультета ...   \n",
       "\n",
       "    Date_Unix  \n",
       "0  1541422799  \n",
       "1  1541076555  \n",
       "2  1540743239  \n",
       "3  1540551399  \n",
       "4  1540302306  \n",
       "5  1539863523  \n",
       "6  1539781575  \n",
       "7  1539718883  \n",
       "8  1539088885  \n",
       "9  1539088745  "
      ]
     },
     "execution_count": 40,
     "metadata": {},
     "output_type": "execute_result"
    }
   ],
   "source": [
    "df.columns = ['From_id', 'Id', 'Text', 'Date_Unix']\n",
    "df.head(10)"
   ]
  },
  {
   "cell_type": "markdown",
   "metadata": {},
   "source": [
    "С датой все интереснее. То, что указано в столбце `date`, это дата в виде UNIX-времени (POSIX-времени). Это число секунд, прошедших с 1 января 1970 года. Несмотря на то, что такой формат даты-времени кажется необычным, он довольно широко распространен в разных системах и приложениях. Этот факт, конечно, радует, но хочется получить дату в более человеческом формате. Давайте напишем функцию для перевода UNIX-времени в формат год-месяц-день-часы-минуты-секунды. Для этого нам понадобится модуль datetime."
   ]
  },
  {
   "cell_type": "code",
   "execution_count": 41,
   "metadata": {},
   "outputs": [],
   "source": [
    "from datetime import datetime"
   ]
  },
  {
   "cell_type": "code",
   "execution_count": 42,
   "metadata": {},
   "outputs": [],
   "source": [
    "def date_norm(date):\n",
    "    d = datetime.fromtimestamp(date) # timestamp - UNIX-время в виде строки\n",
    "    str_d = d.strftime(\"%Y-%m-%d %H:%M:%S\") # %Y-%m-%d %H:%M:%S - год-месяц-день, часы:минуты:секунды\n",
    "    date_norm, time_norm = str_d.split(' ') # разобьем результат на части, отделим дату от времени\n",
    "    return date_norm, time_norm"
   ]
  },
  {
   "cell_type": "markdown",
   "metadata": {},
   "source": [
    "Применим нашу функцию к элементам столбца date и создадим новый ‒ `date_norm`."
   ]
  },
  {
   "cell_type": "code",
   "execution_count": 43,
   "metadata": {},
   "outputs": [],
   "source": [
    "df['Date_Norm'] = df.Date_Unix.apply(date_norm)"
   ]
  },
  {
   "cell_type": "code",
   "execution_count": 44,
   "metadata": {},
   "outputs": [
    {
     "data": {
      "text/html": [
       "<div>\n",
       "<style scoped>\n",
       "    .dataframe tbody tr th:only-of-type {\n",
       "        vertical-align: middle;\n",
       "    }\n",
       "\n",
       "    .dataframe tbody tr th {\n",
       "        vertical-align: top;\n",
       "    }\n",
       "\n",
       "    .dataframe thead th {\n",
       "        text-align: right;\n",
       "    }\n",
       "</style>\n",
       "<table border=\"1\" class=\"dataframe\">\n",
       "  <thead>\n",
       "    <tr style=\"text-align: right;\">\n",
       "      <th></th>\n",
       "      <th>From_id</th>\n",
       "      <th>Id</th>\n",
       "      <th>Text</th>\n",
       "      <th>Date_Unix</th>\n",
       "      <th>Date_Norm</th>\n",
       "    </tr>\n",
       "  </thead>\n",
       "  <tbody>\n",
       "    <tr>\n",
       "      <th>0</th>\n",
       "      <td>-132</td>\n",
       "      <td>32494</td>\n",
       "      <td>Картинка, ссылка или репост</td>\n",
       "      <td>1541422799</td>\n",
       "      <td>(2018-11-05, 15:59:59)</td>\n",
       "    </tr>\n",
       "    <tr>\n",
       "      <th>1</th>\n",
       "      <td>-132</td>\n",
       "      <td>32493</td>\n",
       "      <td>На Шаболовке 7 ноября в 18:30 ауд 5215 состоит...</td>\n",
       "      <td>1541076555</td>\n",
       "      <td>(2018-11-01, 15:49:15)</td>\n",
       "    </tr>\n",
       "    <tr>\n",
       "      <th>2</th>\n",
       "      <td>-132</td>\n",
       "      <td>32492</td>\n",
       "      <td>Картинка, ссылка или репост</td>\n",
       "      <td>1540743239</td>\n",
       "      <td>(2018-10-28, 19:13:59)</td>\n",
       "    </tr>\n",
       "    <tr>\n",
       "      <th>3</th>\n",
       "      <td>-132</td>\n",
       "      <td>32491</td>\n",
       "      <td>Картинка, ссылка или репост</td>\n",
       "      <td>1540551399</td>\n",
       "      <td>(2018-10-26, 13:56:39)</td>\n",
       "    </tr>\n",
       "    <tr>\n",
       "      <th>4</th>\n",
       "      <td>-132</td>\n",
       "      <td>32488</td>\n",
       "      <td>Картинка, ссылка или репост</td>\n",
       "      <td>1540302306</td>\n",
       "      <td>(2018-10-23, 16:45:06)</td>\n",
       "    </tr>\n",
       "  </tbody>\n",
       "</table>\n",
       "</div>"
      ],
      "text/plain": [
       "   From_id     Id                                               Text  \\\n",
       "0     -132  32494                        Картинка, ссылка или репост   \n",
       "1     -132  32493  На Шаболовке 7 ноября в 18:30 ауд 5215 состоит...   \n",
       "2     -132  32492                        Картинка, ссылка или репост   \n",
       "3     -132  32491                        Картинка, ссылка или репост   \n",
       "4     -132  32488                        Картинка, ссылка или репост   \n",
       "\n",
       "    Date_Unix               Date_Norm  \n",
       "0  1541422799  (2018-11-05, 15:59:59)  \n",
       "1  1541076555  (2018-11-01, 15:49:15)  \n",
       "2  1540743239  (2018-10-28, 19:13:59)  \n",
       "3  1540551399  (2018-10-26, 13:56:39)  \n",
       "4  1540302306  (2018-10-23, 16:45:06)  "
      ]
     },
     "execution_count": 44,
     "metadata": {},
     "output_type": "execute_result"
    }
   ],
   "source": [
    "df.head()"
   ]
  },
  {
   "cell_type": "markdown",
   "metadata": {},
   "source": [
    "Можно было, конечно, не разбивать на части дату и время, сохранять одной строкой. А можно написать функции, которые будут отделять дату от времени ‒ извлекать их из кортежа в date_norm."
   ]
  },
  {
   "cell_type": "code",
   "execution_count": 45,
   "metadata": {},
   "outputs": [],
   "source": [
    "def get_date(date):\n",
    "    return date[0]\n",
    "\n",
    "def get_time(date):\n",
    "    return date[1]"
   ]
  },
  {
   "cell_type": "code",
   "execution_count": 46,
   "metadata": {},
   "outputs": [
    {
     "data": {
      "text/html": [
       "<div>\n",
       "<style scoped>\n",
       "    .dataframe tbody tr th:only-of-type {\n",
       "        vertical-align: middle;\n",
       "    }\n",
       "\n",
       "    .dataframe tbody tr th {\n",
       "        vertical-align: top;\n",
       "    }\n",
       "\n",
       "    .dataframe thead th {\n",
       "        text-align: right;\n",
       "    }\n",
       "</style>\n",
       "<table border=\"1\" class=\"dataframe\">\n",
       "  <thead>\n",
       "    <tr style=\"text-align: right;\">\n",
       "      <th></th>\n",
       "      <th>From_id</th>\n",
       "      <th>Id</th>\n",
       "      <th>Text</th>\n",
       "      <th>Date_Unix</th>\n",
       "      <th>Date_Norm</th>\n",
       "      <th>Date</th>\n",
       "      <th>Time</th>\n",
       "    </tr>\n",
       "  </thead>\n",
       "  <tbody>\n",
       "    <tr>\n",
       "      <th>0</th>\n",
       "      <td>-132</td>\n",
       "      <td>32494</td>\n",
       "      <td>Картинка, ссылка или репост</td>\n",
       "      <td>1541422799</td>\n",
       "      <td>(2018-11-05, 15:59:59)</td>\n",
       "      <td>2018-11-05</td>\n",
       "      <td>15:59:59</td>\n",
       "    </tr>\n",
       "    <tr>\n",
       "      <th>1</th>\n",
       "      <td>-132</td>\n",
       "      <td>32493</td>\n",
       "      <td>На Шаболовке 7 ноября в 18:30 ауд 5215 состоит...</td>\n",
       "      <td>1541076555</td>\n",
       "      <td>(2018-11-01, 15:49:15)</td>\n",
       "      <td>2018-11-01</td>\n",
       "      <td>15:49:15</td>\n",
       "    </tr>\n",
       "    <tr>\n",
       "      <th>2</th>\n",
       "      <td>-132</td>\n",
       "      <td>32492</td>\n",
       "      <td>Картинка, ссылка или репост</td>\n",
       "      <td>1540743239</td>\n",
       "      <td>(2018-10-28, 19:13:59)</td>\n",
       "      <td>2018-10-28</td>\n",
       "      <td>19:13:59</td>\n",
       "    </tr>\n",
       "    <tr>\n",
       "      <th>3</th>\n",
       "      <td>-132</td>\n",
       "      <td>32491</td>\n",
       "      <td>Картинка, ссылка или репост</td>\n",
       "      <td>1540551399</td>\n",
       "      <td>(2018-10-26, 13:56:39)</td>\n",
       "      <td>2018-10-26</td>\n",
       "      <td>13:56:39</td>\n",
       "    </tr>\n",
       "    <tr>\n",
       "      <th>4</th>\n",
       "      <td>-132</td>\n",
       "      <td>32488</td>\n",
       "      <td>Картинка, ссылка или репост</td>\n",
       "      <td>1540302306</td>\n",
       "      <td>(2018-10-23, 16:45:06)</td>\n",
       "      <td>2018-10-23</td>\n",
       "      <td>16:45:06</td>\n",
       "    </tr>\n",
       "  </tbody>\n",
       "</table>\n",
       "</div>"
      ],
      "text/plain": [
       "   From_id     Id                                               Text  \\\n",
       "0     -132  32494                        Картинка, ссылка или репост   \n",
       "1     -132  32493  На Шаболовке 7 ноября в 18:30 ауд 5215 состоит...   \n",
       "2     -132  32492                        Картинка, ссылка или репост   \n",
       "3     -132  32491                        Картинка, ссылка или репост   \n",
       "4     -132  32488                        Картинка, ссылка или репост   \n",
       "\n",
       "    Date_Unix               Date_Norm        Date      Time  \n",
       "0  1541422799  (2018-11-05, 15:59:59)  2018-11-05  15:59:59  \n",
       "1  1541076555  (2018-11-01, 15:49:15)  2018-11-01  15:49:15  \n",
       "2  1540743239  (2018-10-28, 19:13:59)  2018-10-28  19:13:59  \n",
       "3  1540551399  (2018-10-26, 13:56:39)  2018-10-26  13:56:39  \n",
       "4  1540302306  (2018-10-23, 16:45:06)  2018-10-23  16:45:06  "
      ]
     },
     "execution_count": 46,
     "metadata": {},
     "output_type": "execute_result"
    }
   ],
   "source": [
    "df['Date'] = df.Date_Norm.apply(get_date)\n",
    "df['Time'] = df.Date_Norm.apply(get_time)\n",
    "df.head()"
   ]
  },
  {
   "cell_type": "markdown",
   "metadata": {},
   "source": [
    "Всё! Материалы о разных методах и функциях для `vk.api` можно найти в [официальной документации](https://vk.com/dev/manuals)."
   ]
  },
  {
   "cell_type": "markdown",
   "metadata": {},
   "source": [
    "## Координаты МКС"
   ]
  },
  {
   "cell_type": "markdown",
   "metadata": {},
   "source": [
    "Тут можно посмотреть положение МКС http://open-notify.org/Open-Notify-API/ISS-Location-Now/"
   ]
  },
  {
   "cell_type": "markdown",
   "metadata": {},
   "source": [
    "Ссылка для получения json: http://api.open-notify.org/iss-now.json"
   ]
  },
  {
   "cell_type": "code",
   "execution_count": 31,
   "metadata": {},
   "outputs": [
    {
     "data": {
      "text/plain": [
       "{'message': 'success',\n",
       " 'iss_position': {'latitude': '-14.5873', 'longitude': '4.2034'},\n",
       " 'timestamp': 1741162966}"
      ]
     },
     "execution_count": 31,
     "metadata": {},
     "output_type": "execute_result"
    }
   ],
   "source": [
    "requests.get('http://api.open-notify.org/iss-now.json').json()"
   ]
  },
  {
   "cell_type": "code",
   "execution_count": 32,
   "metadata": {},
   "outputs": [],
   "source": [
    "from datetime import datetime"
   ]
  },
  {
   "cell_type": "code",
   "execution_count": 33,
   "metadata": {},
   "outputs": [
    {
     "data": {
      "text/plain": [
       "'2022-03-17 21:39:01'"
      ]
     },
     "execution_count": 33,
     "metadata": {},
     "output_type": "execute_result"
    }
   ],
   "source": [
    "datetime.fromtimestamp(1647542341).strftime(\"%Y-%m-%d %H:%M:%S\")"
   ]
  },
  {
   "cell_type": "code",
   "execution_count": 34,
   "metadata": {},
   "outputs": [],
   "source": [
    "def get_date(date):\n",
    "    d = datetime.fromtimestamp(date) # timestamp - UNIX-время в виде строки\n",
    "    str_d = d.strftime(\"%Y-%m-%d %H:%M:%S\") # %Y-%m-%d %H:%M:%S - год-месяц-день, часы:минуты:секунды\n",
    "    return str_d"
   ]
  },
  {
   "cell_type": "code",
   "execution_count": 35,
   "metadata": {},
   "outputs": [],
   "source": [
    "def get_iss_position():\n",
    "    s = requests.get('http://api.open-notify.org/iss-now.json').json()\n",
    "    return get_date(s['timestamp']), s['iss_position']['latitude'], s['iss_position']['longitude']\n",
    "    "
   ]
  },
  {
   "cell_type": "code",
   "execution_count": 36,
   "metadata": {},
   "outputs": [
    {
     "data": {
      "text/plain": [
       "('2025-03-05 11:23:17', '-16.0958', '5.3906')"
      ]
     },
     "execution_count": 36,
     "metadata": {},
     "output_type": "execute_result"
    }
   ],
   "source": [
    "get_iss_position()"
   ]
  },
  {
   "cell_type": "markdown",
   "metadata": {},
   "source": [
    "В какой стране находятся координаты:\n",
    "https://www.geonames.org/\n"
   ]
  },
  {
   "cell_type": "code",
   "execution_count": 37,
   "metadata": {},
   "outputs": [],
   "source": [
    "def get_country(lat, long):\n",
    "    url = 'http://api.geonames.org/countryCodeJSON'\n",
    "    parameters = {\n",
    "        'lat':lat,\n",
    "        'lng':long,\n",
    "        'username': 'pileyan'\n",
    "    }\n",
    "    return requests.get(url, parameters).json()\n",
    "# ['countryName']"
   ]
  },
  {
   "cell_type": "code",
   "execution_count": 38,
   "metadata": {},
   "outputs": [],
   "source": [
    "date, latitude, longitude = get_iss_position()\n",
    "country = get_country(latitude, longitude)"
   ]
  },
  {
   "cell_type": "code",
   "execution_count": 39,
   "metadata": {},
   "outputs": [
    {
     "data": {
      "text/plain": [
       "{'status': {'message': 'no country code found', 'value': 15}}"
      ]
     },
     "execution_count": 39,
     "metadata": {},
     "output_type": "execute_result"
    }
   ],
   "source": [
    "country"
   ]
  },
  {
   "cell_type": "code",
   "execution_count": 40,
   "metadata": {},
   "outputs": [],
   "source": [
    "def iss_monitor():\n",
    "    date, latitude, longitude = get_iss_position()\n",
    "    country = get_country(latitude, longitude)\n",
    "    return {'date': date, 'latitude': latitude, 'longitude': longitude, 'country': country}"
   ]
  },
  {
   "cell_type": "code",
   "execution_count": 41,
   "metadata": {},
   "outputs": [
    {
     "data": {
      "text/plain": [
       "{'date': '2025-03-05 11:23:22',\n",
       " 'latitude': '-16.3670',\n",
       " 'longitude': '5.6067',\n",
       " 'country': {'status': {'message': 'no country code found', 'value': 15}}}"
      ]
     },
     "execution_count": 41,
     "metadata": {},
     "output_type": "execute_result"
    }
   ],
   "source": [
    "iss_monitor()"
   ]
  },
  {
   "cell_type": "code",
   "execution_count": null,
   "metadata": {},
   "outputs": [],
   "source": []
  }
 ],
 "metadata": {
  "kernelspec": {
   "display_name": "Python 3 (ipykernel)",
   "language": "python",
   "name": "python3"
  },
  "language_info": {
   "codemirror_mode": {
    "name": "ipython",
    "version": 3
   },
   "file_extension": ".py",
   "mimetype": "text/x-python",
   "name": "python",
   "nbconvert_exporter": "python",
   "pygments_lexer": "ipython3",
   "version": "3.8.8"
  }
 },
 "nbformat": 4,
 "nbformat_minor": 4
}
