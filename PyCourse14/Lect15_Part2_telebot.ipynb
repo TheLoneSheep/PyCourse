{
 "cells": [
  {
   "cell_type": "markdown",
   "id": "bad6f98d",
   "metadata": {},
   "source": [
    "# Пример 1. Эхо-бот"
   ]
  },
  {
   "cell_type": "code",
   "execution_count": 1,
   "id": "b85f579a",
   "metadata": {},
   "outputs": [
    {
     "name": "stdout",
     "output_type": "stream",
     "text": [
      "Collecting pyTelegramBotAPI\n",
      "  Downloading pytelegrambotapi-4.26.0-py3-none-any.whl.metadata (48 kB)\n",
      "Requirement already satisfied: requests in c:\\users\\sofa\\anaconda3\\lib\\site-packages (from pyTelegramBotAPI) (2.32.3)\n",
      "Requirement already satisfied: charset-normalizer<4,>=2 in c:\\users\\sofa\\anaconda3\\lib\\site-packages (from requests->pyTelegramBotAPI) (3.3.2)\n",
      "Requirement already satisfied: idna<4,>=2.5 in c:\\users\\sofa\\anaconda3\\lib\\site-packages (from requests->pyTelegramBotAPI) (3.7)\n",
      "Requirement already satisfied: urllib3<3,>=1.21.1 in c:\\users\\sofa\\anaconda3\\lib\\site-packages (from requests->pyTelegramBotAPI) (2.2.3)\n",
      "Requirement already satisfied: certifi>=2017.4.17 in c:\\users\\sofa\\anaconda3\\lib\\site-packages (from requests->pyTelegramBotAPI) (2024.8.30)\n",
      "Downloading pytelegrambotapi-4.26.0-py3-none-any.whl (270 kB)\n",
      "Installing collected packages: pyTelegramBotAPI\n",
      "Successfully installed pyTelegramBotAPI-4.26.0\n"
     ]
    }
   ],
   "source": [
    "!pip install pyTelegramBotAPI"
   ]
  },
  {
   "cell_type": "code",
   "execution_count": 2,
   "id": "d8d00402",
   "metadata": {},
   "outputs": [],
   "source": [
    "import telebot"
   ]
  },
  {
   "cell_type": "code",
   "execution_count": 3,
   "id": "4d379622",
   "metadata": {},
   "outputs": [],
   "source": [
    "bot = telebot.TeleBot('*')"
   ]
  },
  {
   "cell_type": "code",
   "execution_count": 4,
   "id": "1425a34d",
   "metadata": {},
   "outputs": [],
   "source": [
    "@bot.message_handler(commands=[\"start\"])\n",
    "def start(m):\n",
    "    bot.send_message(m.chat.id, 'Я на связи. Напиши мне что-нибудь )')"
   ]
  },
  {
   "cell_type": "code",
   "execution_count": 5,
   "id": "37e5554a",
   "metadata": {},
   "outputs": [],
   "source": [
    "@bot.message_handler(content_types=[\"text\"])\n",
    "def handle_text(message):\n",
    "    bot.send_message(message.chat.id, 'Вы написали: ' + message.text)"
   ]
  },
  {
   "cell_type": "code",
   "execution_count": 6,
   "id": "b9045066",
   "metadata": {},
   "outputs": [],
   "source": [
    "bot.polling(none_stop=True, interval=0)"
   ]
  },
  {
   "cell_type": "code",
   "execution_count": null,
   "id": "e7fb97d1",
   "metadata": {},
   "outputs": [],
   "source": []
  },
  {
   "cell_type": "code",
   "execution_count": null,
   "id": "f4db5787-15b0-4930-8259-5d1702dede48",
   "metadata": {},
   "outputs": [],
   "source": []
  }
 ],
 "metadata": {
  "kernelspec": {
   "display_name": "Python 3 (ipykernel)",
   "language": "python",
   "name": "python3"
  },
  "language_info": {
   "codemirror_mode": {
    "name": "ipython",
    "version": 3
   },
   "file_extension": ".py",
   "mimetype": "text/x-python",
   "name": "python",
   "nbconvert_exporter": "python",
   "pygments_lexer": "ipython3",
   "version": "3.12.7"
  }
 },
 "nbformat": 4,
 "nbformat_minor": 5
}
