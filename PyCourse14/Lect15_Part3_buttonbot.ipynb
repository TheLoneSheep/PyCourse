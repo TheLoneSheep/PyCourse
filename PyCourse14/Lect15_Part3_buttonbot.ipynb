{
 "cells": [
  {
   "cell_type": "markdown",
   "id": "0240a4ad",
   "metadata": {},
   "source": [
    "## Бот с кнопками"
   ]
  },
  {
   "cell_type": "code",
   "execution_count": 2,
   "id": "9b08ea58",
   "metadata": {},
   "outputs": [],
   "source": [
    "import telebot\n",
    "from telebot import types # для указание тип\n",
    "# Создаем экземпляр бота\n",
    "bot = telebot.TeleBot('8172145152:AAGXu1bgUuUyt8laGeZwGgR6iob4azgkFVE')\n",
    "# Функция, обрабатывающая команду /start\n",
    "@bot.message_handler(commands=[\"start\"])\n",
    "def start(m):\n",
    "    bot.send_message(m.chat.id, 'Я на связи. Напиши мне что-нибудь )')\n",
    "# Получение сообщений от юзера\n",
    "\n",
    "@bot.message_handler(content_types=[\"text\"])\n",
    "def default_test(message):\n",
    "    keyboard = types.InlineKeyboardMarkup()\n",
    "    url_button = types.InlineKeyboardButton(text=\"Перейти на Яндекс\", url=\"https://ya.ru\")\n",
    "    keyboard.add(url_button)\n",
    "    bot.send_message(message.chat.id, \"Привет! Нажми на кнопку и перейди в поисковик.\", reply_markup=keyboard)\n",
    "\n",
    "\n",
    "bot.polling(none_stop=True, interval=0)"
   ]
  },
  {
   "cell_type": "code",
   "execution_count": null,
   "id": "b50dc01e",
   "metadata": {},
   "outputs": [],
   "source": []
  }
 ],
 "metadata": {
  "kernelspec": {
   "display_name": "Python 3 (ipykernel)",
   "language": "python",
   "name": "python3"
  },
  "language_info": {
   "codemirror_mode": {
    "name": "ipython",
    "version": 3
   },
   "file_extension": ".py",
   "mimetype": "text/x-python",
   "name": "python",
   "nbconvert_exporter": "python",
   "pygments_lexer": "ipython3",
   "version": "3.12.7"
  }
 },
 "nbformat": 4,
 "nbformat_minor": 5
}
