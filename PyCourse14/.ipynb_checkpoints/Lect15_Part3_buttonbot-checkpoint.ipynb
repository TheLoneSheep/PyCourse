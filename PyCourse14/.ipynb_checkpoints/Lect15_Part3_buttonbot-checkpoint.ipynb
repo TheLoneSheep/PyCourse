{
 "cells": [
  {
   "cell_type": "markdown",
   "id": "0240a4ad",
   "metadata": {},
   "source": [
    "## Бот с кнопками"
   ]
  },
  {
   "cell_type": "code",
   "execution_count": 2,
   "id": "9b08ea58",
   "metadata": {},
   "outputs": [
    {
     "ename": "ApiTelegramException",
     "evalue": "A request to the Telegram API was unsuccessful. Error code: 404. Description: Not Found",
     "output_type": "error",
     "traceback": [
      "\u001b[1;31m---------------------------------------------------------------------------\u001b[0m",
      "\u001b[1;31mApiTelegramException\u001b[0m                      Traceback (most recent call last)",
      "Cell \u001b[1;32mIn[2], line 19\u001b[0m\n\u001b[0;32m     15\u001b[0m     keyboard\u001b[38;5;241m.\u001b[39madd(url_button)\n\u001b[0;32m     16\u001b[0m     bot\u001b[38;5;241m.\u001b[39msend_message(message\u001b[38;5;241m.\u001b[39mchat\u001b[38;5;241m.\u001b[39mid, \u001b[38;5;124m\"\u001b[39m\u001b[38;5;124mПривет! Нажми на кнопку и перейди в поисковик.\u001b[39m\u001b[38;5;124m\"\u001b[39m, reply_markup\u001b[38;5;241m=\u001b[39mkeyboard)\n\u001b[1;32m---> 19\u001b[0m bot\u001b[38;5;241m.\u001b[39mpolling(none_stop\u001b[38;5;241m=\u001b[39m\u001b[38;5;28;01mTrue\u001b[39;00m, interval\u001b[38;5;241m=\u001b[39m\u001b[38;5;241m0\u001b[39m)\n",
      "File \u001b[1;32m~\\anaconda3\\Lib\\site-packages\\telebot\\__init__.py:1101\u001b[0m, in \u001b[0;36mTeleBot.polling\u001b[1;34m(self, non_stop, skip_pending, interval, timeout, long_polling_timeout, logger_level, allowed_updates, none_stop, restart_on_change, path_to_watch)\u001b[0m\n\u001b[0;32m   1098\u001b[0m \u001b[38;5;28;01mif\u001b[39;00m restart_on_change:\n\u001b[0;32m   1099\u001b[0m     \u001b[38;5;28mself\u001b[39m\u001b[38;5;241m.\u001b[39m_setup_change_detector(path_to_watch)\n\u001b[1;32m-> 1101\u001b[0m logger\u001b[38;5;241m.\u001b[39minfo(\u001b[38;5;124m'\u001b[39m\u001b[38;5;124mStarting your bot with username: [@\u001b[39m\u001b[38;5;132;01m%s\u001b[39;00m\u001b[38;5;124m]\u001b[39m\u001b[38;5;124m'\u001b[39m, \u001b[38;5;28mself\u001b[39m\u001b[38;5;241m.\u001b[39muser\u001b[38;5;241m.\u001b[39musername)\n\u001b[0;32m   1103\u001b[0m \u001b[38;5;28;01mif\u001b[39;00m \u001b[38;5;28mself\u001b[39m\u001b[38;5;241m.\u001b[39mthreaded:\n\u001b[0;32m   1104\u001b[0m     \u001b[38;5;28mself\u001b[39m\u001b[38;5;241m.\u001b[39m__threaded_polling(non_stop\u001b[38;5;241m=\u001b[39mnon_stop, interval\u001b[38;5;241m=\u001b[39minterval, timeout\u001b[38;5;241m=\u001b[39mtimeout, long_polling_timeout\u001b[38;5;241m=\u001b[39mlong_polling_timeout,\n\u001b[0;32m   1105\u001b[0m                             logger_level\u001b[38;5;241m=\u001b[39mlogger_level, allowed_updates\u001b[38;5;241m=\u001b[39mallowed_updates)\n",
      "File \u001b[1;32m~\\anaconda3\\Lib\\site-packages\\telebot\\__init__.py:279\u001b[0m, in \u001b[0;36mTeleBot.user\u001b[1;34m(self)\u001b[0m\n\u001b[0;32m    271\u001b[0m \u001b[38;5;250m\u001b[39m\u001b[38;5;124;03m\"\"\"\u001b[39;00m\n\u001b[0;32m    272\u001b[0m \u001b[38;5;124;03mThe User object representing this bot.\u001b[39;00m\n\u001b[0;32m    273\u001b[0m \u001b[38;5;124;03mEquivalent to bot.get_me() but the result is cached so only one API call is needed.\u001b[39;00m\n\u001b[1;32m   (...)\u001b[0m\n\u001b[0;32m    276\u001b[0m \u001b[38;5;124;03m:rtype: :class:`telebot.types.User`\u001b[39;00m\n\u001b[0;32m    277\u001b[0m \u001b[38;5;124;03m\"\"\"\u001b[39;00m\n\u001b[0;32m    278\u001b[0m \u001b[38;5;28;01mif\u001b[39;00m \u001b[38;5;129;01mnot\u001b[39;00m \u001b[38;5;28mself\u001b[39m\u001b[38;5;241m.\u001b[39m_user:\n\u001b[1;32m--> 279\u001b[0m     \u001b[38;5;28mself\u001b[39m\u001b[38;5;241m.\u001b[39m_user \u001b[38;5;241m=\u001b[39m \u001b[38;5;28mself\u001b[39m\u001b[38;5;241m.\u001b[39mget_me()\n\u001b[0;32m    280\u001b[0m \u001b[38;5;28;01mreturn\u001b[39;00m \u001b[38;5;28mself\u001b[39m\u001b[38;5;241m.\u001b[39m_user\n",
      "File \u001b[1;32m~\\anaconda3\\Lib\\site-packages\\telebot\\__init__.py:1288\u001b[0m, in \u001b[0;36mTeleBot.get_me\u001b[1;34m(self)\u001b[0m\n\u001b[0;32m   1280\u001b[0m \u001b[38;5;28;01mdef\u001b[39;00m \u001b[38;5;21mget_me\u001b[39m(\u001b[38;5;28mself\u001b[39m) \u001b[38;5;241m-\u001b[39m\u001b[38;5;241m>\u001b[39m types\u001b[38;5;241m.\u001b[39mUser:\n\u001b[0;32m   1281\u001b[0m \u001b[38;5;250m    \u001b[39m\u001b[38;5;124;03m\"\"\"\u001b[39;00m\n\u001b[0;32m   1282\u001b[0m \u001b[38;5;124;03m    A simple method for testing your bot's authentication token. Requires no parameters.\u001b[39;00m\n\u001b[0;32m   1283\u001b[0m \u001b[38;5;124;03m    Returns basic information about the bot in form of a User object.\u001b[39;00m\n\u001b[0;32m   1284\u001b[0m \n\u001b[0;32m   1285\u001b[0m \u001b[38;5;124;03m    Telegram documentation: https://core.telegram.org/bots/api#getme\u001b[39;00m\n\u001b[0;32m   1286\u001b[0m \u001b[38;5;124;03m    \"\"\"\u001b[39;00m\n\u001b[0;32m   1287\u001b[0m     \u001b[38;5;28;01mreturn\u001b[39;00m types\u001b[38;5;241m.\u001b[39mUser\u001b[38;5;241m.\u001b[39mde_json(\n\u001b[1;32m-> 1288\u001b[0m         apihelper\u001b[38;5;241m.\u001b[39mget_me(\u001b[38;5;28mself\u001b[39m\u001b[38;5;241m.\u001b[39mtoken)\n\u001b[0;32m   1289\u001b[0m     )\n",
      "File \u001b[1;32m~\\anaconda3\\Lib\\site-packages\\telebot\\apihelper.py:198\u001b[0m, in \u001b[0;36mget_me\u001b[1;34m(token)\u001b[0m\n\u001b[0;32m    196\u001b[0m \u001b[38;5;28;01mdef\u001b[39;00m \u001b[38;5;21mget_me\u001b[39m(token):\n\u001b[0;32m    197\u001b[0m     method_url \u001b[38;5;241m=\u001b[39m \u001b[38;5;124mr\u001b[39m\u001b[38;5;124m'\u001b[39m\u001b[38;5;124mgetMe\u001b[39m\u001b[38;5;124m'\u001b[39m\n\u001b[1;32m--> 198\u001b[0m     \u001b[38;5;28;01mreturn\u001b[39;00m _make_request(token, method_url)\n",
      "File \u001b[1;32m~\\anaconda3\\Lib\\site-packages\\telebot\\apihelper.py:164\u001b[0m, in \u001b[0;36m_make_request\u001b[1;34m(token, method_name, method, params, files)\u001b[0m\n\u001b[0;32m    158\u001b[0m     result \u001b[38;5;241m=\u001b[39m _get_req_session()\u001b[38;5;241m.\u001b[39mrequest(\n\u001b[0;32m    159\u001b[0m         method, request_url, params\u001b[38;5;241m=\u001b[39mparams, files\u001b[38;5;241m=\u001b[39mfiles,\n\u001b[0;32m    160\u001b[0m         timeout\u001b[38;5;241m=\u001b[39m(connect_timeout, read_timeout), proxies\u001b[38;5;241m=\u001b[39mproxy)\n\u001b[0;32m    162\u001b[0m logger\u001b[38;5;241m.\u001b[39mdebug(\u001b[38;5;124m\"\u001b[39m\u001b[38;5;124mThe server returned: \u001b[39m\u001b[38;5;124m'\u001b[39m\u001b[38;5;132;01m{0}\u001b[39;00m\u001b[38;5;124m'\u001b[39m\u001b[38;5;124m\"\u001b[39m\u001b[38;5;241m.\u001b[39mformat(result\u001b[38;5;241m.\u001b[39mtext\u001b[38;5;241m.\u001b[39mencode(\u001b[38;5;124m'\u001b[39m\u001b[38;5;124mutf8\u001b[39m\u001b[38;5;124m'\u001b[39m)))\n\u001b[1;32m--> 164\u001b[0m json_result \u001b[38;5;241m=\u001b[39m _check_result(method_name, result)\n\u001b[0;32m    165\u001b[0m \u001b[38;5;28;01mif\u001b[39;00m json_result:\n\u001b[0;32m    166\u001b[0m     \u001b[38;5;28;01mreturn\u001b[39;00m json_result[\u001b[38;5;124m'\u001b[39m\u001b[38;5;124mresult\u001b[39m\u001b[38;5;124m'\u001b[39m]\n",
      "File \u001b[1;32m~\\anaconda3\\Lib\\site-packages\\telebot\\apihelper.py:191\u001b[0m, in \u001b[0;36m_check_result\u001b[1;34m(method_name, result)\u001b[0m\n\u001b[0;32m    189\u001b[0m \u001b[38;5;28;01melse\u001b[39;00m:    \n\u001b[0;32m    190\u001b[0m     \u001b[38;5;28;01mif\u001b[39;00m \u001b[38;5;129;01mnot\u001b[39;00m result_json[\u001b[38;5;124m'\u001b[39m\u001b[38;5;124mok\u001b[39m\u001b[38;5;124m'\u001b[39m]:\n\u001b[1;32m--> 191\u001b[0m         \u001b[38;5;28;01mraise\u001b[39;00m ApiTelegramException(method_name, result, result_json)\n\u001b[0;32m    193\u001b[0m     \u001b[38;5;28;01mreturn\u001b[39;00m result_json\n",
      "\u001b[1;31mApiTelegramException\u001b[0m: A request to the Telegram API was unsuccessful. Error code: 404. Description: Not Found"
     ]
    }
   ],
   "source": [
    "import telebot\n",
    "from telebot import types # для указание типов\n",
    "# Создаем экземпляр бота\n",
    "bot = telebot.TeleBot('токен')\n",
    "# Функция, обрабатывающая команду /start\n",
    "@bot.message_handler(commands=[\"start\"])\n",
    "def start(m):\n",
    "    bot.send_message(m.chat.id, 'Я на связи. Напиши мне что-нибудь )')\n",
    "# Получение сообщений от юзера\n",
    "\n",
    "@bot.message_handler(content_types=[\"text\"])\n",
    "def default_test(message):\n",
    "    keyboard = types.InlineKeyboardMarkup()\n",
    "    url_button = types.InlineKeyboardButton(text=\"Перейти на Яндекс\", url=\"https://ya.ru\")\n",
    "    keyboard.add(url_button)\n",
    "    bot.send_message(message.chat.id, \"Привет! Нажми на кнопку и перейди в поисковик.\", reply_markup=keyboard)\n",
    "\n",
    "\n",
    "bot.polling(none_stop=True, interval=0)"
   ]
  },
  {
   "cell_type": "code",
   "execution_count": null,
   "id": "b50dc01e",
   "metadata": {},
   "outputs": [],
   "source": []
  }
 ],
 "metadata": {
  "kernelspec": {
   "display_name": "Python 3 (ipykernel)",
   "language": "python",
   "name": "python3"
  },
  "language_info": {
   "codemirror_mode": {
    "name": "ipython",
    "version": 3
   },
   "file_extension": ".py",
   "mimetype": "text/x-python",
   "name": "python",
   "nbconvert_exporter": "python",
   "pygments_lexer": "ipython3",
   "version": "3.11.5"
  }
 },
 "nbformat": 4,
 "nbformat_minor": 5
}
