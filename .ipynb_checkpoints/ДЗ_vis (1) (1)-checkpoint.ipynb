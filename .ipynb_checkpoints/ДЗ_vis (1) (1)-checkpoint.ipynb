{
 "cells": [
  {
   "cell_type": "markdown",
   "id": "0b1d5b95",
   "metadata": {},
   "source": [
    "# Домашнее задание 8"
   ]
  },
  {
   "cell_type": "markdown",
   "id": "dba1fdc4",
   "metadata": {},
   "source": [
    "Вам предстоит поработать с данными про отток клиентов банка и построить визуализации для них, отражающие те или иные закономерности."
   ]
  },
  {
   "cell_type": "markdown",
   "id": "59d4ed31",
   "metadata": {},
   "source": [
    "Описание признаков:\n",
    "\n",
    "* RowNumber - номер строки таблицы\n",
    "* CustomerId - идентификатор клиента\n",
    "* Surname - фамилия клиента\n",
    "* CreditScore - кредитный рейтинг клиента (чем он выше, тем больше клиент брал кредитов и возвращал их)\n",
    "* Geography - страна, из которой клиент (банк межнациональный)\n",
    "* Gender - пол клиента\n",
    "* Age - возраст клиента\n",
    "* Tenure - сколько лет клиент пользуется банком\n",
    "* Balance - сколько у клиента денег на счетах в банке\n",
    "* NumOfProduct - число услуг банка, которые приобрел клиент\n",
    "* HasCrCard - есть ли у клиента кредитная карта (1 - да, 0 - нет)\n",
    "* IsActiveMember - есть ли у клиента статус активного участника банка (1 - да, 0 - нет)\n",
    "* EstimatedSalary - предполагаемая заработная плата клиента\n",
    "* Exited - статус ушедшего (1 - ушедший клиент, 0 - лояльный клиент)\n"
   ]
  },
  {
   "cell_type": "code",
   "execution_count": null,
   "id": "048402a8",
   "metadata": {},
   "outputs": [],
   "source": [
    "import pandas as pd\n",
    "churn_data = pd.read_csv('churn.csv')\n",
    "churn_data.head()"
   ]
  },
  {
   "cell_type": "markdown",
   "id": "e80cf11c",
   "metadata": {},
   "source": [
    "## Задание 1"
   ]
  },
  {
   "cell_type": "markdown",
   "id": "350ea163",
   "metadata": {},
   "source": [
    "Визуализируйте распределение баланса пользователей. Попробуйте использовать хотя бы два типа графиков для этого. Подпишите оси и добавьте название графика. По желанию добавьте дополнительное оформление (например, поменяйте цвета или размер шрифта). "
   ]
  },
  {
   "cell_type": "code",
   "execution_count": null,
   "id": "c65a73cd",
   "metadata": {},
   "outputs": [],
   "source": [
    "# ваше прекрасное решение"
   ]
  },
  {
   "cell_type": "markdown",
   "id": "210a6fe2",
   "metadata": {},
   "source": [
    "## Задание 2"
   ]
  },
  {
   "cell_type": "markdown",
   "id": "940a0096",
   "metadata": {},
   "source": [
    "Как влияет наличие статуса активного клиента на отток клиентов? Постройте диаграмму, иллюстрирующую это. По желанию добавьте дополнительное оформление (например, поменяйте цвета или размер шрифта)."
   ]
  },
  {
   "cell_type": "code",
   "execution_count": null,
   "id": "b77dfede",
   "metadata": {},
   "outputs": [],
   "source": [
    "# ваше прекрасное решение"
   ]
  },
  {
   "cell_type": "markdown",
   "id": "0c8792c4",
   "metadata": {},
   "source": [
    "## Задание 3"
   ]
  },
  {
   "cell_type": "markdown",
   "id": "bc6c755c",
   "metadata": {},
   "source": [
    "Постройте еще диаграмму (или несколько!) на ваш вкус."
   ]
  },
  {
   "cell_type": "code",
   "execution_count": null,
   "id": "1de4292e",
   "metadata": {},
   "outputs": [],
   "source": [
    "# ваше прекрасное решение"
   ]
  },
  {
   "cell_type": "markdown",
   "id": "6d9ec78b",
   "metadata": {},
   "source": [
    "## Задание 4\n",
    "\n",
    "Сделайте интерактивную визуализацию по предложенным данным (статистика авиаперевозок).\n",
    "Изобразите на ней перевозки в каждом году за каждый месяц, при этом используйте столбчатые диаграммы: один столбец — данные за один месяц в конкретном году. Одновременно на графике должны отображаться 12 столбцов для сравнения динамики за все годы в выбранный месяц. Выбор месяца организуйте, используя слайдер. \n",
    "\n",
    "Вы должны получить следующую визуализацию: \n",
    "1. слайдер имеет 12 позиций\n",
    "2. позиции по месяцам (действительно, у нас всего 12 месяцев в каждом году)\n",
    "3. для каждого месяца, в каждой позиции визуализировано 12 столбцов — измерения в указанном месяце по конкретным годам (там всего 12 лет)."
   ]
  },
  {
   "cell_type": "code",
   "execution_count": null,
   "id": "b23c45ed",
   "metadata": {},
   "outputs": [],
   "source": [
    "df = pd.read_csv('hw_rt.csv')"
   ]
  },
  {
   "cell_type": "markdown",
   "id": "821668f6",
   "metadata": {},
   "source": [
    "Пример:"
   ]
  },
  {
   "cell_type": "markdown",
   "id": "d215ac7d",
   "metadata": {},
   "source": [
    "<a href=\"https://ibb.co/tPtTVvQ\"><img src=\"https://i.ibb.co/Wpw4mMG/2023-03-23-170012.jpg\" alt=\"2023-03-23-170012\" border=\"0\"></a>"
   ]
  },
  {
   "cell_type": "code",
   "execution_count": null,
   "id": "5a8cfa4b",
   "metadata": {},
   "outputs": [],
   "source": [
    "# ваше прекрасное решение"
   ]
  }
 ],
 "metadata": {
  "kernelspec": {
   "display_name": "Python 3 (ipykernel)",
   "language": "python",
   "name": "python3"
  },
  "language_info": {
   "codemirror_mode": {
    "name": "ipython",
    "version": 3
   },
   "file_extension": ".py",
   "mimetype": "text/x-python",
   "name": "python",
   "nbconvert_exporter": "python",
   "pygments_lexer": "ipython3",
   "version": "3.11.5"
  }
 },
 "nbformat": 4,
 "nbformat_minor": 5
}
