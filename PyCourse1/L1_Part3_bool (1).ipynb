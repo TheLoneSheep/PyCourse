{
 "cells": [
  {
   "cell_type": "markdown",
   "metadata": {},
   "source": [
    "**Центр непрерывного образования НИУ ВШЭ**\n",
    "\n",
    "## Программа «Python для автоматизации и анализа данных»\n",
    "\n",
    "###  Введение в Python. Функции. Целые и вещественные числа. \n",
    "\n",
    "\n",
    "*Автор: Бурова Маргарита, НИУ ВШЭ*"
   ]
  },
  {
   "cell_type": "markdown",
   "metadata": {},
   "source": [
    "# Типы данных: логические или булевы переменные (boolean)\n",
    "\n",
    "Следующий тип данных - это логические переменные. Логические переменные могут принимать всего два значения - **истина (True)** или **ложь (False)**. В Python тип обознчается **bool**."
   ]
  },
  {
   "cell_type": "code",
   "execution_count": 12,
   "metadata": {},
   "outputs": [
    {
     "name": "stdout",
     "output_type": "stream",
     "text": [
      "<class 'bool'> <class 'bool'>\n"
     ]
    }
   ],
   "source": [
    "print(type(True), type(False))"
   ]
  },
  {
   "cell_type": "markdown",
   "metadata": {},
   "source": [
    "Логические переменные чаще всего используется в условных операторах if-else и в цикле с остановкой по условию while. В части по анализу данных еще увидим одно частое применение - создание булевых масок для фильтрации данных (например, вывести только те данные, где возраст больше 20).\n",
    "\n",
    "Обратите внимание, что True и False обязательно пишутся с большой буквы и без кавычек, иначе можно получить ошибку."
   ]
  },
  {
   "cell_type": "code",
   "execution_count": 5,
   "metadata": {},
   "outputs": [
    {
     "name": "stdout",
     "output_type": "stream",
     "text": [
      "<class 'str'>\n"
     ]
    },
    {
     "ename": "NameError",
     "evalue": "name 'true' is not defined",
     "output_type": "error",
     "traceback": [
      "\u001b[1;31m---------------------------------------------------------------------------\u001b[0m",
      "\u001b[1;31mNameError\u001b[0m                                 Traceback (most recent call last)",
      "\u001b[1;32m~\\AppData\\Local\\Temp/ipykernel_7528/2441329859.py\u001b[0m in \u001b[0;36m<module>\u001b[1;34m\u001b[0m\n\u001b[0;32m      1\u001b[0m \u001b[0mprint\u001b[0m\u001b[1;33m(\u001b[0m\u001b[0mtype\u001b[0m\u001b[1;33m(\u001b[0m\u001b[1;34m'True'\u001b[0m\u001b[1;33m)\u001b[0m\u001b[1;33m)\u001b[0m \u001b[1;31m# тип str - строковая переменная\u001b[0m\u001b[1;33m\u001b[0m\u001b[1;33m\u001b[0m\u001b[0m\n\u001b[1;32m----> 2\u001b[1;33m \u001b[0mprint\u001b[0m\u001b[1;33m(\u001b[0m\u001b[0mtrue\u001b[0m\u001b[1;33m)\u001b[0m \u001b[1;31m# ошибка, Python думает, что это название переменной\u001b[0m\u001b[1;33m\u001b[0m\u001b[1;33m\u001b[0m\u001b[0m\n\u001b[0m",
      "\u001b[1;31mNameError\u001b[0m: name 'true' is not defined"
     ]
    }
   ],
   "source": [
    "print(type('True')) # тип str - строковая переменная\n",
    "print(true) # ошибка, Python думает, что это название переменной"
   ]
  },
  {
   "cell_type": "markdown",
   "metadata": {},
   "source": [
    "Как и в случае чисел и строк, с логическими переменными работает преобразование типов. Превратить что-либо в логическую переменную можно с помощью функции bool().\n",
    "\n",
    "Преобразование чисел работает следующим образом - 0 превращается в False, все остальное в True."
   ]
  },
  {
   "cell_type": "code",
   "execution_count": 33,
   "metadata": {},
   "outputs": [
    {
     "name": "stdout",
     "output_type": "stream",
     "text": [
      "False\n",
      "True\n",
      "True\n"
     ]
    }
   ],
   "source": [
    "print(bool(0))\n",
    "print(bool(23))\n",
    "print(bool(-10))"
   ]
  },
  {
   "cell_type": "markdown",
   "metadata": {},
   "source": [
    "Пустая строка преобразуется в False, все остальные строки в True."
   ]
  },
  {
   "cell_type": "code",
   "execution_count": 34,
   "metadata": {},
   "outputs": [
    {
     "name": "stdout",
     "output_type": "stream",
     "text": [
      "False\n",
      "True\n",
      "True\n",
      "True\n"
     ]
    }
   ],
   "source": [
    "print(bool(''))\n",
    "print(bool('Hello'))\n",
    "print(bool(' ')) # даже строка из одного пробела - это True\n",
    "print(bool('False')) # и даже строка 'False' - это True"
   ]
  },
  {
   "cell_type": "markdown",
   "metadata": {},
   "source": [
    "И при необходимости булеву переменную можно конвертировать в int. Тут все без сюрпризов - ноль и единица."
   ]
  },
  {
   "cell_type": "code",
   "execution_count": 23,
   "metadata": {},
   "outputs": [
    {
     "name": "stdout",
     "output_type": "stream",
     "text": [
      "1\n",
      "0\n"
     ]
    }
   ],
   "source": [
    "print(int(True))\n",
    "print(int(False))"
   ]
  },
  {
   "cell_type": "markdown",
   "metadata": {},
   "source": [
    "## Логические выражения\n",
    "\n",
    "Давайте посмотрим, где используется новый тип данных.\n",
    "\n",
    "Мы поработаем с логическими выражениями, результат которых - булевы переменные.\n",
    "\n",
    "Логические выражения выполняют проверку на истинность, то есть выражение равно True, если оно истинно, и False, если ложно.\n",
    "\n",
    "В логических выражениях используются операторы сравнения:\n",
    "* ==  (равно)\n",
    "* !=  (не равно)\n",
    "* \\>  (больше)\n",
    "* <  (меньше)\n",
    "* \\>=  (больше или равно)\n",
    "* <=  (меньше или равно)"
   ]
  },
  {
   "cell_type": "code",
   "execution_count": 24,
   "metadata": {},
   "outputs": [
    {
     "name": "stdout",
     "output_type": "stream",
     "text": [
      "True\n",
      "True\n",
      "False\n",
      "<class 'bool'>\n",
      "True\n"
     ]
    }
   ],
   "source": [
    "print(1 == 1)\n",
    "print(1 != '1') \n",
    "c = 1 > 3\n",
    "print(c)\n",
    "print(type(c))\n",
    "x = 5\n",
    "print(1 < x <= 5) # можно писать связки цепочкой"
   ]
  },
  {
   "cell_type": "markdown",
   "metadata": {},
   "source": [
    "Логические выражения можно комбинировать с помощью следующих логических операторов:\n",
    "\n",
    "* логическое И (and) - выражение истинно, только когда обе части истинны, иначе оно ложно\n",
    "* логическое ИЛИ (or) - выражение ложно, только когда обе части ложны, иначе оно истинно\n",
    "* логическое отрицание (not) - превращает True в False и наоборот"
   ]
  },
  {
   "cell_type": "code",
   "execution_count": 8,
   "metadata": {},
   "outputs": [
    {
     "name": "stdout",
     "output_type": "stream",
     "text": [
      "False\n",
      "True\n",
      "False\n",
      "True\n",
      "0\n"
     ]
    }
   ],
   "source": [
    "print((1 == 1) and ('1' == 1))\n",
    "print((1 == 1) or ('1' == 1))\n",
    "print(not(1 == 1))\n",
    "print(((1 == 1) or ('1' == 1)) and (2 == 2))\n",
    "print(False * 2)"
   ]
  },
  {
   "cell_type": "markdown",
   "metadata": {},
   "source": [
    "## (∩｀-´)⊃━☆ﾟ.*･｡ﾟ Задача\n",
    "## Вася в Италии\n",
    "\n",
    "Вася уехал учиться по обмену на один семестр в Италию. Единственный магазин в городе открыт с 6 до 8 утра и с 16 до 17 вечера (включительно). Вася не мог попасть в магазин уже несколько дней и страдает от голода. Он может прийти в магазин в X часов. Если магазин открыт в X часов, то выведите True, а если закрыт - выведите False.\n",
    "\n",
    "В единственной строке входных данных вводится целое число X, число находится в пределах от 0 до 23\n",
    "\n",
    "**Формат ввода**  \n",
    "\n",
    "Целое число X, число находится в пределах от 0 до 23\n",
    "\n",
    "**Формат вывода**\n",
    "\n",
    "True или False\n",
    "\n",
    "#### Примеры\n",
    "\n",
    "Тест 1  \n",
    "**Входные данные:**  \n",
    "16\n",
    "\n",
    "**Вывод программы:**  \n",
    "True"
   ]
  },
  {
   "cell_type": "code",
   "execution_count": 14,
   "metadata": {},
   "outputs": [
    {
     "name": "stdout",
     "output_type": "stream",
     "text": [
      "True\n",
      "True\n"
     ]
    }
   ],
   "source": [
    "## (∩｀-´)⊃━☆ﾟ.*･｡ﾟ \n",
    "x = 17\n",
    "print((x >= 6 and x < 8) or (x >= 16 and x <= 17)) # или x < 18\n",
    "print((6 <= x < 8) or (16 <= x <= 17))"
   ]
  },
  {
   "cell_type": "markdown",
   "metadata": {},
   "source": [
    "## Переменные"
   ]
  },
  {
   "cell_type": "markdown",
   "metadata": {},
   "source": [
    "В Python мы можем записывать в переменные какие-либо значения (или наборы значений):"
   ]
  },
  {
   "cell_type": "code",
   "execution_count": 3,
   "metadata": {},
   "outputs": [
    {
     "ename": "NameError",
     "evalue": "name 'MyName' is not defined",
     "output_type": "error",
     "traceback": [
      "\u001b[1;31m---------------------------------------------------------------------------\u001b[0m",
      "\u001b[1;31mNameError\u001b[0m                                 Traceback (most recent call last)",
      "\u001b[1;32m~\\AppData\\Local\\Temp\\ipykernel_13444\\28246794.py\u001b[0m in \u001b[0;36m<module>\u001b[1;34m\u001b[0m\n\u001b[1;32m----> 1\u001b[1;33m \u001b[0mMyName\u001b[0m\u001b[1;33m\u001b[0m\u001b[1;33m\u001b[0m\u001b[0m\n\u001b[0m\u001b[0;32m      2\u001b[0m \u001b[0mmy_name\u001b[0m\u001b[1;33m\u001b[0m\u001b[1;33m\u001b[0m\u001b[0m\n\u001b[0;32m      3\u001b[0m \u001b[0mMy_name\u001b[0m\u001b[1;33m\u001b[0m\u001b[1;33m\u001b[0m\u001b[0m\n",
      "\u001b[1;31mNameError\u001b[0m: name 'MyName' is not defined"
     ]
    }
   ],
   "source": [
    "MyName\n",
    "my_name\n",
    "My_name"
   ]
  },
  {
   "cell_type": "code",
   "execution_count": 4,
   "metadata": {},
   "outputs": [],
   "source": [
    "number = 99\n",
    "my_name = 'Маргарита'"
   ]
  },
  {
   "cell_type": "code",
   "execution_count": 5,
   "metadata": {},
   "outputs": [
    {
     "name": "stdout",
     "output_type": "stream",
     "text": [
      "99\n",
      "Маргарита\n"
     ]
    }
   ],
   "source": [
    "print(number)\n",
    "print(my_name)"
   ]
  },
  {
   "cell_type": "markdown",
   "metadata": {},
   "source": [
    "Если мы будем реализовывать какие-то действия с переменными, то они будут осуществляться со значениями, которые записаны в эти переменные:"
   ]
  },
  {
   "cell_type": "code",
   "execution_count": 6,
   "metadata": {},
   "outputs": [
    {
     "name": "stdout",
     "output_type": "stream",
     "text": [
      "МаргаритаМаргаритаМаргаритаМаргаритаМаргаритаМаргаритаМаргаритаМаргаритаМаргаритаМаргаритаМаргаритаМаргаритаМаргаритаМаргаритаМаргаритаМаргаритаМаргаритаМаргаритаМаргаритаМаргаритаМаргаритаМаргаритаМаргаритаМаргаритаМаргаритаМаргаритаМаргаритаМаргаритаМаргаритаМаргаритаМаргаритаМаргаритаМаргаритаМаргаритаМаргаритаМаргаритаМаргаритаМаргаритаМаргаритаМаргаритаМаргаритаМаргаритаМаргаритаМаргаритаМаргаритаМаргаритаМаргаритаМаргаритаМаргаритаМаргаритаМаргаритаМаргаритаМаргаритаМаргаритаМаргаритаМаргаритаМаргаритаМаргаритаМаргаритаМаргаритаМаргаритаМаргаритаМаргаритаМаргаритаМаргаритаМаргаритаМаргаритаМаргаритаМаргаритаМаргаритаМаргаритаМаргаритаМаргаритаМаргаритаМаргаритаМаргаритаМаргаритаМаргаритаМаргаритаМаргаритаМаргаритаМаргаритаМаргаритаМаргаритаМаргаритаМаргаритаМаргаритаМаргаритаМаргаритаМаргаритаМаргаритаМаргаритаМаргаритаМаргаритаМаргаритаМаргаритаМаргаритаМаргаритаМаргарита\n"
     ]
    }
   ],
   "source": [
    "print(number*my_name)"
   ]
  },
  {
   "cell_type": "markdown",
   "metadata": {},
   "source": [
    "# Команда input()"
   ]
  },
  {
   "cell_type": "markdown",
   "metadata": {},
   "source": [
    "Ранее наши программы выводили на экран только фразы, известные в момент написания кода. Но программы могут работать и с данными, которые станут известны только во время выполнения: например, их будет вводить пользователь с клавиатуры. Реализовать это можно так:"
   ]
  },
  {
   "cell_type": "code",
   "execution_count": 17,
   "metadata": {},
   "outputs": [
    {
     "name": "stdout",
     "output_type": "stream",
     "text": [
      "Как тебя зовут?\n",
      "123\n",
      "Привет, 123\n"
     ]
    }
   ],
   "source": [
    "print('Как тебя зовут?')\n",
    "name = input()\n",
    "print('Привет,', name)"
   ]
  },
  {
   "cell_type": "markdown",
   "metadata": {},
   "source": [
    "Команда input() всегда записыввется c круглыми скобками. Работает так: когда программа доходит до места, где есть input(), она ждет, пока пользователь введет строку с клавиатуры (ввод завершается нажатием клавиши Enter). Введенная строка подставляется на место input(). Т.е. input() получает от пользователя какие-то данные и в место вызова подставляет строковое значение, в нашем случае записывает его в качестве значения переменной <b>name</b>. "
   ]
  }
 ],
 "metadata": {
  "kernelspec": {
   "display_name": "Python 3 (ipykernel)",
   "language": "python",
   "name": "python3"
  },
  "language_info": {
   "codemirror_mode": {
    "name": "ipython",
    "version": 3
   },
   "file_extension": ".py",
   "mimetype": "text/x-python",
   "name": "python",
   "nbconvert_exporter": "python",
   "pygments_lexer": "ipython3",
   "version": "3.8.8"
  }
 },
 "nbformat": 4,
 "nbformat_minor": 4
}
