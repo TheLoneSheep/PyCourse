{
 "cells": [
  {
   "cell_type": "markdown",
   "metadata": {},
   "source": [
    "# Python для анализа данных\n",
    "\n",
    "*Алла Тамбовцева, НИУ ВШЭ*"
   ]
  },
  {
   "cell_type": "markdown",
   "metadata": {},
   "source": [
    "## Web-scraping\n",
    "\n",
    "Мы уже немного познакомились со структурой html-файлов, теперь попробуем выгрузить информацию из реальной страницы, а точнее, с реального сайта [nplus1.ru](https://nplus1.ru/).\n",
    "\n",
    "**Наша задача:** выгрузить недавние новости в датафрейм `pandas`, чтобы потом сохранить все в csv-файл.\n",
    "\n",
    "Сначала сгрузим весь html-код страницы и сохраним его в отдельную переменную. Для этого нам понадобится библиотека `requests`. Импортируем её:"
   ]
  },
  {
   "cell_type": "code",
   "execution_count": 1,
   "metadata": {},
   "outputs": [],
   "source": [
    "import requests"
   ]
  },
  {
   "cell_type": "markdown",
   "metadata": {},
   "source": [
    "Сохраним ссылку на главную страницу сайта в переменную `url` для удобства и выгрузим страницу. (Разумеется, это будет работать при подключении к интернету. Если соединение будет отключено, Python выдаст `NewConnectionError`)."
   ]
  },
  {
   "cell_type": "code",
   "execution_count": 2,
   "metadata": {},
   "outputs": [],
   "source": [
    "url = 'https://nplus1.ru/' # сохраняем\n",
    "page = requests.get(url) # загружаем страницу по ссылке"
   ]
  },
  {
   "cell_type": "markdown",
   "metadata": {},
   "source": [
    "Если мы просто посмотрим на объект, мы ничего особенного не увидим:"
   ]
  },
  {
   "cell_type": "code",
   "execution_count": 3,
   "metadata": {},
   "outputs": [
    {
     "data": {
      "text/plain": [
       "<Response [200]>"
      ]
     },
     "execution_count": 3,
     "metadata": {},
     "output_type": "execute_result"
    }
   ],
   "source": [
    "page  # response 200 - страница загружена"
   ]
  },
  {
   "cell_type": "code",
   "execution_count": 4,
   "metadata": {},
   "outputs": [],
   "source": [
    "# page.text"
   ]
  },
  {
   "cell_type": "markdown",
   "metadata": {},
   "source": [
    "Импортируем функцию `BeautifulSoup` из библиотеки `bs4` (от *beautifulsoup4*) и заберём со страницы `page` код html в виде текста. "
   ]
  },
  {
   "cell_type": "code",
   "execution_count": 5,
   "metadata": {},
   "outputs": [],
   "source": [
    "from bs4 import BeautifulSoup  # не спрашивайте, почему BeautifulSoup"
   ]
  },
  {
   "cell_type": "code",
   "execution_count": 6,
   "metadata": {},
   "outputs": [],
   "source": [
    "soup = BeautifulSoup(page.text, 'html')"
   ]
  },
  {
   "cell_type": "markdown",
   "metadata": {},
   "source": [
    "Если выведем `soup` на экран, мы увидим то же самое, что в режиме разработчика или в режиме происмотра исходного кода (`view-source` через *Ctrl+U* в Google Chrome)."
   ]
  },
  {
   "cell_type": "code",
   "execution_count": 7,
   "metadata": {},
   "outputs": [],
   "source": [
    "# soup"
   ]
  },
  {
   "cell_type": "markdown",
   "metadata": {},
   "source": [
    "Для просмотра выглядит не очень удобно.  «Причешем» наш `soup` – воспользуемся методом `.prettify()` в сочетании с функцией `print()`."
   ]
  },
  {
   "cell_type": "code",
   "execution_count": 8,
   "metadata": {},
   "outputs": [],
   "source": [
    "# print(soup.prettify())"
   ]
  },
  {
   "cell_type": "markdown",
   "metadata": {},
   "source": [
    "В такой выдаче ориентироваться гораздо удобнее (но при желании, то же можно увидеть в браузере, на большом экране)."
   ]
  },
  {
   "cell_type": "markdown",
   "metadata": {},
   "source": [
    "\n",
    "Чтобы сгрузить все новости с главной страницы сайта, нужно собрать все ссылки на страницы с этими новостями. Ссылки в html-файле всегда заключены в тэг `<a></a>` и имеют атрибут `href`. Посмотрим на кусочки кода, соответствующие всем ссылкам на главной странице сайта:"
   ]
  },
  {
   "cell_type": "code",
   "execution_count": 9,
   "metadata": {
    "scrolled": true
   },
   "outputs": [
    {
     "name": "stdout",
     "output_type": "stream",
     "text": [
      "/search\n",
      "https://offline.nplus1.ru/\n",
      "https://nplus.pro/\n",
      "https://nplus1.ru/about\n",
      "https://nplus1.ru/difficult\n",
      "https://nplus1.ru/adv\n",
      "https://nplus1.ru/blog/2022/04/01/samotek\n",
      "https://nplus1.ru/search?tags=946\n",
      "https://nplus1.ru/search?tags=869\n",
      "https://nplus1.ru/search?tags=874\n",
      "https://nplus1.ru/search?tags=880\n",
      "https://nplus1.ru/search?tags=768\n",
      "https://nplus1.ru/search?tags=890\n",
      "https://nplus1.ru/search?tags=871\n",
      "https://nplus1.ru/search?tags=876\n",
      "https://nplus1.ru/search?tags=775\n",
      "https://nplus1.ru/search?tags=767\n",
      "https://nplus1.ru/search?tags=771\n",
      "https://nplus1.ru/search?tags=772\n",
      "https://nplus1.ru/search?tags=778\n",
      "https://nplus1.ru/search?tags=917\n",
      "https://nplus1.ru/search?tags=918\n",
      "https://nplus1.ru/search?tags=824\n",
      "https://t.me/nplusone\n",
      "https://vk.com/nplusone\n",
      "https://ok.ru/nplus1\n",
      "https://twitter.com/nplusodin\n",
      "https://nplus1.ru/about\n",
      "https://nplus1.ru/difficult\n",
      "https://nplus1.ru/adv\n",
      "https://nplus1.ru/blog/2022/04/01/samotek\n",
      "https://nplus1.ru/search?tags=946\n",
      "https://nplus1.ru/search?tags=869\n",
      "https://nplus1.ru/search?tags=874\n",
      "https://nplus1.ru/search?tags=880\n",
      "https://nplus1.ru/search?tags=768\n",
      "https://nplus1.ru/search?tags=890\n",
      "https://nplus1.ru/search?tags=871\n",
      "https://nplus1.ru/search?tags=876\n",
      "https://nplus1.ru/search?tags=775\n",
      "https://nplus1.ru/search?tags=767\n",
      "https://nplus1.ru/search?tags=771\n",
      "https://nplus1.ru/search?tags=772\n",
      "https://nplus1.ru/search?tags=778\n",
      "https://nplus1.ru/search?tags=917\n",
      "https://nplus1.ru/search?tags=918\n",
      "https://nplus1.ru/search?tags=824\n",
      "https://offline.nplus1.ru/\n",
      "https://nplus.pro/\n",
      "https://t.me/nplusone\n",
      "https://vk.com/nplusone\n",
      "https://ok.ru/nplus1\n",
      "https://twitter.com/nplusodin\n",
      "https://nplus1.ru/search?tags=885\n",
      "/material/difficulty/6\n",
      "https://nplus1.ru/material/2025/02/21/bipaternalism\n",
      "https://nplus1.ru/search?tags=874\n",
      "/material/difficulty/4\n",
      "https://nplus1.ru/material/2025/02/14/pivot\n",
      "https://nplus1.ru/search?tags=908\n",
      "/material/difficulty/2\n",
      "https://nplus1.ru/blog/2025/02/27/perst-54\n",
      "https://nplus1.ru/search?tags=874\n",
      "/material/difficulty/3\n",
      "https://nplus1.ru/news/2025/02/26/dogs-yellow-bowls\n",
      "/news/2025/02/28\n",
      "https://nplus1.ru/search?tags=873\n",
      "/material/difficulty/1\n",
      "https://nplus1.ru/news/2025/02/28/semaglutide-vs-cocaine\n",
      "/news/2025/02/28\n",
      "https://nplus1.ru/search?tags=873\n",
      "/material/difficulty/1\n",
      "https://nplus1.ru/news/2025/02/28/yet-still-emergency\n",
      "/news/2025/02/28\n",
      "https://nplus1.ru/search?tags=883\n",
      "/material/difficulty/1\n",
      "https://nplus1.ru/news/2025/02/28/figure-helix\n",
      "/news/2025/02/27\n",
      "https://nplus1.ru/search?tags=873\n",
      "/material/difficulty/2\n",
      "https://nplus1.ru/news/2025/02/27/get-the-achievement\n",
      "/news/2025/02/27\n",
      "https://nplus1.ru/search?tags=871\n",
      "/material/difficulty/3\n",
      "https://nplus1.ru/news/2025/02/27/im-2-start\n",
      "/news/2025/02/27\n",
      "https://nplus1.ru/search?tags=873\n",
      "/material/difficulty/2\n",
      "https://nplus1.ru/news/2025/02/27/brain-adult-solitaire\n",
      "/news/2025/02/27\n",
      "https://nplus1.ru/search?tags=873\n",
      "/material/difficulty/1\n",
      "https://nplus1.ru/news/2025/02/27/parents-brains\n",
      "/news/2025/02/27\n",
      "https://nplus1.ru/search?tags=874\n",
      "/material/difficulty/2\n",
      "https://nplus1.ru/news/2025/02/27/black-squirrels-roads\n",
      "/news/2025/02/27\n",
      "https://nplus1.ru/search?tags=876\n",
      "/material/difficulty/2\n",
      "https://nplus1.ru/news/2025/02/27/mesolithic-engraved-tool-pendant\n",
      "/news/2025/02/27\n",
      "https://nplus1.ru/search?tags=885\n",
      "/material/difficulty/2\n",
      "https://nplus1.ru/news/2025/02/27/functionome-adds-to-omics\n",
      "/news/2025/02/27\n",
      "https://nplus1.ru/search?tags=873\n",
      "/material/difficulty/1\n",
      "https://nplus1.ru/news/2025/02/27/status-epilepticus\n",
      "/news/2025/02/26\n",
      "https://nplus1.ru/search?tags=873\n",
      "/material/difficulty/3\n",
      "https://nplus1.ru/news/2025/02/26/heat-aging\n",
      "https://nplus1.ru/blog/2025/02/27/book-digest-1\n",
      "/blog/2025/02/27\n",
      "https://nplus1.ru/search?tags=824\n",
      "/material/difficulty/2\n",
      "https://nplus1.ru/blog/2025/02/27/book-digest-1\n",
      "https://nplus1.ru/blog/2025/02/26/the-elephant-in-the-universe\n",
      "/blog/2025/02/26\n",
      "https://nplus1.ru/search?tags=869\n",
      "/material/difficulty/1\n",
      "https://nplus1.ru/blog/2025/02/26/the-elephant-in-the-universe\n",
      "/news/2025/02/26\n",
      "https://nplus1.ru/search?tags=872\n",
      "/material/difficulty/3\n",
      "https://nplus1.ru/news/2025/02/26/amoc-withstanding\n",
      "/news/2025/02/26\n",
      "/material/difficulty/8\n",
      "https://nplus1.ru/news/2025/02/26/amazon-sobrala-vycislitel-na-kosacix-kubitax\n",
      "https://nplus1.ru/material/2025/02/10/vyzov-2024-breakthroughs\n",
      "/material/2025/02/10\n",
      "https://nplus1.ru/search?tags=869\n",
      "/material/difficulty/5\n",
      "https://nplus1.ru/material/2025/02/10/vyzov-2024-breakthroughs\n",
      "https://nplus1.ru/material/2025/01/30/lost-legs\n",
      "https://nplus1.ru/search?tags=874\n",
      "/material/difficulty/4\n",
      "https://nplus1.ru/material/2025/01/30/lost-legs\n",
      "/blog/2025/02/24\n",
      "https://nplus1.ru/search?tags=817\n",
      "/material/difficulty/1\n",
      "/author/led\n",
      "https://nplus1.ru/blog/2025/02/24/tiere-im-nationalsozialismus\n",
      "/news/2025/02/26\n",
      "https://nplus1.ru/search?tags=876\n",
      "/material/difficulty/3\n",
      "https://nplus1.ru/news/2025/02/26/early-african-in-the-rainforest\n",
      "/news/2025/02/26\n",
      "https://nplus1.ru/search?tags=873\n",
      "/material/difficulty/3\n",
      "https://nplus1.ru/news/2025/02/26/pupillary-reflex-reaction-prp\n",
      "/news/2025/02/26\n",
      "https://nplus1.ru/search?tags=874\n",
      "/material/difficulty/1\n",
      "https://nplus1.ru/news/2025/02/26/chimp-cultural-loss\n",
      "https://nplus1.ru/material/2025/01/23/pollen-and-spore\n",
      "/material/2025/01/23\n",
      "https://nplus1.ru/search?tags=889\n",
      "/material/difficulty/2\n",
      "https://nplus1.ru/material/2025/01/23/pollen-and-spore\n",
      "/news/2025/02/26\n",
      "https://nplus1.ru/search?tags=877\n",
      "/material/difficulty/3\n",
      "https://nplus1.ru/news/2025/02/26/red-princess-of-the-silk-road\n",
      "/news/2025/02/26\n",
      "https://nplus1.ru/search?tags=873\n",
      "/material/difficulty/2\n",
      "https://nplus1.ru/news/2025/02/26/melatoninely-repaired\n",
      "https://nplus1.ru/material/2025/01/06/svyatki\n",
      "/material/2025/01/06\n",
      "https://nplus1.ru/search?tags=877\n",
      "/material/difficulty/3\n",
      "https://nplus1.ru/material/2025/01/06/svyatki\n",
      "https://nplus1.ru/material/2025/01/03/choose-your-bigfoot\n",
      "https://nplus1.ru/search?tags=877\n",
      "/material/difficulty/3\n",
      "https://nplus1.ru/material/2025/01/03/choose-your-bigfoot\n",
      "/blog/2025/02/20\n",
      "https://nplus1.ru/search?tags=908\n",
      "/material/difficulty/2\n",
      "/author/perst\n",
      "https://nplus1.ru/blog/2025/02/20/perst-53\n",
      "/news/2025/02/26\n",
      "https://nplus1.ru/search?tags=873\n",
      "/material/difficulty/1\n",
      "https://nplus1.ru/news/2025/02/26/of-birds-and-rats\n",
      "/news/2025/02/26\n",
      "https://nplus1.ru/search?tags=873\n",
      "/material/difficulty/1\n",
      "https://nplus1.ru/news/2025/02/26/is-not-it-refreshing\n",
      "/news/2025/02/26\n",
      "https://nplus1.ru/search?tags=874\n",
      "/material/difficulty/3\n",
      "https://nplus1.ru/news/2025/02/26/mice-intensive-care\n",
      "https://nplus1.ru/material/2025/01/02/dendrochristmas\n",
      "/material/2025/01/02\n",
      "https://nplus1.ru/search?tags=872\n",
      "/material/difficulty/4\n",
      "https://nplus1.ru/material/2025/01/02/dendrochristmas\n",
      "/news/2025/02/26\n",
      "https://nplus1.ru/search?tags=873\n",
      "/material/difficulty/1\n",
      "https://nplus1.ru/news/2025/02/26/unexplained-but-lethal\n",
      "/news/2025/02/25\n",
      "https://nplus1.ru/search?tags=880\n",
      "/material/difficulty/6\n",
      "https://nplus1.ru/news/2025/02/25/martian-inner-core\n",
      "https://nplus1.ru/material/2024/12/31/wild-santa\n",
      "/material/2024/12/31\n",
      "https://nplus-1.ru/search?tags=874\n",
      "/material/difficulty/3\n",
      "https://nplus1.ru/material/2024/12/31/wild-santa\n",
      "https://nplus1.ru/material/2024/12/28/dopamine-in-health\n",
      "https://nplus1.ru/search?tags=812\n",
      "/material/difficulty/4\n",
      "https://nplus1.ru/material/2024/12/28/dopamine-in-health\n",
      "/blog/2025/02/19\n",
      "https://nplus1.ru/search?tags=817\n",
      "/material/difficulty/1\n",
      "/author/led\n",
      "https://nplus1.ru/blog/2025/02/19/crow\n",
      "/news/2025/02/25\n",
      "https://nplus1.ru/search?tags=880\n",
      "/material/difficulty/5\n",
      "https://nplus1.ru/news/2025/02/25/callisto-ocean\n",
      "/news/2025/02/25\n",
      "https://nplus1.ru/search?tags=873\n",
      "/material/difficulty/2\n",
      "https://nplus1.ru/news/2025/02/25/h5n1-cats\n",
      "/news/2025/02/25\n",
      "https://nplus1.ru/search?tags=873\n",
      "/material/difficulty/3\n",
      "https://nplus1.ru/news/2025/02/25/vaccine-pancreas-cancer\n",
      "https://nplus1.ru/material/2024/12/27/migraine\n",
      "/material/2024/12/27\n",
      "https://nplus1.ru/search?tags=812\n",
      "/material/difficulty/1\n",
      "https://nplus1.ru/material/2024/12/27/migraine\n",
      "/news/2025/02/25\n",
      "https://nplus1.ru/search?tags=872\n",
      "/material/difficulty/1\n",
      "https://nplus1.ru/news/2025/02/25/caucasus-ices\n",
      "/news/2025/02/25\n",
      "https://nplus1.ru/search?tags=877\n",
      "/material/difficulty/5\n",
      "https://nplus1.ru/news/2025/02/25/xiongnu-and-huns\n",
      "https://nplus1.ru/material/2024/12/27/light-pollution\n",
      "/material/2024/12/27\n",
      "https://nplus1.ru/search?tags=812\n",
      "/material/difficulty/2\n",
      "https://nplus1.ru/material/2024/12/27/light-pollution\n",
      "https://nplus1.ru/material/2024/12/20/science-2024\n",
      "https://nplus1.ru/search?tags=903\n",
      "/material/difficulty/1\n",
      "https://nplus1.ru/material/2024/12/20/science-2024\n",
      "/blog/2025/02/17\n",
      "https://nplus1.ru/search?tags=817\n",
      "/material/difficulty/1\n",
      "/author/led\n",
      "https://nplus1.ru/blog/2025/02/17/nero\n",
      "/news/2025/02/25\n",
      "https://nplus1.ru/search?tags=873\n",
      "/material/difficulty/4\n",
      "https://nplus1.ru/news/2025/02/25/adhd-amlodipine\n",
      "/news/2025/02/25\n",
      "https://nplus1.ru/search?tags=883\n",
      "/material/difficulty/1\n",
      "https://nplus1.ru/news/2025/02/25/1x-neo-gamma\n",
      "/news/2025/02/25\n",
      "https://nplus1.ru/search?tags=873\n",
      "/material/difficulty/1\n",
      "https://nplus1.ru/news/2025/02/25/get-breast-checkups\n",
      "https://nplus1.ru/material/2024/12/18/practical-ml\n",
      "/material/2024/12/18\n",
      "https://nplus1.ru/search?tags=899\n",
      "/material/difficulty/2\n",
      "https://nplus1.ru/material/2024/12/18/practical-ml\n",
      "/news/2025/02/24\n",
      "https://nplus1.ru/search?tags=880\n",
      "/material/difficulty/4\n",
      "https://nplus1.ru/news/2025/02/24/martian-ancient-ocean\n",
      "/news/2025/02/24\n",
      "https://nplus1.ru/search?tags=874\n",
      "/material/difficulty/1\n",
      "https://nplus1.ru/news/2025/02/24/big-birds-problem-solving\n",
      "https://nplus1.ru/material/2024/12/13/nature-2024\n",
      "/material/2024/12/13\n",
      "https://nplus1.ru/search?tags=903\n",
      "/material/difficulty/2\n",
      "https://nplus1.ru/material/2024/12/13/nature-2024\n",
      "https://nplus1.ru/material/2024/12/13/nothing-to-laugh-at\n",
      "https://nplus1.ru/search?tags=885\n",
      "/material/difficulty/4\n",
      "https://nplus1.ru/material/2024/12/13/nothing-to-laugh-at\n",
      "/blog/2025/02/13\n",
      "https://nplus1.ru/search?tags=908\n",
      "/material/difficulty/2\n",
      "/author/perst\n",
      "https://nplus1.ru/blog/2025/02/13/perst-52\n",
      "/news/2025/02/24\n",
      "https://nplus1.ru/search?tags=877\n",
      "/material/difficulty/3\n",
      "https://nplus1.ru/news/2025/02/24/bayanbulag\n",
      "/news/2025/02/24\n",
      "https://nplus1.ru/search?tags=883\n",
      "/material/difficulty/1\n",
      "https://nplus1.ru/news/2025/02/24/engineai-pm01-robot-frontflip\n",
      "/news/2025/02/24\n",
      "https://nplus1.ru/search?tags=874\n",
      "/material/difficulty/1\n",
      "https://nplus1.ru/news/2025/02/24/wisdom-brand-new-chick\n",
      "https://nplus1.ru/material/2024/12/05/science-in-asia-2\n",
      "/material/2024/12/05\n",
      "https://nplus1.ru/search?tags=812\n",
      "/material/difficulty/2\n",
      "https://nplus1.ru/material/2024/12/05/science-in-asia-2\n",
      "https://nplus1.ru/blog/2025/02/13/serfdom-and-turgenev\n",
      "/blog/2025/02/13\n",
      "https://nplus1.ru/search?tags=898\n",
      "/material/difficulty/3\n",
      "https://nplus1.ru/blog/2025/02/13/serfdom-and-turgenev\n",
      "https://nplus1.ru/material/2025/02/07/quantum-correction\n",
      "/material/2025/02/07\n",
      "https://nplus1.ru/search?tags=869\n",
      "/material/difficulty/8\n",
      "https://nplus1.ru/material/2025/02/07/quantum-correction\n",
      "https://nplus1.ru/news/2025/02/07/vegavis-iaai-skull\n",
      "https://nplus1.ru/material/2025/02/07/quantum-correction\n",
      "https://nplus1.ru/news/2025/02/10/elastocaloric-cooling\n",
      "https://nplus1.ru/material/2025/02/10/vyzov-2024-breakthroughs\n",
      "https://nplus1.ru/news/2025/02/10/inner-core-boundary-deformation\n",
      "https://nplus1.ru/news/2025/02/10/tibetan-plateau-tectonic-evolution\n",
      "https://nplus1.ru/news/2025/02/11/cma-neurostimulation\n",
      "https://nplus1.ru/news/2025/02/12/km3net-signal-verified\n",
      "https://nplus1.ru/news/2025/02/17/stress-mouse-auditory-cortex\n",
      "https://nplus1.ru/news/2025/02/21/single-shot-interferometric-measurement-of-fermion-parity\n",
      "https://nplus1.ru/material/2025/02/21/bipaternalism\n",
      "https://nplus1.ru/news/2025/02/25/xiongnu-and-huns\n",
      "https://nplus1.ru/news/2025/02/25/callisto-ocean\n",
      "https://nplus1.ru/news/2025/02/25/martian-inner-core\n",
      "https://nplus1.ru/news/2025/02/26/amazon-sobrala-vycislitel-na-kosacix-kubitax\n",
      "https://nplus1.ru/about\n",
      "https://nplus1.ru/difficult\n",
      "https://nplus1.ru/adv\n",
      "https://nplus1.ru/blog/2022/04/01/samotek\n",
      "/cdn-cgi/l/email-protection#a6c8cae6c8d6cad3d59788d4d3\n",
      "/cdn-cgi/l/email-protection#167f7870795678667a636527386463\n",
      "/personal-data-policy\n",
      "https://t.me/nplusone\n",
      "https://vk.com/nplusone\n",
      "https://ok.ru/nplus1\n",
      "https://twitter.com/nplusodin\n"
     ]
    }
   ],
   "source": [
    "for link in soup.find_all('a'):\n",
    "    print(link.get('href'))\n",
    "#     break"
   ]
  },
  {
   "cell_type": "markdown",
   "metadata": {},
   "source": [
    "Ссылок много. Но нам нужны только новости – ссылки, которые начинаются со слова `/news`. Добавим условие: будем выбирать только те ссылки, в которых есть `/news`. Создадим пустой список `urls` и будем добавлять в него только ссылки, которые удовлетворяют этому условию."
   ]
  },
  {
   "cell_type": "code",
   "execution_count": 15,
   "metadata": {},
   "outputs": [],
   "source": [
    "# urls = []\n",
    "\n",
    "# for link in soup.find_all('a'):\n",
    "#     if '/news' in link.get('href'):\n",
    "#         urls.append('https://nplus1.ru'+link.get('href'))\n",
    "\n",
    "urls = [link.get('href') \n",
    "        for link in soup.find_all('a') \n",
    "        if 'https://nplus1.ru/news/2025' in link.get('href')]"
   ]
  },
  {
   "cell_type": "markdown",
   "metadata": {},
   "source": [
    "Ссылки, которые у нас есть в списке `urls`, относительные: они неполные, начало ссылки (название сайта) отсутствует. Давайте превратим их в абсолютные ‒ склеим с ссылкой https://nplus1.ru."
   ]
  },
  {
   "cell_type": "code",
   "execution_count": 16,
   "metadata": {},
   "outputs": [
    {
     "data": {
      "text/plain": [
       "['https://nplus1.ru/news/2025/02/26/dogs-yellow-bowls',\n",
       " 'https://nplus1.ru/news/2025/02/28/semaglutide-vs-cocaine',\n",
       " 'https://nplus1.ru/news/2025/02/28/yet-still-emergency',\n",
       " 'https://nplus1.ru/news/2025/02/28/figure-helix',\n",
       " 'https://nplus1.ru/news/2025/02/27/get-the-achievement']"
      ]
     },
     "execution_count": 16,
     "metadata": {},
     "output_type": "execute_result"
    }
   ],
   "source": [
    "urls[:5]"
   ]
  },
  {
   "cell_type": "code",
   "execution_count": 17,
   "metadata": {},
   "outputs": [
    {
     "data": {
      "text/plain": [
       "['https://nplus1.ru/news/2025/02/26/dogs-yellow-bowls',\n",
       " 'https://nplus1.ru/news/2025/02/28/semaglutide-vs-cocaine',\n",
       " 'https://nplus1.ru/news/2025/02/28/yet-still-emergency',\n",
       " 'https://nplus1.ru/news/2025/02/28/figure-helix',\n",
       " 'https://nplus1.ru/news/2025/02/27/get-the-achievement',\n",
       " 'https://nplus1.ru/news/2025/02/27/im-2-start',\n",
       " 'https://nplus1.ru/news/2025/02/27/brain-adult-solitaire',\n",
       " 'https://nplus1.ru/news/2025/02/27/parents-brains',\n",
       " 'https://nplus1.ru/news/2025/02/27/black-squirrels-roads',\n",
       " 'https://nplus1.ru/news/2025/02/27/mesolithic-engraved-tool-pendant',\n",
       " 'https://nplus1.ru/news/2025/02/27/functionome-adds-to-omics',\n",
       " 'https://nplus1.ru/news/2025/02/27/status-epilepticus',\n",
       " 'https://nplus1.ru/news/2025/02/26/heat-aging',\n",
       " 'https://nplus1.ru/news/2025/02/26/amoc-withstanding',\n",
       " 'https://nplus1.ru/news/2025/02/26/amazon-sobrala-vycislitel-na-kosacix-kubitax',\n",
       " 'https://nplus1.ru/news/2025/02/26/early-african-in-the-rainforest',\n",
       " 'https://nplus1.ru/news/2025/02/26/pupillary-reflex-reaction-prp',\n",
       " 'https://nplus1.ru/news/2025/02/26/chimp-cultural-loss',\n",
       " 'https://nplus1.ru/news/2025/02/26/red-princess-of-the-silk-road',\n",
       " 'https://nplus1.ru/news/2025/02/26/melatoninely-repaired',\n",
       " 'https://nplus1.ru/news/2025/02/26/of-birds-and-rats',\n",
       " 'https://nplus1.ru/news/2025/02/26/is-not-it-refreshing',\n",
       " 'https://nplus1.ru/news/2025/02/26/mice-intensive-care',\n",
       " 'https://nplus1.ru/news/2025/02/26/unexplained-but-lethal',\n",
       " 'https://nplus1.ru/news/2025/02/25/martian-inner-core',\n",
       " 'https://nplus1.ru/news/2025/02/25/callisto-ocean',\n",
       " 'https://nplus1.ru/news/2025/02/25/h5n1-cats',\n",
       " 'https://nplus1.ru/news/2025/02/25/vaccine-pancreas-cancer',\n",
       " 'https://nplus1.ru/news/2025/02/25/caucasus-ices',\n",
       " 'https://nplus1.ru/news/2025/02/25/xiongnu-and-huns',\n",
       " 'https://nplus1.ru/news/2025/02/25/adhd-amlodipine',\n",
       " 'https://nplus1.ru/news/2025/02/25/1x-neo-gamma',\n",
       " 'https://nplus1.ru/news/2025/02/25/get-breast-checkups',\n",
       " 'https://nplus1.ru/news/2025/02/24/martian-ancient-ocean',\n",
       " 'https://nplus1.ru/news/2025/02/24/big-birds-problem-solving',\n",
       " 'https://nplus1.ru/news/2025/02/24/bayanbulag',\n",
       " 'https://nplus1.ru/news/2025/02/24/engineai-pm01-robot-frontflip',\n",
       " 'https://nplus1.ru/news/2025/02/24/wisdom-brand-new-chick',\n",
       " 'https://nplus1.ru/news/2025/02/07/vegavis-iaai-skull',\n",
       " 'https://nplus1.ru/news/2025/02/10/elastocaloric-cooling',\n",
       " 'https://nplus1.ru/news/2025/02/10/inner-core-boundary-deformation',\n",
       " 'https://nplus1.ru/news/2025/02/10/tibetan-plateau-tectonic-evolution',\n",
       " 'https://nplus1.ru/news/2025/02/11/cma-neurostimulation',\n",
       " 'https://nplus1.ru/news/2025/02/12/km3net-signal-verified',\n",
       " 'https://nplus1.ru/news/2025/02/17/stress-mouse-auditory-cortex',\n",
       " 'https://nplus1.ru/news/2025/02/21/single-shot-interferometric-measurement-of-fermion-parity',\n",
       " 'https://nplus1.ru/news/2025/02/25/xiongnu-and-huns',\n",
       " 'https://nplus1.ru/news/2025/02/25/callisto-ocean',\n",
       " 'https://nplus1.ru/news/2025/02/25/martian-inner-core',\n",
       " 'https://nplus1.ru/news/2025/02/26/amazon-sobrala-vycislitel-na-kosacix-kubitax']"
      ]
     },
     "execution_count": 17,
     "metadata": {},
     "output_type": "execute_result"
    }
   ],
   "source": [
    "full_urls = []\n",
    "\n",
    "for u in urls:\n",
    "    full_urls.append(u) \n",
    "\n",
    "full_urls"
   ]
  },
  {
   "cell_type": "markdown",
   "metadata": {},
   "source": [
    "Теперь наша задача сводится к следующему: изучить одну страницу с новостью, научиться из нее вытаскивать текст и всю необходимую информацию, а потом применить весь набор действий к каждой ссылке из `full_urls` в цикле. Посмотрим на новость с индексом 1, у вас может быть другая, новости обновляются."
   ]
  },
  {
   "cell_type": "code",
   "execution_count": 18,
   "metadata": {},
   "outputs": [],
   "source": [
    "url0 = urls[0]\n",
    "\n",
    "page0 = requests.get(url0)\n",
    "soup0 = BeautifulSoup(page0.text, 'html')"
   ]
  },
  {
   "cell_type": "code",
   "execution_count": 19,
   "metadata": {},
   "outputs": [
    {
     "data": {
      "text/plain": [
       "'https://nplus1.ru/news/2025/02/26/dogs-yellow-bowls'"
      ]
     },
     "execution_count": 19,
     "metadata": {},
     "output_type": "execute_result"
    }
   ],
   "source": [
    "url0"
   ]
  },
  {
   "cell_type": "markdown",
   "metadata": {},
   "source": [
    "В коде каждой страницы с новостью есть часть с мета-информацией: датой, именем автора и проч. Такая информация окружена тэгом `<meta></meta>`. Посмотрим:"
   ]
  },
  {
   "cell_type": "code",
   "execution_count": 20,
   "metadata": {},
   "outputs": [
    {
     "data": {
      "text/plain": [
       "[<meta charset=\"utf-8\"/>,\n",
       " <meta content=\"width=device-width, initial-scale=1\" name=\"viewport\"/>,\n",
       " <meta content=\"#f26e40\" name=\"msapplication-TileColor\"/>,\n",
       " <meta content=\"#ffffff\" name=\"theme-color\"/>,\n",
       " <meta content=\"8c90b02c84ac3b72\" name=\"yandex-verification\"/>,\n",
       " <meta content=\"b419949322895fc9106e24ed01be58ac\" name=\"pmail-verification\"/>,\n",
       " <meta content=\"N + 1 — главное издание о науке, технике и технологиях\" name=\"description\"/>,\n",
       " <meta content=\"N + 1 — главное издание о науке, технике и технологиях\" property=\"og:site_name\"/>,\n",
       " <meta content=\"Собакам понравились желтые миски\" property=\"og:title\"/>,\n",
       " <meta content=\"https://minio.nplus1.ru/app-images/996265/67bc3e2197164_cover_share.jpg\" property=\"og:image\"/>,\n",
       " <meta content=\"https://nplus1.ru/news/2025/02/26/dogs-yellow-bowls\" property=\"og:url\"/>,\n",
       " <meta content=\"N + 1 — главное издание о науке, технике и технологиях\" property=\"og:description\"/>,\n",
       " <meta content=\"article\" property=\"og:type\"/>,\n",
       " <meta content=\"2025-02-26\" itemprop=\"datePublished\"/>,\n",
       " <meta content=\"2025-02-26\" itemprop=\"datePublished\"/>,\n",
       " <meta content=\"Сергей Коленов\" name=\"mediator_author\"/>,\n",
       " <meta content=\"Сергей Коленов\" name=\"author\"/>,\n",
       " <meta content=\"\" name=\"copyright\"/>,\n",
       " <meta content=\"summary_large_image\" name=\"twitter:card\"/>,\n",
       " <meta content=\"@nplusodin\" name=\"twitter:site\"/>,\n",
       " <meta content=\"Собакам понравились желтые миски\" name=\"twitter:title\"/>,\n",
       " <meta content=\"N + 1 — главное издание о науке, технике и технологиях\" name=\"twitter:description\"/>,\n",
       " <meta content=\"https://minio.nplus1.ru/app-images/996265/67bc3e2197164_cover_share.jpg\" name=\"twitter:image\"/>]"
      ]
     },
     "execution_count": 20,
     "metadata": {},
     "output_type": "execute_result"
    }
   ],
   "source": [
    "soup0.find_all('meta')"
   ]
  },
  {
   "cell_type": "markdown",
   "metadata": {},
   "source": [
    "Из этого списка нам нужны части с именем автора, датой, заголовком и кратким описанием. Воспользуемся поиском по атрибуту `name`. Передадим функции `find_all()` в качестве аргумента словарь с названием и значением атрибута: "
   ]
  },
  {
   "cell_type": "code",
   "execution_count": 21,
   "metadata": {},
   "outputs": [
    {
     "data": {
      "text/plain": [
       "[<meta content=\"Сергей Коленов\" name=\"author\"/>]"
      ]
     },
     "execution_count": 21,
     "metadata": {},
     "output_type": "execute_result"
    }
   ],
   "source": [
    "soup0.find_all('meta', {'name' : 'author'}) # например, автор"
   ]
  },
  {
   "cell_type": "markdown",
   "metadata": {},
   "source": [
    "Теперь выберем единственный элемент полученного списка (с индексом 0):"
   ]
  },
  {
   "cell_type": "code",
   "execution_count": 22,
   "metadata": {},
   "outputs": [
    {
     "data": {
      "text/plain": [
       "<meta content=\"Сергей Коленов\" name=\"author\"/>"
      ]
     },
     "execution_count": 22,
     "metadata": {},
     "output_type": "execute_result"
    }
   ],
   "source": [
    "soup0.find_all('meta', {'name' : 'author'})[0]"
   ]
  },
  {
   "cell_type": "markdown",
   "metadata": {},
   "source": [
    "Нам нужно вытащить из этого объекта `content` – имя автора. Посмотрим на атрибуты:"
   ]
  },
  {
   "cell_type": "code",
   "execution_count": 23,
   "metadata": {},
   "outputs": [
    {
     "data": {
      "text/plain": [
       "'Сергей Коленов'"
      ]
     },
     "execution_count": 23,
     "metadata": {},
     "output_type": "execute_result"
    }
   ],
   "source": [
    "soup0.find_all('meta', {'name' : 'author'})[0].get('content')"
   ]
  },
  {
   "cell_type": "markdown",
   "metadata": {},
   "source": [
    "Как получить отсюда `content`? Очень просто, ведь это словарь! А доставать из словаря значение по ключу мы умеем."
   ]
  },
  {
   "cell_type": "code",
   "execution_count": 24,
   "metadata": {},
   "outputs": [
    {
     "data": {
      "text/plain": [
       "{'name': 'author', 'content': 'Сергей Коленов'}"
      ]
     },
     "execution_count": 24,
     "metadata": {},
     "output_type": "execute_result"
    }
   ],
   "source": [
    "author = soup0.find_all('meta', {'name' : 'author'})[0].attrs\n",
    "author"
   ]
  },
  {
   "cell_type": "markdown",
   "metadata": {},
   "source": [
    "Аналогичным образом извлечем дату, заголовок и описание."
   ]
  },
  {
   "cell_type": "code",
   "execution_count": 25,
   "metadata": {},
   "outputs": [
    {
     "data": {
      "text/plain": [
       "'Собакам понравились желтые миски'"
      ]
     },
     "execution_count": 25,
     "metadata": {},
     "output_type": "execute_result"
    }
   ],
   "source": [
    "soup0.find_all('meta', {'property' : 'og:title'})[0].get('content')"
   ]
  },
  {
   "cell_type": "code",
   "execution_count": 26,
   "metadata": {},
   "outputs": [],
   "source": [
    "date = soup0.find_all('meta', {'itemprop' : 'datePublished'})[0].get('content')\n",
    "title = soup0.find_all('meta', {'property' : 'og:title'})[0].get('content')\n",
    "description = soup0.find_all('h1', {'class':'text-34 md:text-42 xl:text-52 break-words'})[0].get_text().strip() \\\n",
    "+ '\\n' + soup0.find_all('p', {'class':\"text-36 md:text-44 xl:text-54 font-spectral text-main-gray mb-6\"})[0].get_text().strip()\n",
    "\n"
   ]
  },
  {
   "cell_type": "code",
   "execution_count": 27,
   "metadata": {},
   "outputs": [
    {
     "data": {
      "text/plain": [
       "'Собакам понравились желтые миски\\nВ\\xa0экспериментах бродячие собаки из\\xa0Индии предпочитали миски желтого цвета синим и\\xa0серым'"
      ]
     },
     "execution_count": 27,
     "metadata": {},
     "output_type": "execute_result"
    }
   ],
   "source": [
    "description"
   ]
  },
  {
   "cell_type": "markdown",
   "metadata": {},
   "source": [
    "Осталось вытащить рубрики и сложность текста. Если мы посмотрим на исходный код страницы, мы увидим, что нужная нам информация находится в тэгах `<p></p>`:"
   ]
  },
  {
   "cell_type": "code",
   "execution_count": 28,
   "metadata": {},
   "outputs": [],
   "source": [
    "new_data = soup0.find_all('div', {'class':\"flex flex-wrap lg:mb-10 gap-2 text-tags xl:pr-9\"})[0].find_all('span')[1:]\n",
    "\n",
    "time_published = new_data[0].get_text()\n",
    "date_published = new_data[1].get_text()\n",
    "complexity = new_data[2].get_text()\n",
    "themes = ', '.join(i.get_text() for i in new_data[3:])"
   ]
  },
  {
   "cell_type": "code",
   "execution_count": 29,
   "metadata": {},
   "outputs": [
    {
     "data": {
      "text/plain": [
       "[<span class=\"group-hover:text-main transition-colors duration-75\">09:36</span>,\n",
       " <span class=\"group-hover:text-main transition-colors duration-75\">26.02.25</span>,\n",
       " <span class=\"group-hover:text-main transition-colors duration-75\">3.1</span>,\n",
       " <span class=\"group-hover:text-main transition-colors duration-75\">Зоология</span>]"
      ]
     },
     "execution_count": 29,
     "metadata": {},
     "output_type": "execute_result"
    }
   ],
   "source": [
    "new_data"
   ]
  },
  {
   "cell_type": "code",
   "execution_count": 30,
   "metadata": {},
   "outputs": [],
   "source": [
    "paragraphs = soup0.find_all('p', {'class': 'mb-6'})[1:]\n"
   ]
  },
  {
   "cell_type": "code",
   "execution_count": 31,
   "metadata": {},
   "outputs": [
    {
     "data": {
      "text/plain": [
       "[<p class=\"mb-6\">Зоологи обнаружили, что бродячие собаки из индийского штата Западная Бенгалия предпочитают миски желтого цвета. В экспериментах эти животные выбирали такие миски примерно в два с лишним раза чаще, чем синие или серые. Более того, собаки отдавали предпочтение желтым мискам, даже если они были пустыми, а в качестве альтернативы выступала серая миска с куском бисквита или курицы. Как <a href=\"https://link.springer.com/article/10.1007/s10071-024-01928-9\" rel=\"noreferrer noopener\" target=\"_blank\">отмечается</a> в статье для журнала <em>Animal Cognition</em>, остается неясным, почему индийских бродячих собак так привлекает желтый цвет. Возможно, это связано с тем, что пищевые отбросы, которыми они питаются, в основном желтые.</p>,\n",
       " <p class=\"mb-6\">Собаки (<em>Canis (lupus) familiaris</em>), подобно большинству млекопитающих, обладают дихроматическим зрением. Они хорошо различают синий и желтый цвета, однако неспособны воспринимать оттенки зеленого и красного. При этом остается неизвестным, какую роль цветовое зрение играет в жизни собак. По некоторыми данным, их могут привлекать предметы определенных цветов. Тем не менее <a href=\"https://academic.oup.com/cz/article/70/3/343/7317596?login=false\" rel=\"noreferrer noopener\" target=\"_blank\">исследование</a>, проведенное на бродячих собаках из Марокко, не подтвердило, что одни цвета нравятся им больше других. </p>,\n",
       " <p class=\"mb-6\">Команда зоологов под руководством Аниндиты Бхадры (Anindita Bhadra) из Индийского института научного образования и исследований решила разобраться, обладают ли собаки цветовыми предпочтениями. По словам ученых, на исследование их вдохновила необычная привычка, которая была распространена среди жителей Индии в середине 2010 годов. Тогда многие из них расставляли около своих домов бутылки с окрашенной в синий цвет водой. Считалось, что это отпугивает бродячих собак. Впрочем, никаких доказательств, что этим животным не нравятся синие бутылки, обнаружить не удалось.</p>,\n",
       " <p class=\"mb-6\">Бхадра и ее коллеги провели серию полевых экспериментов в индийском штате Западная Бенгалия: в округах Надия и Северные 24 парганы и в городе Калькутта. Исследователи ходили вдоль улиц и при встрече с бродячей собакой предлагали ей три терракотовые миски, окрашенные в желтый, синий и серый цвета (они были установлены на картонной платформе в случайном порядке на равном расстоянии друг от друга). В одних случаях все миски были пустыми, а в других в каждой из них находилось лакомство — кусок бисквита. При этом экспериментаторы фиксировали на видео, к какой миске животное подойдет в первую очередь. В общей сложности в эксперименте приняли участие 134 собаки. Независимо от наличия пищи, они выбирали желтые миски в два с лишним раза чаще, чем синие или серые (p &lt; 0,001). Затем авторы провели похожий опыт, однако на этот раз собакам предлагали сделать выбор между двумя мисками с едой: синей и серой. Тестирование 102 особей не выявило никаких предпочтений между этими цветами. Около половины собак выбрали синюю миску и около половины — серую (p = 0,165). </p>,\n",
       " <p class=\"mb-6\">Исследователи допускали, что краски разных цветов, которые использовались для окрашивания мисок, пахнут по-разному. Таким образом, собаки могли делать выбор, ориентируясь не на цвет, а на запах. Чтобы проверить эту возможность, авторы провели дополнительный опыт. Они покрасили терракотовые миски желтой или синей краской только с внешней стороны — а затем скрыли их окрашенные части с помощью пластиковых кожухов пурпурного цвета. Затем 54 бродячим собакам предложили выбрать между желтой и синей мисками. В результате выяснилось, что когда эти животные не видят цвета мисок, они не отдают предпочтения каким-либо из них (p = 0,2763) — а значит, не делают выбор, основываясь на запахе красок.</p>,\n",
       " <p class=\"mb-6\">На следующем этапе Бхадра и ее соавторы предложили 54 бродячим собакам выбрать из двух желтых мисок, в одной из которых находился кусок бисквита. Как и ожидалось, животные примерно вдвое чаще отдавали предпочтение миске с едой (p = 0,029). Затем исследователи предоставили собакам выбор между серой миской с едой (куском бисквита или сырой курятины) и желтой миской без еды. Независимо от вида лакомства, подопытные особи выбирали пустые желтые миски примерно в четыре раза чаще, чем серые миски с едой (p &lt; 0,001).</p>,\n",
       " <p class=\"mb-6\">Результаты исследования свидетельствуют, что бродячих собак в Индии привлекают желтые миски. Они выбирают их в первую очередь, даже если в качестве альтернативы предоставлена наполненная едой миска другого цвета. При этом собаки, участвовавшие в экспериментах, после желтой миски обследовали и миски других цветов. Таким образом, можно сказать, что этих животных привлекает желтый цвет — но синий и серый цвета не вызывают у них страха или отторжения. </p>,\n",
       " <p class=\"mb-6\">Почему индийских бродячих собак привлекает желтый цвет, остается неясным. Возможно, желтые миски привлекали их внимание, поскольку контрастировали с другими мисками и окружающей средой. Авторы также допускают, что пищевые отбросы, которыми питаются бродячие собаки в Индии, часто окрашены в желтоватые или красноватые цвета из-за того, что местные жители активно используют куркуму и красный перец при приготовлении еды. Более того, сырое мясо и кровь также должны казаться этим животным желтоватыми. Тем не менее, если бы собаки во время поисков пищи специально искали объекты желтого цвета, они бы слишком часто натыкались на несъедобные предметы. При этом, учитывая, что бродячие собаки из Марокко не демонстрировали никаких предпочтений между желтым и синим, не исключено, что закономерность, обнаруженная Бхадрой и ее коллегами, распространена лишь в Индии.</p>,\n",
       " <p class=\"mb-6\">Ранее этологи из Венгрии <a href=\"https://nplus1.ru/news/2024/12/20/dogs-identified-voices\" rel=\"noreferrer noopener\" target=\"_blank\">показали</a>, что собаки способны различать голоса знакомых им людей. В экспериментах животные сопоставляли записи голосов своих хозяев с самими хозяевами: они чаще смотрели на того человека, чей голос слышали, и чаще подходили к нему. При этом лучше всего собаки распознавали голос своего основного хозяина — видимо потому, что слышат его чаще.</p>,\n",
       " <p class=\"text-36 md:text-44 xl:text-54 font-spectral text-main-gray mb-6\">Но в обратную сторону это не работало: негативные переживания не вызывали самопочесывания</p>,\n",
       " <p class=\"mb-6\">Японские исследователи обнаружили, что у японских макаков телесные реакции предшествуют изменениям настроения, но не наоборот. В эксперименте макаки, которых вынудили почесаться, становились более пессимистичными в суждениях, однако сам пессимизм не провоцировал новых почесываний. Работа опубликована в журнале Proceedings of the Royal Society B.</p>]"
      ]
     },
     "execution_count": 31,
     "metadata": {},
     "output_type": "execute_result"
    }
   ],
   "source": [
    "paragraphs"
   ]
  },
  {
   "cell_type": "code",
   "execution_count": 32,
   "metadata": {},
   "outputs": [],
   "source": [
    "links = set()\n",
    "for p in paragraphs:\n",
    "    links|={i.get('href') for i in p.find_all('a')}\n",
    "links = ', '.join(links)"
   ]
  },
  {
   "cell_type": "code",
   "execution_count": 33,
   "metadata": {},
   "outputs": [],
   "source": [
    "full_text = '\\n'.join([p.get_text() for p in paragraphs])"
   ]
  },
  {
   "cell_type": "markdown",
   "metadata": {},
   "source": [
    "Не прошло и двух пар, как мы разобрались со всем :) Теперь осталось совсем чуть-чуть. Написать готовую функцию для всех проделанных нами действий и применить ее в цикле для всех ссылок в списке `full_urls`. Напишем! Аргументом функции будет ссылка на новость, а возвращать она будет текст новости и всю необходимую информацию (дата, автор, сложность и проч.). Скопируем все строки кода выше."
   ]
  },
  {
   "cell_type": "code",
   "execution_count": 34,
   "metadata": {},
   "outputs": [],
   "source": [
    "def GetNews(url0):\n",
    "    \"\"\"\n",
    "    Returns a tuple with \n",
    "    url0, date_published, time_published, author, description, title, complexity, themes, links,full_text\n",
    "    Parameters:\n",
    "    \n",
    "    url0 is a link to the news (string)\n",
    "    \"\"\"\n",
    "    page0 = requests.get(url0)\n",
    "    soup0 = BeautifulSoup(page0.text, 'lxml')\n",
    "    \n",
    "    author = soup0.find_all('meta', {'name' : 'author'})[0].get('content')\n",
    "    date = soup0.find_all('meta', {'itemprop' : 'datePublished'})[0].get('content')\n",
    "    title = soup0.find_all('meta', {'property' : 'og:title'})[0].get('content')\n",
    "    description = soup0.find_all('h1', {'class':'text-34 md:text-42 xl:text-52 break-words'})[0].get_text().strip() \\\n",
    "+ '\\n' + soup0.find_all('p', {'class':\"text-36 md:text-44 xl:text-54 font-spectral text-main-gray mb-6\"})[0].get_text().strip()\n",
    "\n",
    "\n",
    "    \n",
    "    new_data = soup0.find_all('div', {'class':\"flex flex-wrap lg:mb-10 gap-2 text-tags xl:pr-9\"})[0].find_all('span')[1:]\n",
    "\n",
    "    time_published = new_data[0].get_text()\n",
    "    date_published = new_data[1].get_text()\n",
    "    complexity = new_data[2].get_text()\n",
    "    themes = ', '.join(i.get_text() for i in new_data[3:])\n",
    "    \n",
    "    paragraphs = soup0.find_all('p', {'class': 'mb-6'})[1:]\n",
    "    links = set()\n",
    "    for p in paragraphs:\n",
    "        links|={i.get('href') for i in p.find_all('a')}\n",
    "    links -= {None} # Если вдруг у нас есть None-ссылка\n",
    "    links = ', '.join(links)\n",
    "    full_text = '\\n'.join([p.get_text() for p in paragraphs])\n",
    "    \n",
    "    return url0, date_published, time_published, author, description, title, complexity, themes, links,full_text"
   ]
  },
  {
   "cell_type": "markdown",
   "metadata": {},
   "source": [
    "Уфф. Осталось применить ее в цикле. Но давайте не будем спешить: импортируем функцию `sleep` для задержки, чтобы на каждой итерации цикла, прежде чем перейти к следующей новости, Python ждал несколько секунд. Во-первых, это нужно, чтобы сайт «не понял», чтобы мы его грабим, да еще автоматически. Во-вторых, с небольшой задержкой всегда есть гарантия, что страница прогрузится (сейчас это пока не очень важно, но особенно актуально будет, когда будем обсуждать встраивание в браузер с Selenium). Приступим."
   ]
  },
  {
   "cell_type": "code",
   "execution_count": 35,
   "metadata": {},
   "outputs": [],
   "source": [
    "from time import sleep\n",
    "from tqdm import tqdm"
   ]
  },
  {
   "cell_type": "code",
   "execution_count": 36,
   "metadata": {},
   "outputs": [],
   "source": [
    "import random"
   ]
  },
  {
   "cell_type": "code",
   "execution_count": 38,
   "metadata": {},
   "outputs": [
    {
     "data": {
      "text/plain": [
       "['https://nplus1.ru/news/2025/02/26/dogs-yellow-bowls',\n",
       " 'https://nplus1.ru/news/2025/02/28/semaglutide-vs-cocaine',\n",
       " 'https://nplus1.ru/news/2025/02/28/yet-still-emergency',\n",
       " 'https://nplus1.ru/news/2025/02/28/figure-helix',\n",
       " 'https://nplus1.ru/news/2025/02/27/get-the-achievement',\n",
       " 'https://nplus1.ru/news/2025/02/27/im-2-start',\n",
       " 'https://nplus1.ru/news/2025/02/27/brain-adult-solitaire',\n",
       " 'https://nplus1.ru/news/2025/02/27/parents-brains',\n",
       " 'https://nplus1.ru/news/2025/02/27/black-squirrels-roads',\n",
       " 'https://nplus1.ru/news/2025/02/27/mesolithic-engraved-tool-pendant',\n",
       " 'https://nplus1.ru/news/2025/02/27/functionome-adds-to-omics',\n",
       " 'https://nplus1.ru/news/2025/02/27/status-epilepticus',\n",
       " 'https://nplus1.ru/news/2025/02/26/heat-aging',\n",
       " 'https://nplus1.ru/news/2025/02/26/amoc-withstanding',\n",
       " 'https://nplus1.ru/news/2025/02/26/amazon-sobrala-vycislitel-na-kosacix-kubitax',\n",
       " 'https://nplus1.ru/news/2025/02/26/early-african-in-the-rainforest',\n",
       " 'https://nplus1.ru/news/2025/02/26/pupillary-reflex-reaction-prp',\n",
       " 'https://nplus1.ru/news/2025/02/26/chimp-cultural-loss',\n",
       " 'https://nplus1.ru/news/2025/02/26/red-princess-of-the-silk-road',\n",
       " 'https://nplus1.ru/news/2025/02/26/melatoninely-repaired',\n",
       " 'https://nplus1.ru/news/2025/02/26/of-birds-and-rats',\n",
       " 'https://nplus1.ru/news/2025/02/26/is-not-it-refreshing',\n",
       " 'https://nplus1.ru/news/2025/02/26/mice-intensive-care',\n",
       " 'https://nplus1.ru/news/2025/02/26/unexplained-but-lethal',\n",
       " 'https://nplus1.ru/news/2025/02/25/martian-inner-core',\n",
       " 'https://nplus1.ru/news/2025/02/25/callisto-ocean',\n",
       " 'https://nplus1.ru/news/2025/02/25/h5n1-cats',\n",
       " 'https://nplus1.ru/news/2025/02/25/vaccine-pancreas-cancer',\n",
       " 'https://nplus1.ru/news/2025/02/25/caucasus-ices',\n",
       " 'https://nplus1.ru/news/2025/02/25/xiongnu-and-huns',\n",
       " 'https://nplus1.ru/news/2025/02/25/adhd-amlodipine',\n",
       " 'https://nplus1.ru/news/2025/02/25/1x-neo-gamma',\n",
       " 'https://nplus1.ru/news/2025/02/25/get-breast-checkups',\n",
       " 'https://nplus1.ru/news/2025/02/24/martian-ancient-ocean',\n",
       " 'https://nplus1.ru/news/2025/02/24/big-birds-problem-solving',\n",
       " 'https://nplus1.ru/news/2025/02/24/bayanbulag',\n",
       " 'https://nplus1.ru/news/2025/02/24/engineai-pm01-robot-frontflip',\n",
       " 'https://nplus1.ru/news/2025/02/24/wisdom-brand-new-chick',\n",
       " 'https://nplus1.ru/news/2025/02/07/vegavis-iaai-skull',\n",
       " 'https://nplus1.ru/news/2025/02/10/elastocaloric-cooling',\n",
       " 'https://nplus1.ru/news/2025/02/10/inner-core-boundary-deformation',\n",
       " 'https://nplus1.ru/news/2025/02/10/tibetan-plateau-tectonic-evolution',\n",
       " 'https://nplus1.ru/news/2025/02/11/cma-neurostimulation',\n",
       " 'https://nplus1.ru/news/2025/02/12/km3net-signal-verified',\n",
       " 'https://nplus1.ru/news/2025/02/17/stress-mouse-auditory-cortex',\n",
       " 'https://nplus1.ru/news/2025/02/21/single-shot-interferometric-measurement-of-fermion-parity',\n",
       " 'https://nplus1.ru/news/2025/02/25/xiongnu-and-huns',\n",
       " 'https://nplus1.ru/news/2025/02/25/callisto-ocean',\n",
       " 'https://nplus1.ru/news/2025/02/25/martian-inner-core',\n",
       " 'https://nplus1.ru/news/2025/02/26/amazon-sobrala-vycislitel-na-kosacix-kubitax']"
      ]
     },
     "execution_count": 38,
     "metadata": {},
     "output_type": "execute_result"
    }
   ],
   "source": [
    "urls"
   ]
  },
  {
   "cell_type": "code",
   "execution_count": 2,
   "metadata": {},
   "outputs": [
    {
     "ename": "NameError",
     "evalue": "name 'tqdm' is not defined",
     "output_type": "error",
     "traceback": [
      "\u001b[1;31m---------------------------------------------------------------------------\u001b[0m",
      "\u001b[1;31mNameError\u001b[0m                                 Traceback (most recent call last)",
      "\u001b[1;32m~\\AppData\\Local\\Temp/ipykernel_1328/3376747548.py\u001b[0m in \u001b[0;36m<module>\u001b[1;34m\u001b[0m\n\u001b[0;32m      1\u001b[0m \u001b[0mnews\u001b[0m \u001b[1;33m=\u001b[0m \u001b[1;33m[\u001b[0m\u001b[1;33m]\u001b[0m \u001b[1;31m# это будет список из кортежей, в которых будут храниться данные по каждой новости\u001b[0m\u001b[1;33m\u001b[0m\u001b[1;33m\u001b[0m\u001b[0m\n\u001b[0;32m      2\u001b[0m \u001b[1;33m\u001b[0m\u001b[0m\n\u001b[1;32m----> 3\u001b[1;33m \u001b[1;32mfor\u001b[0m \u001b[0mlink\u001b[0m \u001b[1;32min\u001b[0m \u001b[0mtqdm\u001b[0m\u001b[1;33m(\u001b[0m\u001b[0murls\u001b[0m\u001b[1;33m)\u001b[0m\u001b[1;33m:\u001b[0m\u001b[1;33m\u001b[0m\u001b[1;33m\u001b[0m\u001b[0m\n\u001b[0m\u001b[0;32m      4\u001b[0m     \u001b[1;32mtry\u001b[0m\u001b[1;33m:\u001b[0m\u001b[1;33m\u001b[0m\u001b[1;33m\u001b[0m\u001b[0m\n\u001b[0;32m      5\u001b[0m         \u001b[0mres\u001b[0m \u001b[1;33m=\u001b[0m \u001b[0mGetNews\u001b[0m\u001b[1;33m(\u001b[0m\u001b[0mlink\u001b[0m\u001b[1;33m)\u001b[0m\u001b[1;33m\u001b[0m\u001b[1;33m\u001b[0m\u001b[0m\n",
      "\u001b[1;31mNameError\u001b[0m: name 'tqdm' is not defined"
     ]
    }
   ],
   "source": [
    "news = [] # это будет список из кортежей, в которых будут храниться данные по каждой новости\n",
    "\n",
    "for link in tqdm(urls):\n",
    "    try:\n",
    "        res = GetNews(link)\n",
    "        news.append(res)\n",
    "        sleep(random.random()) # задержка в 3 секунды\n",
    "    except:\n",
    "        print('Ссылка битая')"
   ]
  },
  {
   "cell_type": "code",
   "execution_count": 40,
   "metadata": {},
   "outputs": [
    {
     "data": {
      "text/plain": [
       "'https://nplus1.ru/news/2025/02/10/inner-core-boundary-deformation'"
      ]
     },
     "execution_count": 40,
     "metadata": {},
     "output_type": "execute_result"
    }
   ],
   "source": [
    "urls[40]"
   ]
  },
  {
   "cell_type": "code",
   "execution_count": 41,
   "metadata": {},
   "outputs": [],
   "source": [
    "page0 = requests.get(urls[40])\n",
    "soup0 = BeautifulSoup(page0.text, 'lxml')"
   ]
  },
  {
   "cell_type": "code",
   "execution_count": 42,
   "metadata": {},
   "outputs": [],
   "source": [
    "paragraphs = soup0.find_all('p', {'class': 'mb-6'})[1:]"
   ]
  },
  {
   "cell_type": "code",
   "execution_count": 43,
   "metadata": {},
   "outputs": [],
   "source": [
    "links = set()\n",
    "for p in paragraphs:\n",
    "    links|={i.get('href') for i in p.find_all('a')}"
   ]
  },
  {
   "cell_type": "code",
   "execution_count": 44,
   "metadata": {},
   "outputs": [
    {
     "data": {
      "text/plain": [
       "{'https://academic.oup.com/gji/article/39/3/457/615658',\n",
       " 'https://nplus1.ru/material/2023/02/07/spinning-core',\n",
       " 'https://nplus1.ru/news/2022/02/09/superionic-iron-alloys',\n",
       " 'https://nplus1.ru/news/2022/07/14/proterozoic-geodynamo',\n",
       " 'https://nplus1.ru/news/2023/02/22/innermost-inner-core',\n",
       " 'https://nplus1.ru/news/2023/09/15/earth-core-density-deficit',\n",
       " 'https://www.amnh.org/learn-teach/curriculum-collections/earth-inside-and-out/inge-lehmann-discoverer-of-the-earth-s-inner-core',\n",
       " 'https://www.nature.com/articles/s41561-025-01642-2',\n",
       " 'https://www.nature.com/articles/s41586-024-07536-4',\n",
       " 'https://www.science.org/doi/10.1126/science.aau7649'}"
      ]
     },
     "execution_count": 44,
     "metadata": {},
     "output_type": "execute_result"
    }
   ],
   "source": [
    "links - {None}"
   ]
  },
  {
   "cell_type": "markdown",
   "metadata": {},
   "source": [
    "Так теперь выглядит первый элемент списка:"
   ]
  },
  {
   "cell_type": "code",
   "execution_count": 45,
   "metadata": {},
   "outputs": [
    {
     "data": {
      "text/plain": [
       "('https://nplus1.ru/news/2025/02/26/dogs-yellow-bowls',\n",
       " '26.02.25',\n",
       " '09:36',\n",
       " 'Сергей Коленов',\n",
       " 'Собакам понравились желтые миски\\nВ\\xa0экспериментах бродячие собаки из\\xa0Индии предпочитали миски желтого цвета синим и\\xa0серым',\n",
       " 'Собакам понравились желтые миски',\n",
       " '3.1',\n",
       " 'Зоология',\n",
       " 'https://nplus1.ru/news/2024/12/20/dogs-identified-voices, https://academic.oup.com/cz/article/70/3/343/7317596?login=false, https://link.springer.com/article/10.1007/s10071-024-01928-9',\n",
       " 'Зоологи обнаружили, что бродячие собаки из\\xa0индийского штата Западная Бенгалия предпочитают миски желтого цвета. В\\xa0экспериментах эти животные выбирали такие миски примерно в\\xa0два с\\xa0лишним раза чаще, чем синие или серые. Более того, собаки отдавали предпочтение желтым мискам, даже если они были пустыми, а\\xa0в\\xa0качестве альтернативы выступала серая миска с\\xa0куском бисквита или курицы. Как отмечается в\\xa0статье для журнала Animal Cognition, остается неясным, почему индийских бродячих собак так привлекает желтый цвет. Возможно, это связано с\\xa0тем, что пищевые отбросы, которыми они питаются, в\\xa0основном желтые.\\nСобаки (Canis (lupus) familiaris), подобно большинству млекопитающих, обладают дихроматическим зрением. Они хорошо различают синий и\\xa0желтый цвета, однако неспособны воспринимать оттенки зеленого и\\xa0красного. При этом остается неизвестным, какую роль цветовое зрение играет в\\xa0жизни собак. По\\xa0некоторыми данным, их\\xa0могут привлекать предметы определенных цветов. Тем не\\xa0менее исследование, проведенное на\\xa0бродячих собаках из\\xa0Марокко, не\\xa0подтвердило, что одни цвета нравятся им\\xa0больше других. \\nКоманда зоологов под руководством Аниндиты Бхадры (Anindita Bhadra) из\\xa0Индийского института научного образования и\\xa0исследований решила разобраться, обладают\\xa0ли собаки цветовыми предпочтениями. По\\xa0словам ученых, на\\xa0исследование их\\xa0вдохновила необычная привычка, которая была распространена среди жителей Индии в\\xa0середине 2010\\xa0годов. Тогда многие из\\xa0них расставляли около своих домов бутылки с\\xa0окрашенной в\\xa0синий цвет водой. Считалось, что это отпугивает бродячих собак. Впрочем, никаких доказательств, что этим животным не\\xa0нравятся синие бутылки, обнаружить не\\xa0удалось.\\nБхадра и\\xa0ее\\xa0коллеги провели серию полевых экспериментов в\\xa0индийском штате Западная Бенгалия: в\\xa0округах Надия и\\xa0Северные 24\\xa0парганы и\\xa0в\\xa0городе Калькутта. Исследователи ходили вдоль улиц и\\xa0при встрече с\\xa0бродячей собакой предлагали ей\\xa0три терракотовые миски, окрашенные в\\xa0желтый, синий и\\xa0серый цвета (они были установлены на\\xa0картонной платформе в\\xa0случайном порядке на\\xa0равном расстоянии друг от\\xa0друга). В\\xa0одних случаях все миски были пустыми, а\\xa0в\\xa0других в\\xa0каждой из\\xa0них находилось лакомство\\xa0— кусок бисквита. При этом экспериментаторы фиксировали на\\xa0видео, к\\xa0какой миске животное подойдет в\\xa0первую очередь. В\\xa0общей сложности в\\xa0эксперименте приняли участие 134\\xa0собаки. Независимо от\\xa0наличия пищи, они выбирали желтые миски в\\xa0два с\\xa0лишним раза чаще, чем синие или серые (p\\u2009< 0,001). Затем авторы провели похожий опыт, однако на\\xa0этот раз собакам предлагали сделать выбор между двумя мисками с\\xa0едой: синей и\\xa0серой. Тестирование 102 особей не\\xa0выявило никаких предпочтений между этими цветами. Около половины собак выбрали синюю миску и\\xa0около половины\\xa0— серую (p = 0,165). \\nИсследователи допускали, что краски разных цветов, которые использовались для окрашивания мисок, пахнут по-разному. Таким образом, собаки могли делать выбор, ориентируясь не\\xa0на\\xa0цвет, а\\xa0на\\xa0запах. Чтобы проверить эту возможность, авторы провели дополнительный опыт. Они покрасили терракотовые миски желтой или синей краской только с\\xa0внешней стороны\\xa0— а\\xa0затем скрыли их\\xa0окрашенные части с\\xa0помощью пластиковых кожухов пурпурного цвета. Затем 54\\xa0бродячим собакам предложили выбрать между желтой и\\xa0синей мисками. В\\xa0результате выяснилось, что когда эти животные не\\xa0видят цвета мисок, они не\\xa0отдают предпочтения каким-либо из\\xa0них (p = 0,2763)\\xa0— а\\xa0значит, не\\xa0делают выбор, основываясь на\\xa0запахе красок.\\nНа\\xa0следующем этапе Бхадра и\\xa0ее\\xa0соавторы предложили 54\\xa0бродячим собакам выбрать из\\xa0двух желтых мисок, в\\xa0одной из\\xa0которых находился кусок бисквита. Как и\\xa0ожидалось, животные примерно вдвое чаще отдавали предпочтение миске с\\xa0едой (p = 0,029). Затем исследователи предоставили собакам выбор между серой миской с\\xa0едой (куском бисквита или сырой курятины) и\\xa0желтой миской без еды. Независимо от\\xa0вида лакомства, подопытные особи выбирали пустые желтые миски примерно в\\xa0четыре раза чаще, чем серые миски с\\xa0едой (p\\u2009<\\u20090,001).\\nРезультаты исследования свидетельствуют, что бродячих собак в\\xa0Индии привлекают желтые миски. Они выбирают их\\xa0в\\xa0первую очередь, даже если в\\xa0качестве альтернативы предоставлена наполненная едой миска другого цвета. При этом собаки, участвовавшие в\\xa0экспериментах, после желтой миски обследовали и\\xa0миски других цветов. Таким образом, можно сказать, что этих животных привлекает желтый цвет\\xa0— но\\xa0синий и\\xa0серый цвета не\\xa0вызывают у\\xa0них страха или отторжения. \\nПочему индийских бродячих собак привлекает желтый цвет, остается неясным. Возможно, желтые миски привлекали их\\xa0внимание, поскольку контрастировали с\\xa0другими мисками и\\xa0окружающей средой. Авторы также допускают, что пищевые отбросы, которыми питаются бродячие собаки в\\xa0Индии, часто окрашены в\\xa0желтоватые или красноватые цвета из-за того, что местные жители активно используют куркуму и\\xa0красный перец при приготовлении еды. Более того, сырое мясо и\\xa0кровь также должны казаться этим животным желтоватыми. Тем не\\xa0менее, если\\xa0бы собаки во\\xa0время поисков пищи специально искали объекты желтого цвета, они\\xa0бы слишком часто натыкались на\\xa0несъедобные предметы. При этом, учитывая, что бродячие собаки из\\xa0Марокко не\\xa0демонстрировали никаких предпочтений между желтым и\\xa0синим, не\\xa0исключено, что закономерность, обнаруженная Бхадрой и\\xa0ее\\xa0коллегами, распространена лишь в\\xa0Индии.\\nРанее этологи из\\xa0Венгрии показали, что собаки способны различать голоса знакомых им\\xa0людей. В\\xa0экспериментах животные сопоставляли записи голосов своих хозяев с\\xa0самими хозяевами: они чаще смотрели на\\xa0того человека, чей голос слышали, и\\xa0чаще подходили к\\xa0нему. При этом лучше всего собаки распознавали голос своего основного хозяина\\xa0— видимо потому, что слышат его чаще.\\nНо\\xa0в\\xa0обратную сторону это не\\xa0работало: негативные переживания не\\xa0вызывали самопочесывания\\nЯпонские исследователи обнаружили, что у\\xa0японских макаков телесные реакции предшествуют изменениям настроения, но\\xa0не\\xa0наоборот. В\\xa0эксперименте макаки, которых вынудили почесаться, становились более пессимистичными в\\xa0суждениях, однако сам пессимизм не\\xa0провоцировал новых почесываний. Работа опубликована в\\xa0журнале Proceedings of\\xa0the Royal Society\\xa0B.')"
      ]
     },
     "execution_count": 45,
     "metadata": {},
     "output_type": "execute_result"
    }
   ],
   "source": [
    "news[0]"
   ]
  },
  {
   "cell_type": "markdown",
   "metadata": {},
   "source": [
    "Импортируем `pandas` и создадим датафрейм из списка кортежей: "
   ]
  },
  {
   "cell_type": "code",
   "execution_count": 46,
   "metadata": {},
   "outputs": [],
   "source": [
    "import pandas as pd"
   ]
  },
  {
   "cell_type": "code",
   "execution_count": 47,
   "metadata": {},
   "outputs": [],
   "source": [
    "df = pd.DataFrame(news)"
   ]
  },
  {
   "cell_type": "code",
   "execution_count": 48,
   "metadata": {},
   "outputs": [
    {
     "data": {
      "text/html": [
       "<div>\n",
       "<style scoped>\n",
       "    .dataframe tbody tr th:only-of-type {\n",
       "        vertical-align: middle;\n",
       "    }\n",
       "\n",
       "    .dataframe tbody tr th {\n",
       "        vertical-align: top;\n",
       "    }\n",
       "\n",
       "    .dataframe thead th {\n",
       "        text-align: right;\n",
       "    }\n",
       "</style>\n",
       "<table border=\"1\" class=\"dataframe\">\n",
       "  <thead>\n",
       "    <tr style=\"text-align: right;\">\n",
       "      <th></th>\n",
       "      <th>0</th>\n",
       "      <th>1</th>\n",
       "      <th>2</th>\n",
       "      <th>3</th>\n",
       "      <th>4</th>\n",
       "      <th>5</th>\n",
       "      <th>6</th>\n",
       "      <th>7</th>\n",
       "      <th>8</th>\n",
       "      <th>9</th>\n",
       "    </tr>\n",
       "  </thead>\n",
       "  <tbody>\n",
       "    <tr>\n",
       "      <th>0</th>\n",
       "      <td>https://nplus1.ru/news/2025/02/26/dogs-yellow-...</td>\n",
       "      <td>26.02.25</td>\n",
       "      <td>09:36</td>\n",
       "      <td>Сергей Коленов</td>\n",
       "      <td>Собакам понравились желтые миски\\nВ эксперимен...</td>\n",
       "      <td>Собакам понравились желтые миски</td>\n",
       "      <td>3.1</td>\n",
       "      <td>Зоология</td>\n",
       "      <td>https://nplus1.ru/news/2024/12/20/dogs-identif...</td>\n",
       "      <td>Зоологи обнаружили, что бродячие собаки из инд...</td>\n",
       "    </tr>\n",
       "    <tr>\n",
       "      <th>1</th>\n",
       "      <td>https://nplus1.ru/news/2025/02/28/semaglutide-...</td>\n",
       "      <td>28.02.25</td>\n",
       "      <td>10:51</td>\n",
       "      <td>Олег Лищук</td>\n",
       "      <td>Семаглутид снизил тягу к кокаину у итальянца с...</td>\n",
       "      <td>Семаглутид снизил тягу к кокаину у итальянца с...</td>\n",
       "      <td>1.4</td>\n",
       "      <td>Медицина</td>\n",
       "      <td>https://pmc.ncbi.nlm.nih.gov/articles/PMC22543...</td>\n",
       "      <td>К итальянским врачам обратился 54-летний мужчи...</td>\n",
       "    </tr>\n",
       "  </tbody>\n",
       "</table>\n",
       "</div>"
      ],
      "text/plain": [
       "                                                   0         1      2  \\\n",
       "0  https://nplus1.ru/news/2025/02/26/dogs-yellow-...  26.02.25  09:36   \n",
       "1  https://nplus1.ru/news/2025/02/28/semaglutide-...  28.02.25  10:51   \n",
       "\n",
       "                3                                                  4  \\\n",
       "0  Сергей Коленов  Собакам понравились желтые миски\\nВ эксперимен...   \n",
       "1      Олег Лищук  Семаглутид снизил тягу к кокаину у итальянца с...   \n",
       "\n",
       "                                                   5    6         7  \\\n",
       "0                   Собакам понравились желтые миски  3.1  Зоология   \n",
       "1  Семаглутид снизил тягу к кокаину у итальянца с...  1.4  Медицина   \n",
       "\n",
       "                                                   8  \\\n",
       "0  https://nplus1.ru/news/2024/12/20/dogs-identif...   \n",
       "1  https://pmc.ncbi.nlm.nih.gov/articles/PMC22543...   \n",
       "\n",
       "                                                   9  \n",
       "0  Зоологи обнаружили, что бродячие собаки из инд...  \n",
       "1  К итальянским врачам обратился 54-летний мужчи...  "
      ]
     },
     "execution_count": 48,
     "metadata": {},
     "output_type": "execute_result"
    }
   ],
   "source": [
    "df.head(2)"
   ]
  },
  {
   "cell_type": "markdown",
   "metadata": {},
   "source": [
    "Переименуем столбцы в базе."
   ]
  },
  {
   "cell_type": "code",
   "execution_count": 49,
   "metadata": {},
   "outputs": [],
   "source": [
    "df.columns = ['url', 'date_published', 'time_published', 'author', 'description', 'title', 'complexity', 'themes', 'links','full_text']"
   ]
  },
  {
   "cell_type": "markdown",
   "metadata": {},
   "source": [
    "Теперь внесем изменения: сделаем столбец `diffc` числовым – типа *float*."
   ]
  },
  {
   "cell_type": "code",
   "execution_count": 50,
   "metadata": {},
   "outputs": [],
   "source": [
    "df['complexity'] = df['complexity'].apply(float)"
   ]
  },
  {
   "cell_type": "markdown",
   "metadata": {},
   "source": [
    "Теперь сложность представлена в базе как количественный показатель, и описывать ее можно соответствующим образом:"
   ]
  },
  {
   "cell_type": "code",
   "execution_count": 51,
   "metadata": {
    "scrolled": true
   },
   "outputs": [
    {
     "data": {
      "text/plain": [
       "count    48.000000\n",
       "mean      3.404167\n",
       "std       1.769596\n",
       "min       1.100000\n",
       "25%       1.800000\n",
       "50%       3.100000\n",
       "75%       5.100000\n",
       "max       7.800000\n",
       "Name: complexity, dtype: float64"
      ]
     },
     "execution_count": 51,
     "metadata": {},
     "output_type": "execute_result"
    }
   ],
   "source": [
    "df.complexity.describe()"
   ]
  },
  {
   "cell_type": "code",
   "execution_count": 52,
   "metadata": {},
   "outputs": [],
   "source": [
    "from matplotlib.cbook import flatten"
   ]
  },
  {
   "cell_type": "code",
   "execution_count": 53,
   "metadata": {},
   "outputs": [
    {
     "data": {
      "text/plain": [
       "['Антропология',\n",
       " 'Археология',\n",
       " 'Астрономия',\n",
       " 'Биология',\n",
       " 'Геология',\n",
       " 'Зоология',\n",
       " 'Космонавтика',\n",
       " 'Материалы',\n",
       " 'Медицина',\n",
       " 'Палеонтология',\n",
       " 'Психология',\n",
       " 'Роботы и дроны',\n",
       " 'Социология',\n",
       " 'Физика',\n",
       " 'Экология и климат']"
      ]
     },
     "execution_count": 53,
     "metadata": {},
     "output_type": "execute_result"
    }
   ],
   "source": [
    "sorted(set(flatten([i.split(', ') for i in df.themes.unique()])))"
   ]
  },
  {
   "cell_type": "code",
   "execution_count": 54,
   "metadata": {},
   "outputs": [
    {
     "data": {
      "text/plain": [
       "'Самка темноспинного альбатроса по\\xa0имени Уиздом, которая в\\xa0свои 74\\xa0года считается самой старой дикой птицей в\\xa0мире, в\\xa0очередной раз стала матерью. В\\xa0конце прошлого года она нашла нового партнера и\\xa0впервые за\\xa0четыре года отложила яйцо. А\\xa0в\\xa0феврале этого года, согласно сообщению тихоокеанского отделения Службы охраны рыбных ресурсов и\\xa0диких животных США, у\\xa0Уиздом вылупился птенец. Сейчас о\\xa0нем по\\xa0очереди заботятся оба родителя.\\nСамка темноспинного альбатроса (Phoebastria immutabilis) по\\xa0имени Уиздом считается самой старой дикой птицей в\\xa0мире. В\\xa01956\\xa0году, когда этой особи было не\\xa0меньше пяти лет, орнитолог Чендлер Роббинс (Chandler Robbins) (1918-2017), проводивший исследования на\\xa0атолле Мидуэй на\\xa0северо-западе Гавайского архипелага, поймал ее\\xa0и\\xa0пометил алюминиевым кольцом с\\xa0номером Z333. Много лет спустя, в\\xa02002\\xa0году, ученый снова встретил Уиздом на\\xa0Мидуэе. Он\\xa0дополнил старое кольцо на\\xa0ее\\xa0лапе новым, ярко-красным.\\nСейчас Уиздом по\\xa0меньшей мере 74\\xa0года. Орнитологи считают ее\\xa0самой старой птицей в\\xa0мире. С\\xa02006 года самка ежегодно в\\xa0конце ноября\\xa0— начале декабря возвращается на\\xa0Мидуэй, где гнездятся миллионы темноспинных альбатросов и\\xa0других морских птиц. Несмотря на\\xa0внушительный возраст, Уиздом регулярно принимает участие в\\xa0размножении. С\\xa02010 года ее\\xa0постоянным партнером был самец по\\xa0имени Акеакамаи (Akeakamai, в\\xa0переводе с\\xa0гавайского\\xa0— «любитель мудрости»). В\\xa0начале 2021 года у\\xa0пары в\\xa0последний раз вылупился птенец. Однако в\\xa0конце того\\xa0же года Акеакамаи пропал. Из-за этого Уиздом пришлось пропустить несколько сезонов размножения. Однако в\\xa0конце 2024 года самка нашла нового партнера (возраст которого неизвестен) и\\xa0впервые за\\xa0четыре года отложила яйцо. \\nВ\\xa0середине февраля 2025 года сотрудники Службы охраны рыбных ресурсов и\\xa0диких животных США, работающие на\\xa0атолле Мидуэй, заметили, что из\\xa0яйца, отложенного Уиздом, вылупился птенец. Он\\xa0стал первым ее\\xa0птенцом за\\xa0четыре года. По\\xa0словам специалистов, сейчас родители по\\xa0очереди заботятся о\\xa0юном альбатросе. Пока один из\\xa0партнеров отправляется в\\xa0море за\\xa0рыбой, кальмарами и\\xa0ракообразными, второй остается в\\xa0гнезде.\\nВ\\xa0ближайшие несколько месяцев Уиздом и\\xa0ее\\xa0партнер будут кормить птенца и\\xa0заботиться о\\xa0нем. Лишь к\\xa0июню-июлю юный альбатрос полностью оперится и\\xa0научится летать. Всего\\xa0же за\\xa0жизнь Уиздом отложила 50-60 яиц и\\xa0вывела около 30\\xa0птенцов.\\nРанее мы\\xa0рассказывали, как орнитологи выявили факторы, которые влияют на\\xa0успех размножения малых пингвинов (Eudyptula (minor) novaehollandiae) из\\xa0колонии на\\xa0острове Филлип у\\xa0побережья австралийского штата Виктория. Оказалось, что чем меньше пар распадается перед началом брачного сезона, тем выше доля проклюнувшихся яиц и\\xa0оперившихся птенцов. Вероятно, в\\xa0долгосрочной перспективе смена пары после неудачного сезона размножения повышает репродуктивный успех малых пингвинов. Но\\xa0на\\xa0короткой временной дистанции поиски нового партнера и\\xa0привыкание к\\xa0нему в\\xa0чреваты издержками для благополучия яиц и\\xa0птенцов.\\nМестные жители сразу\\xa0же ее\\xa0убили\\nВ\\xa0Египте впервые за\\xa05000 лет встретили пятнистую гиену. Как сообщается в\\xa0статье для журнала Mammalia, хищник был замечен в\\xa0национальном парке Гебель-Эльба на\\xa0юго-востоке страны. Вероятно, он\\xa0прибыл сюда из\\xa0Судана, где обитает ближайшая стабильная популяция вида\\xa0— причем его путешествию благоприятствовала влажная погода, установившаяся в\\xa0региона в\\xa0последние годы и\\xa0приведшая к\\xa0росту поголовья скота. К\\xa0сожалению, гиену вскоре убили местные жители, чьих коз она убила.'"
      ]
     },
     "execution_count": 54,
     "metadata": {},
     "output_type": "execute_result"
    }
   ],
   "source": [
    "df[df.themes.apply(lambda x: 'зоология' in x.lower())].sample(1).full_text.values[0]"
   ]
  },
  {
   "cell_type": "code",
   "execution_count": 55,
   "metadata": {},
   "outputs": [],
   "source": [
    "df.to_csv('news_plus_1.csv', \n",
    "          index = False, \n",
    "          sep = ';',  #  Сюда можно поставить произвольный символ, чтоб новость не ломать\n",
    "          encoding = 'utf-8-sig')"
   ]
  },
  {
   "cell_type": "markdown",
   "metadata": {},
   "source": [
    "Теперь столбец со сложностью точно числовой. Можем даже построить для него гистограмму."
   ]
  },
  {
   "cell_type": "code",
   "execution_count": 56,
   "metadata": {},
   "outputs": [
    {
     "data": {
      "text/plain": [
       "<Axes: ylabel='Frequency'>"
      ]
     },
     "execution_count": 56,
     "metadata": {},
     "output_type": "execute_result"
    },
    {
     "data": {
      "image/png": "[encoded data removed]",
      "text/plain": [
       "<Figure size 640x480 with 1 Axes>"
      ]
     },
     "metadata": {},
     "output_type": "display_data"
    }
   ],
   "source": [
    "%matplotlib inline\n",
    "df.complexity.plot.hist()"
   ]
  },
  {
   "cell_type": "markdown",
   "metadata": {},
   "source": [
    "Осталось только заменить непонятные символы `\\xa0` на пробелы:"
   ]
  },
  {
   "cell_type": "code",
   "execution_count": 57,
   "metadata": {},
   "outputs": [],
   "source": [
    "df['clean_text'] = [t.replace(\"\\xa0\", \" \") for t in df.full_text]"
   ]
  },
  {
   "cell_type": "code",
   "execution_count": 58,
   "metadata": {},
   "outputs": [
    {
     "data": {
      "text/plain": [
       "'Зоологи обнаружили, что бродячие собаки из индийского штата Западная Бенгалия предпочитают миски желтого цвета. В экспериментах эти животные выбирали такие миски примерно в два с лишним раза чаще, чем синие или серые. Более того, собаки отдавали предпочтение желтым мискам, даже если они были пустыми, а в качестве альтернативы выступала серая миска с куском бисквита или курицы. Как отмечается в статье для журнала Animal Cognition, остается неясным, почему индийских бродячих собак так привлекает желтый цвет. Возможно, это связано с тем, что пищевые отбросы, которыми они питаются, в основном желтые.\\nСобаки (Canis (lupus) familiaris), подобно большинству млекопитающих, обладают дихроматическим зрением. Они хорошо различают синий и желтый цвета, однако неспособны воспринимать оттенки зеленого и красного. При этом остается неизвестным, какую роль цветовое зрение играет в жизни собак. По некоторыми данным, их могут привлекать предметы определенных цветов. Тем не менее исследование, проведенное на бродячих собаках из Марокко, не подтвердило, что одни цвета нравятся им больше других. \\nКоманда зоологов под руководством Аниндиты Бхадры (Anindita Bhadra) из Индийского института научного образования и исследований решила разобраться, обладают ли собаки цветовыми предпочтениями. По словам ученых, на исследование их вдохновила необычная привычка, которая была распространена среди жителей Индии в середине 2010 годов. Тогда многие из них расставляли около своих домов бутылки с окрашенной в синий цвет водой. Считалось, что это отпугивает бродячих собак. Впрочем, никаких доказательств, что этим животным не нравятся синие бутылки, обнаружить не удалось.\\nБхадра и ее коллеги провели серию полевых экспериментов в индийском штате Западная Бенгалия: в округах Надия и Северные 24 парганы и в городе Калькутта. Исследователи ходили вдоль улиц и при встрече с бродячей собакой предлагали ей три терракотовые миски, окрашенные в желтый, синий и серый цвета (они были установлены на картонной платформе в случайном порядке на равном расстоянии друг от друга). В одних случаях все миски были пустыми, а в других в каждой из них находилось лакомство — кусок бисквита. При этом экспериментаторы фиксировали на видео, к какой миске животное подойдет в первую очередь. В общей сложности в эксперименте приняли участие 134 собаки. Независимо от наличия пищи, они выбирали желтые миски в два с лишним раза чаще, чем синие или серые (p\\u2009< 0,001). Затем авторы провели похожий опыт, однако на этот раз собакам предлагали сделать выбор между двумя мисками с едой: синей и серой. Тестирование 102 особей не выявило никаких предпочтений между этими цветами. Около половины собак выбрали синюю миску и около половины — серую (p = 0,165). \\nИсследователи допускали, что краски разных цветов, которые использовались для окрашивания мисок, пахнут по-разному. Таким образом, собаки могли делать выбор, ориентируясь не на цвет, а на запах. Чтобы проверить эту возможность, авторы провели дополнительный опыт. Они покрасили терракотовые миски желтой или синей краской только с внешней стороны — а затем скрыли их окрашенные части с помощью пластиковых кожухов пурпурного цвета. Затем 54 бродячим собакам предложили выбрать между желтой и синей мисками. В результате выяснилось, что когда эти животные не видят цвета мисок, они не отдают предпочтения каким-либо из них (p = 0,2763) — а значит, не делают выбор, основываясь на запахе красок.\\nНа следующем этапе Бхадра и ее соавторы предложили 54 бродячим собакам выбрать из двух желтых мисок, в одной из которых находился кусок бисквита. Как и ожидалось, животные примерно вдвое чаще отдавали предпочтение миске с едой (p = 0,029). Затем исследователи предоставили собакам выбор между серой миской с едой (куском бисквита или сырой курятины) и желтой миской без еды. Независимо от вида лакомства, подопытные особи выбирали пустые желтые миски примерно в четыре раза чаще, чем серые миски с едой (p\\u2009<\\u20090,001).\\nРезультаты исследования свидетельствуют, что бродячих собак в Индии привлекают желтые миски. Они выбирают их в первую очередь, даже если в качестве альтернативы предоставлена наполненная едой миска другого цвета. При этом собаки, участвовавшие в экспериментах, после желтой миски обследовали и миски других цветов. Таким образом, можно сказать, что этих животных привлекает желтый цвет — но синий и серый цвета не вызывают у них страха или отторжения. \\nПочему индийских бродячих собак привлекает желтый цвет, остается неясным. Возможно, желтые миски привлекали их внимание, поскольку контрастировали с другими мисками и окружающей средой. Авторы также допускают, что пищевые отбросы, которыми питаются бродячие собаки в Индии, часто окрашены в желтоватые или красноватые цвета из-за того, что местные жители активно используют куркуму и красный перец при приготовлении еды. Более того, сырое мясо и кровь также должны казаться этим животным желтоватыми. Тем не менее, если бы собаки во время поисков пищи специально искали объекты желтого цвета, они бы слишком часто натыкались на несъедобные предметы. При этом, учитывая, что бродячие собаки из Марокко не демонстрировали никаких предпочтений между желтым и синим, не исключено, что закономерность, обнаруженная Бхадрой и ее коллегами, распространена лишь в Индии.\\nРанее этологи из Венгрии показали, что собаки способны различать голоса знакомых им людей. В экспериментах животные сопоставляли записи голосов своих хозяев с самими хозяевами: они чаще смотрели на того человека, чей голос слышали, и чаще подходили к нему. При этом лучше всего собаки распознавали голос своего основного хозяина — видимо потому, что слышат его чаще.\\nНо в обратную сторону это не работало: негативные переживания не вызывали самопочесывания\\nЯпонские исследователи обнаружили, что у японских макаков телесные реакции предшествуют изменениям настроения, но не наоборот. В эксперименте макаки, которых вынудили почесаться, становились более пессимистичными в суждениях, однако сам пессимизм не провоцировал новых почесываний. Работа опубликована в журнале Proceedings of the Royal Society B.'"
      ]
     },
     "execution_count": 58,
     "metadata": {},
     "output_type": "execute_result"
    }
   ],
   "source": [
    "df.clean_text[0]"
   ]
  },
  {
   "cell_type": "markdown",
   "metadata": {},
   "source": [
    "Всё! Сохраняем датафрейм в файл. Для разнообразия сохраним в Excel:"
   ]
  },
  {
   "cell_type": "code",
   "execution_count": 59,
   "metadata": {},
   "outputs": [],
   "source": [
    "df.to_excel('nplus-news.xlsx')"
   ]
  }
 ],
 "metadata": {
  "kernelspec": {
   "display_name": "Python 3 (ipykernel)",
   "language": "python",
   "name": "python3"
  },
  "language_info": {
   "codemirror_mode": {
    "name": "ipython",
    "version": 3
   },
   "file_extension": ".py",
   "mimetype": "text/x-python",
   "name": "python",
   "nbconvert_exporter": "python",
   "pygments_lexer": "ipython3",
   "version": "3.8.8"
  }
 },
 "nbformat": 4,
 "nbformat_minor": 4
}
