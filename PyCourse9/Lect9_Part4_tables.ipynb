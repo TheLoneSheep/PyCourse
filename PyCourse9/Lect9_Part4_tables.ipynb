{
 "cells": [
  {
   "cell_type": "markdown",
   "metadata": {},
   "source": [
    "# Python для анализа данных\n",
    "\n",
    "*Алла Тамбовцева, НИУ ВШЭ*"
   ]
  },
  {
   "cell_type": "markdown",
   "metadata": {},
   "source": [
    "## Web-scraping\n",
    "\n",
    "Мы уже немного познакомились со структурой html-файлов, теперь попробуем выгрузить информацию из реальной страницы, а точнее, с реального сайта [nplus1.ru](https://nplus1.ru/).\n",
    "\n",
    "**Наша задача:** выгрузить недавние новости в датафрейм `pandas`, чтобы потом сохранить все в csv-файл.\n",
    "\n",
    "Сначала сгрузим весь html-код страницы и сохраним его в отдельную переменную. Для этого нам понадобится библиотека `requests`. Импортируем её:"
   ]
  },
  {
   "cell_type": "code",
   "execution_count": 11,
   "metadata": {},
   "outputs": [],
   "source": [
    "import requests"
   ]
  },
  {
   "cell_type": "markdown",
   "metadata": {},
   "source": [
    "Сохраним ссылку на главную страницу сайта в переменную `url` для удобства и выгрузим страницу. (Разумеется, это будет работать при подключении к интернету. Если соединение будет отключено, Python выдаст `NewConnectionError`)."
   ]
  },
  {
   "cell_type": "code",
   "execution_count": 12,
   "metadata": {},
   "outputs": [],
   "source": [
    "url = 'https://nplus1.ru/' # сохраняем\n",
    "page = requests.get(url) # загружаем страницу по ссылке"
   ]
  },
  {
   "cell_type": "markdown",
   "metadata": {},
   "source": [
    "Если мы просто посмотрим на объект, мы ничего особенного не увидим:"
   ]
  },
  {
   "cell_type": "code",
   "execution_count": 13,
   "metadata": {},
   "outputs": [
    {
     "data": {
      "text/plain": [
       "<Response [200]>"
      ]
     },
     "execution_count": 13,
     "metadata": {},
     "output_type": "execute_result"
    }
   ],
   "source": [
    "page  # response 200 - страница загружена"
   ]
  },
  {
   "cell_type": "code",
   "execution_count": 4,
   "metadata": {},
   "outputs": [],
   "source": [
    "# page.text"
   ]
  },
  {
   "cell_type": "markdown",
   "metadata": {},
   "source": [
    "Импортируем функцию `BeautifulSoup` из библиотеки `bs4` (от *beautifulsoup4*) и заберём со страницы `page` код html в виде текста. "
   ]
  },
  {
   "cell_type": "code",
   "execution_count": 14,
   "metadata": {},
   "outputs": [],
   "source": [
    "from bs4 import BeautifulSoup  # не спрашивайте, почему BeautifulSoup"
   ]
  },
  {
   "cell_type": "code",
   "execution_count": 15,
   "metadata": {},
   "outputs": [],
   "source": [
    "soup = BeautifulSoup(page.text, 'html')"
   ]
  },
  {
   "cell_type": "markdown",
   "metadata": {},
   "source": [
    "Если выведем `soup` на экран, мы увидим то же самое, что в режиме разработчика или в режиме происмотра исходного кода (`view-source` через *Ctrl+U* в Google Chrome)."
   ]
  },
  {
   "cell_type": "code",
   "execution_count": 7,
   "metadata": {},
   "outputs": [],
   "source": [
    "# soup"
   ]
  },
  {
   "cell_type": "markdown",
   "metadata": {},
   "source": [
    "Для просмотра выглядит не очень удобно.  «Причешем» наш `soup` – воспользуемся методом `.prettify()` в сочетании с функцией `print()`."
   ]
  },
  {
   "cell_type": "code",
   "execution_count": 8,
   "metadata": {},
   "outputs": [],
   "source": [
    "# print(soup.prettify())"
   ]
  },
  {
   "cell_type": "markdown",
   "metadata": {},
   "source": [
    "В такой выдаче ориентироваться гораздо удобнее (но при желании, то же можно увидеть в браузере, на большом экране)."
   ]
  },
  {
   "cell_type": "markdown",
   "metadata": {},
   "source": [
    "\n",
    "Чтобы сгрузить все новости с главной страницы сайта, нужно собрать все ссылки на страницы с этими новостями. Ссылки в html-файле всегда заключены в тэг `<a></a>` и имеют атрибут `href`. Посмотрим на кусочки кода, соответствующие всем ссылкам на главной странице сайта:"
   ]
  },
  {
   "cell_type": "code",
   "execution_count": 16,
   "metadata": {
    "scrolled": true
   },
   "outputs": [
    {
     "name": "stdout",
     "output_type": "stream",
     "text": [
      "/search\n",
      "https://offline.nplus1.ru/\n",
      "https://nplus.pro/\n",
      "https://nplus1.ru/about\n",
      "https://nplus1.ru/difficult\n",
      "https://nplus1.ru/adv\n",
      "https://nplus1.ru/blog/2022/04/01/samotek\n",
      "https://nplus1.ru/search?tags=946\n",
      "https://nplus1.ru/search?tags=869\n",
      "https://nplus1.ru/search?tags=874\n",
      "https://nplus1.ru/search?tags=880\n",
      "https://nplus1.ru/search?tags=768\n",
      "https://nplus1.ru/search?tags=890\n",
      "https://nplus1.ru/search?tags=871\n",
      "https://nplus1.ru/search?tags=876\n",
      "https://nplus1.ru/search?tags=775\n",
      "https://nplus1.ru/search?tags=767\n",
      "https://nplus1.ru/search?tags=771\n",
      "https://nplus1.ru/search?tags=772\n",
      "https://nplus1.ru/search?tags=778\n",
      "https://nplus1.ru/search?tags=917\n",
      "https://nplus1.ru/search?tags=918\n",
      "https://nplus1.ru/search?tags=824\n",
      "https://t.me/nplusone\n",
      "https://vk.com/nplusone\n",
      "https://ok.ru/nplus1\n",
      "https://twitter.com/nplusodin\n",
      "https://nplus1.ru/about\n",
      "https://nplus1.ru/difficult\n",
      "https://nplus1.ru/adv\n",
      "https://nplus1.ru/blog/2022/04/01/samotek\n",
      "https://nplus1.ru/search?tags=946\n",
      "https://nplus1.ru/search?tags=869\n",
      "https://nplus1.ru/search?tags=874\n",
      "https://nplus1.ru/search?tags=880\n",
      "https://nplus1.ru/search?tags=768\n",
      "https://nplus1.ru/search?tags=890\n",
      "https://nplus1.ru/search?tags=871\n",
      "https://nplus1.ru/search?tags=876\n",
      "https://nplus1.ru/search?tags=775\n",
      "https://nplus1.ru/search?tags=767\n",
      "https://nplus1.ru/search?tags=771\n",
      "https://nplus1.ru/search?tags=772\n",
      "https://nplus1.ru/search?tags=778\n",
      "https://nplus1.ru/search?tags=917\n",
      "https://nplus1.ru/search?tags=918\n",
      "https://nplus1.ru/search?tags=824\n",
      "https://offline.nplus1.ru/\n",
      "https://nplus.pro/\n",
      "https://t.me/nplusone\n",
      "https://vk.com/nplusone\n",
      "https://ok.ru/nplus1\n",
      "https://twitter.com/nplusodin\n",
      "https://nplus1.ru/search?tags=874\n",
      "/material/difficulty/1\n",
      "https://nplus1.ru/material/2025/04/04/unseen-rainforest\n",
      "https://nplus1.ru/search?tags=902\n",
      "https://nplus1.ru/search?tags=886\n",
      "https://nplus1.ru/search?tags=812\n",
      "/material/difficulty/5\n",
      "https://nplus1.ru/material/2025/04/02/kapibarovsk\n",
      "https://nplus1.ru/search?tags=880\n",
      "/material/difficulty/1\n",
      "https://nplus1.ru/blog/2025/04/01/astrocast-april\n",
      "https://nplus1.ru/search?tags=874\n",
      "/material/difficulty/2\n",
      "https://nplus1.ru/news/2025/04/02/social-memory-effect\n",
      "/news/2025/04/05\n",
      "https://nplus1.ru/search?tags=871\n",
      "/material/difficulty/1\n",
      "https://nplus1.ru/news/2025/04/05/fram-2-end\n",
      "/news/2025/04/04\n",
      "https://nplus1.ru/search?tags=874\n",
      "/material/difficulty/4\n",
      "https://nplus1.ru/news/2025/04/04/falcaria-bilineata\n",
      "/news/2025/04/04\n",
      "https://nplus1.ru/search?tags=871\n",
      "/material/difficulty/1\n",
      "https://nplus1.ru/news/2025/04/04/b14-static-fire-test-before-lift9\n",
      "/news/2025/04/04\n",
      "https://nplus1.ru/search?tags=872\n",
      "/material/difficulty/1\n",
      "https://nplus1.ru/news/2025/04/04/chinese-carbon-sinks\n",
      "/news/2025/04/04\n",
      "https://nplus1.ru/search?tags=876\n",
      "/material/difficulty/1\n",
      "https://nplus1.ru/news/2025/04/04/mass-grave-of-roman-soldiers\n",
      "/news/2025/04/04\n",
      "https://nplus1.ru/search?tags=876\n",
      "/material/difficulty/2\n",
      "https://nplus1.ru/news/2025/04/04/burial-of-buturlin\n",
      "/news/2025/04/04\n",
      "https://nplus1.ru/search?tags=873\n",
      "/material/difficulty/1\n",
      "https://nplus1.ru/news/2025/04/04/enjoy-your-drink\n",
      "/news/2025/04/04\n",
      "https://nplus1.ru/search?tags=873\n",
      "/material/difficulty/3\n",
      "https://nplus1.ru/news/2025/04/04/unfortunately-it-happens\n",
      "/news/2025/04/03\n",
      "https://nplus1.ru/search?tags=873\n",
      "/material/difficulty/2\n",
      "https://nplus1.ru/news/2025/04/03/wealth-longlife\n",
      "/news/2025/04/03\n",
      "https://nplus1.ru/search?tags=877\n",
      "/material/difficulty/4\n",
      "https://nplus1.ru/news/2025/04/03/ancient-dna-from-the-green-sahara\n",
      "/news/2025/04/03\n",
      "https://nplus1.ru/search?tags=872\n",
      "/material/difficulty/1\n",
      "https://nplus1.ru/news/2025/04/03/southern-ocean-warming\n",
      "/news/2025/04/03\n",
      "https://nplus1.ru/search?tags=873\n",
      "/material/difficulty/1\n",
      "https://nplus1.ru/news/2025/04/03/triple-std-detected\n",
      "https://nplus1.ru/blog/2025/04/03/myths-of-the-tropical-and-south-africa\n",
      "/blog/2025/04/03\n",
      "https://nplus1.ru/search?tags=877\n",
      "/material/difficulty/1\n",
      "https://nplus1.ru/blog/2025/04/03/myths-of-the-tropical-and-south-africa\n",
      "https://nplus1.ru/blog/2025/03/27/book-digest-2\n",
      "/blog/2025/03/27\n",
      "https://nplus1.ru/search?tags=824\n",
      "/material/difficulty/2\n",
      "https://nplus1.ru/blog/2025/03/27/book-digest-2\n",
      "/news/2025/04/03\n",
      "https://nplus1.ru/search?tags=873\n",
      "/material/difficulty/3\n",
      "https://nplus1.ru/news/2025/04/03/enjoy-it-nevermore\n",
      "/news/2025/04/02\n",
      "https://nplus1.ru/search?tags=872\n",
      "/material/difficulty/2\n",
      "https://nplus1.ru/news/2025/04/02/lithium-triangle\n",
      "https://nplus1.ru/material/2025/04/04/pure-data\n",
      "/material/2025/04/04\n",
      "https://nplus1.ru/search?tags=902\n",
      "/material/difficulty/3\n",
      "https://nplus1.ru/material/2025/04/04/pure-data\n",
      "https://nplus1.ru/material/2025/03/21/mixed-feelings\n",
      "https://nplus1.ru/search?tags=885\n",
      "/material/difficulty/4\n",
      "https://nplus1.ru/material/2025/03/21/mixed-feelings\n",
      "/blog/2025/03/31\n",
      "https://nplus1.ru/search?tags=869\n",
      "/material/difficulty/1\n",
      "/author/individuum\n",
      "https://nplus1.ru/blog/2025/03/31/the-allure-of-the-multiverse\n",
      "/news/2025/04/02\n",
      "https://nplus1.ru/search?tags=873\n",
      "/material/difficulty/3\n",
      "https://nplus1.ru/news/2025/04/02/shingles-vaccine-vs-dementia\n",
      "/news/2025/04/02\n",
      "https://nplus1.ru/search?tags=870\n",
      "/material/difficulty/5\n",
      "https://nplus1.ru/news/2025/04/02/organosodium-for-cross-coupling\n",
      "/news/2025/04/02\n",
      "https://nplus1.ru/search?tags=874\n",
      "/material/difficulty/2\n",
      "https://nplus1.ru/news/2025/04/02/limnodynastes-peronii\n",
      "https://nplus1.ru/material/2025/03/13/pev-neutrino\n",
      "/material/2025/03/13\n",
      "https://nplus1.ru/search?tags=880\n",
      "/material/difficulty/7\n",
      "https://nplus1.ru/material/2025/03/13/pev-neutrino\n",
      "/news/2025/04/02\n",
      "https://nplus1.ru/search?tags=882\n",
      "/material/difficulty/2\n",
      "https://nplus1.ru/news/2025/04/02/not-about-the-phone\n",
      "/news/2025/04/02\n",
      "https://nplus1.ru/search?tags=877\n",
      "/material/difficulty/3\n",
      "https://nplus1.ru/news/2025/04/02/dnh-43\n",
      "https://nplus1.ru/material/2025/03/12/from-a-to-b\n",
      "/material/2025/03/12\n",
      "https://nplus1.ru/search?tags=902\n",
      "/material/difficulty/3\n",
      "https://nplus1.ru/material/2025/03/12/from-a-to-b\n",
      "https://nplus1.ru/material/2025/03/06/photocatalysis\n",
      "https://nplus1.ru/search?tags=870\n",
      "/material/difficulty/7\n",
      "https://nplus1.ru/material/2025/03/06/photocatalysis\n",
      "/blog/2025/03/28\n",
      "https://nplus1.ru/search?tags=898\n",
      "/material/difficulty/1\n",
      "/author/izdatelstvo-instituta-gaidara\n",
      "https://nplus1.ru/blog/2025/03/28/cogs-and-monsters\n",
      "/news/2025/04/02\n",
      "https://nplus1.ru/search?tags=873\n",
      "/material/difficulty/2\n",
      "https://nplus1.ru/news/2025/04/02/alzheimer-test\n",
      "/news/2025/04/02\n",
      "https://nplus1.ru/search?tags=873\n",
      "/material/difficulty/1\n",
      "https://nplus1.ru/news/2025/04/02/last-of-us\n",
      "/news/2025/04/01\n",
      "https://nplus1.ru/search?tags=880\n",
      "/material/difficulty/1\n",
      "https://nplus1.ru/news/2025/04/01/einstein-ring-spiral\n",
      "https://nplus1.ru/material/2025/03/03/give-or-receive\n",
      "/material/2025/03/03\n",
      "https://nplus1.ru/search?tags=812\n",
      "/material/difficulty/1\n",
      "https://nplus1.ru/material/2025/03/03/give-or-receive\n",
      "/news/2025/04/01\n",
      "https://nplus1.ru/search?tags=871\n",
      "/material/difficulty/2\n",
      "https://nplus1.ru/news/2025/04/01/fram-2-start\n",
      "/news/2025/04/01\n",
      "https://nplus1.ru/search?tags=874\n",
      "/material/difficulty/2\n",
      "https://nplus1.ru/news/2025/04/01/mouse-free-marion-start\n",
      "https://nplus1.ru/material/2025/02/21/bipaternalism\n",
      "/material/2025/02/21\n",
      "https://nplus1.ru/search?tags=885\n",
      "/material/difficulty/6\n",
      "https://nplus1.ru/material/2025/02/21/bipaternalism\n",
      "https://nplus1.ru/material/2025/02/14/pivot\n",
      "https://nplus1.ru/search?tags=874\n",
      "/material/difficulty/4\n",
      "https://nplus1.ru/material/2025/02/14/pivot\n",
      "/blog/2025/03/27\n",
      "https://nplus1.ru/search?tags=908\n",
      "/material/difficulty/2\n",
      "/author/perst\n",
      "https://nplus1.ru/blog/2025/03/27/perst-58\n",
      "/news/2025/04/01\n",
      "https://nplus1.ru/search?tags=876\n",
      "/material/difficulty/3\n",
      "https://nplus1.ru/news/2025/04/01/non-destructive-radiocarbon-dating\n",
      "/news/2025/04/01\n",
      "https://nplus1.ru/search?tags=873\n",
      "/material/difficulty/1\n",
      "https://nplus1.ru/news/2025/04/01/scroll-more-sleep-worse\n",
      "/news/2025/04/01\n",
      "https://nplus1.ru/search?tags=873\n",
      "/material/difficulty/1\n",
      "https://nplus1.ru/news/2025/04/01/all-of-a-sudden-or-not-so\n",
      "https://nplus1.ru/material/2025/02/10/vyzov-2024-breakthroughs\n",
      "/material/2025/02/10\n",
      "https://nplus1.ru/search?tags=869\n",
      "/material/difficulty/5\n",
      "https://nplus1.ru/material/2025/02/10/vyzov-2024-breakthroughs\n",
      "/news/2025/04/01\n",
      "https://nplus1.ru/search?tags=873\n",
      "/material/difficulty/2\n",
      "https://nplus1.ru/news/2025/04/01/self-a-stem\n",
      "/news/2025/04/01\n",
      "https://nplus1.ru/search?tags=876\n",
      "/material/difficulty/3\n",
      "https://nplus1.ru/news/2025/04/01/earliest-ivory-artifacts\n",
      "https://nplus1.ru/material/2025/02/07/quantum-correction\n",
      "/material/2025/02/07\n",
      "https://nplus1.ru/search?tags=869\n",
      "/material/difficulty/8\n",
      "https://nplus1.ru/material/2025/02/07/quantum-correction\n",
      "https://nplus1.ru/material/2025/01/30/lost-legs\n",
      "https://nplus1.ru/search?tags=874\n",
      "/material/difficulty/4\n",
      "https://nplus1.ru/material/2025/01/30/lost-legs\n",
      "/blog/2025/03/25\n",
      "https://nplus1.ru/search?tags=885\n",
      "/material/difficulty/1\n",
      "/author/ast-corpus\n",
      "https://nplus1.ru/blog/2025/03/25/notes-on-complexity\n",
      "/news/2025/03/31\n",
      "https://nplus1.ru/search?tags=871\n",
      "/material/difficulty/1\n",
      "https://nplus1.ru/news/2025/03/31/esa-exomars-lander-airbus\n",
      "/news/2025/03/31\n",
      "https://nplus1.ru/search?tags=883\n",
      "/material/difficulty/2\n",
      "https://nplus1.ru/news/2025/03/31/where-bot\n",
      "/news/2025/03/31\n",
      "https://nplus1.ru/search?tags=872\n",
      "/material/difficulty/1\n",
      "https://nplus1.ru/news/2025/03/31/nonliving-pools\n",
      "https://nplus1.ru/material/2025/01/23/pollen-and-spore\n",
      "/material/2025/01/23\n",
      "https://nplus1.ru/search?tags=889\n",
      "/material/difficulty/2\n",
      "https://nplus1.ru/material/2025/01/23/pollen-and-spore\n",
      "/news/2025/03/31\n",
      "https://nplus1.ru/search?tags=874\n",
      "/material/difficulty/2\n",
      "https://nplus1.ru/news/2025/03/31/bonobo-and-chimp-sexual-behaviour\n",
      "/news/2025/03/31\n",
      "https://nplus1.ru/search?tags=876\n",
      "/material/difficulty/3\n",
      "https://nplus1.ru/news/2025/03/31/millet-porridge-with-milk\n",
      "https://nplus1.ru/material/2025/01/06/svyatki\n",
      "/material/2025/01/06\n",
      "https://nplus1.ru/search?tags=877\n",
      "/material/difficulty/3\n",
      "https://nplus1.ru/material/2025/01/06/svyatki\n",
      "https://nplus1.ru/material/2025/01/03/choose-your-bigfoot\n",
      "https://nplus1.ru/search?tags=877\n",
      "/material/difficulty/3\n",
      "https://nplus1.ru/material/2025/01/03/choose-your-bigfoot\n",
      "/blog/2025/03/21\n",
      "https://nplus1.ru/search?tags=824\n",
      "/material/difficulty/1\n",
      "/author/led\n",
      "https://nplus1.ru/blog/2025/03/21/dust\n",
      "/news/2025/03/31\n",
      "https://nplus1.ru/search?tags=894\n",
      "/material/difficulty/1\n",
      "https://nplus1.ru/news/2025/03/31/morning-after-for-free\n",
      "/news/2025/03/31\n",
      "https://nplus1.ru/search?tags=883\n",
      "/material/difficulty/2\n",
      "https://nplus1.ru/news/2025/03/31/monolitic-pneumatic-soft-hexapod\n",
      "/news/2025/03/31\n",
      "https://nplus1.ru/search?tags=869\n",
      "/material/difficulty/6\n",
      "https://nplus1.ru/news/2025/03/31/diamond-gates\n",
      "https://nplus1.ru/material/2025/01/02/dendrochristmas\n",
      "/material/2025/01/02\n",
      "https://nplus1.ru/search?tags=872\n",
      "/material/difficulty/4\n",
      "https://nplus1.ru/material/2025/01/02/dendrochristmas\n",
      "https://nplus1.ru/blog/2025/04/03/perst-59\n",
      "/blog/2025/04/03\n",
      "https://nplus1.ru/search?tags=908\n",
      "/material/difficulty/1\n",
      "https://nplus1.ru/blog/2025/04/03/perst-59\n",
      "https://nplus1.ru/material/2025/03/28/ket-ancestry\n",
      "/material/2025/03/28\n",
      "https://nplus1.ru/search?tags=877\n",
      "/material/difficulty/6\n",
      "https://nplus1.ru/material/2025/03/28/ket-ancestry\n",
      "https://nplus1.ru/news/2025/03/17/quantum-holograms\n",
      "https://nplus1.ru/news/2025/03/18/brachylophus-voyage\n",
      "https://nplus1.ru/news/2025/03/20/supersolidity-in-photonic-crystal\n",
      "https://nplus1.ru/news/2025/03/21/giannutri-bees\n",
      "https://nplus1.ru/material/2025/03/21/mixed-feelings\n",
      "https://nplus1.ru/news/2025/03/21/stereospecific-radical-coupling\n",
      "https://nplus1.ru/news/2025/03/26/abel-2025\n",
      "https://nplus1.ru/news/2025/03/27/prototaxites-maybe-not-fungi\n",
      "https://nplus1.ru/news/2025/03/27/curiosity-record-organics\n",
      "https://nplus1.ru/material/2025/03/28/ket-ancestry\n",
      "https://nplus1.ru/news/2025/03/28/grang-early-spiral\n",
      "https://nplus1.ru/news/2025/03/31/diamond-gates\n",
      "https://nplus1.ru/material/2025/04/02/kapibarovsk\n",
      "https://nplus1.ru/news/2025/04/02/organosodium-for-cross-coupling\n",
      "https://nplus1.ru/news/2025/04/03/ancient-dna-from-the-green-sahara\n",
      "https://nplus1.ru/about\n",
      "https://nplus1.ru/difficult\n",
      "https://nplus1.ru/adv\n",
      "https://nplus1.ru/blog/2022/04/01/samotek\n",
      "/cdn-cgi/l/email-protection#234d4f634d534f5650120d5156\n",
      "/cdn-cgi/l/email-protection#ee87808881ae809e829b9ddfc09c9b\n",
      "/personal-data-policy\n",
      "https://t.me/nplusone\n",
      "https://vk.com/nplusone\n",
      "https://ok.ru/nplus1\n",
      "https://twitter.com/nplusodin\n"
     ]
    }
   ],
   "source": [
    "for link in soup.find_all('a'):\n",
    "    print(link.get('href'))\n",
    "#     break"
   ]
  },
  {
   "cell_type": "markdown",
   "metadata": {},
   "source": [
    "Ссылок много. Но нам нужны только новости – ссылки, которые начинаются со слова `/news`. Добавим условие: будем выбирать только те ссылки, в которых есть `/news`. Создадим пустой список `urls` и будем добавлять в него только ссылки, которые удовлетворяют этому условию."
   ]
  },
  {
   "cell_type": "code",
   "execution_count": 7,
   "metadata": {},
   "outputs": [],
   "source": [
    "# urls = []\n",
    "\n",
    "# for link in soup.find_all('a'):\n",
    "#     if '/news' in link.get('href'):\n",
    "#         urls.append('https://nplus1.ru'+link.get('href'))\n",
    "\n",
    "urls = [link.get('href') \n",
    "        for link in soup.find_all('a') \n",
    "        if 'https://nplus1.ru/news/2025' in link.get('href')]"
   ]
  },
  {
   "cell_type": "markdown",
   "metadata": {},
   "source": [
    "Ссылки, которые у нас есть в списке `urls`, относительные: они неполные, начало ссылки (название сайта) отсутствует. Давайте превратим их в абсолютные ‒ склеим с ссылкой https://nplus1.ru."
   ]
  },
  {
   "cell_type": "code",
   "execution_count": 17,
   "metadata": {},
   "outputs": [
    {
     "data": {
      "text/plain": [
       "['https://nplus1.ru/news/2025/04/02/social-memory-effect',\n",
       " 'https://nplus1.ru/news/2025/04/05/fram-2-end',\n",
       " 'https://nplus1.ru/news/2025/04/04/falcaria-bilineata',\n",
       " 'https://nplus1.ru/news/2025/04/04/b14-static-fire-test-before-lift9',\n",
       " 'https://nplus1.ru/news/2025/04/04/chinese-carbon-sinks']"
      ]
     },
     "execution_count": 17,
     "metadata": {},
     "output_type": "execute_result"
    }
   ],
   "source": [
    "urls[:5]"
   ]
  },
  {
   "cell_type": "code",
   "execution_count": 18,
   "metadata": {},
   "outputs": [
    {
     "data": {
      "text/plain": [
       "['https://nplus1.ru/news/2025/04/02/social-memory-effect',\n",
       " 'https://nplus1.ru/news/2025/04/05/fram-2-end',\n",
       " 'https://nplus1.ru/news/2025/04/04/falcaria-bilineata',\n",
       " 'https://nplus1.ru/news/2025/04/04/b14-static-fire-test-before-lift9',\n",
       " 'https://nplus1.ru/news/2025/04/04/chinese-carbon-sinks',\n",
       " 'https://nplus1.ru/news/2025/04/04/mass-grave-of-roman-soldiers',\n",
       " 'https://nplus1.ru/news/2025/04/04/burial-of-buturlin',\n",
       " 'https://nplus1.ru/news/2025/04/04/enjoy-your-drink',\n",
       " 'https://nplus1.ru/news/2025/04/04/unfortunately-it-happens',\n",
       " 'https://nplus1.ru/news/2025/04/03/wealth-longlife',\n",
       " 'https://nplus1.ru/news/2025/04/03/ancient-dna-from-the-green-sahara',\n",
       " 'https://nplus1.ru/news/2025/04/03/southern-ocean-warming',\n",
       " 'https://nplus1.ru/news/2025/04/03/triple-std-detected',\n",
       " 'https://nplus1.ru/news/2025/04/03/enjoy-it-nevermore',\n",
       " 'https://nplus1.ru/news/2025/04/02/lithium-triangle',\n",
       " 'https://nplus1.ru/news/2025/04/02/shingles-vaccine-vs-dementia',\n",
       " 'https://nplus1.ru/news/2025/04/02/organosodium-for-cross-coupling',\n",
       " 'https://nplus1.ru/news/2025/04/02/limnodynastes-peronii',\n",
       " 'https://nplus1.ru/news/2025/04/02/not-about-the-phone',\n",
       " 'https://nplus1.ru/news/2025/04/02/dnh-43',\n",
       " 'https://nplus1.ru/news/2025/04/02/alzheimer-test',\n",
       " 'https://nplus1.ru/news/2025/04/02/last-of-us',\n",
       " 'https://nplus1.ru/news/2025/04/01/einstein-ring-spiral',\n",
       " 'https://nplus1.ru/news/2025/04/01/fram-2-start',\n",
       " 'https://nplus1.ru/news/2025/04/01/mouse-free-marion-start',\n",
       " 'https://nplus1.ru/news/2025/04/01/non-destructive-radiocarbon-dating',\n",
       " 'https://nplus1.ru/news/2025/04/01/scroll-more-sleep-worse',\n",
       " 'https://nplus1.ru/news/2025/04/01/all-of-a-sudden-or-not-so',\n",
       " 'https://nplus1.ru/news/2025/04/01/self-a-stem',\n",
       " 'https://nplus1.ru/news/2025/04/01/earliest-ivory-artifacts',\n",
       " 'https://nplus1.ru/news/2025/03/31/esa-exomars-lander-airbus',\n",
       " 'https://nplus1.ru/news/2025/03/31/where-bot',\n",
       " 'https://nplus1.ru/news/2025/03/31/nonliving-pools',\n",
       " 'https://nplus1.ru/news/2025/03/31/bonobo-and-chimp-sexual-behaviour',\n",
       " 'https://nplus1.ru/news/2025/03/31/millet-porridge-with-milk',\n",
       " 'https://nplus1.ru/news/2025/03/31/morning-after-for-free',\n",
       " 'https://nplus1.ru/news/2025/03/31/monolitic-pneumatic-soft-hexapod',\n",
       " 'https://nplus1.ru/news/2025/03/31/diamond-gates',\n",
       " 'https://nplus1.ru/news/2025/03/17/quantum-holograms',\n",
       " 'https://nplus1.ru/news/2025/03/18/brachylophus-voyage',\n",
       " 'https://nplus1.ru/news/2025/03/20/supersolidity-in-photonic-crystal',\n",
       " 'https://nplus1.ru/news/2025/03/21/giannutri-bees',\n",
       " 'https://nplus1.ru/news/2025/03/21/stereospecific-radical-coupling',\n",
       " 'https://nplus1.ru/news/2025/03/26/abel-2025',\n",
       " 'https://nplus1.ru/news/2025/03/27/prototaxites-maybe-not-fungi',\n",
       " 'https://nplus1.ru/news/2025/03/27/curiosity-record-organics',\n",
       " 'https://nplus1.ru/news/2025/03/28/grang-early-spiral',\n",
       " 'https://nplus1.ru/news/2025/03/31/diamond-gates',\n",
       " 'https://nplus1.ru/news/2025/04/02/organosodium-for-cross-coupling',\n",
       " 'https://nplus1.ru/news/2025/04/03/ancient-dna-from-the-green-sahara']"
      ]
     },
     "execution_count": 18,
     "metadata": {},
     "output_type": "execute_result"
    }
   ],
   "source": [
    "full_urls = []\n",
    "\n",
    "for u in urls:\n",
    "    full_urls.append(u) \n",
    "\n",
    "full_urls"
   ]
  },
  {
   "cell_type": "markdown",
   "metadata": {},
   "source": [
    "Теперь наша задача сводится к следующему: изучить одну страницу с новостью, научиться из нее вытаскивать текст и всю необходимую информацию, а потом применить весь набор действий к каждой ссылке из `full_urls` в цикле. Посмотрим на новость с индексом 1, у вас может быть другая, новости обновляются."
   ]
  },
  {
   "cell_type": "code",
   "execution_count": 19,
   "metadata": {},
   "outputs": [],
   "source": [
    "url0 = urls[0]\n",
    "\n",
    "page0 = requests.get(url0)\n",
    "soup0 = BeautifulSoup(page0.text, 'html')"
   ]
  },
  {
   "cell_type": "code",
   "execution_count": 20,
   "metadata": {},
   "outputs": [
    {
     "data": {
      "text/plain": [
       "'https://nplus1.ru/news/2025/04/02/social-memory-effect'"
      ]
     },
     "execution_count": 20,
     "metadata": {},
     "output_type": "execute_result"
    }
   ],
   "source": [
    "url0"
   ]
  },
  {
   "cell_type": "markdown",
   "metadata": {},
   "source": [
    "В коде каждой страницы с новостью есть часть с мета-информацией: датой, именем автора и проч. Такая информация окружена тэгом `<meta></meta>`. Посмотрим:"
   ]
  },
  {
   "cell_type": "code",
   "execution_count": 21,
   "metadata": {},
   "outputs": [
    {
     "data": {
      "text/plain": [
       "[<meta charset=\"utf-8\"/>,\n",
       " <meta content=\"width=device-width, initial-scale=1\" name=\"viewport\"/>,\n",
       " <meta content=\"#f26e40\" name=\"msapplication-TileColor\"/>,\n",
       " <meta content=\"#ffffff\" name=\"theme-color\"/>,\n",
       " <meta content=\"8c90b02c84ac3b72\" name=\"yandex-verification\"/>,\n",
       " <meta content=\"b419949322895fc9106e24ed01be58ac\" name=\"pmail-verification\"/>,\n",
       " <meta content=\"N + 1 — главное издание о науке, технике и технологиях\" name=\"description\"/>,\n",
       " <meta content=\"N + 1 — главное издание о науке, технике и технологиях\" property=\"og:site_name\"/>,\n",
       " <meta content=\"Механическая клешня не помогла человекообразным приматам запомнить объекты\" property=\"og:title\"/>,\n",
       " <meta content=\"https://minio.nplus1.ru/app-images/1006260/67ed64685633f_cover_share.png\" property=\"og:image\"/>,\n",
       " <meta content=\"https://nplus1.ru/news/2025/04/02/social-memory-effect\" property=\"og:url\"/>,\n",
       " <meta content=\"N + 1 — главное издание о науке, технике и технологиях\" property=\"og:description\"/>,\n",
       " <meta content=\"article\" property=\"og:type\"/>,\n",
       " <meta content=\"2025-04-02\" itemprop=\"datePublished\"/>,\n",
       " <meta content=\"2025-04-02\" itemprop=\"datePublished\"/>,\n",
       " <meta content=\"Катерина Петрова\" name=\"mediator_author\"/>,\n",
       " <meta content=\"Катерина Петрова\" name=\"author\"/>,\n",
       " <meta content=\"\" name=\"copyright\"/>,\n",
       " <meta content=\"summary_large_image\" name=\"twitter:card\"/>,\n",
       " <meta content=\"@nplusodin\" name=\"twitter:site\"/>,\n",
       " <meta content=\"Механическая клешня не помогла человекообразным приматам запомнить объекты\" name=\"twitter:title\"/>,\n",
       " <meta content=\"N + 1 — главное издание о науке, технике и технологиях\" name=\"twitter:description\"/>,\n",
       " <meta content=\"https://minio.nplus1.ru/app-images/1006260/67ed64685633f_cover_share.png\" name=\"twitter:image\"/>]"
      ]
     },
     "execution_count": 21,
     "metadata": {},
     "output_type": "execute_result"
    }
   ],
   "source": [
    "soup0.find_all('meta')"
   ]
  },
  {
   "cell_type": "markdown",
   "metadata": {},
   "source": [
    "Из этого списка нам нужны части с именем автора, датой, заголовком и кратким описанием. Воспользуемся поиском по атрибуту `name`. Передадим функции `find_all()` в качестве аргумента словарь с названием и значением атрибута: "
   ]
  },
  {
   "cell_type": "code",
   "execution_count": 22,
   "metadata": {},
   "outputs": [
    {
     "data": {
      "text/plain": [
       "[<meta content=\"Катерина Петрова\" name=\"author\"/>]"
      ]
     },
     "execution_count": 22,
     "metadata": {},
     "output_type": "execute_result"
    }
   ],
   "source": [
    "soup0.find_all('meta', {'name' : 'author'}) # например, автор"
   ]
  },
  {
   "cell_type": "markdown",
   "metadata": {},
   "source": [
    "Теперь выберем единственный элемент полученного списка (с индексом 0):"
   ]
  },
  {
   "cell_type": "code",
   "execution_count": 23,
   "metadata": {},
   "outputs": [
    {
     "data": {
      "text/plain": [
       "<meta content=\"Катерина Петрова\" name=\"author\"/>"
      ]
     },
     "execution_count": 23,
     "metadata": {},
     "output_type": "execute_result"
    }
   ],
   "source": [
    "soup0.find_all('meta', {'name' : 'author'})[0]"
   ]
  },
  {
   "cell_type": "markdown",
   "metadata": {},
   "source": [
    "Нам нужно вытащить из этого объекта `content` – имя автора. Посмотрим на атрибуты:"
   ]
  },
  {
   "cell_type": "code",
   "execution_count": 24,
   "metadata": {},
   "outputs": [
    {
     "data": {
      "text/plain": [
       "'Катерина Петрова'"
      ]
     },
     "execution_count": 24,
     "metadata": {},
     "output_type": "execute_result"
    }
   ],
   "source": [
    "soup0.find_all('meta', {'name' : 'author'})[0].get('content')"
   ]
  },
  {
   "cell_type": "markdown",
   "metadata": {},
   "source": [
    "Как получить отсюда `content`? Очень просто, ведь это словарь! А доставать из словаря значение по ключу мы умеем."
   ]
  },
  {
   "cell_type": "code",
   "execution_count": 25,
   "metadata": {},
   "outputs": [
    {
     "data": {
      "text/plain": [
       "{'name': 'author', 'content': 'Катерина Петрова'}"
      ]
     },
     "execution_count": 25,
     "metadata": {},
     "output_type": "execute_result"
    }
   ],
   "source": [
    "author = soup0.find_all('meta', {'name' : 'author'})[0].attrs\n",
    "author"
   ]
  },
  {
   "cell_type": "markdown",
   "metadata": {},
   "source": [
    "Аналогичным образом извлечем дату, заголовок и описание."
   ]
  },
  {
   "cell_type": "code",
   "execution_count": 26,
   "metadata": {},
   "outputs": [
    {
     "data": {
      "text/plain": [
       "'Механическая клешня не\\xa0помогла человекообразным приматам запомнить объекты'"
      ]
     },
     "execution_count": 26,
     "metadata": {},
     "output_type": "execute_result"
    }
   ],
   "source": [
    "soup0.find_all('meta', {'property' : 'og:title'})[0].get('content')"
   ]
  },
  {
   "cell_type": "code",
   "execution_count": 27,
   "metadata": {},
   "outputs": [],
   "source": [
    "date = soup0.find_all('meta', {'itemprop' : 'datePublished'})[0].get('content')\n",
    "title = soup0.find_all('meta', {'property' : 'og:title'})[0].get('content')\n",
    "description = soup0.find_all('h1', {'class':'text-34 md:text-42 xl:text-52 break-words'})[0].get_text().strip() \\\n",
    "+ '\\n' + soup0.find_all('p', {'class':\"text-36 md:text-44 xl:text-54 font-spectral text-main-gray mb-6\"})[0].get_text().strip()\n",
    "\n"
   ]
  },
  {
   "cell_type": "code",
   "execution_count": 28,
   "metadata": {},
   "outputs": [
    {
     "data": {
      "text/plain": [
       "'Механическая клешня не\\xa0помогла человекообразным приматам запомнить объекты\\nНо\\xa0взрослые обезьяны запомнили башни, построенные человеческой рукой'"
      ]
     },
     "execution_count": 28,
     "metadata": {},
     "output_type": "execute_result"
    }
   ],
   "source": [
    "description"
   ]
  },
  {
   "cell_type": "markdown",
   "metadata": {},
   "source": [
    "Осталось вытащить рубрики и сложность текста. Если мы посмотрим на исходный код страницы, мы увидим, что нужная нам информация находится в тэгах `<p></p>`:"
   ]
  },
  {
   "cell_type": "code",
   "execution_count": 29,
   "metadata": {},
   "outputs": [],
   "source": [
    "new_data = soup0.find_all('div', {'class':\"flex flex-wrap lg:mb-10 gap-2 text-tags xl:pr-9\"})[0].find_all('span')[1:]\n",
    "\n",
    "time_published = new_data[0].get_text()\n",
    "date_published = new_data[1].get_text()\n",
    "complexity = new_data[2].get_text()\n",
    "themes = ', '.join(i.get_text() for i in new_data[3:])"
   ]
  },
  {
   "cell_type": "code",
   "execution_count": 30,
   "metadata": {},
   "outputs": [
    {
     "data": {
      "text/plain": [
       "[<span class=\"group-hover:text-main transition-colors duration-75\">19:24</span>,\n",
       " <span class=\"group-hover:text-main transition-colors duration-75\">02.04.25</span>,\n",
       " <span class=\"group-hover:text-main transition-colors duration-75\">2.7</span>,\n",
       " <span class=\"group-hover:text-main transition-colors duration-75\">Зоология</span>]"
      ]
     },
     "execution_count": 30,
     "metadata": {},
     "output_type": "execute_result"
    }
   ],
   "source": [
    "new_data"
   ]
  },
  {
   "cell_type": "code",
   "execution_count": 31,
   "metadata": {},
   "outputs": [],
   "source": [
    "paragraphs = soup0.find_all('p', {'class': 'mb-6'})[1:]\n"
   ]
  },
  {
   "cell_type": "code",
   "execution_count": 32,
   "metadata": {},
   "outputs": [
    {
     "data": {
      "text/plain": [
       "[<p class=\"mb-6\">Приматологи из Австралии, Германии и США обнаружили, что только взрослые приматы лучше запоминают предметы, с которыми взаимодействует человек, а не механическая клешня. Этот эффект они объяснили повышенным вниманием к социальному контексту, на который указывала пониженная частота сердечных сокращений. Исследование <a href=\"https://www.sciencedirect.com/science/article/pii/S0003347225000089?via=ihub%20https://www.sciencedirect.com/science/article/pii/S0003347225000089?via=ihub\" rel=\"noreferrer noopener\" target=\"_blank\">опубликовано</a> в журнале <em>Animal Behaviour</em>.</p>,\n",
       " <p class=\"mb-6\">2 апреля отмечается Всемирный день информирования об аутизме, поэтому сегодня новости на <em>N + 1</em> выходят с иллюстрациями от студентов «Антон тут рядом». Этот благотворительный фонд уже больше десяти лет помогает людям с расстройствами аутистического спектра в России</p>,\n",
       " <p class=\"mb-6\">Жизнь в группах требует особой чувствительности к социальным стимулам — и многие приматы обладают такой чувствительностью. Они отличают лица от других стимулов уже с рождения, а во взрослом возрасте быстрее идентифицируют и обрабатывают социальные стимулы. Иногда обезьяны даже <a href=\"https://www.cell.com/current-biology/fulltext/S0960-9822(05)00093-X?_returnURL=https%3A%2F%2Flinkinghub.elsevier.com%2Fretrieve%2Fpii%2FS096098220500093X%3Fshowall%3Dtrue\" rel=\"noreferrer noopener\" target=\"_blank\">отказываются</a> от вознаграждения, чтобы смотреть на фото или видео с сородичами вместо фото и видео, на которых нет обезьян. </p>,\n",
       " <p class=\"mb-6\">Кроме того, социальные стимулы лучше запоминаются — даже если речь не о представителях своего вида. В одном <a href=\"https://www.nature.com/articles/srep40926\" rel=\"noreferrer noopener\" target=\"_blank\">исследовании</a> шимпанзе, гориллам и капуцинам показывали видео, на которых человеческая рука или механическая клешня строят башню из трех блоков. После этого обезьянам показывали изображение этой башни рядом с изображением новой, чтобы узнать, запомнили ли они увиденное ранее — считалось что тот, кто запомнил, должен был дольше разглядывать незнакомую башню. Тогда ученые выяснили, что обезьяны запоминают только те башни, которые собирала человеческая рука. Аналогичный эффект социального контекста на память обнаруживается у детей уже с 9 месяцев. Однако не до конца ясно, какие когнитивные механизмы лежат в его основе.</p>,\n",
       " <p class=\"mb-6\">Мари Падберг (Marie Padberg) из Института эволюционной антропологии Общества Макса Планка и ее коллеги из Австралии, Германии и США провели такой же эксперимент с четырьмя видами человекообразных обезьян — 5 гориллами, 21 шимпанзе, 10 бонобо и 6 орангутанами в возрасте от 3 месяцев до 47 лет. Все приматы содержались в Центре изучения приматов имени Вольфганга Кёлера в Лейпциге. Пока обезьяны смотрели видео с человеческой рукой или механической клешней, строящими пирамидку, ученые записывали частоту сердечных сокращений (высокая частота говорит о возбуждении, а низкая — о более высоком внимании).</p>,\n",
       " <p class=\"mb-6\">Во время тестов взрослые обезьяны дольше смотрели на изображении башен, которые были на видео (63 процента всего времени), но только в тех случаях, если их строила человеческая рука. В несоциальных условиях они не проявляли явного предпочтения. Молодые особи до пяти лет не реагировали на знакомые башни, независимо от контекста. Также частота сердечных сокращений у взрослых особей была выше базового уровня в социальном контексте и ниже — в несоциальным. У младенцев такого эффекта не наблюдалось, а у подростков частота сердечных сокращений слегка увеличивалась в обоих условиях. </p>,\n",
       " <p class=\"mb-6\">Дополнительно ученые протестировали обезьян спустя два дня, чтобы оценить долговременную память, но тогда и молодые, и взрослые обезьяны не выделяли ни одну из башен. </p>,\n",
       " <p class=\"mb-6\">Таким образом, ученым удалось повторить результаты предыдущего исследования на большей выборке и новых видах приматов. Также они показали, что частота сердечных сокращений у взрослых особей уменьшается в социальном контексте — а значит, они становятся более внимательными. По всей видимости, это усиленное внимание и позволяет обезьянам запомнить увиденное.</p>,\n",
       " <p class=\"mb-6\">То, что молодые особи не продемонстрировали подобного запоминания, может говорить о том, что социальные стимулы, не связанные с конспецификами, становятся приоритетными для этих четырех видов не с рождения. В то время как взрослые обезьяны в Центре часто взаимодействуют с людьми, молодые особи гораздо больше времени проводят со своими матерями. Другое объяснение заключается в том, что используемый тест просто не подходил для детенышей, а стимулы были слишком сложными или нерелевантными.</p>,\n",
       " <p class=\"mb-6\">Ранее мы <a href=\"https://nplus1.ru/news/2018/09/12/chimps-vs-toddlers\" rel=\"noreferrer noopener\" target=\"_blank\">рассказывали</a> о том, что дети от восьми месяцев до двух лет используют для общения те же жесты, что и человекообразные приматы.</p>,\n",
       " <p class=\"text-36 md:text-44 xl:text-54 font-spectral text-main-gray mb-6\">Он напоминал ловчий лист венериной мухоловки</p>,\n",
       " <p class=\"mb-6\">Палеонтологи описали необычный вид паразитоидных ос из позднемелового бирманского янтаря. Он получил название Sirenobethylus charybdis. Брюшко у этой осы было преобразовано в трехстворчатую структуру, напоминающую ловчий лист венериной мухоловки. Вероятно, этот орган представлял собой капкан, с помощью которого древняя оса хватала и удерживала подвижных насекомых, таких как мухи. Пойманной жертве она с помощью яйцеклада вводила в тело собственное яйцо (из которого впоследствии появлялась личинка, заживо съедавшая хозяина) — а затем отпускала ее. Как отмечается в статье для журнала BMC Biology, ни у одного современного вида перепончатокрылых или других насекомых нет даже отдаленно похожих органов.</p>]"
      ]
     },
     "execution_count": 32,
     "metadata": {},
     "output_type": "execute_result"
    }
   ],
   "source": [
    "paragraphs"
   ]
  },
  {
   "cell_type": "code",
   "execution_count": 33,
   "metadata": {},
   "outputs": [],
   "source": [
    "links = set()\n",
    "for p in paragraphs:\n",
    "    links|={i.get('href') for i in p.find_all('a')}\n",
    "links = ', '.join(links)"
   ]
  },
  {
   "cell_type": "code",
   "execution_count": 34,
   "metadata": {},
   "outputs": [],
   "source": [
    "full_text = '\\n'.join([p.get_text() for p in paragraphs])"
   ]
  },
  {
   "cell_type": "markdown",
   "metadata": {},
   "source": [
    "Не прошло и двух пар, как мы разобрались со всем :) Теперь осталось совсем чуть-чуть. Написать готовую функцию для всех проделанных нами действий и применить ее в цикле для всех ссылок в списке `full_urls`. Напишем! Аргументом функции будет ссылка на новость, а возвращать она будет текст новости и всю необходимую информацию (дата, автор, сложность и проч.). Скопируем все строки кода выше."
   ]
  },
  {
   "cell_type": "code",
   "execution_count": 35,
   "metadata": {},
   "outputs": [],
   "source": [
    "def GetNews(url0):\n",
    "    \"\"\"\n",
    "    Returns a tuple with \n",
    "    url0, date_published, time_published, author, description, title, complexity, themes, links,full_text\n",
    "    Parameters:\n",
    "    \n",
    "    url0 is a link to the news (string)\n",
    "    \"\"\"\n",
    "    page0 = requests.get(url0)\n",
    "    soup0 = BeautifulSoup(page0.text, 'lxml')\n",
    "    \n",
    "    author = soup0.find_all('meta', {'name' : 'author'})[0].get('content')\n",
    "    date = soup0.find_all('meta', {'itemprop' : 'datePublished'})[0].get('content')\n",
    "    title = soup0.find_all('meta', {'property' : 'og:title'})[0].get('content')\n",
    "    description = soup0.find_all('h1', {'class':'text-34 md:text-42 xl:text-52 break-words'})[0].get_text().strip() \\\n",
    "+ '\\n' + soup0.find_all('p', {'class':\"text-36 md:text-44 xl:text-54 font-spectral text-main-gray mb-6\"})[0].get_text().strip()\n",
    "\n",
    "\n",
    "    \n",
    "    new_data = soup0.find_all('div', {'class':\"flex flex-wrap lg:mb-10 gap-2 text-tags xl:pr-9\"})[0].find_all('span')[1:]\n",
    "\n",
    "    time_published = new_data[0].get_text()\n",
    "    date_published = new_data[1].get_text()\n",
    "    complexity = new_data[2].get_text()\n",
    "    themes = ', '.join(i.get_text() for i in new_data[3:])\n",
    "    \n",
    "    paragraphs = soup0.find_all('p', {'class': 'mb-6'})[1:]\n",
    "    links = set()\n",
    "    for p in paragraphs:\n",
    "        links|={i.get('href') for i in p.find_all('a')}\n",
    "    links -= {None} # Если вдруг у нас есть None-ссылка\n",
    "    links = ', '.join(links)\n",
    "    full_text = '\\n'.join([p.get_text() for p in paragraphs])\n",
    "    \n",
    "    return url0, date_published, time_published, author, description, title, complexity, themes, links,full_text"
   ]
  },
  {
   "cell_type": "markdown",
   "metadata": {},
   "source": [
    "Уфф. Осталось применить ее в цикле. Но давайте не будем спешить: импортируем функцию `sleep` для задержки, чтобы на каждой итерации цикла, прежде чем перейти к следующей новости, Python ждал несколько секунд. Во-первых, это нужно, чтобы сайт «не понял», чтобы мы его грабим, да еще автоматически. Во-вторых, с небольшой задержкой всегда есть гарантия, что страница прогрузится (сейчас это пока не очень важно, но особенно актуально будет, когда будем обсуждать встраивание в браузер с Selenium). Приступим."
   ]
  },
  {
   "cell_type": "code",
   "execution_count": 36,
   "metadata": {},
   "outputs": [],
   "source": [
    "from time import sleep\n",
    "from tqdm import tqdm"
   ]
  },
  {
   "cell_type": "code",
   "execution_count": 37,
   "metadata": {},
   "outputs": [],
   "source": [
    "import random"
   ]
  },
  {
   "cell_type": "code",
   "execution_count": 38,
   "metadata": {},
   "outputs": [
    {
     "data": {
      "text/plain": [
       "['https://nplus1.ru/news/2025/04/02/social-memory-effect',\n",
       " 'https://nplus1.ru/news/2025/04/05/fram-2-end',\n",
       " 'https://nplus1.ru/news/2025/04/04/falcaria-bilineata',\n",
       " 'https://nplus1.ru/news/2025/04/04/b14-static-fire-test-before-lift9',\n",
       " 'https://nplus1.ru/news/2025/04/04/chinese-carbon-sinks',\n",
       " 'https://nplus1.ru/news/2025/04/04/mass-grave-of-roman-soldiers',\n",
       " 'https://nplus1.ru/news/2025/04/04/burial-of-buturlin',\n",
       " 'https://nplus1.ru/news/2025/04/04/enjoy-your-drink',\n",
       " 'https://nplus1.ru/news/2025/04/04/unfortunately-it-happens',\n",
       " 'https://nplus1.ru/news/2025/04/03/wealth-longlife',\n",
       " 'https://nplus1.ru/news/2025/04/03/ancient-dna-from-the-green-sahara',\n",
       " 'https://nplus1.ru/news/2025/04/03/southern-ocean-warming',\n",
       " 'https://nplus1.ru/news/2025/04/03/triple-std-detected',\n",
       " 'https://nplus1.ru/news/2025/04/03/enjoy-it-nevermore',\n",
       " 'https://nplus1.ru/news/2025/04/02/lithium-triangle',\n",
       " 'https://nplus1.ru/news/2025/04/02/shingles-vaccine-vs-dementia',\n",
       " 'https://nplus1.ru/news/2025/04/02/organosodium-for-cross-coupling',\n",
       " 'https://nplus1.ru/news/2025/04/02/limnodynastes-peronii',\n",
       " 'https://nplus1.ru/news/2025/04/02/not-about-the-phone',\n",
       " 'https://nplus1.ru/news/2025/04/02/dnh-43',\n",
       " 'https://nplus1.ru/news/2025/04/02/alzheimer-test',\n",
       " 'https://nplus1.ru/news/2025/04/02/last-of-us',\n",
       " 'https://nplus1.ru/news/2025/04/01/einstein-ring-spiral',\n",
       " 'https://nplus1.ru/news/2025/04/01/fram-2-start',\n",
       " 'https://nplus1.ru/news/2025/04/01/mouse-free-marion-start',\n",
       " 'https://nplus1.ru/news/2025/04/01/non-destructive-radiocarbon-dating',\n",
       " 'https://nplus1.ru/news/2025/04/01/scroll-more-sleep-worse',\n",
       " 'https://nplus1.ru/news/2025/04/01/all-of-a-sudden-or-not-so',\n",
       " 'https://nplus1.ru/news/2025/04/01/self-a-stem',\n",
       " 'https://nplus1.ru/news/2025/04/01/earliest-ivory-artifacts',\n",
       " 'https://nplus1.ru/news/2025/03/31/esa-exomars-lander-airbus',\n",
       " 'https://nplus1.ru/news/2025/03/31/where-bot',\n",
       " 'https://nplus1.ru/news/2025/03/31/nonliving-pools',\n",
       " 'https://nplus1.ru/news/2025/03/31/bonobo-and-chimp-sexual-behaviour',\n",
       " 'https://nplus1.ru/news/2025/03/31/millet-porridge-with-milk',\n",
       " 'https://nplus1.ru/news/2025/03/31/morning-after-for-free',\n",
       " 'https://nplus1.ru/news/2025/03/31/monolitic-pneumatic-soft-hexapod',\n",
       " 'https://nplus1.ru/news/2025/03/31/diamond-gates',\n",
       " 'https://nplus1.ru/news/2025/03/17/quantum-holograms',\n",
       " 'https://nplus1.ru/news/2025/03/18/brachylophus-voyage',\n",
       " 'https://nplus1.ru/news/2025/03/20/supersolidity-in-photonic-crystal',\n",
       " 'https://nplus1.ru/news/2025/03/21/giannutri-bees',\n",
       " 'https://nplus1.ru/news/2025/03/21/stereospecific-radical-coupling',\n",
       " 'https://nplus1.ru/news/2025/03/26/abel-2025',\n",
       " 'https://nplus1.ru/news/2025/03/27/prototaxites-maybe-not-fungi',\n",
       " 'https://nplus1.ru/news/2025/03/27/curiosity-record-organics',\n",
       " 'https://nplus1.ru/news/2025/03/28/grang-early-spiral',\n",
       " 'https://nplus1.ru/news/2025/03/31/diamond-gates',\n",
       " 'https://nplus1.ru/news/2025/04/02/organosodium-for-cross-coupling',\n",
       " 'https://nplus1.ru/news/2025/04/03/ancient-dna-from-the-green-sahara']"
      ]
     },
     "execution_count": 38,
     "metadata": {},
     "output_type": "execute_result"
    }
   ],
   "source": [
    "urls"
   ]
  },
  {
   "cell_type": "code",
   "execution_count": 39,
   "metadata": {},
   "outputs": [
    {
     "name": "stderr",
     "output_type": "stream",
     "text": [
      "100%|██████████████████████████████████████████████████████████████████████████████████| 50/50 [00:40<00:00,  1.25it/s]\n"
     ]
    }
   ],
   "source": [
    "news = [] # это будет список из кортежей, в которых будут храниться данные по каждой новости\n",
    "\n",
    "for link in tqdm(urls):\n",
    "    try:\n",
    "        res = GetNews(link)\n",
    "        news.append(res)\n",
    "        sleep(random.random()) # задержка в 3 секунды\n",
    "    except:\n",
    "        print('Ссылка битая')"
   ]
  },
  {
   "cell_type": "code",
   "execution_count": 40,
   "metadata": {},
   "outputs": [
    {
     "data": {
      "text/plain": [
       "'https://nplus1.ru/news/2025/03/20/supersolidity-in-photonic-crystal'"
      ]
     },
     "execution_count": 40,
     "metadata": {},
     "output_type": "execute_result"
    }
   ],
   "source": [
    "urls[40]"
   ]
  },
  {
   "cell_type": "code",
   "execution_count": 41,
   "metadata": {},
   "outputs": [],
   "source": [
    "page0 = requests.get(urls[40])\n",
    "soup0 = BeautifulSoup(page0.text, 'lxml')"
   ]
  },
  {
   "cell_type": "code",
   "execution_count": 42,
   "metadata": {},
   "outputs": [],
   "source": [
    "paragraphs = soup0.find_all('p', {'class': 'mb-6'})[1:]"
   ]
  },
  {
   "cell_type": "code",
   "execution_count": 43,
   "metadata": {},
   "outputs": [],
   "source": [
    "links = set()\n",
    "for p in paragraphs:\n",
    "    links|={i.get('href') for i in p.find_all('a')}"
   ]
  },
  {
   "cell_type": "code",
   "execution_count": 44,
   "metadata": {},
   "outputs": [
    {
     "data": {
      "text/plain": [
       "{'https://nplus1.ru/material/2024/07/26/polariton-transistors',\n",
       " 'https://nplus1.ru/news/2017/03/02/supersolid',\n",
       " 'https://nplus1.ru/news/2019/08/05/supersolid-excitations',\n",
       " 'https://www.nature.com/articles/s41586-025-08616-9'}"
      ]
     },
     "execution_count": 44,
     "metadata": {},
     "output_type": "execute_result"
    }
   ],
   "source": [
    "links - {None}"
   ]
  },
  {
   "cell_type": "markdown",
   "metadata": {},
   "source": [
    "Так теперь выглядит первый элемент списка:"
   ]
  },
  {
   "cell_type": "code",
   "execution_count": 45,
   "metadata": {},
   "outputs": [
    {
     "data": {
      "text/plain": [
       "('https://nplus1.ru/news/2025/04/02/social-memory-effect',\n",
       " '02.04.25',\n",
       " '19:24',\n",
       " 'Катерина Петрова',\n",
       " 'Механическая клешня не\\xa0помогла человекообразным приматам запомнить объекты\\nНо\\xa0взрослые обезьяны запомнили башни, построенные человеческой рукой',\n",
       " 'Механическая клешня не\\xa0помогла человекообразным приматам запомнить объекты',\n",
       " '2.7',\n",
       " 'Зоология',\n",
       " 'https://nplus1.ru/news/2018/09/12/chimps-vs-toddlers, https://www.cell.com/current-biology/fulltext/S0960-9822(05)00093-X?_returnURL=https%3A%2F%2Flinkinghub.elsevier.com%2Fretrieve%2Fpii%2FS096098220500093X%3Fshowall%3Dtrue, https://www.sciencedirect.com/science/article/pii/S0003347225000089?via=ihub%20https://www.sciencedirect.com/science/article/pii/S0003347225000089?via=ihub, https://www.nature.com/articles/srep40926',\n",
       " 'Приматологи из\\xa0Австралии, Германии и\\xa0США обнаружили, что только взрослые приматы лучше запоминают предметы, с\\xa0которыми взаимодействует человек, а\\xa0не\\xa0механическая клешня. Этот эффект они объяснили повышенным вниманием к\\xa0социальному контексту, на\\xa0который указывала пониженная частота сердечных сокращений. Исследование опубликовано в\\xa0журнале Animal Behaviour.\\n2\\xa0апреля отмечается Всемирный день информирования об\\xa0аутизме, поэтому сегодня новости на\\xa0N\\xa0+\\xa01\\xa0выходят с\\xa0иллюстрациями от\\xa0студентов «Антон тут рядом». Этот благотворительный фонд уже больше десяти лет помогает людям с\\xa0расстройствами аутистического спектра в\\xa0России\\nЖизнь в\\xa0группах требует особой чувствительности к\\xa0социальным стимулам\\xa0— и\\xa0многие приматы обладают такой чувствительностью. Они отличают лица от\\xa0других стимулов уже с\\xa0рождения, а\\xa0во\\xa0взрослом возрасте быстрее идентифицируют и\\xa0обрабатывают социальные стимулы. Иногда обезьяны даже отказываются от\\xa0вознаграждения, чтобы смотреть на\\xa0фото или видео с\\xa0сородичами вместо фото и\\xa0видео, на\\xa0которых нет обезьян. \\nКроме того, социальные стимулы лучше запоминаются\\xa0— даже если речь не\\xa0о\\xa0представителях своего вида. В\\xa0одном исследовании шимпанзе, гориллам и\\xa0капуцинам показывали видео, на\\xa0которых человеческая рука или механическая клешня строят башню из\\xa0трех блоков. После этого обезьянам показывали изображение этой башни рядом с\\xa0изображением новой, чтобы узнать, запомнили\\xa0ли они увиденное ранее\\xa0— считалось что тот, кто запомнил, должен был дольше разглядывать незнакомую башню. Тогда ученые выяснили, что обезьяны запоминают только те\\xa0башни, которые собирала человеческая рука. Аналогичный эффект социального контекста на\\xa0память обнаруживается у\\xa0детей уже с\\xa09\\xa0месяцев. Однако не\\xa0до\\xa0конца ясно, какие когнитивные механизмы лежат в\\xa0его основе.\\nМари Падберг (Marie Padberg) из\\xa0Института эволюционной антропологии Общества Макса Планка и\\xa0ее\\xa0коллеги из\\xa0Австралии, Германии и\\xa0США провели такой\\xa0же эксперимент с\\xa0четырьмя видами человекообразных обезьян\\xa0— 5\\xa0гориллами, 21\\xa0шимпанзе, 10\\xa0бонобо и\\xa06\\xa0орангутанами в\\xa0возрасте от\\xa03\\xa0месяцев до\\xa047\\xa0лет. Все приматы содержались в\\xa0Центре изучения приматов имени Вольфганга Кёлера в\\xa0Лейпциге. Пока обезьяны смотрели видео с\\xa0человеческой рукой или механической клешней, строящими пирамидку, ученые записывали частоту сердечных сокращений (высокая частота говорит о\\xa0возбуждении, а\\xa0низкая\\xa0— о\\xa0более высоком внимании).\\nВо\\xa0время тестов взрослые обезьяны дольше смотрели на\\xa0изображении башен, которые были на\\xa0видео (63\\xa0процента всего времени), но\\xa0только в\\xa0тех случаях, если их\\xa0строила человеческая рука. В\\xa0несоциальных условиях они не\\xa0проявляли явного предпочтения. Молодые особи до\\xa0пяти лет не\\xa0реагировали на\\xa0знакомые башни, независимо от\\xa0контекста. Также частота сердечных сокращений у\\xa0взрослых особей была выше базового уровня в\\xa0социальном контексте и\\xa0ниже\\xa0— в\\xa0несоциальным. У\\xa0младенцев такого эффекта не\\xa0наблюдалось, а\\xa0у\\xa0подростков частота сердечных сокращений слегка увеличивалась в\\xa0обоих условиях. \\nДополнительно ученые протестировали обезьян спустя два дня, чтобы оценить долговременную память, но\\xa0тогда и\\xa0молодые, и\\xa0взрослые обезьяны не\\xa0выделяли ни\\xa0одну из\\xa0башен. \\nТаким образом, ученым удалось повторить результаты предыдущего исследования на\\xa0большей выборке и\\xa0новых видах приматов. Также они показали, что частота сердечных сокращений у\\xa0взрослых особей уменьшается в\\xa0социальном контексте\\xa0— а\\xa0значит, они становятся более внимательными. По\\xa0всей видимости, это усиленное внимание и\\xa0позволяет обезьянам запомнить увиденное.\\nТо, что молодые особи не\\xa0продемонстрировали подобного запоминания, может говорить о\\xa0том, что социальные стимулы, не\\xa0связанные с\\xa0конспецификами, становятся приоритетными для этих четырех видов не\\xa0с\\xa0рождения. В\\xa0то\\xa0время как взрослые обезьяны в\\xa0Центре часто взаимодействуют с\\xa0людьми, молодые особи гораздо больше времени проводят со\\xa0своими матерями. Другое объяснение заключается в\\xa0том, что используемый тест просто не\\xa0подходил для детенышей, а\\xa0стимулы были слишком сложными или нерелевантными.\\nРанее мы\\xa0рассказывали о\\xa0том, что дети от\\xa0восьми месяцев до\\xa0двух лет используют для общения те\\xa0же жесты, что и\\xa0человекообразные приматы.\\nОн\\xa0напоминал ловчий лист венериной мухоловки\\nПалеонтологи описали необычный вид паразитоидных ос\\xa0из\\xa0позднемелового бирманского янтаря. Он\\xa0получил название Sirenobethylus charybdis. Брюшко у\\xa0этой осы было преобразовано в\\xa0трехстворчатую структуру, напоминающую ловчий лист венериной мухоловки. Вероятно, этот орган представлял собой капкан, с\\xa0помощью которого древняя оса хватала и\\xa0удерживала подвижных насекомых, таких как мухи. Пойманной жертве она с\\xa0помощью яйцеклада вводила в\\xa0тело собственное яйцо (из\\xa0которого впоследствии появлялась личинка, заживо съедавшая хозяина)\\xa0— а\\xa0затем отпускала\\xa0ее. Как отмечается в\\xa0статье для журнала BMC\\xa0Biology, ни\\xa0у\\xa0одного современного вида перепончатокрылых или других насекомых нет даже отдаленно похожих органов.')"
      ]
     },
     "execution_count": 45,
     "metadata": {},
     "output_type": "execute_result"
    }
   ],
   "source": [
    "news[0]"
   ]
  },
  {
   "cell_type": "markdown",
   "metadata": {},
   "source": [
    "Импортируем `pandas` и создадим датафрейм из списка кортежей: "
   ]
  },
  {
   "cell_type": "code",
   "execution_count": 46,
   "metadata": {},
   "outputs": [],
   "source": [
    "import pandas as pd"
   ]
  },
  {
   "cell_type": "code",
   "execution_count": 47,
   "metadata": {},
   "outputs": [],
   "source": [
    "df = pd.DataFrame(news)"
   ]
  },
  {
   "cell_type": "code",
   "execution_count": 48,
   "metadata": {},
   "outputs": [
    {
     "data": {
      "text/html": [
       "<div>\n",
       "<style scoped>\n",
       "    .dataframe tbody tr th:only-of-type {\n",
       "        vertical-align: middle;\n",
       "    }\n",
       "\n",
       "    .dataframe tbody tr th {\n",
       "        vertical-align: top;\n",
       "    }\n",
       "\n",
       "    .dataframe thead th {\n",
       "        text-align: right;\n",
       "    }\n",
       "</style>\n",
       "<table border=\"1\" class=\"dataframe\">\n",
       "  <thead>\n",
       "    <tr style=\"text-align: right;\">\n",
       "      <th></th>\n",
       "      <th>0</th>\n",
       "      <th>1</th>\n",
       "      <th>2</th>\n",
       "      <th>3</th>\n",
       "      <th>4</th>\n",
       "      <th>5</th>\n",
       "      <th>6</th>\n",
       "      <th>7</th>\n",
       "      <th>8</th>\n",
       "      <th>9</th>\n",
       "    </tr>\n",
       "  </thead>\n",
       "  <tbody>\n",
       "    <tr>\n",
       "      <th>0</th>\n",
       "      <td>https://nplus1.ru/news/2025/04/02/social-memor...</td>\n",
       "      <td>02.04.25</td>\n",
       "      <td>19:24</td>\n",
       "      <td>Катерина Петрова</td>\n",
       "      <td>Механическая клешня не помогла человекообразны...</td>\n",
       "      <td>Механическая клешня не помогла человекообразны...</td>\n",
       "      <td>2.7</td>\n",
       "      <td>Зоология</td>\n",
       "      <td>https://nplus1.ru/news/2018/09/12/chimps-vs-to...</td>\n",
       "      <td>Приматологи из Австралии, Германии и США обнар...</td>\n",
       "    </tr>\n",
       "    <tr>\n",
       "      <th>1</th>\n",
       "      <td>https://nplus1.ru/news/2025/04/05/fram-2-end</td>\n",
       "      <td>05.04.25</td>\n",
       "      <td>23:35</td>\n",
       "      <td>Александр Войтюк</td>\n",
       "      <td>Завершился первый частный космический полет на...</td>\n",
       "      <td>Завершился первый частный космический полет на...</td>\n",
       "      <td>1.9</td>\n",
       "      <td>Космонавтика</td>\n",
       "      <td>https://spacenews.com/fram2-completes-polar-or...</td>\n",
       "      <td>Частный космический полет Fram2 завершился дне...</td>\n",
       "    </tr>\n",
       "  </tbody>\n",
       "</table>\n",
       "</div>"
      ],
      "text/plain": [
       "                                                   0         1      2  \\\n",
       "0  https://nplus1.ru/news/2025/04/02/social-memor...  02.04.25  19:24   \n",
       "1       https://nplus1.ru/news/2025/04/05/fram-2-end  05.04.25  23:35   \n",
       "\n",
       "                  3                                                  4  \\\n",
       "0  Катерина Петрова  Механическая клешня не помогла человекообразны...   \n",
       "1  Александр Войтюк  Завершился первый частный космический полет на...   \n",
       "\n",
       "                                                   5    6             7  \\\n",
       "0  Механическая клешня не помогла человекообразны...  2.7      Зоология   \n",
       "1  Завершился первый частный космический полет на...  1.9  Космонавтика   \n",
       "\n",
       "                                                   8  \\\n",
       "0  https://nplus1.ru/news/2018/09/12/chimps-vs-to...   \n",
       "1  https://spacenews.com/fram2-completes-polar-or...   \n",
       "\n",
       "                                                   9  \n",
       "0  Приматологи из Австралии, Германии и США обнар...  \n",
       "1  Частный космический полет Fram2 завершился дне...  "
      ]
     },
     "execution_count": 48,
     "metadata": {},
     "output_type": "execute_result"
    }
   ],
   "source": [
    "df.head(2)"
   ]
  },
  {
   "cell_type": "markdown",
   "metadata": {},
   "source": [
    "Переименуем столбцы в базе."
   ]
  },
  {
   "cell_type": "code",
   "execution_count": 49,
   "metadata": {},
   "outputs": [],
   "source": [
    "df.columns = ['url', 'date_published', 'time_published', 'author', 'description', 'title', 'complexity', 'themes', 'links','full_text']"
   ]
  },
  {
   "cell_type": "markdown",
   "metadata": {},
   "source": [
    "Теперь внесем изменения: сделаем столбец `diffc` числовым – типа *float*."
   ]
  },
  {
   "cell_type": "code",
   "execution_count": 50,
   "metadata": {},
   "outputs": [],
   "source": [
    "df['complexity'] = df['complexity'].apply(float)"
   ]
  },
  {
   "cell_type": "markdown",
   "metadata": {},
   "source": [
    "Теперь сложность представлена в базе как количественный показатель, и описывать ее можно соответствующим образом:"
   ]
  },
  {
   "cell_type": "code",
   "execution_count": 51,
   "metadata": {
    "scrolled": true
   },
   "outputs": [
    {
     "data": {
      "text/plain": [
       "count    50.000000\n",
       "mean      3.362000\n",
       "std       1.871253\n",
       "min       1.100000\n",
       "25%       1.900000\n",
       "50%       2.850000\n",
       "75%       4.500000\n",
       "max       9.100000\n",
       "Name: complexity, dtype: float64"
      ]
     },
     "execution_count": 51,
     "metadata": {},
     "output_type": "execute_result"
    }
   ],
   "source": [
    "df.complexity.describe()"
   ]
  },
  {
   "cell_type": "code",
   "execution_count": 52,
   "metadata": {},
   "outputs": [],
   "source": [
    "from matplotlib.cbook import flatten"
   ]
  },
  {
   "cell_type": "code",
   "execution_count": 53,
   "metadata": {},
   "outputs": [
    {
     "data": {
      "text/plain": [
       "['Антропология',\n",
       " 'Археология',\n",
       " 'Астрономия',\n",
       " 'Биология',\n",
       " 'Гаджеты',\n",
       " 'Зоология',\n",
       " 'История',\n",
       " 'Космонавтика',\n",
       " 'Математика',\n",
       " 'Медицина',\n",
       " 'Палеонтология',\n",
       " 'Психология',\n",
       " 'Роботы и дроны',\n",
       " 'Социология',\n",
       " 'Физика',\n",
       " 'Химия',\n",
       " 'Экология и климат']"
      ]
     },
     "execution_count": 53,
     "metadata": {},
     "output_type": "execute_result"
    }
   ],
   "source": [
    "sorted(set(flatten([i.split(', ') for i in df.themes.unique()])))"
   ]
  },
  {
   "cell_type": "code",
   "execution_count": 54,
   "metadata": {},
   "outputs": [
    {
     "data": {
      "text/plain": [
       "'Герпетологи пришли к\\xa0выводу, что предки игуан из\\xa0рода Brachylophus, которые населяют архипелаги Фиджи и\\xa0Тонга, попали сюда из\\xa0Северной Америки, преодолев более 8000 километров по\\xa0Тихому океану на\\xa0переносимом течениями растительном плоту. На\\xa0это указал анализ эволюционных связей, согласно которому ближайшими родственниками фиджийских и\\xa0тонганских игуан являются пустынные игуаны с\\xa0юго-запада США и\\xa0из\\xa0близлежащих регионов Мексики. Разделение двух групп, вероятно, произошло около 34\\xa0миллионов лет назад. Альтернативные гипотезы, согласно которым игуаны расселились на\\xa0острова Тихого океана через Евразию, Австралию или Антарктиду, требуют слишком много допущений и\\xa0не\\xa0согласуются с\\xa0палеонтологическими данными. Как отмечается в\\xa0статье для журнала Proceedings of\\xa0the National Academy of\\xa0Sciences, представители многих групп животных, предположительно, расселялись по\\xa0океану на\\xa0растительных плотах; однако ни\\xa0один из\\xa0них не\\xa0совершил столь\\xa0же масштабного путешествия, как предки рода Brachylophus.\\nИгуаны (Iguanidae) широко распространены в\\xa0Северной, Центральной и\\xa0Южной Америке, а\\xa0также на\\xa0Антильских и\\xa0Галапагосских островах. Однако ареалы двух родов этих ящериц, дожившего до\\xa0наших дней Brachylophus (к\\xa0нему относятся четыре современных и\\xa0один исчезнувший вид) и\\xa0вымершего около 3000 лет назад Lapitiguana, располагаются в\\xa0тысячах километров от\\xa0американского континента\\xa0— на\\xa0архипелагах Фиджи и\\xa0Тонга в\\xa0юго-западной части Тихого океана. Как игуаны оказались здесь, до\\xa0сих пор остается неясным. Согласно наиболее популярной гипотезе, предки фиджийских и\\xa0тонганских игуан прибыли из\\xa0Америки, преодолев Тихий океан на\\xa0унесенном течением растительном плоту. Впрочем, некоторые авторы сомневаются, что эти рептилии смогли\\xa0бы пережить столь продолжительное путешествие без доступа к\\xa0пище и\\xa0пресной воде. Альтернативная версия предполагает, что большую часть пути до\\xa0Фиджи и\\xa0Тонга игуаны проделали по\\xa0суше: из\\xa0Северной Америки через Евразию и\\xa0Австралию или из\\xa0Южной Америки через Антарктиду. Впоследствии они вымерли везде, кроме обеих Америк, близлежащих островов и\\xa0двух архипелагов на\\xa0юго-западе Тихого океана.\\nКоманда герпетологов под руководством Саймона Скарпетты (Simon G. Scarpetta) из\\xa0Университета Сан-Франциско решила разобраться в\\xa0происхождении фиджийских и\\xa0тонганских игуан. Сначала исследователи проанализировали филогенетические связи этих рептилий. Для этого они проанализировали геномы 14\\xa0современных видов игуан из\\xa0восьми родов. В\\xa0результате выяснилось, что ближайшими современными родственниками игуан из\\xa0рода Brachylophus являются пустынные игуаны (Dipsosaurus)\\xa0— обитатели засушливой местности на\\xa0юго-западе США и\\xa0в\\xa0прилегающих регионах Мексики. Два этих рода находятся в\\xa0сестринских взаимоотношениях\\xa0— а\\xa0их\\xa0последний общий предок жил в\\xa0Северной Америке около 34\\xa0миллионов лет назад, на\\xa0рубеже эоцена и\\xa0олигоцена. Эти выводы совпадают с\\xa0результатами некоторых предыдущих исследований.\\nСогласно результатам биогеографического анализа, предки Brachylophus с\\xa0наибольшей вероятностью добрались до\\xa0островов Фиджи и\\xa0Тонга через Тихий океан, Скорее всего, в\\xa0соответствии с\\xa0наиболее популярной гипотезой, фиджийские и\\xa0тонганские игунаы происходят всего от\\xa0нескольких особей, которым удалось пережить более чем 8000-километровое путешествие на\\xa0растительном плоту. К\\xa0моменту их\\xa0прибытия на\\xa0юго-запад Тихого океана архипелаг Фиджи существовал уже несколько миллионов лет; по\\xa0крайней мере, вулканическая активность на\\xa0его месте началась около 39\\xa0миллионов лет назад.\\nАльтернативные маршруты, по\\xa0которым могли двигаться предки фиджийских и\\xa0тонганских игуан, оказались намного менее вероятными. В\\xa0частности, идея о\\xa0том, что эти рептилии происходят от\\xa0игуан, которые жили на\\xa0территории Юго-Восточной Азии или Антарктиды в\\xa0конце мела, после чего вымерли, не\\xa0соответствует времени разделения родов Brachylophus и\\xa0Dipsosaurus и\\xa0не\\xa0подтверждается ископаемой летописью. Путь через Южную Америку и\\xa0Антарктиду на\\xa0рубеже эоцена и\\xa0олигоцена также не\\xa0представляется реалистичным, поскольку антарктический климат к\\xa0тому моменту стал слишком суровым для игуан. В\\xa0теории предки фиджийских и\\xa0тонганских игуан могли\\xa0бы расселиться из\\xa0Северной Америки в\\xa0Евразию в\\xa0раннем эоцене, когда в\\xa0Берингии было достаточно тепло, а\\xa0затем через Австралию попасть на\\xa0архипелаги Фиджи и\\xa0Тонга. Однако этот маршрут также не\\xa0соответствует времени разделения родов Brachylophus и\\xa0Dipsosaurus. Еще одна возможность пересечь Берингию существовала в\\xa0среднем миоцене\\xa0— но\\xa0в\\xa0таком случае игуаны в\\xa0Евразии должны были вымереть совсем недавно. Это противоречит имеющимся на\\xa0данный момент палеонтологическим данным.\\nПо\\xa0мнению Скарпетты и\\xa0его коллег, общий предок родов Brachylophus и\\xa0Dipsosaurus мог обитать в\\xa0границах современного ареала пустынных игуан на\\xa0западе Северной Америки или недалеко за\\xa0их\\xa0пределами. Правда, тогда здесь за\\xa0счет относительно влажного климата еще не\\xa0было пустынь. Как показывают палеоклиматические реконструкции, на\\xa0рубеже эоцена и\\xa0олигоцена вдоль тихоокеанского побережья Северной Америки проходило направленное на\\xa0юг\\xa0течение. В\\xa0районе экватора\\xa0же, как и\\xa0в\\xa0наши дни, шло Южное Пассатное течение, которое переносило воду с\\xa0востока на\\xa0запад Тихого океана. Растительный плот с\\xa0игуанами, оторвавшийся от\\xa0берега на\\xa0западе Северной Америки, мог быть подхвачен сначала первым, а\\xa0затем вторым течением, и\\xa0доставлен ими в\\xa0район архипелага Фиджи. Ранее предполагалось, что на\\xa0это потребовалось\\xa0бы от\\xa0четырех до\\xa0двенадцати месяцев. Однако новые модели указывают, что такое путешествие могло занять всего 80-120\\xa0дней. Игуаны вполне могли пережить этот период времени, питаясь листьями и\\xa0стеблями составляющих плот растений или впав в\\xa0спячку, как это делают современные пустынные игуаны.\\nПредполагается, что на\\xa0растительных плотах по\\xa0океану в\\xa0разное время распространялись многие наземные животные, в\\xa0том числе приматы, хищные млекопитающие, грызуны, гекконы, сцинки, амфисбены и\\xa0даже лягушки. Тем не\\xa0менее, ни\\xa0в\\xa0одной из\\xa0этих групп не\\xa0зафиксировано случаев расселения по\\xa0морю, которые были\\xa0бы сравнимы с\\xa0более чем 8000-километровым путешествием игуан из\\xa0Северной Америки на\\xa0острова Фиджи и\\xa0Тонга. Впрочем, как отмечают авторы, похоже, что игуаны адаптированы к\\xa0распространению на\\xa0растительных плотах лучше, чем какие-либо другие животные, вероятно, за\\xa0счет относительно крупных размеров, растительной диеты и\\xa0способности переносить жару и\\xa0голод. Среди 45\\xa0современных видов семейства лишь 11\\xa0не сумели заселить ни\\xa0одного острова\\xa0— а\\xa028\\xa0являются островными эндемиками. В\\xa0большинстве случаев они, скорее всего, добрались до\\xa0островов на\\xa0плотах. Более того, игуаны продолжают использовать этот способ распространения и\\xa0сегодня. Например, в\\xa01995 году зоологи зафиксировали, как 15\\xa0обыкновенных игуан (I. iguana) приплыли на\\xa0вырванном ураганом дереве с\\xa0антильского острова Гваделупа на\\xa0расположенный в\\xa0300 километрах от\\xa0него остров Ангилья. \\nВ\\xa0заключение Скарпетта и\\xa0его коллеги указывают на\\xa0некоторые слабые стороны своих выводов. Например, они признают, что предки рода\\xa0Brachylophus\\xa0могли прибыть из\\xa0Северной Америки не\\xa0на\\xa0архипелаги Фиджи или Тонга, а\\xa0на\\xa0другие острова, расположенные ближе к\\xa0американскому континенту. Отсюда эти ящерицы, возможно, широко расселились по\\xa0Океании и\\xa0в\\xa0конце концов достигли ее\\xa0юго-западной части. Впоследствии\\xa0же они вымерли везде, кроме Фиджи и\\xa0Тонга. Впрочем, пока нет никаких палеонтологических находок, свидетельствующих в\\xa0пользу данной версии. Кроме того, положение вымершего рода\\xa0Lapitiguana\\xa0в\\xa0семействе игуан остается не\\xa0до\\xa0конца ясным. Возможно, он\\xa0был ближайшим родственником рода\\xa0Brachylophus\\xa0и\\xa0отделился от\\xa0него уже на\\xa0тихоокеанских островах. Однако не\\xa0исключено, что предки\\xa0Lapitiguana\\xa0проникли на\\xa0Фиджи из\\xa0Северной Америки независимо от\\xa0Brachylophus, возможно, тоже на\\xa0растительном плоту.\\nРанее мы\\xa0рассказывали, как герпетологи построили эволюционное древо надсемейства змей Elapoidea, которое включает аспидов и\\xa0еще несколько близких семейств. Оказалось, что оно возникло в\\xa0Азии\\xa035,63−45,92 миллиона лет назад. Ранее считалось, что данная группа имеет африканское происхождение. Из\\xa0Азии Elapoidea четырежды заселили Африку, достигнув здесь высокого разнообразия. Кроме того, они проникли в\\xa0Америку, Австралию и\\xa0Океанию\\xa0— а\\xa0морские змеи даже смогли колонизировать Тихий и\\xa0Индийский океаны.\\nИстребление миллиона грызунов должно завершиться в\\xa02028 году\\nЮжноафриканский остров Марион начнут очищать от\\xa0инвазивных домовых мышей, которые поедают яйца морских птиц и\\xa0убивают их\\xa0птенцов. Уже в\\xa0этом месяце специалисты пешком обойдут небольшую часть острова и\\xa0разбросают отравленные приманки для грызунов. В\\xa02026 году проект продолжат с\\xa0использованием вертолета, а\\xa0в\\xa02028 году на\\xa0Марион привезут пять-шесть вертолетов\\xa0— и\\xa0с\\xa0них разбросают отраву для мышей по\\xa0всему острову. Как отмечает The Guardian, если не\\xa0предпринимать никаких мер, то\\xa0около 20\\xa0видов морских птиц уже в\\xa0ближайшее время могут перестать гнездиться на\\xa0Марионе по\\xa0вине мышей. '"
      ]
     },
     "execution_count": 54,
     "metadata": {},
     "output_type": "execute_result"
    }
   ],
   "source": [
    "df[df.themes.apply(lambda x: 'зоология' in x.lower())].sample(1).full_text.values[0]"
   ]
  },
  {
   "cell_type": "code",
   "execution_count": 55,
   "metadata": {},
   "outputs": [],
   "source": [
    "df.to_csv('news_plus_1.csv', \n",
    "          index = False, \n",
    "          sep = ';',  #  Сюда можно поставить произвольный символ, чтоб новость не ломать\n",
    "          encoding = 'utf-8-sig')"
   ]
  },
  {
   "cell_type": "markdown",
   "metadata": {},
   "source": [
    "Теперь столбец со сложностью точно числовой. Можем даже построить для него гистограмму."
   ]
  },
  {
   "cell_type": "code",
   "execution_count": 56,
   "metadata": {},
   "outputs": [
    {
     "data": {
      "text/plain": [
       "<Axes: ylabel='Frequency'>"
      ]
     },
     "execution_count": 56,
     "metadata": {},
     "output_type": "execute_result"
    }
   ],
   "source": [
    "%matplotlib inline\n",
    "df.complexity.plot.hist()"
   ]
  },
  {
   "cell_type": "markdown",
   "metadata": {},
   "source": [
    "Осталось только заменить непонятные символы `\\xa0` на пробелы:"
   ]
  },
  {
   "cell_type": "code",
   "execution_count": 57,
   "metadata": {},
   "outputs": [],
   "source": [
    "df['clean_text'] = [t.replace(\"\\xa0\", \" \") for t in df.full_text]"
   ]
  },
  {
   "cell_type": "code",
   "execution_count": 58,
   "metadata": {},
   "outputs": [
    {
     "data": {
      "text/plain": [
       "'Приматологи из Австралии, Германии и США обнаружили, что только взрослые приматы лучше запоминают предметы, с которыми взаимодействует человек, а не механическая клешня. Этот эффект они объяснили повышенным вниманием к социальному контексту, на который указывала пониженная частота сердечных сокращений. Исследование опубликовано в журнале Animal Behaviour.\\n2 апреля отмечается Всемирный день информирования об аутизме, поэтому сегодня новости на N + 1 выходят с иллюстрациями от студентов «Антон тут рядом». Этот благотворительный фонд уже больше десяти лет помогает людям с расстройствами аутистического спектра в России\\nЖизнь в группах требует особой чувствительности к социальным стимулам — и многие приматы обладают такой чувствительностью. Они отличают лица от других стимулов уже с рождения, а во взрослом возрасте быстрее идентифицируют и обрабатывают социальные стимулы. Иногда обезьяны даже отказываются от вознаграждения, чтобы смотреть на фото или видео с сородичами вместо фото и видео, на которых нет обезьян. \\nКроме того, социальные стимулы лучше запоминаются — даже если речь не о представителях своего вида. В одном исследовании шимпанзе, гориллам и капуцинам показывали видео, на которых человеческая рука или механическая клешня строят башню из трех блоков. После этого обезьянам показывали изображение этой башни рядом с изображением новой, чтобы узнать, запомнили ли они увиденное ранее — считалось что тот, кто запомнил, должен был дольше разглядывать незнакомую башню. Тогда ученые выяснили, что обезьяны запоминают только те башни, которые собирала человеческая рука. Аналогичный эффект социального контекста на память обнаруживается у детей уже с 9 месяцев. Однако не до конца ясно, какие когнитивные механизмы лежат в его основе.\\nМари Падберг (Marie Padberg) из Института эволюционной антропологии Общества Макса Планка и ее коллеги из Австралии, Германии и США провели такой же эксперимент с четырьмя видами человекообразных обезьян — 5 гориллами, 21 шимпанзе, 10 бонобо и 6 орангутанами в возрасте от 3 месяцев до 47 лет. Все приматы содержались в Центре изучения приматов имени Вольфганга Кёлера в Лейпциге. Пока обезьяны смотрели видео с человеческой рукой или механической клешней, строящими пирамидку, ученые записывали частоту сердечных сокращений (высокая частота говорит о возбуждении, а низкая — о более высоком внимании).\\nВо время тестов взрослые обезьяны дольше смотрели на изображении башен, которые были на видео (63 процента всего времени), но только в тех случаях, если их строила человеческая рука. В несоциальных условиях они не проявляли явного предпочтения. Молодые особи до пяти лет не реагировали на знакомые башни, независимо от контекста. Также частота сердечных сокращений у взрослых особей была выше базового уровня в социальном контексте и ниже — в несоциальным. У младенцев такого эффекта не наблюдалось, а у подростков частота сердечных сокращений слегка увеличивалась в обоих условиях. \\nДополнительно ученые протестировали обезьян спустя два дня, чтобы оценить долговременную память, но тогда и молодые, и взрослые обезьяны не выделяли ни одну из башен. \\nТаким образом, ученым удалось повторить результаты предыдущего исследования на большей выборке и новых видах приматов. Также они показали, что частота сердечных сокращений у взрослых особей уменьшается в социальном контексте — а значит, они становятся более внимательными. По всей видимости, это усиленное внимание и позволяет обезьянам запомнить увиденное.\\nТо, что молодые особи не продемонстрировали подобного запоминания, может говорить о том, что социальные стимулы, не связанные с конспецификами, становятся приоритетными для этих четырех видов не с рождения. В то время как взрослые обезьяны в Центре часто взаимодействуют с людьми, молодые особи гораздо больше времени проводят со своими матерями. Другое объяснение заключается в том, что используемый тест просто не подходил для детенышей, а стимулы были слишком сложными или нерелевантными.\\nРанее мы рассказывали о том, что дети от восьми месяцев до двух лет используют для общения те же жесты, что и человекообразные приматы.\\nОн напоминал ловчий лист венериной мухоловки\\nПалеонтологи описали необычный вид паразитоидных ос из позднемелового бирманского янтаря. Он получил название Sirenobethylus charybdis. Брюшко у этой осы было преобразовано в трехстворчатую структуру, напоминающую ловчий лист венериной мухоловки. Вероятно, этот орган представлял собой капкан, с помощью которого древняя оса хватала и удерживала подвижных насекомых, таких как мухи. Пойманной жертве она с помощью яйцеклада вводила в тело собственное яйцо (из которого впоследствии появлялась личинка, заживо съедавшая хозяина) — а затем отпускала ее. Как отмечается в статье для журнала BMC Biology, ни у одного современного вида перепончатокрылых или других насекомых нет даже отдаленно похожих органов.'"
      ]
     },
     "execution_count": 58,
     "metadata": {},
     "output_type": "execute_result"
    }
   ],
   "source": [
    "df.clean_text[0]"
   ]
  },
  {
   "cell_type": "markdown",
   "metadata": {},
   "source": [
    "Всё! Сохраняем датафрейм в файл. Для разнообразия сохраним в Excel:"
   ]
  },
  {
   "cell_type": "code",
   "execution_count": 59,
   "metadata": {},
   "outputs": [],
   "source": [
    "df.to_excel('nplus-news.xlsx')"
   ]
  }
 ],
 "metadata": {
  "kernelspec": {
   "display_name": "Python 3 (ipykernel)",
   "language": "python",
   "name": "python3"
  },
  "language_info": {
   "codemirror_mode": {
    "name": "ipython",
    "version": 3
   },
   "file_extension": ".py",
   "mimetype": "text/x-python",
   "name": "python",
   "nbconvert_exporter": "python",
   "pygments_lexer": "ipython3",
   "version": "3.12.7"
  }
 },
 "nbformat": 4,
 "nbformat_minor": 4
}
